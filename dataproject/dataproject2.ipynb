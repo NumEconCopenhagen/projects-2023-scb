{
 "cells": [
  {
   "attachments": {},
   "cell_type": "markdown",
   "metadata": {},
   "source": [
    "# Stock returns during easter"
   ]
  },
  {
   "attachments": {},
   "cell_type": "markdown",
   "metadata": {},
   "source": [
    "## Introduction\n",
    "### Emperical strategy\n",
    "We attempt to estimate the causal effects of easter on stockmarket returns using af Difference in Difference (DiD) identification strategy. We estimate the equation:\n",
    "\n",
    "$$\n",
    "\\text{Daily\\_return}_{it}=\\beta_{0}+\\beta_{1}\\times\\text{Chrisitan}_{it}+\\beta_{2}\\text{Easter}_{it}+\\beta_{3}\\text{Easter}_{it}\\times\\text{Christian}_{it}\n",
    "$$\n",
    "\n",
    "Under some assumptions we can we can derive $\\beta_{3}$ to have a causal interpretation, where $\\beta_{3}$ is given by: \n",
    "$$\n",
    "\\beta_{3}=E[\\text{Daily\\_return}_{it}\\vert\\text{Easter=1},\\text{Christ}=1]-E[\\text{Daily\\_return}_{it}\\vert\\text{Easter=0},\\text{Christ}=1]\n",
    "$$\n",
    "\n",
    "The equation can be derived using the observed differences from period $t-1$ to period $t$ in a Christian and non Christian country. \n",
    "The oberved changes in the daily returns of a christian country in the given by $\\Delta\\text{Daily\\_return}_{christ}=E[\\text{Daily\\_return}\\vert\\text{Easter=1},\\text{Christ}=1]-E[\\text{Daily\\_return}_{it-1}\\vert\\text{Easter=0},\\text{Christ}=1]$\n",
    "\n",
    "We can add and subtract the counterfactual scenario of $E[\\text{Daily\\_return}_{it}\\vert\\text{Easter=0},\\text{Christ}=1]$\n",
    "\n",
    "$$\\Delta\\text{Daily\\_return}_{Christ}=E[\\text{Daily\\_return}_{it}\\vert\\text{Easter=1},\\text{Christ}=1]-E[\\text{Daily\\_return}_{it}\\vert\\text{Easter=0},\\text{Christ}=1]$$\n",
    " \n",
    "$$+E[\\text{Daily\\_return}_{it}\\vert\\text{Easter=0},\\text{Christ}=1]-E[\\text{Daily\\_return}_{it-1}\\vert\\text{Easter=0},\\text{Christ}=1]$$\n",
    " \n",
    "If we then subtract the observed changes from period t-1 to t for a predominantly non Christian country \n",
    "\n",
    "$$ \\Delta\\text{Daily\\_return}_{Christ}-\\Delta\\text{Daily\\_return}_{nonChrist}=E[\\text{Daily\\_return}_{it}\\vert\\text{Easter=1},\\text{Christ}=1]-E[\\text{Daily\\_return}_{it}\\vert\\text{Easter=0},\\text{Christ}=1] $$\n",
    "$$ +E[\\text{Daily\\_return}_{it}\\vert\\text{Easter=0},\\text{Christ}=1]-E[\\text{Daily\\_return}_{it-1}\\vert\\text{Easter=0},\\text{Christ}=1] $$\n",
    "\n",
    "$$ -E[\\text{Daily\\_return}_{it}\\vert\\text{Easter=0},\\text{Christ}=0]-E[\\text{Daily\\_return}_{it-1}\\vert\\text{Easter=0},\\text{Christ}=0] $$\n",
    "\n",
    "Under the assumption that \n",
    "$$\n",
    "E[\\text{Daily\\_return}_{it}\\vert\\text{Easter=0},\\text{Christ}=1]-E[\\text{Daily\\_return}_{it-1}\\vert\\text{Easter=1},\\text{Christ}=1]=$$\n",
    "$$E[\\text{Daily\\_return}_{it}\\vert\\text{Easter=0},\\text{Christ}=0]-E[\\text{Daily\\_return}_{it-1}\\vert\\text{Easter=0},\\text{Christ}=0]\n",
    "$$\n",
    "\n",
    "which is commonly known as the parralel trend assumption, we have identfied $\\beta_{3}$ and can interpret the results from the regression as the causal effect of Easter on stock returns."
   ]
  },
  {
   "attachments": {},
   "cell_type": "markdown",
   "metadata": {},
   "source": [
    "Imports and set magics:"
   ]
  },
  {
   "cell_type": "code",
<<<<<<< HEAD
   "execution_count": 1,
=======
<<<<<<< HEAD
   "execution_count": 1,
=======
   "execution_count": 14,
>>>>>>> b9d0f51e7efef54cd152c0b761ba626f490b109d
>>>>>>> 304cc4e277ec8429929218ae4debda06191cc9a7
   "metadata": {},
   "outputs": [],
   "source": [
    "import pandas as pd\n",
    "import numpy as np\n",
    "import matplotlib.pyplot as plt\n",
    "from IPython.display import display, clear_output\n",
    "# from matplotlib_venn import venn2\n",
    "import os\n",
    "import datetime\n",
    "\n",
    "# autoreload modules when code is run\n",
    "%load_ext autoreload\n",
    "%autoreload 2\n",
    "\n",
    "# user written modules\n",
    "import dataproject \n",
    "\n",
    "# customized directoryy\n",
    "input_dir = os.path.join(os.getcwd(),'data')\n"
   ]
  },
  {
   "attachments": {},
   "cell_type": "markdown",
   "metadata": {},
   "source": [
    "# Easter dates"
   ]
  },
  {
   "attachments": {},
   "cell_type": "markdown",
   "metadata": {},
   "source": [
    "We use data on the placement of easter from the (in)famous website ugenr.dk. We obtain the data for easter dates by scraping ugenr.dk for the easter dates. The scrape is not performed in this notebook, however the code for the scrape of ugenr.dk can be found and run in the scrape_easter.py file for the curious."
   ]
  },
  {
   "attachments": {},
   "cell_type": "markdown",
   "metadata": {},
   "source": [
    "### Read and clean data"
   ]
  },
  {
   "attachments": {},
   "cell_type": "markdown",
   "metadata": {},
   "source": [
    "The purpose is to generate a dataset with all the easter week dates from 2000 to 2023 <br>\n",
    "To do so, we scrape data from ugenr.dk <br>\n",
    "[This](https://ugenr.dk/2023/påske) is an example of how the webpage would look for 2023."
   ]
  },
  {
   "cell_type": "code",
<<<<<<< HEAD
   "execution_count": 2,
=======
<<<<<<< HEAD
   "execution_count": 2,
=======
   "execution_count": 15,
>>>>>>> b9d0f51e7efef54cd152c0b761ba626f490b109d
>>>>>>> 304cc4e277ec8429929218ae4debda06191cc9a7
   "metadata": {},
   "outputs": [
    {
     "data": {
      "text/html": [
       "<div>\n",
       "<style scoped>\n",
       "    .dataframe tbody tr th:only-of-type {\n",
       "        vertical-align: middle;\n",
       "    }\n",
       "\n",
       "    .dataframe tbody tr th {\n",
       "        vertical-align: top;\n",
       "    }\n",
       "\n",
       "    .dataframe thead th {\n",
       "        text-align: right;\n",
       "    }\n",
       "</style>\n",
       "<table border=\"1\" class=\"dataframe\">\n",
       "  <thead>\n",
       "    <tr style=\"text-align: right;\">\n",
       "      <th></th>\n",
       "      <th>year</th>\n",
       "      <th>month</th>\n",
       "      <th>start_date</th>\n",
       "      <th>end_date</th>\n",
       "      <th>uge</th>\n",
       "      <th>dato</th>\n",
       "    </tr>\n",
       "  </thead>\n",
       "  <tbody>\n",
       "    <tr>\n",
       "      <th>0</th>\n",
       "      <td>2000</td>\n",
       "      <td>april</td>\n",
       "      <td>17</td>\n",
       "      <td>23</td>\n",
       "      <td>uge 16</td>\n",
       "      <td>mandag 17. – søndag 23. april 2000</td>\n",
       "    </tr>\n",
       "    <tr>\n",
       "      <th>1</th>\n",
       "      <td>2001</td>\n",
       "      <td>april</td>\n",
       "      <td>9</td>\n",
       "      <td>15</td>\n",
       "      <td>uge 15</td>\n",
       "      <td>mandag 9. – søndag 15. april 2001</td>\n",
       "    </tr>\n",
       "    <tr>\n",
       "      <th>2</th>\n",
       "      <td>2002</td>\n",
       "      <td>marts</td>\n",
       "      <td>25</td>\n",
       "      <td>31</td>\n",
       "      <td>uge 13</td>\n",
       "      <td>mandag 25. – søndag 31. marts 2002</td>\n",
       "    </tr>\n",
       "    <tr>\n",
       "      <th>3</th>\n",
       "      <td>2003</td>\n",
       "      <td>april</td>\n",
       "      <td>14</td>\n",
       "      <td>20</td>\n",
       "      <td>uge 16</td>\n",
       "      <td>mandag 14. – søndag 20. april 2003</td>\n",
       "    </tr>\n",
       "    <tr>\n",
       "      <th>4</th>\n",
       "      <td>2004</td>\n",
       "      <td>april</td>\n",
       "      <td>5</td>\n",
       "      <td>11</td>\n",
       "      <td>uge 15</td>\n",
       "      <td>mandag 5. – søndag 11. april 2004</td>\n",
       "    </tr>\n",
       "    <tr>\n",
       "      <th>5</th>\n",
       "      <td>2005</td>\n",
       "      <td>marts</td>\n",
       "      <td>21</td>\n",
       "      <td>27</td>\n",
       "      <td>uge 12</td>\n",
       "      <td>mandag 21. – søndag 27. marts 2005</td>\n",
       "    </tr>\n",
       "    <tr>\n",
       "      <th>6</th>\n",
       "      <td>2006</td>\n",
       "      <td>april</td>\n",
       "      <td>10</td>\n",
       "      <td>16</td>\n",
       "      <td>uge 15</td>\n",
       "      <td>mandag 10. – søndag 16. april 2006</td>\n",
       "    </tr>\n",
       "    <tr>\n",
       "      <th>7</th>\n",
       "      <td>2007</td>\n",
       "      <td>april</td>\n",
       "      <td>2</td>\n",
       "      <td>8</td>\n",
       "      <td>uge 14</td>\n",
       "      <td>mandag 2. – søndag 8. april 2007</td>\n",
       "    </tr>\n",
       "    <tr>\n",
       "      <th>8</th>\n",
       "      <td>2008</td>\n",
       "      <td>marts</td>\n",
       "      <td>17</td>\n",
       "      <td>23</td>\n",
       "      <td>uge 12</td>\n",
       "      <td>mandag 17. – søndag 23. marts 2008</td>\n",
       "    </tr>\n",
       "    <tr>\n",
       "      <th>9</th>\n",
       "      <td>2009</td>\n",
       "      <td>april</td>\n",
       "      <td>6</td>\n",
       "      <td>12</td>\n",
       "      <td>uge 15</td>\n",
       "      <td>mandag 6. – søndag 12. april 2009</td>\n",
       "    </tr>\n",
       "    <tr>\n",
       "      <th>10</th>\n",
       "      <td>2010</td>\n",
       "      <td>april</td>\n",
       "      <td>29</td>\n",
       "      <td>4</td>\n",
       "      <td>uge 13</td>\n",
       "      <td>mandag 29. marts – søndag 4. april 2010</td>\n",
       "    </tr>\n",
       "    <tr>\n",
       "      <th>11</th>\n",
       "      <td>2011</td>\n",
       "      <td>april</td>\n",
       "      <td>18</td>\n",
       "      <td>24</td>\n",
       "      <td>uge 16</td>\n",
       "      <td>mandag 18. – søndag 24. april 2011</td>\n",
       "    </tr>\n",
       "    <tr>\n",
       "      <th>12</th>\n",
       "      <td>2012</td>\n",
       "      <td>april</td>\n",
       "      <td>2</td>\n",
       "      <td>8</td>\n",
       "      <td>uge 14</td>\n",
       "      <td>mandag 2. – søndag 8. april 2012</td>\n",
       "    </tr>\n",
       "    <tr>\n",
       "      <th>13</th>\n",
       "      <td>2013</td>\n",
       "      <td>marts</td>\n",
       "      <td>25</td>\n",
       "      <td>31</td>\n",
       "      <td>uge 13</td>\n",
       "      <td>mandag 25. – søndag 31. marts 2013</td>\n",
       "    </tr>\n",
       "    <tr>\n",
       "      <th>14</th>\n",
       "      <td>2014</td>\n",
       "      <td>april</td>\n",
       "      <td>14</td>\n",
       "      <td>20</td>\n",
       "      <td>uge 16</td>\n",
       "      <td>mandag 14. – søndag 20. april 2014</td>\n",
       "    </tr>\n",
       "    <tr>\n",
       "      <th>15</th>\n",
       "      <td>2015</td>\n",
       "      <td>april</td>\n",
       "      <td>30</td>\n",
       "      <td>5</td>\n",
       "      <td>uge 14</td>\n",
       "      <td>mandag 30. marts – søndag 5. april 2015</td>\n",
       "    </tr>\n",
       "    <tr>\n",
       "      <th>16</th>\n",
       "      <td>2016</td>\n",
       "      <td>marts</td>\n",
       "      <td>21</td>\n",
       "      <td>27</td>\n",
       "      <td>uge 12</td>\n",
       "      <td>mandag 21. – søndag 27. marts 2016</td>\n",
       "    </tr>\n",
       "    <tr>\n",
       "      <th>17</th>\n",
       "      <td>2017</td>\n",
       "      <td>april</td>\n",
       "      <td>10</td>\n",
       "      <td>16</td>\n",
       "      <td>uge 15</td>\n",
       "      <td>mandag 10. – søndag 16. april 2017</td>\n",
       "    </tr>\n",
       "    <tr>\n",
       "      <th>18</th>\n",
       "      <td>2018</td>\n",
       "      <td>april</td>\n",
       "      <td>26</td>\n",
       "      <td>1</td>\n",
       "      <td>uge 13</td>\n",
       "      <td>mandag 26. marts – søndag 1. april 2018</td>\n",
       "    </tr>\n",
       "    <tr>\n",
       "      <th>19</th>\n",
       "      <td>2019</td>\n",
       "      <td>april</td>\n",
       "      <td>15</td>\n",
       "      <td>21</td>\n",
       "      <td>uge 16</td>\n",
       "      <td>mandag 15. – søndag 21. april 2019</td>\n",
       "    </tr>\n",
       "    <tr>\n",
       "      <th>20</th>\n",
       "      <td>2020</td>\n",
       "      <td>april</td>\n",
       "      <td>6</td>\n",
       "      <td>12</td>\n",
       "      <td>uge 15</td>\n",
       "      <td>mandag 6. – søndag 12. april 2020</td>\n",
       "    </tr>\n",
       "    <tr>\n",
       "      <th>21</th>\n",
       "      <td>2021</td>\n",
       "      <td>april</td>\n",
       "      <td>29</td>\n",
       "      <td>4</td>\n",
       "      <td>uge 13</td>\n",
       "      <td>mandag 29. marts – søndag 4. april 2021</td>\n",
       "    </tr>\n",
       "    <tr>\n",
       "      <th>22</th>\n",
       "      <td>2022</td>\n",
       "      <td>april</td>\n",
       "      <td>11</td>\n",
       "      <td>17</td>\n",
       "      <td>uge 15</td>\n",
       "      <td>mandag 11. – søndag 17. april 2022</td>\n",
       "    </tr>\n",
       "  </tbody>\n",
       "</table>\n",
       "</div>"
      ],
      "text/plain": [
       "    year  month start_date end_date     uge  \\\n",
       "0   2000  april         17       23  uge 16   \n",
       "1   2001  april          9       15  uge 15   \n",
       "2   2002  marts         25       31  uge 13   \n",
       "3   2003  april         14       20  uge 16   \n",
       "4   2004  april          5       11  uge 15   \n",
       "5   2005  marts         21       27  uge 12   \n",
       "6   2006  april         10       16  uge 15   \n",
       "7   2007  april          2        8  uge 14   \n",
       "8   2008  marts         17       23  uge 12   \n",
       "9   2009  april          6       12  uge 15   \n",
       "10  2010  april         29        4  uge 13   \n",
       "11  2011  april         18       24  uge 16   \n",
       "12  2012  april          2        8  uge 14   \n",
       "13  2013  marts         25       31  uge 13   \n",
       "14  2014  april         14       20  uge 16   \n",
       "15  2015  april         30        5  uge 14   \n",
       "16  2016  marts         21       27  uge 12   \n",
       "17  2017  april         10       16  uge 15   \n",
       "18  2018  april         26        1  uge 13   \n",
       "19  2019  april         15       21  uge 16   \n",
       "20  2020  april          6       12  uge 15   \n",
       "21  2021  april         29        4  uge 13   \n",
       "22  2022  april         11       17  uge 15   \n",
       "\n",
       "                                       dato  \n",
       "0        mandag 17. – søndag 23. april 2000  \n",
       "1         mandag 9. – søndag 15. april 2001  \n",
       "2        mandag 25. – søndag 31. marts 2002  \n",
       "3        mandag 14. – søndag 20. april 2003  \n",
       "4         mandag 5. – søndag 11. april 2004  \n",
       "5        mandag 21. – søndag 27. marts 2005  \n",
       "6        mandag 10. – søndag 16. april 2006  \n",
       "7          mandag 2. – søndag 8. april 2007  \n",
       "8        mandag 17. – søndag 23. marts 2008  \n",
       "9         mandag 6. – søndag 12. april 2009  \n",
       "10  mandag 29. marts – søndag 4. april 2010  \n",
       "11       mandag 18. – søndag 24. april 2011  \n",
       "12         mandag 2. – søndag 8. april 2012  \n",
       "13       mandag 25. – søndag 31. marts 2013  \n",
       "14       mandag 14. – søndag 20. april 2014  \n",
       "15  mandag 30. marts – søndag 5. april 2015  \n",
       "16       mandag 21. – søndag 27. marts 2016  \n",
       "17       mandag 10. – søndag 16. april 2017  \n",
       "18  mandag 26. marts – søndag 1. april 2018  \n",
       "19       mandag 15. – søndag 21. april 2019  \n",
       "20        mandag 6. – søndag 12. april 2020  \n",
       "21  mandag 29. marts – søndag 4. april 2021  \n",
       "22       mandag 11. – søndag 17. april 2022  "
      ]
     },
<<<<<<< HEAD
     "execution_count": 2,
=======
<<<<<<< HEAD
     "execution_count": 2,
=======
     "execution_count": 15,
>>>>>>> b9d0f51e7efef54cd152c0b761ba626f490b109d
>>>>>>> 304cc4e277ec8429929218ae4debda06191cc9a7
     "metadata": {},
     "output_type": "execute_result"
    }
   ],
   "source": [
    "# a. import raw data from scrape.\n",
    "ugenr_scrape = pd.read_pickle(os.path.join(input_dir,'paaskedage.pkl')) \n",
    "\n",
    "# b. sort after year\n",
    "ugenr_scrape.sort_values(by='year',inplace=True, ignore_index=True)\n",
    "\n",
    "ugenr_scrape"
   ]
  },
  {
   "attachments": {},
   "cell_type": "markdown",
   "metadata": {},
   "source": [
    "From the **dato**-variable, we can extract the month and when easter started and ended for each year. <br>\n",
    "We want to convert this information to (daily) dates, i.e. 2022-04-11, 2022-04-12, ... <br>\n",
    "\n",
    "We would expect the number of observations to be the number of years times number of days in easter week: <br>\n",
    "$ 23 \\cdot 7 = 161 $\n",
    "\n",
    "Furthermore, we create a dummy equal to 1 for each date, which is crucial, when we later join the easter dates on stock data for OMXS30 and NIFTY 50 "
   ]
  },
  {
   "cell_type": "code",
<<<<<<< HEAD
   "execution_count": 3,
=======
<<<<<<< HEAD
   "execution_count": 3,
=======
   "execution_count": 16,
>>>>>>> b9d0f51e7efef54cd152c0b761ba626f490b109d
>>>>>>> 304cc4e277ec8429929218ae4debda06191cc9a7
   "metadata": {},
   "outputs": [
    {
     "data": {
      "text/html": [
       "<div>\n",
       "<style scoped>\n",
       "    .dataframe tbody tr th:only-of-type {\n",
       "        vertical-align: middle;\n",
       "    }\n",
       "\n",
       "    .dataframe tbody tr th {\n",
       "        vertical-align: top;\n",
       "    }\n",
       "\n",
       "    .dataframe thead th {\n",
       "        text-align: right;\n",
       "    }\n",
       "</style>\n",
       "<table border=\"1\" class=\"dataframe\">\n",
       "  <thead>\n",
       "    <tr style=\"text-align: right;\">\n",
       "      <th></th>\n",
       "      <th>date</th>\n",
       "      <th>easter_week</th>\n",
       "    </tr>\n",
       "  </thead>\n",
       "  <tbody>\n",
       "    <tr>\n",
       "      <th>0</th>\n",
       "      <td>2000-04-17</td>\n",
       "      <td>1</td>\n",
       "    </tr>\n",
       "    <tr>\n",
       "      <th>1</th>\n",
       "      <td>2000-04-18</td>\n",
       "      <td>1</td>\n",
       "    </tr>\n",
       "    <tr>\n",
       "      <th>2</th>\n",
       "      <td>2000-04-19</td>\n",
       "      <td>1</td>\n",
       "    </tr>\n",
       "    <tr>\n",
       "      <th>3</th>\n",
       "      <td>2000-04-20</td>\n",
       "      <td>1</td>\n",
       "    </tr>\n",
       "    <tr>\n",
       "      <th>4</th>\n",
       "      <td>2000-04-21</td>\n",
       "      <td>1</td>\n",
       "    </tr>\n",
       "    <tr>\n",
       "      <th>...</th>\n",
       "      <td>...</td>\n",
       "      <td>...</td>\n",
       "    </tr>\n",
       "    <tr>\n",
       "      <th>156</th>\n",
       "      <td>2022-04-13</td>\n",
       "      <td>1</td>\n",
       "    </tr>\n",
       "    <tr>\n",
       "      <th>157</th>\n",
       "      <td>2022-04-14</td>\n",
       "      <td>1</td>\n",
       "    </tr>\n",
       "    <tr>\n",
       "      <th>158</th>\n",
       "      <td>2022-04-15</td>\n",
       "      <td>1</td>\n",
       "    </tr>\n",
       "    <tr>\n",
       "      <th>159</th>\n",
       "      <td>2022-04-16</td>\n",
       "      <td>1</td>\n",
       "    </tr>\n",
       "    <tr>\n",
       "      <th>160</th>\n",
       "      <td>2022-04-17</td>\n",
       "      <td>1</td>\n",
       "    </tr>\n",
       "  </tbody>\n",
       "</table>\n",
       "<p>161 rows × 2 columns</p>\n",
       "</div>"
      ],
      "text/plain": [
       "           date  easter_week\n",
       "0    2000-04-17            1\n",
       "1    2000-04-18            1\n",
       "2    2000-04-19            1\n",
       "3    2000-04-20            1\n",
       "4    2000-04-21            1\n",
       "..          ...          ...\n",
       "156  2022-04-13            1\n",
       "157  2022-04-14            1\n",
       "158  2022-04-15            1\n",
       "159  2022-04-16            1\n",
       "160  2022-04-17            1\n",
       "\n",
       "[161 rows x 2 columns]"
      ]
     },
<<<<<<< HEAD
     "execution_count": 3,
=======
<<<<<<< HEAD
     "execution_count": 3,
=======
     "execution_count": 16,
>>>>>>> b9d0f51e7efef54cd152c0b761ba626f490b109d
>>>>>>> 304cc4e277ec8429929218ae4debda06191cc9a7
     "metadata": {},
     "output_type": "execute_result"
    }
   ],
   "source": [
    "# a. convert months to digits\n",
    "month_dict = {'april' : '4', 'marts' : '5'}\n",
    "ugenr_scrape.replace({\"month\": month_dict}, inplace = True)\n",
    "\n",
    "# b. generate (daily) dates by iterating over rows\n",
    "dates = []\n",
    "for year, month, start in ugenr_scrape[['year', 'month', 'start_date']].itertuples(index=False):\n",
    "    # 1. define first date of easter for given year\n",
    "    first_date = datetime.date(int(year), int(month), int(start))\n",
    "\n",
    "    # 2. generate list of all days in easter week\n",
    "    date_int = [first_date + datetime.timedelta(days=i) for i in range(7)] # eg. [2022-04-11, 2022-04-12, ... ]\n",
    "\n",
    "    # 3. append result to dates\n",
    "    for date in date_int:\n",
    "        dates.append(date)\n",
    "\n",
    "# c. create dataframe and store results\n",
    "df = pd.DataFrame(data = dates, columns = ['date'])\n",
    "df['easter_week'] = 1 # our dummy for merging later\n",
    "#  df.to_pickle('./data/dates.pkl')\n",
    "\n",
    "df\n"
   ]
  },
  {
   "attachments": {},
   "cell_type": "markdown",
   "metadata": {},
   "source": [
    "### Quick analysis of easter data"
   ]
  },
  {
   "attachments": {},
   "cell_type": "markdown",
   "metadata": {},
   "source": [
    "A concern could be that date-specific events, that are unrelated to easter, influences the stock prices. <br>\n",
    "For instance quarterly rapports that are published on a specific date in easter week. <br>\n",
    "This could influence the stock return and thereby gives us a biased $ \\beta_3 $ estimator. <br>\n",
    "However, if we can show that the dates in easter week are randomly choosen, we can leave this bias out\n",
    "\n",
    "Figure 1 below shows that the dates we have defnied as 'Easter Dates' are quite evenly spread across dates in the month "
   ]
  },
  {
   "cell_type": "code",
<<<<<<< HEAD
   "execution_count": 4,
=======
<<<<<<< HEAD
   "execution_count": 4,
=======
   "execution_count": 17,
>>>>>>> b9d0f51e7efef54cd152c0b761ba626f490b109d
>>>>>>> 304cc4e277ec8429929218ae4debda06191cc9a7
   "metadata": {},
   "outputs": [
    {
     "data": {
      "text/plain": [
       "<Axes: title={'center': 'Fig 1: Histogram of dates in easter week (2000-2023)'}, xlabel='date'>"
      ]
     },
<<<<<<< HEAD
     "execution_count": 4,
=======
<<<<<<< HEAD
     "execution_count": 4,
=======
     "execution_count": 17,
>>>>>>> b9d0f51e7efef54cd152c0b761ba626f490b109d
>>>>>>> 304cc4e277ec8429929218ae4debda06191cc9a7
     "metadata": {},
     "output_type": "execute_result"
    },
    {
     "data": {
      "image/png": "iVBORw0KGgoAAAANSUhEUgAAAhYAAAHICAYAAAASm6MRAAAAOXRFWHRTb2Z0d2FyZQBNYXRwbG90bGliIHZlcnNpb24zLjcuMSwgaHR0cHM6Ly9tYXRwbG90bGliLm9yZy/bCgiHAAAACXBIWXMAAA9hAAAPYQGoP6dpAABGAUlEQVR4nO3dd3gU9f7+/3vTNiEJkISWBEhAkCIgHEAEhICUgBRRURSVbsXKQQVRISJF0a96OIrlwwEBxUZRQYpIUY7ooQgqooC0IB00QICEkNfvD6/sjyXJJhsmQvT5uK65Lnbm/Zp5z7A7e++0uMzMBAAA4ICAC90BAADw10GwAAAAjiFYAAAAxxAsAACAYwgWAADAMQQLAADgGIIFAABwDMECAAA4hmABAAAc85cNFlOnTpXL5cpzGDp0qHbs2CGXy6WpU6c6tsyNGzfq3nvvVfPmzRUeHi6Xy6Xly5ef93xdLpfuu+++PKd9+OGHuZYzatQouVwuv5Zx4sQJjRo1ypH+/l3s2LFDXbp0UXR0tFwulx566CG/5+FyuTRq1Ci/6/bs2aNRo0Zp/fr1fteer+XLlzv23r6QPv300yJt+7+CnH3EoUOHijyPp59+WnXr1lV2drYkae/evXriiSfUvHlzlStXTqVLl1bjxo31xhtv6MyZM7nqjx8/roceekhxcXEKDQ1Vw4YN9e677+a5rHXr1ql9+/aKiIhQ2bJldf3112vbtm15tp04caJq164tt9utatWqKSUlRadPny7UOi1dulQDBgxQ7dq1FR4ervj4eF177bVau3Ztkfu1efNmDR06VI0bN1bZsmUVHR2tli1b6sMPP8w1vyVLlqhDhw6Ki4uT2+1WhQoVdPXVV+vTTz/1anf69Gldcskleumllwq1Xn86+4uaMmWKSbIpU6bYqlWrvIadO3faqVOnbNWqVXbgwAHHljl16lSLjY21a665xrp162aSbNmyZec9X0k2ePDgPKd98MEHuZaTmppqq1at8msZBw8eNEk2cuTI8+jp30uPHj0sJibG5syZY6tWrbIdO3b4PY+ibvPVq1d73t9/trS0NFu1apWlpaX96ct20uDBg+0vvAv0aeTIkSbJDh48WKT6X3/91cLDw+2DDz7wjPvkk0+sSpUqNmLECJs/f74tXrzYHn74YQsICLD+/fvnmkeHDh2sbNmy9tprr9nSpUtt0KBBJsnefvttr3abNm2yyMhIa9Wqlc2fP99mzZpll112mcXFxeXafz/zzDPmcrls+PDhtmzZMnvuuecsJCTE7rjjjkKtV8+ePa1t27b26quv2vLly+2DDz6wK6+80oKCguzzzz8vUr8mTpxotWvXtjFjxtjixYvt008/tb59+5okS0lJ8Zrnu+++aw8++KC9++67tnz5cps9e7Z17NjRJNn06dO92k6dOtWioqLs0KFDhVq3P9Nf9lOVEyxWr179py3zzJkznn/n9YVfVP4Gi6K4GILFiRMnLtiyi6JGjRrWuXPn85pHSQwWfxXFFSzS09Mdn6fTzjdYPProoxYfH++1zzty5IhlZmbmapuznXft2uUZN3/+fJNk77zzjlfbDh06WFxcnGVlZXnG3XjjjVauXDmvILtjxw4LDg62Rx991DPu0KFDFhoaanfeeafXPMeMGWMul8s2btxY4Hrt378/17hjx45ZxYoVrV27dl7jC9uvgwcPWnZ2dq75dunSxUqVKmWnTp3y2afMzEyLj4+3Vq1aeY3PyMiw6OhoGzNmTIHr9Wf7y54KKUh+p0I++ugjNWjQQG63W9WrV9fLL79c6FMLAQEXx+bMq79Lly5VmzZtFBMTo7CwMFWtWlU33HCDTpw4oR07dqh8+fKSpJSUFM8po379+nnqV65cqXbt2ikyMlKlSpVSixYtNH/+/FzLXrlypZo3b67Q0FDFx8frySef1P/93//J5XJpx44dnnaJiYnq2rWrZs+erUaNGik0NFQpKSmSpFdeeUWtW7dWhQoVFB4ervr16+u5557LdTizTZs2qlevnlatWqUWLVooLCxMiYmJmjJliiRp/vz5+sc//qFSpUqpfv36WrhwYaG2365du3TbbbepQoUKcrvdqlOnjl544QXPId+cUwFbt27VggULPNvr7PU719GjR3XHHXcoJiZGERER6tSpkzZv3pyr3datW9W/f3/VrFlTpUqVUnx8vLp166bvv//e02b58uVq2rSpJKl///6e5Z99WH/NmjXq3r27oqOjFRoaqkaNGun999/3WtaJEyc0dOhQVatWTaGhoYqOjlaTJk00c+ZMn9snr1Mh/fr1U0REhLZu3aprrrlGERERqlKliv75z38qIyPD5/xyvPfee57TiBEREUpOTta3337r1WbNmjW6+eablZiY6Pn/vuWWW7Rz506/1q1fv3565ZVXJMnrNGnO/6GZ6dVXX1XDhg0VFhamqKgo9ezZM9dh7pz34BdffKEWLVqoVKlSGjBgQJ7rN3/+fLlcLq1evdozbtasWXK5XOrSpYtX2wYNGuiGG27wvC5sf6Q/Dqe3a9dOpUuXVqlSpdSyZUt9/vnnvja9JOmnn35S9erV1axZMx04cCDfdpmZmZo8ebJ69+7ttc+LiopScHBwrvZXXHGFJGn37t2ecXPmzFFERIRuvPFGr7b9+/fXnj179M0330iSsrKyNG/ePN1www0qXbq0p11CQoLatm2rOXPmeMYtXLhQp06dUv/+/XPN08w0d+7cArdBhQoVco2LiIhQ3bp1lZqa6hnnT7/KlSuX5/fHFVdcoRMnTujIkSM++xQcHKyyZcsqKCjIa3xISIh69eqlN954Q3aR/S3Ri+ObsBidOXNGWVlZXkN+Fi5cqOuvv14xMTF677339Nxzz2nmzJl66623HO9Xv379CvwyOpuZ5VqPrKwsz5edLznXAoSEhOg///mPFi5cqPHjxys8PFyZmZmKjY31fOkOHDhQq1at0qpVq/Tkk09KklasWKGrr75aaWlpmjx5smbOnKnIyEh169ZN7733nmc53333nTp06KATJ07orbfe0muvvaZ169ZpzJgxefZr3bp1euSRR/TAAw9o4cKFnh3pL7/8ot69e2v69OmaN2+eBg4cqAkTJuiuu+7KNY99+/apf//+GjRokD766CPVr19fAwYM0NNPP63hw4fr0Ucf1axZsxQREaEePXpoz549PrfVwYMH1aJFCy1evFijR4/Wxx9/rPbt22vo0KGe61z+8Y9/aNWqVapUqZJatmzp2V6xsbF5ztPM1KNHD02fPl3//Oc/NWfOHF155ZXq3LlzrrZ79uxRTEyMxo8fr4ULF+qVV15RUFCQmjVrpp9//tmz/Jzw9MQTT3iWP2jQIEnSsmXL1LJlS/3+++967bXX9NFHH6lhw4bq1auXV5AeMmSIJk2a5Nn+06dP14033qjDhw/73Eb5OX36tLp376527drpo48+0oABA/Tiiy/q2WefLbB27NixuuWWW1S3bl29//77mj59uo4dO6ZWrVrpxx9/9LTbsWOHatWqpZdeekmLFi3Ss88+q71796pp06Ze1wsUtG5PPvmkevbsKUme7Xf2/+Fdd92lhx56SO3bt9fcuXP16quvauPGjWrRooX279/v1fe9e/fqtttuU+/evfXpp5/q3nvvzXMdk5KSFBwcrCVLlnjGLVmyRGFhYVqxYoUnOB84cEA//PCD2rdv72lX2P7MmDFDHTt2VOnSpfXWW2/p/fffV3R0tJKTk32GixUrVqhFixZq0KCBli1blucXbI5vvvlGhw8fVtu2bfNtc7alS5cqKChIl156qWfcDz/8oDp16uT6smzQoIFnuvTHvuDkyZOe8ee23bp1q06dOuVVU79+fa92sbGxKleunGe6v9LS0rRu3TpddtllnnH+9Cs/y5YtU/ny5fPc1tnZ2crKytKePXs0cuRIbd68Wf/85z9ztWvTpo127txZ5HUrNhfycElxyjkVktdw+vRp2759e65DyU2bNrUqVapYRkaGZ9yxY8csJibG70OmBZ2iGDBggAUGBhbqvHx+63H2cPZycg5z5vjwww9Nkq1fvz7fZfg6FXLllVdahQoV7NixY55xWVlZVq9ePatcubLnMN+NN95o4eHhXodXz5w5Y3Xr1jVJtn37ds/4hIQECwwMtJ9//tnnup85c8ZOnz5t06ZNs8DAQDty5IhnWlJSkkmyNWvWeMYdPnzYAgMDLSwszH799VfP+PXr15sk+9e//uVzecOGDTNJ9s0333iNv+eee8zlcnn1NyEhwbp06eJzfmZmCxYsMEn28ssve40fM2ZMgadCsrKyLDMz02rWrGkPP/ywZ7yvUyG1a9e2Ro0a2enTp73Gd+3a1WJjYz2Hr+vVq2c9evQosP/nWrZsWa73XM454/fff9+r7TXXXGO1atXyOb9du3ZZUFCQ3X///V7jjx07ZpUqVbKbbrop39qsrCw7fvy4hYeHe23fwqxbfqdCVq1aZZLshRde8BqfmppqYWFhXoe5c96D555/z89VV11lV199ted1jRo17JFHHrGAgABbsWKFmZm9/fbbJsk2b97sV3/S09MtOjraunXr5tXuzJkzdvnll9sVV1zhGXf2qZDp06dbSEiIPfDAA16nNvLz7LPPmiTbt29fgW0XLVpkAQEBXu9dM7OaNWtacnJyrvZ79uwxSTZ27FgzM/vvf/9rkmzmzJm52o4dO9Yk2Z49e8zM7I477jC3251nPy699FLr2LFjgf3Ny6233mpBQUFe+xl/+pWXN998M899Qo7k5GTPvr106dI2e/bsPNtt2bLFJNmkSZP8XKvi9Zc/YjFt2jStXr3aazg3JUtSenq61qxZox49eigkJMQzPiIiQt26dXO8X5MnT1ZWVpYSEhIK1f6mm27KtR6rV68u1K/Bhg0bKiQkRHfeeafeeuutfK+mzkt6erq++eYb9ezZUxEREZ7xgYGBuv3227V7927PL+mcIxvlypXztAsICNBNN92U57wbNGjg9Ssmx7fffqvu3bsrJiZGgYGBCg4OVp8+fXTmzJlcpw9iY2PVuHFjz+vo6GhVqFBBDRs2VFxcnGd8nTp1JCnXIfNzLV26VHXr1vUcvs3Rr18/mZmWLl3qsz4vy5YtkyTdeuutXuN79+6dq21WVpbGjh2runXrKiQkREFBQQoJCdGWLVu0adOmApe1detW/fTTT55lnX1065prrtHevXs9/19XXHGFFixYoGHDhmn58uU6efKk3+t2NpfLleuz0qBBgwK3+aJFi5SVlaU+ffp49Tc0NFRJSUlep1yOHz+uxx57TDVq1FBQUJCCgoIUERGh9PR0r+1zPus2b948uVwu3XbbbV79qVSpki6//PJcd8NERUXp6quvLtS827Vrp//+9786efKkdu7cqa1bt+rmm29Ww4YN9dlnn0n64yhG1apVVbNmTb/689VXX+nIkSPq27dvrqOanTp10urVq5Wenu7VnzFjxqhfv34aP368Xn755UKdzt2zZ49cLpfX5zwv69at00033aQrr7xS48aNyzXd1+nlc6cVtm1h2lkeR3/z8+STT+rtt9/Wiy++6LWfKco65FiwYIEGDx6snj176v7778+zzcSJE/W///1PH330kZKTk9WrV688T1HmHO349ddf8+3HhZD7G/Yvpk6dOmrSpEmB7X777TeZmSpWrJhrWl7j/mzly5fPcz0Kcyrlkksu0ZIlS/Tcc89p8ODBSk9PV/Xq1fXAAw/owQcf9Fmbs13yOsyf88Wdc3j58OHDfm2/vOa5a9cutWrVSrVq1dLLL7+sxMREhYaG6n//+58GDx6c6wsiOjo61zxCQkJyjc8JiwUdnjx8+LASExNzjT93Xf1x+PBhBQUFKSYmxmt8pUqVcrUdMmSIXnnlFT322GNKSkpSVFSUAgICNGjQoEJ9OeYcFh86dKiGDh2aZ5ucUwb/+te/VLlyZb333nt69tlnFRoaquTkZE2YMMHzpeaPUqVKKTQ01Guc2+0ucJvn9DnnupFznf1l17t3b33++ed68skn1bRpU5UuXVoul0vXXHON1/Y5n3Xbv39/vvsCSapevbrX6/xOgeWlffv2SklJ0cqVK7Vz506VK1dOjRo1Uvv27bVkyRKNHj1an3/+uddpkML2J2c75pziycuRI0cUHh7ueT1jxgzFx8fr5ptvLvQ6nDx5UsHBwQoMDMy3zbfffqsOHTqoZs2a+vTTT+V2u72mx8TE5PlZyrneIOfzm/OZya+ty+VS2bJlPW1PnTqlEydOqFSpUrna5gSDFStW5DqNs3379lyf+5SUFD3zzDMaM2ZMrtv9/enX2RYtWqTrr79eHTp00Ntvv51v+Dj7Pdq9e3d17txZgwcPVq9evbw+Dzmft/P9UeC0v3ywKKyoqCi5XK5c50+lP87jl3StWrVSq1atdObMGa1Zs0YTJ07UQw89pIoVK/rcqeR8se3duzfXtJzrFXJ+ucTExPi1/fL6UM2dO1fp6emaPXu219GcP+t5DTExMYVaV3/nmZWVpcOHD3uFi7y2y4wZM9SnTx+NHTvWa/yhQ4fy3FGdK6d/w4cP1/XXX59nm1q1akmSwsPDlZKSopSUFO3fv9/zC79bt2766aefCrt65y2nzx9++KHPI3hpaWmaN2+eRo4cqWHDhnnGZ2Rk5LoA7nzWLediuy+//DLXF6KkXOP8eWZMs2bNFBERoSVLlmjHjh1q166dXC6X2rVrpxdeeEGrV6/Wrl27vIJFYfuTsx0nTpyoK6+8Ms/lnxtOFi5cqF69eqlVq1b6/PPPC3UEtVy5csrMzFR6erpXSMnx7bffqn379kpISNDixYtVpkyZXG3q16+vmTNnKisry+sIcs5FyvXq1ZP0x4+isLAwr4uXz25bo0YNz5drzrUV33//vZo1a+Zpt2/fPh06dMgzz8aNG3tdQCvJ6+im9EeoGDVqlEaNGqXHH38817L96VeORYsWqUePHkpKStKsWbO8jowX5IorrtDChQt18OBBr//DnPd9UfZLxekvfyqksMLDw9WkSRPNnTtXmZmZnvHHjx/XvHnzLmDPnBUYGKhmzZp5rohft26dpP9/53Ru8g0PD1ezZs00e/Zsr2nZ2dmaMWOGKleu7DmdkZSUpKVLl3pdRJedna0PPvig0P3L2UmfvQM1M7355pv+rGaRtWvXTj/++KNnu+SYNm2aXC5XoS9YO1tOzdtvv+01/p133snV1uVy5frymD9/fq5Dnfn9f9WqVUs1a9bUhg0b1KRJkzyHyMjIXMutWLGi+vXrp1tuuUU///yzTpw44fd6FlVycrKCgoL0yy+/5Ntn6Y9tY2a5ts///d//5fkAphz5rVt+27Br164yM/3666959uXciwP9ERwcrNatW+uzzz7T0qVL1aFDB0l/BP+goCA98cQTnqDhb39atmypsmXL6scff8x3O577ZZaQkOAJLK1atdKWLVsKXIfatWtL+uMCxnOtX79e7du3V+XKlfXZZ58pKioqz3lcd911On78uGbNmuU1/q233lJcXJwnGAQFBalbt26aPXu2jh075mm3a9cuLVu2zCs8d+rUSaGhobnu9Mt5WGKPHj0kSZGRkT63y+jRozVq1Cg98cQTGjlyZJ7996dfkrR48WL16NFDV111lebOnZtnQMyPmWnFihUqW7ZsrqOeOae169atW+j5/Rk4YnGWp59+Wl26dFFycrIefPBBnTlzRhMmTFBERESBtwRJf9zilvOEtK+//lrSH4fdDh06pPDwcK+7AAYOHKi33npLv/zyS6Gvsyiq1157TUuXLlWXLl1UtWpVnTp1Sv/5z38kyfPLKDIyUgkJCfroo4/Url07RUdHq1y5ckpMTNS4cePUoUMHtW3bVkOHDlVISIheffVV/fDDD5o5c6YnDIwYMUKffPKJ2rVrpxEjRigsLEyvvfaa57xuYc7fdujQQSEhIbrlllv06KOP6tSpU5o0aZJ+++23Yto63h5++GFNmzZNXbp00dNPP62EhATNnz9fr776qu655548rwkpSMeOHdW6dWs9+uijSk9PV5MmTfTf//5X06dPz9W2a9eumjp1qmrXrq0GDRpo7dq1mjBhgipXruzVLucX09tvv606deooIiJCcXFxiouL0+uvv67OnTsrOTlZ/fr1U3x8vI4cOaJNmzZp3bp1nqDXrFkzde3aVQ0aNFBUVJQ2bdqk6dOnq3nz5rkOJRenxMREPf300xoxYoS2bdumTp06KSoqSvv379f//vc/z9GH0qVLq3Xr1powYYLnvblixQpNnjw519Gcwqxbzhfys88+q86dOyswMFANGjRQy5Ytdeedd6p///5as2aNWrdurfDwcO3du1crV65U/fr1dc899xR5fdu1a+e5wj/n8xcWFua5G6lBgwZedwoUtj8RERGaOHGi+vbtqyNHjqhnz56qUKGCDh48qA0bNujgwYOaNGlSrv7ExsZqxYoVSk5O9oSenF/3eWnTpo2kP/ZxZ98V8fPPP3vWZ8yYMdqyZYtXULnkkks8t7V37txZHTp00D333KOjR4+qRo0amjlzphYuXKgZM2Z4nWZJSUlR06ZN1bVrVw0bNkynTp3SU089pXLlynndKREdHa0nnnhCTz75pKKjo9WxY0etXr1ao0aN0qBBgwr15fvCCy/oqaeeUqdOndSlSxfPfjzH2UeCCtuvlStXqkePHqpUqZIef/zxXEdf69at67ll9dprr9Xll1+uhg0bKiYmRnv27NHUqVO1YsUKzx1iZ/v6668VGBio1q1bF7huf6oLdNFosSvoAVl53RViZjZnzhyrX7++hYSEWNWqVW38+PH2wAMPWFRUVIHLzJlnXkNCQoJX25yr6M++UyI/8vMBWefeFbJq1Sq77rrrLCEhwdxut8XExFhSUpJ9/PHHXvNasmSJNWrUyNxut0myvn37eqZ9+eWXdvXVV1t4eLiFhYXZlVdeaZ988kmu/nz55ZfWrFkzc7vdVqlSJXvkkUc8V5H//vvvnna+7qj45JNP7PLLL7fQ0FCLj4+3Rx55xHNnxdnrmZSUZJdddlmu+vzm7Ws7nm3nzp3Wu3dvi4mJseDgYKtVq5ZNmDAh1xXzhb0rxMzs999/twEDBljZsmWtVKlS1qFDB/vpp59y3RXy22+/2cCBA61ChQpWqlQpu+qqq+zLL7+0pKQkS0pK8prnzJkzrXbt2hYcHJxrPhs2bLCbbrrJKlSoYMHBwVapUiW7+uqr7bXXXvO0GTZsmDVp0sSioqLM7XZb9erV7eGHHy7wSX753RUSHh6eq+2570Vf5s6da23btrXSpUub2+22hIQE69mzpy1ZssTTZvfu3XbDDTdYVFSURUZGWqdOneyHH36whIQEr/drYdYtIyPDBg0aZOXLlzeXy5Xr8/if//zHmjVr5nnPX3LJJdanTx+vuwPyew/6smHDBpNkNWvW9Bqfc5fQkCFD8qwrTH/MzFasWGFdunSx6OhoCw4Otvj4eOvSpYvXUzLzekDW77//bi1btrTo6OgCHyzYqlUru+aaa7zG+boTL6997bFjx+yBBx6wSpUqWUhIiDVo0CDPuyzMzNasWWPt2rWzUqVKWenSpa1Hjx62devWPNu+/PLLdumll3r24SNHjszzwV15ybnLJ7+hKP3K2db5DWd/jp599llr2rSpRUVFWWBgoMXExFhycrLNmzcvz/62atUq111AFwOX2UX2ZI2LzOnTp9WwYUPFx8dr8eLFF7o7JVLHjh21Y8eOPB8IBaDkmTVrlnr16qWdO3cqPj7+Qnfnb+mXX35RzZo1tWjRIs8ptYsFweIcAwcOVIcOHRQbG6t9+/bptdde04oVK7R48WKvC6qQtyFDhqhRo0aqUqWKjhw5orfffluzZ8/W5MmT830iIYCSxczUokULNW7cWP/+978vdHf+lvr376/du3d7blO+mHCNxTmOHTumoUOH6uDBgwoODtY//vEPffrpp4SKQjpz5oyeeuop7du3Ty6XS3Xr1tX06dN12223XeiuAXCIy+XSm2++qY8//ljZ2dkXzZ8z+LvIysrSJZdcouHDh1/oruSJIxYAAMAxxEwAAOAYggUAAHDMn36NRXZ2tvbs2aPIyEi/nlgHAAAuHDPTsWPHFBcX5/O6mj89WOzZs0dVqlT5sxcLAAAckJqamuuhfWf704NFzuOEU1NTPU8bAwAAF7ejR4+qSpUqef5ZgLP96cEi5/RH6dKlCRYAAJQwBV3GwMWbAADAMQQLAADgGIIFAABwDMECAAA4hmABAAAcQ7AAAACOIVgAAADHECwAAIBjCBYAAMAxBAsAAOAYggUAAHCMX8EiMTFRLpcr1zB48ODi6h8AAChB/PojZKtXr9aZM2c8r3/44Qd16NBBN954o+MdAwAAJY9fwaJ8+fJer8ePH69LLrlESUlJjnYKAACUTEX+s+mZmZmaMWOGhgwZ4vNPqGZkZCgjI8Pz+ujRo0VdJAAAuMgVOVjMnTtXv//+u/r16+ez3bhx45SSklLUxQDFLnHYfJ/Td4zv8if15ML4u68/AGcV+a6QyZMnq3PnzoqLi/PZbvjw4UpLS/MMqampRV0kAAC4yBXpiMXOnTu1ZMkSzZ49u8C2brdbbre7KIsBAAAlTJGOWEyZMkUVKlRQly4cIgUAAP8/v4NFdna2pkyZor59+yooqMiXaAAAgL8gv4PFkiVLtGvXLg0YMKA4+gMAAEowvw85dOzYUWZWHH0BAAAlHH8rBAAAOIZgAQAAHEOwAAAAjiFYAAAAxxAsAACAYwgWAADAMQQLAADgGIIFAABwDMECAAA4hmABAAAcQ7AAAACOIVgAAADHECwAAIBjCBYAAMAxBAsAAOAYggUAAHAMwQIAADiGYAEAABxDsAAAAI4hWAAAAMcQLAAAgGMIFgAAwDEECwAA4BiCBQAAcAzBAgAAOIZgAQAAHEOwAAAAjiFYAAAAxxAsAACAYwgWAADAMQQLAADgGIIFAABwDMECAAA4hmABAAAcQ7AAAACOIVgAAADHECwAAIBjCBYAAMAxBAsAAOAYggUAAHCM38Hi119/1W233aaYmBiVKlVKDRs21Nq1a4ujbwAAoIQJ8qfxb7/9ppYtW6pt27ZasGCBKlSooF9++UVly5Ytpu4BAICSxK9g8eyzz6pKlSqaMmWKZ1xiYqLPmoyMDGVkZHheHz161L8eAgCAEsOvYPHxxx8rOTlZN954o1asWKH4+Hjde++9uuOOO/KtGTdunFJSUs67o74kDpvvc/qO8V2Kdfnn63z7X9LX/3xd6PVn+Rf2/ft3r8ff28X4/vHrGott27Zp0qRJqlmzphYtWqS7775bDzzwgKZNm5ZvzfDhw5WWluYZUlNTz7vTAADg4uTXEYvs7Gw1adJEY8eOlSQ1atRIGzdu1KRJk9SnT588a9xut9xu9/n3FAAAXPT8OmIRGxurunXreo2rU6eOdu3a5WinAABAyeRXsGjZsqV+/vlnr3GbN29WQkKCo50CAAAlk1/B4uGHH9bXX3+tsWPHauvWrXrnnXf0xhtvaPDgwcXVPwAAUIL4FSyaNm2qOXPmaObMmapXr55Gjx6tl156Sbfeemtx9Q8AAJQgfl28KUldu3ZV165di6MvAACghONvhQAAAMcQLAAAgGMIFgAAwDEECwAA4BiCBQAAcAzBAgAAOIZgAQAAHEOwAAAAjiFYAAAAxxAsAACAYwgWAADAMQQLAADgGIIFAABwDMECAAA4hmABAAAcQ7AAAACOIVgAAADHECwAAIBjCBYAAMAxBAsAAOAYggUAAHAMwQIAADiGYAEAABxDsAAAAI4hWAAAAMcQLAAAgGMIFgAAwDEECwAA4BiCBQAAcAzBAgAAOIZgAQAAHEOwAAAAjiFYAAAAxxAsAACAYwgWAADAMQQLAADgGIIFAABwDMECAAA4hmABAAAc41ewGDVqlFwul9dQqVKl4uobAAAoYYL8Lbjsssu0ZMkSz+vAwEBHOwQAAEouv4NFUFAQRykAAECe/L7GYsuWLYqLi1O1atV08803a9u2bT7bZ2Rk6OjRo14DAAD4a/LriEWzZs00bdo0XXrppdq/f7+eeeYZtWjRQhs3blRMTEyeNePGjVNKSoojnS0uicPm+5y+Y3yXYq2/0P7u6w+UZH/3z29JX/8Lvfzi4NcRi86dO+uGG25Q/fr11b59e82f/8cGeeutt/KtGT58uNLS0jxDamrq+fUYAABctPy+xuJs4eHhql+/vrZs2ZJvG7fbLbfbfT6LAQAAJcR5PcciIyNDmzZtUmxsrFP9AQAAJZhfwWLo0KFasWKFtm/frm+++UY9e/bU0aNH1bdv3+LqHwAAKEH8OhWye/du3XLLLTp06JDKly+vK6+8Ul9//bUSEhKKq38AAKAE8StYvPvuu8XVDwAA8BfA3woBAACOIVgAAADHECwAAIBjCBYAAMAxBAsAAOAYggUAAHAMwQIAADiGYAEAABxDsAAAAI4hWAAAAMcQLAAAgGMIFgAAwDEECwAA4BiCBQAAcAzBAgAAOIZgAQAAHEOwAAAAjiFYAAAAxxAsAACAYwgWAADAMQQLAADgGIIFAABwDMECAAA4hmABAAAcQ7AAAACOIVgAAADHECwAAIBjCBYAAMAxBAsAAOAYggUAAHAMwQIAADiGYAEAABxDsAAAAI4hWAAAAMcQLAAAgGMIFgAAwDEECwAA4BiCBQAAcAzBAgAAOOa8gsW4cePkcrn00EMPOdQdAABQkhU5WKxevVpvvPGGGjRo4GR/AABACVakYHH8+HHdeuutevPNNxUVFeV0nwAAQAlVpGAxePBgdenSRe3bty+wbUZGho4ePeo1AACAv6YgfwveffddrVu3TqtXry5U+3HjxiklJcVnm8Rh831O3zG+S6H7h5Ln7/7//3dff/y98f7/6/HriEVqaqoefPBBzZgxQ6GhoYWqGT58uNLS0jxDampqkToKAAAufn4dsVi7dq0OHDigxo0be8adOXNGX3zxhf79738rIyNDgYGBXjVut1tut9uZ3gIAgIuaX8GiXbt2+v77773G9e/fX7Vr19Zjjz2WK1QAAIC/F7+CRWRkpOrVq+c1Ljw8XDExMbnGAwCAvx+evAkAABzj910h51q+fLkD3QAAAH8FHLEAAACOIVgAAADHECwAAIBjCBYAAMAxBAsAAOAYggUAAHAMwQIAADiGYAEAABxDsAAAAI4hWAAAAMcQLAAAgGMIFgAAwDEECwAA4BiCBQAAcAzBAgAAOIZgAQAAHEOwAAAAjiFYAAAAxxAsAACAYwgWAADAMQQLAADgGIIFAABwDMECAAA4hmABAAAcQ7AAAACOIVgAAADHECwAAIBjCBYAAMAxBAsAAOAYggUAAHAMwQIAADiGYAEAABxDsAAAAI4hWAAAAMcQLAAAgGMIFgAAwDEECwAA4BiCBQAAcAzBAgAAOIZgAQAAHONXsJg0aZIaNGig0qVLq3Tp0mrevLkWLFhQXH0DAAAljF/BonLlyho/frzWrFmjNWvW6Oqrr9a1116rjRs3Flf/AABACRLkT+Nu3bp5vR4zZowmTZqkr7/+WpdddlmeNRkZGcrIyPC8Pnr0aBG6CQAASgK/gsXZzpw5ow8++EDp6elq3rx5vu3GjRunlJSUoi4GAHARSxw23+f0HeO7/Ek9uTD+7uufF78v3vz+++8VEREht9utu+++W3PmzFHdunXzbT98+HClpaV5htTU1PPqMAAAuHj5fcSiVq1aWr9+vX7//XfNmjVLffv21YoVK/INF263W263+7w7CgAALn5+B4uQkBDVqFFDktSkSROtXr1aL7/8sl5//XXHOwcAAEqW836OhZl5XZwJAAD+vvw6YvH444+rc+fOqlKlio4dO6Z3331Xy5cv18KFC4urfwAAoATxK1js379ft99+u/bu3asyZcqoQYMGWrhwoTp06FBc/QMAACWIX8Fi8uTJxdUPAADwF8DfCgEAAI4hWAAAAMcQLAAAgGMIFgAAwDEECwAA4BiCBQAAcAzBAgAAOIZgAQAAHEOwAAAAjiFYAAAAxxAsAACAYwgWAADAMQQLAADgGIIFAABwDMECAAA4hmABAAAcQ7AAAACOIVgAAADHECwAAIBjCBYAAMAxBAsAAOAYggUAAHAMwQIAADiGYAEAABxDsAAAAI4hWAAAAMcQLAAAgGMIFgAAwDEECwAA4BiCBQAAcAzBAgAAOIZgAQAAHEOwAAAAjiFYAAAAxxAsAACAYwgWAADAMQQLAADgGIIFAABwDMECAAA4xq9gMW7cODVt2lSRkZGqUKGCevTooZ9//rm4+gYAAEoYv4LFihUrNHjwYH399df67LPPlJWVpY4dOyo9Pb24+gcAAEqQIH8aL1y40Ov1lClTVKFCBa1du1atW7fOsyYjI0MZGRme10ePHi1CNwEAQEngV7A4V1pamiQpOjo63zbjxo1TSkrK+SwGAAAUg8Rh831O3zG+i9/zLPLFm2amIUOG6KqrrlK9evXybTd8+HClpaV5htTU1KIuEgAAXOSKfMTivvvu03fffaeVK1f6bOd2u+V2u4u6GAAAUIIUKVjcf//9+vjjj/XFF1+ocuXKTvcJAACUUH4FCzPT/fffrzlz5mj58uWqVq1acfULAACUQH4Fi8GDB+udd97RRx99pMjISO3bt0+SVKZMGYWFhRVLBwEAQMnh18WbkyZNUlpamtq0aaPY2FjP8N577xVX/wAAQAni96kQAACA/PC3QgAAgGMIFgAAwDEECwAA4BiCBQAAcAzBAgAAOIZgAQAAHEOwAAAAjiFYAAAAxxAsAACAYwgWAADAMQQLAADgGIIFAABwDMECAAA4hmABAAAcQ7AAAACOIVgAAADHECwAAIBjCBYAAMAxBAsAAOAYggUAAHAMwQIAADiGYAEAABxDsAAAAI4hWAAAAMcQLAAAgGMIFgAAwDEECwAA4BiCBQAAcAzBAgAAOIZgAQAAHEOwAAAAjiFYAAAAxxAsAACAYwgWAADAMQQLAADgGIIFAABwDMECAAA4hmABAAAcQ7AAAACO8TtYfPHFF+rWrZvi4uLkcrk0d+7cYugWAAAoifwOFunp6br88sv173//uzj6AwAASrAgfws6d+6szp07F0dfAABACed3sPBXRkaGMjIyPK+PHj1a3IsEAAAXSLFfvDlu3DiVKVPGM1SpUqW4FwkAAC6QYg8Ww4cPV1pammdITU0t7kUCAIALpNhPhbjdbrnd7uJeDAAAuAjwHAsAAOAYv49YHD9+XFu3bvW83r59u9avX6/o6GhVrVrV0c4BAICSxe9gsWbNGrVt29bzesiQIZKkvn37aurUqY51DAAAlDx+B4s2bdrIzIqjLwAAoITjGgsAAOAYggUAAHAMwQIAADiGYAEAABxDsAAAAI4hWAAAAMcQLAAAgGMIFgAAwDEECwAA4BiCBQAAcAzBAgAAOIZgAQAAHEOwAAAAjiFYAAAAxxAsAACAYwgWAADAMQQLAADgGIIFAABwDMECAAA4hmABAAAcQ7AAAACOIVgAAADHECwAAIBjCBYAAMAxBAsAAOAYggUAAHAMwQIAADiGYAEAABxDsAAAAI4hWAAAAMcQLAAAgGMIFgAAwDEECwAA4BiCBQAAcAzBAgAAOIZgAQAAHEOwAAAAjiFYAAAAxxAsAACAY4oULF599VVVq1ZNoaGhaty4sb788kun+wUAAEogv4PFe++9p4ceekgjRozQt99+q1atWqlz587atWtXcfQPAACUIH4Hi//3//6fBg4cqEGDBqlOnTp66aWXVKVKFU2aNKk4+gcAAEqQIH8aZ2Zmau3atRo2bJjX+I4dO+qrr77KsyYjI0MZGRme12lpaZKko0ePesZlZ5zwudyz2+aFeuqpp5566qkv3vqcf5uZzxqZH3799VeTZP/973+9xo8ZM8YuvfTSPGtGjhxpkhgYGBgYGBj+AkNqaqrPrODXEYscLpfL67WZ5RqXY/jw4RoyZIjndXZ2to4cOaKYmJg8a44ePaoqVaooNTVVpUuX9rtv1FNPPfXUU0+98/VmpmPHjikuLs7nfPwKFuXKlVNgYKD27dvnNf7AgQOqWLFinjVut1tut9trXNmyZQtcVunSpYu0Yainnnrqqaee+uKpL1OmTIH1fl28GRISosaNG+uzzz7zGv/ZZ5+pRYsW/swKAAD8Bfl9KmTIkCG6/fbb1aRJEzVv3lxvvPGGdu3apbvvvrs4+gcAAEoQv4NFr169dPjwYT399NPau3ev6tWrp08//VQJCQmOdMjtdmvkyJG5Tp9QTz311FNPPfUXb30OlxV43wgAAEDh8LdCAACAYwgWAADAMQQLAADgGIIFAABwDMECAAA4hmDhMG6yAQD8nRXpb4Ugf263Wxs2bFCdOnUudFcuenv37tWkSZO0cuVK7d27V4GBgapWrZp69Oihfv36KTAw8EJ3EfApPT1d77zzjr766ivt27dPLpdLFStWVMuWLXXLLbcoPDy8yPPev3+/Xn/9dT311FM+2+3evVtly5ZVRESE1/jTp09r1apVat26db61hw8f1nfffafLL79c0dHROnTokCZPnqyMjAzdeOONRdqPVa9eXYsWLVLNmjX9qjt9+rTmz5+vLVu2KDY2Vtddd53P7bd7926FhoaqXLlykqQvv/xSr732mnbt2qWEhAQNHjxYzZs3z7f+hRdeUM+ePc/rGUyffPKJ1qxZo06dOql58+ZaunSpnn/+eWVnZ+v666/XnXfe6bP+5MmTmjlzZp77wHbt2hW5XxecP3/d9M+2a9cu69+/v882J06csC+//NI2btyYa9rJkyftrbfe8ln/448/2n/+8x/btGmTmZlt2rTJ7r77buvfv799/vnn+dY9/PDDeQ4BAQHWp08fz2t/HDlyxF588UW79957bfTo0bZr1y6f7detW2fbtm3zvJ4+fbq1aNHCKleubC1btrSZM2f6rL/vvvvsiy++8KuP5/rXv/5lffr0sffee8/MzKZNm2Z16tSxWrVq2fDhw+306dN51q1evdrKlCljDRs2tObNm1tAQIDdfvvt1qtXLytbtqw1b97cjh49WuDyjx8/bm+88Yb169fPOnXqZJ07d7Z+/frZm2++acePHz+vddu3b5+lpKQU2C41NdWOHTuWa3xmZqatWLHCZ+2hQ4ds6dKldvjwYTMzO3jwoI0fP95SUlLsxx9/LFK/q1WrZps3b/a7LjMz0+bMmWPPPfecTZ8+vcDtl5qaagcPHvS8/uKLL6x379521VVX2a233mpfffWVz/rnn3/eduzY4Xc/z/bxxx/bU0895VnW559/bp07d7bk5GR7/fXXC6w/ceKETZ482fr372+dOnWyLl262H333WdLliwpsHbjxo0WFxdnZcuWtWuvvdbuvPNOu+OOO+zaa6+1smXLWnx8fJ77pcJav369BQQE5Dt9z5491rRpUwsICLDAwEDr06eP1/tw3759Puu/+eYbK1OmjLlcLouKirI1a9ZYtWrVrGbNmlajRg0LCwuztWvX5lv/8ssv5zkEBgba8OHDPa/z07x5c/vtt9/MzOzAgQNWv359CwkJsZo1a1poaKhVrVrVdu/e7bP+008/NTOzuXPnWkBAgHXv3t0ee+wxu+666yw4ONg++eSTfOtdLpcFBgZa+/bt7d1337WMjIx82+Zl0qRJFhQUZI0bN7bSpUvbjBkzLDIy0gYNGmR33XWXhYWF2UsvvZRv/ZYtWywhIcFiYmIsNjbWXC6XdenSxZo1a2aBgYF244035rv/zHEx7P/yclEHi4I+WD///LMlJCSYy+WygIAAS0pKsj179nimF/TBWrBggYWEhFh0dLSFhobaggULrHz58ta+fXtr166dBQUF5RsuXC6XNWzY0Nq0aeM1uFwua9q0qbVp08batm3rc/1iY2Pt0KFDZma2bds2q1SpklWqVMk6dOhglStXtjJlyngCT14aNWpkS5cuNTOzN99808LCwuyBBx6wSZMm2UMPPWQRERE2efLkfOtztlvNmjVt/PjxtnfvXp/9PdfTTz9tkZGRdsMNN1ilSpVs/PjxFhMTY88884yNHTvWypcvb0899VSetS1btrRRo0Z5Xk+fPt2aNWtmZn8ErIYNG9oDDzzgc/ns2NmxX8gde5s2bezmm2/Os98ZGRl2yy23WJs2bfKt37Bhg8/hvffe8/n+6dOnj1155ZW2evVq++yzz6xJkybWuHFjO3LkiJn98f5zuVz51rdv394GDRpkR48etQkTJljlypVt0KBBnukDBw60Hj165FvvcrmscuXKlpiY6DW4XC6Lj4+3xMREq1atms/6/fv3m5nZHXfcYQ0bNvTsgw4dOmQtWrSwAQMG5FsfGRlp27dvNzOzZs2a2fjx472mT5w40Ro1auRz+VOmTLFrr73WgoODLSYmxh588EH7/vvv8605W506deyNN94wM7OlS5daaGiovfLKK57pU6ZMsTp16uRb37lzZ7vrrrvszJkzZmY2btw469y5s5mZbd682RITE23kyJH51l/o/Z8vFzRYfPTRRz6HF1980eeK9ejRw7p27WoHDx60LVu2WLdu3axatWq2c+dOMyt4x968eXMbMWKEmZnNnDnToqKi7PHHH/dMf/zxx61Dhw551o4dO9aqVauWK3gEBQUV+j/z7A/WzTffbG3atLH09HQzMzt16pR17drVevbsmW99qVKlPOvaqFGjXL/Q3n77batbt67P5S9ZssQefPBBK1eunAUHB1v37t3tk08+8bzZfalevbrNmjXLzP54EwYGBtqMGTM802fPnm01atTIszYsLMx++eUXz+szZ85YcHCw7du3z8zMFi9ebHFxcT6Xz46dHfuF3LGHhYX5/Kx///33FhYWlu/0nGDvcrlyDTnjfb3/4uLi7JtvvvG8PnXqlF177bXWsGFDO3z4cIH7v6ioKM9RsczMTAsICPCa37p16yw+Pj7f+jvvvNMaNmyY68haYfeBZ7//Lr30Ups3b57X9GXLllliYmK+9WXKlLENGzaYmVmFChU8/86xdetWK1WqVKGWv3//fnv22Wetdu3aFhAQYE2bNrU33njD51HTsLAwz/7XzCw4ONjrvbt9+3afyy9VqpTXkcWMjAwLDg72/NicO3euz/W/0Ps/Xy5osPD1wTr7A5afChUq2Hfffec17t5777WqVavaL7/8UuAHq3Tp0rZlyxYz++OLLSgoyOsX4vfff28VK1bMt/5///ufXXrppfbPf/7TMjMzzazowSKvkPL1119b5cqV862PiYmxNWvWmNkf22L9+vVe07du3Vrgji1n+ZmZmfbee+9ZcnKyBQYGWlxcnD3++OOe7ZOXvD5YP/zwg+f1jh078v1gJSQk2MqVKz2v9+zZYy6Xy06cOGFmf3woQ0ND8112zvLZsbNjz/Fn79jj4uJs7ty5+U6fM2eOz3Bcrlw5mzx5su3YsSPPYf78+T7fP+Hh4blOeZ0+fdp69OhhDRo0sO+++67A+pxgaGYWERHhFfZ37txZ4Gdwzpw5VqVKFZs4caJnnD/vvwMHDpjZH++fc2t27Nhhbrc73/ru3bvbsGHDzMwsOTk519G5N99802rWrOlz+Tnvv7N98cUX1rdvXwsPD7fw8PB86ytXruw5lfzrr7+ay+Wy+fPne6YvX77c5/47Li7O6/vmt99+M5fL5XnPb9u2zef6X+j9ny8X9K6Q2NhYzZo1S9nZ2XkO69at81l/8uRJBQV5X3/6yiuvqHv37kpKStLmzZsL3ZeAgACFhoaqbNmynnGRkZFKS0vLt6Zp06Zau3atDh48qCZNmuj777+Xy+Uq9DIledpnZGSoYsWKXtMqVqyogwcP5lvbuXNnTZo0SZKUlJSkDz/80Gv6+++/rxo1ahSqH8HBwbrpppu0cOFCbdu2TXfccYfefvtt1apVK9+aSpUq6ccff5QkbdmyRWfOnPG8lqSNGzeqQoUKedb26NFDd999txYuXKhly5bp1ltvVVJSksLCwiRJP//8s+Lj4332OSoqSlu2bMl3+tatWxUVFZXv9JiYGL355pvavn17rmHbtm2aN2+ez+WnpaV5zd/tduvDDz9UYmKi2rZtqwMHDvisz8zM9KxvcHCwSpUq5bkQLad/hw8fzrf+9ddf18iRI5WcnKx///vfPpeVn5z33++//65q1ap5TatWrZr27t2bb21SUpJmzpwpSWrUqJGWL1/uNX3ZsmUF/h/mqFChgh599FFt2rRJy5cvV926dfXwww8rNjY235qYmBjt3LlTkrRnzx5lZWVp165dnuk7d+5UdHR0vvVly5bVsWPHPK9PnDihrKwshYSESJIaNGjgc/3vuOMO9e3bV88//7w2bNigffv2af/+/dqwYYOef/55DRgwQHfddVe+9Y0bN9aePXuUkJCQ5xAfH+/zLrPq1avru+++8xoXFBSkDz74QNWrV1fXrl3zrZWkKlWqaNu2bZ7X7777rtf23rt3r9f7MS89evTQqlWrNGfOHHXu3Fn79u3z2f5c/fr10/XXX6/Tp097/i/PXv7Z++NzjR8/Xm+++ab69u2rq666SiNGjNDtt9+usWPHqm/fvrrvvvv0+OOP51uf3766VatWmjp1qvbs2aMXX3wx3/prr71WAwcO1JgxY3TdddepT58++uc//6mFCxdq0aJFuv/++9WxY8d86zt06KAhQ4bop59+0vbt23X33XerYcOGioyMlCTt2rUr3/2ndOH3fz4VKY44pFu3bvbkk0/mO339+vU+DyU3bdrUpk2blue0wYMHW9myZX0mrgYNGtiCBQs8r7///nuvc6pffvmlz0PJZ5s5c6ZVrFjRAgIC/DpiUb9+fWvUqJFFRETY7NmzvaavWLHC5y/WX3/91RITE61169Y2ZMgQCwsLs6uuusruuOMOa926tYWEhHgl6LyWn1diz5GdnW2LFy/Od/qIESOsfPnyNmjQIKtWrZoNHz7cqlatapMmTbLXXnvNqlSpku8FrMeOHbObbrrJgoKCzOVyWYsWLbwuRF20aJG9//77+S7bzGzkyJFWpkwZmzBhgq1fv9727t1r+/bts/Xr19uECRMsKirK58VHycnJNnr06HynF/T+q1+/vn344Ye5xuf8aqxatarP91/t2rW9jlLNmzfPc8TGrOAjVjl2795tV199tXXq1Mn27t3r1y/Ga665xq677jqLioryXC+RY9WqVT6P2P34448WExNjffr0sdGjR1tERITddtttNmbMGOvTp4+53W6bMmVKvvUBAQE+339paWmeUx15GTx4sNWsWdOeeeYZu+KKK6xv375Wu3ZtW7BggS1cuNDq16/v81RO3759LSkpyTZt2mTbtm2zXr16eZ26Wb58uVWpUiXfejOz8ePHe67PCAgI8PzSi42NtWeffdZn7ezZs2369On5Tj9y5IhNnTo13+mPPvqodezYMc9pp0+ftu7du/t8/40aNcrnBd6PP/64XX/99flOP1t2draNHTvWKlWqZIGBgYV6//Xr189rOPfzPnToUEtOTvY5j61bt9rNN99skZGRnl/bwcHB1qJFC5szZ47P2oL2fwU5fvy4DRo0yOrVq2d33323ZWZm2oQJEywkJMRcLpe1adPG5/z3799vV155pee9k5iYaOvWrfNM/+CDD+xf//pXvvUXev/nywUNFl988YXXF/u5jh8/bsuXL893+tixYz3nRPNyzz33+NwwkyZNynX492yPP/64DRw4MN/p50pNTbW5c+cW+mrcUaNGeQ0LFy70mj506FC7+eabfc7jt99+s8cee8zq1q1roaGhFhISYgkJCda7d29bvXq1z9rExETPYd+iyMrKsmeeeca6du3qOb8+c+ZMq1KlisXExFi/fv0K3BYnT57M846KwrrYd+y+3n/s2Ev2jv1s27Zts6+++sq++uorr4BcnE6fPm1paWn5Ts/Kyjqvu27S09Pt1KlTftWsWbPGXnrpJc91Rufj+PHjdvLkyUK1zc7Otn379tmePXs8p6UvlJMnTxbqjrYcmzdvzvWjtrAu5P7PF/5sOv4Stm/f7jkMW6lSpVyH9YtDVlaWTpw4odKlS+c5/cyZM9q9e3eR75M/ceKEAgMD5Xa7C12zdu1arVy5Un369PF5GLQw0tPTFRgYqNDQ0ALbmpkOHDig7OxslStXTsHBwee17PNx6tQpnT592nNIuSBbtmxRRkaGateunevUKlASXIj9ny88eRN/CdWqVVPz5s3VvHlzz4cqNTVVAwYMKPI8C6oPCgrKN1RIf5z3T0lJKfLyDx8+rHvuucevmsaNG+vBBx9UVFTUea//kSNHdO+99xaqbc6DoWJjYz2hori3f35CQ0MVGRlZ6PqaNWuqXr16uUJFYepPnjyplStXel1blOPUqVOaNm0a9dQXW/2mTZs0ZcoUZWZmqnnz5oqKitJzzz2nAQMGaOnSpT5rz67/6aefJEk//fST7rnnnkLX56tIxzmAEuB87sOmnvrifo4O9dRfqOcwOVHvC8f9UGJ9/PHHPqeffcU79dQ7Xf/YY4+pfv36WrNmjX7//XcNGTJELVu21PLly1W1alWftdRTf771Tz/9tB555BE988wzevfdd9W7d2/dc889GjNmjCRpxIgRGj9+vK6++upiqfepSHEEuAic73NQqKf+Qj5Hh3rqL+RzmM633heusUCJdb7PQaGe+gv5HB3qqb+Qz2Fysj7X/IpUBVwEGjdu7HPn73K5fD5giHrqz6e+du3aWrNmTa7xEydO1LXXXqvu3bvnW0s99edbn5iYqK1bt3per1q1yusUSmpqqs8HzJ1vvU9FOs4BXATO9zko1FN/IZ+jQz31F/I5TE4/x+lsPMcCAAA4hlMhAADAMQQLAADgGIIFAABwDMECAAA4hmABoNDatGmjhx566EJ3A8BFjGABoFgsX75cLpdLv//++4XuCoA/EcECAAA4hmABIE/p6enq06ePIiIiFBsbqxdeeMFr+owZM9SkSRNFRkaqUqVK6t27tw4cOCBJ2rFjh9q2bStJioqKksvlUr9+/SRJZqbnnntO1atXV1hYmC6//HJ9+OGHf+q6ASg+BAsAeXrkkUe0bNkyzZkzR4sXL9by5cu1du1az/TMzEyNHj1aGzZs0Ny5c7V9+3ZPeKhSpYpmzZolSfr555+1d+9evfzyy5KkJ554QlOmTNGkSZO0ceNGPfzww7rtttu0YsWKP30dATiPJ28CyOX48eOKiYnRtGnT1KtXL0nSkSNHVLlyZd1555166aWXctWsXr1aV1xxhY4dO6aIiAgtX75cbdu21W+//eb540bp6ekqV66cli5dqubNm3tqBw0apBMnTuidd975M1YPQDEKKrgJgL+bX375RZmZmV5f/tHR0apVq5bn9bfffqtRo0Zp/fr1OnLkiLKzsyVJu3btUt26dfOc748//qhTp06pQ4cOXuMzMzPVqFGjYlgTAH82ggWAXAo6kJmenq6OHTuqY8eOmjFjhsqXL69du3YpOTlZmZmZ+dblhI/58+crPj7ea5rb7T7/jgO44AgWAHKpUaOGgoOD9fXXX3v+lPJvv/2mzZs3KykpST/99JMOHTqk8ePHq0qVKpKU609Ah4SESJLOnDnjGVe3bl253W7t2rVLSUlJf9LaAPgzESwA5BIREaGBAwfqkUceUUxMjCpWrKgRI0YoIOCP672rVq2qkJAQTZw4UXfffbd++OEHjR492mseCQkJcrlcmjdvnq655hqFhYUpMjJSQ4cO1cMPP6zs7GxdddVVOnr0qL766itFRESob9++F2J1ATiIu0IA5GnChAlq3bq1unfvrvbt2+uqq65S48aNJUnly5fX1KlT9cEHH6hu3boaP368nn/+ea/6+Ph4paSkaNiwYapYsaLuu+8+SdLo0aP11FNPady4capTp46Sk5P1ySefqFq1an/6OgJwHneFAAAAx3DEAgAAOIZgAQAAHEOwAAAAjiFYAAAAxxAsAACAYwgWAADAMQQLAADgGIIFAABwDMECAAA4hmABAAAcQ7AAAACO+f8AvjjDzXc1tnAAAAAASUVORK5CYII=",
      "text/plain": [
       "<Figure size 640x480 with 1 Axes>"
      ]
     },
     "metadata": {},
     "output_type": "display_data"
    }
   ],
   "source": [
    "# histogram of dates\n",
    "df['date'] = pd.to_datetime(df['date'])\n",
    "\n",
    "df.date.groupby(df[\"date\"].dt.day).count().plot(kind=\"bar\",title = \"Fig 1: Histogram of dates in easter week (2000-2023)\")\n"
   ]
  },
  {
   "attachments": {},
   "cell_type": "markdown",
   "metadata": {},
   "source": [
    "As shown in Fig 1, the date appears to be somewhat random, in we can therefore argue for no date-specific bias"
   ]
  },
  {
   "attachments": {},
   "cell_type": "markdown",
   "metadata": {},
   "source": [
    "# Cleaing and merge of stock data"
   ]
  },
  {
   "attachments": {},
   "cell_type": "markdown",
   "metadata": {},
   "source": [
    "We use data on the Swedish and Indian indices, OMXS30 and NIFTY50 respectively. We obtain the data as an csv file from from Yahoo Finance.\n",
    "\n",
    "\n",
    "Firstly, we perform an inner join on the two indices. By doing an inner join, we keep all dates, where both stock exchanges are open and discard dates, where either one of the two exchanges is closed. This leads to fewer observations, but enables us to compare the two indices. Secondly, we do some light cleaning, including renaming and dropping columns that we do not need.  "
   ]
  },
  {
   "attachments": {},
   "cell_type": "markdown",
   "metadata": {},
   "source": [
    "### Read, merge and clean data"
   ]
  },
  {
   "cell_type": "code",
<<<<<<< HEAD
   "execution_count": 5,
=======
<<<<<<< HEAD
   "execution_count": 5,
=======
   "execution_count": 18,
>>>>>>> b9d0f51e7efef54cd152c0b761ba626f490b109d
>>>>>>> 304cc4e277ec8429929218ae4debda06191cc9a7
   "metadata": {},
   "outputs": [
    {
     "data": {
      "text/html": [
       "<div>\n",
       "<style scoped>\n",
       "    .dataframe tbody tr th:only-of-type {\n",
       "        vertical-align: middle;\n",
       "    }\n",
       "\n",
       "    .dataframe tbody tr th {\n",
       "        vertical-align: top;\n",
       "    }\n",
       "\n",
       "    .dataframe thead th {\n",
       "        text-align: right;\n",
       "    }\n",
       "</style>\n",
       "<table border=\"1\" class=\"dataframe\">\n",
       "  <thead>\n",
       "    <tr style=\"text-align: right;\">\n",
       "      <th></th>\n",
       "      <th>date</th>\n",
       "      <th>adj_close_omxs</th>\n",
       "      <th>daily_return_omxs</th>\n",
       "      <th>adj_close_nifty</th>\n",
       "      <th>daily_return_nifty</th>\n",
       "    </tr>\n",
       "  </thead>\n",
       "  <tbody>\n",
       "    <tr>\n",
       "      <th>0</th>\n",
       "      <td>2010-01-04</td>\n",
       "      <td>963.559998</td>\n",
       "      <td>NaN</td>\n",
       "      <td>5232.200195</td>\n",
       "      <td>NaN</td>\n",
       "    </tr>\n",
       "    <tr>\n",
       "      <th>1</th>\n",
       "      <td>2010-01-05</td>\n",
       "      <td>967.270020</td>\n",
       "      <td>0.003850</td>\n",
       "      <td>5277.899902</td>\n",
       "      <td>0.008734</td>\n",
       "    </tr>\n",
       "    <tr>\n",
       "      <th>2</th>\n",
       "      <td>2010-01-07</td>\n",
       "      <td>965.820007</td>\n",
       "      <td>-0.001499</td>\n",
       "      <td>5263.100098</td>\n",
       "      <td>-0.003540</td>\n",
       "    </tr>\n",
       "    <tr>\n",
       "      <th>3</th>\n",
       "      <td>2010-01-08</td>\n",
       "      <td>973.440002</td>\n",
       "      <td>0.007890</td>\n",
       "      <td>5244.750000</td>\n",
       "      <td>-0.003487</td>\n",
       "    </tr>\n",
       "    <tr>\n",
       "      <th>4</th>\n",
       "      <td>2010-01-11</td>\n",
       "      <td>978.179993</td>\n",
       "      <td>0.004869</td>\n",
       "      <td>5249.399902</td>\n",
       "      <td>0.000887</td>\n",
       "    </tr>\n",
       "    <tr>\n",
       "      <th>5</th>\n",
       "      <td>2010-01-12</td>\n",
       "      <td>969.549988</td>\n",
       "      <td>-0.008823</td>\n",
       "      <td>5210.399902</td>\n",
       "      <td>-0.007429</td>\n",
       "    </tr>\n",
       "    <tr>\n",
       "      <th>6</th>\n",
       "      <td>2010-01-13</td>\n",
       "      <td>974.960022</td>\n",
       "      <td>0.005580</td>\n",
       "      <td>5233.950195</td>\n",
       "      <td>0.004520</td>\n",
       "    </tr>\n",
       "    <tr>\n",
       "      <th>7</th>\n",
       "      <td>2010-01-14</td>\n",
       "      <td>981.500000</td>\n",
       "      <td>0.006708</td>\n",
       "      <td>5259.899902</td>\n",
       "      <td>0.004958</td>\n",
       "    </tr>\n",
       "    <tr>\n",
       "      <th>8</th>\n",
       "      <td>2010-01-15</td>\n",
       "      <td>970.650024</td>\n",
       "      <td>-0.011054</td>\n",
       "      <td>5252.200195</td>\n",
       "      <td>-0.001464</td>\n",
       "    </tr>\n",
       "    <tr>\n",
       "      <th>9</th>\n",
       "      <td>2010-01-18</td>\n",
       "      <td>974.049988</td>\n",
       "      <td>0.003503</td>\n",
       "      <td>5274.850098</td>\n",
       "      <td>0.004312</td>\n",
       "    </tr>\n",
       "  </tbody>\n",
       "</table>\n",
       "</div>"
      ],
      "text/plain": [
       "         date  adj_close_omxs  daily_return_omxs  adj_close_nifty  \\\n",
       "0  2010-01-04      963.559998                NaN      5232.200195   \n",
       "1  2010-01-05      967.270020           0.003850      5277.899902   \n",
       "2  2010-01-07      965.820007          -0.001499      5263.100098   \n",
       "3  2010-01-08      973.440002           0.007890      5244.750000   \n",
       "4  2010-01-11      978.179993           0.004869      5249.399902   \n",
       "5  2010-01-12      969.549988          -0.008823      5210.399902   \n",
       "6  2010-01-13      974.960022           0.005580      5233.950195   \n",
       "7  2010-01-14      981.500000           0.006708      5259.899902   \n",
       "8  2010-01-15      970.650024          -0.011054      5252.200195   \n",
       "9  2010-01-18      974.049988           0.003503      5274.850098   \n",
       "\n",
       "   daily_return_nifty  \n",
       "0                 NaN  \n",
       "1            0.008734  \n",
       "2           -0.003540  \n",
       "3           -0.003487  \n",
       "4            0.000887  \n",
       "5           -0.007429  \n",
       "6            0.004520  \n",
       "7            0.004958  \n",
       "8           -0.001464  \n",
       "9            0.004312  "
      ]
     },
<<<<<<< HEAD
     "execution_count": 5,
=======
<<<<<<< HEAD
     "execution_count": 5,
=======
     "execution_count": 18,
>>>>>>> b9d0f51e7efef54cd152c0b761ba626f490b109d
>>>>>>> 304cc4e277ec8429929218ae4debda06191cc9a7
     "metadata": {},
     "output_type": "execute_result"
    }
   ],
   "source": [
    "\n",
    "# The function read_yahoo reads the downloaded CSV-files and renames the columns\n",
    "omx = dataproject.read_yahoo(input_dir, 'omxs30.csv')\n",
    "nifty = dataproject.read_yahoo(input_dir, 'nsei2.csv')\n",
    "\n",
    "# drop the columns we do not need\n",
    "for i in [omx, nifty]:\n",
    "    i.drop(columns=['open', 'high', 'low','close', 'volume'], axis=1, inplace=True)\n",
    "\n",
    "# inner-join the two datasets\n",
    "merge_inner = pd.merge(omx, nifty, on='date',how='inner')\n",
    "\n",
    "# specify the column names again after the the merge \n",
    "rename_dict = {}\n",
    "for i in merge_inner.columns:\n",
    "        rename_dict[i] = i.lower()\n",
    "        rename_dict[i] = rename_dict[i].replace('_x','_omxs')\n",
    "        rename_dict[i] = rename_dict[i].replace('_y','_nifty')\n",
    "\n",
    "merge_inner = merge_inner.rename(columns=rename_dict)\n",
    "\n",
    "merge_inner.head(10)"
   ]
  },
  {
   "attachments": {},
   "cell_type": "markdown",
   "metadata": {},
   "source": [
    "### Further merging and cleaning"
   ]
  },
  {
   "attachments": {},
   "cell_type": "markdown",
   "metadata": {},
   "source": [
    "Now, it is time to merge with the easter dates data. We left-join the Easter Dates data on the merged stock data from above. Thus, we keep all the stock data from the inner join and attach the easter dummy that we created earlier.\n",
    "\n",
    "We calculate demeaned returns for both indices and rearrange columns.\n",
    "\n",
    "\n"
   ]
  },
  {
   "cell_type": "code",
<<<<<<< HEAD
   "execution_count": 6,
=======
<<<<<<< HEAD
   "execution_count": 6,
=======
   "execution_count": 19,
>>>>>>> b9d0f51e7efef54cd152c0b761ba626f490b109d
>>>>>>> 304cc4e277ec8429929218ae4debda06191cc9a7
   "metadata": {},
   "outputs": [
    {
     "data": {
      "text/html": [
       "<div>\n",
       "<style scoped>\n",
       "    .dataframe tbody tr th:only-of-type {\n",
       "        vertical-align: middle;\n",
       "    }\n",
       "\n",
       "    .dataframe tbody tr th {\n",
       "        vertical-align: top;\n",
       "    }\n",
       "\n",
       "    .dataframe thead th {\n",
       "        text-align: right;\n",
       "    }\n",
       "</style>\n",
       "<table border=\"1\" class=\"dataframe\">\n",
       "  <thead>\n",
       "    <tr style=\"text-align: right;\">\n",
       "      <th></th>\n",
       "      <th>date</th>\n",
       "      <th>adj_close_omxs</th>\n",
       "      <th>daily_return_omxs</th>\n",
       "      <th>demeaned_return_omxs</th>\n",
       "      <th>adj_close_nifty</th>\n",
       "      <th>daily_return_nifty</th>\n",
       "      <th>demeaned_return_nifty</th>\n",
       "      <th>easter_week</th>\n",
       "    </tr>\n",
       "  </thead>\n",
       "  <tbody>\n",
       "    <tr>\n",
       "      <th>1</th>\n",
       "      <td>2010-01-05</td>\n",
       "      <td>967.270020</td>\n",
       "      <td>0.003850</td>\n",
       "      <td>0.003623</td>\n",
       "      <td>5277.899902</td>\n",
       "      <td>0.008734</td>\n",
       "      <td>0.008275</td>\n",
       "      <td>0.0</td>\n",
       "    </tr>\n",
       "    <tr>\n",
       "      <th>2</th>\n",
       "      <td>2010-01-07</td>\n",
       "      <td>965.820007</td>\n",
       "      <td>-0.001499</td>\n",
       "      <td>-0.001727</td>\n",
       "      <td>5263.100098</td>\n",
       "      <td>-0.003540</td>\n",
       "      <td>-0.004000</td>\n",
       "      <td>0.0</td>\n",
       "    </tr>\n",
       "    <tr>\n",
       "      <th>3</th>\n",
       "      <td>2010-01-08</td>\n",
       "      <td>973.440002</td>\n",
       "      <td>0.007890</td>\n",
       "      <td>0.007662</td>\n",
       "      <td>5244.750000</td>\n",
       "      <td>-0.003487</td>\n",
       "      <td>-0.003946</td>\n",
       "      <td>0.0</td>\n",
       "    </tr>\n",
       "    <tr>\n",
       "      <th>4</th>\n",
       "      <td>2010-01-11</td>\n",
       "      <td>978.179993</td>\n",
       "      <td>0.004869</td>\n",
       "      <td>0.004642</td>\n",
       "      <td>5249.399902</td>\n",
       "      <td>0.000887</td>\n",
       "      <td>0.000427</td>\n",
       "      <td>0.0</td>\n",
       "    </tr>\n",
       "    <tr>\n",
       "      <th>5</th>\n",
       "      <td>2010-01-12</td>\n",
       "      <td>969.549988</td>\n",
       "      <td>-0.008823</td>\n",
       "      <td>-0.009050</td>\n",
       "      <td>5210.399902</td>\n",
       "      <td>-0.007429</td>\n",
       "      <td>-0.007889</td>\n",
       "      <td>0.0</td>\n",
       "    </tr>\n",
       "    <tr>\n",
       "      <th>6</th>\n",
       "      <td>2010-01-13</td>\n",
       "      <td>974.960022</td>\n",
       "      <td>0.005580</td>\n",
       "      <td>0.005352</td>\n",
       "      <td>5233.950195</td>\n",
       "      <td>0.004520</td>\n",
       "      <td>0.004061</td>\n",
       "      <td>0.0</td>\n",
       "    </tr>\n",
       "    <tr>\n",
       "      <th>7</th>\n",
       "      <td>2010-01-14</td>\n",
       "      <td>981.500000</td>\n",
       "      <td>0.006708</td>\n",
       "      <td>0.006480</td>\n",
       "      <td>5259.899902</td>\n",
       "      <td>0.004958</td>\n",
       "      <td>0.004499</td>\n",
       "      <td>0.0</td>\n",
       "    </tr>\n",
       "    <tr>\n",
       "      <th>8</th>\n",
       "      <td>2010-01-15</td>\n",
       "      <td>970.650024</td>\n",
       "      <td>-0.011054</td>\n",
       "      <td>-0.011282</td>\n",
       "      <td>5252.200195</td>\n",
       "      <td>-0.001464</td>\n",
       "      <td>-0.001923</td>\n",
       "      <td>0.0</td>\n",
       "    </tr>\n",
       "    <tr>\n",
       "      <th>9</th>\n",
       "      <td>2010-01-18</td>\n",
       "      <td>974.049988</td>\n",
       "      <td>0.003503</td>\n",
       "      <td>0.003275</td>\n",
       "      <td>5274.850098</td>\n",
       "      <td>0.004312</td>\n",
       "      <td>0.003853</td>\n",
       "      <td>0.0</td>\n",
       "    </tr>\n",
       "    <tr>\n",
       "      <th>10</th>\n",
       "      <td>2010-01-19</td>\n",
       "      <td>976.000000</td>\n",
       "      <td>0.002002</td>\n",
       "      <td>0.001774</td>\n",
       "      <td>5225.649902</td>\n",
       "      <td>-0.009327</td>\n",
       "      <td>-0.009787</td>\n",
       "      <td>0.0</td>\n",
       "    </tr>\n",
       "  </tbody>\n",
       "</table>\n",
       "</div>"
      ],
      "text/plain": [
       "         date  adj_close_omxs  daily_return_omxs  demeaned_return_omxs  \\\n",
       "1  2010-01-05      967.270020           0.003850              0.003623   \n",
       "2  2010-01-07      965.820007          -0.001499             -0.001727   \n",
       "3  2010-01-08      973.440002           0.007890              0.007662   \n",
       "4  2010-01-11      978.179993           0.004869              0.004642   \n",
       "5  2010-01-12      969.549988          -0.008823             -0.009050   \n",
       "6  2010-01-13      974.960022           0.005580              0.005352   \n",
       "7  2010-01-14      981.500000           0.006708              0.006480   \n",
       "8  2010-01-15      970.650024          -0.011054             -0.011282   \n",
       "9  2010-01-18      974.049988           0.003503              0.003275   \n",
       "10 2010-01-19      976.000000           0.002002              0.001774   \n",
       "\n",
       "    adj_close_nifty  daily_return_nifty  demeaned_return_nifty  easter_week  \n",
       "1       5277.899902            0.008734               0.008275          0.0  \n",
       "2       5263.100098           -0.003540              -0.004000          0.0  \n",
       "3       5244.750000           -0.003487              -0.003946          0.0  \n",
       "4       5249.399902            0.000887               0.000427          0.0  \n",
       "5       5210.399902           -0.007429              -0.007889          0.0  \n",
       "6       5233.950195            0.004520               0.004061          0.0  \n",
       "7       5259.899902            0.004958               0.004499          0.0  \n",
       "8       5252.200195           -0.001464              -0.001923          0.0  \n",
       "9       5274.850098            0.004312               0.003853          0.0  \n",
       "10      5225.649902           -0.009327              -0.009787          0.0  "
      ]
     },
<<<<<<< HEAD
     "execution_count": 6,
=======
<<<<<<< HEAD
     "execution_count": 6,
=======
     "execution_count": 19,
>>>>>>> b9d0f51e7efef54cd152c0b761ba626f490b109d
>>>>>>> 304cc4e277ec8429929218ae4debda06191cc9a7
     "metadata": {},
     "output_type": "execute_result"
    }
   ],
   "source": [
    "# impor easter dates and make sure that the date column in each data set is the same type\n",
    "easter_dates = pd.read_pickle(os.path.join(input_dir, 'dates.pkl')) \n",
    "merge_inner['date'] = pd.to_datetime(merge_inner['date'])\n",
    "easter_dates['date'] = pd.to_datetime(easter_dates['date'])\n",
    "\n",
    "# left-merge to add the \"easter-dummy\" and change nulls to zeros\n",
    "merge_final = pd.merge(merge_inner, easter_dates,on='date',how='left')\n",
    "merge_final.loc[merge_final['easter_week'].isna()==True, 'easter_week'] = 0 \n",
    "merge_final.drop(index=merge_final.index[0],axis=0,inplace=True)\n",
    "merge_final = merge_final.fillna(0)\n",
    "\n",
    "\n",
    "# Calculate additional columns\n",
    "for i in ['omxs','nifty']:\n",
    "    merge_final[f'demeaned_return_{i}'] = merge_final[f'daily_return_{i}']-merge_final[f'daily_return_{i}'].mean()\n",
    "\n",
    "# Rearrange columns\n",
    "merge_final = merge_final.reindex(columns=['date','adj_close_omxs','daily_return_omxs',\n",
    "                                           'demeaned_return_omxs','adj_close_nifty','daily_return_nifty',\n",
    "                                           'demeaned_return_nifty','easter_week'])\n",
    "\n",
    "\n",
    "merge_final.head(10)\n"
   ]
  },
  {
   "attachments": {},
   "cell_type": "markdown",
   "metadata": {},
   "source": [
    "# Analysing the data"
   ]
  },
  {
   "attachments": {},
   "cell_type": "markdown",
   "metadata": {},
   "source": [
    "### Calculations\n",
    "\n",
    "We calculate overall mean return as well as mean return during easter and compare the results. We find opposite correlations between easter and mean returns for Sweden and India; negative for Sweden and positive for India.\n",
    "\n",
    "However, the effects are small and we have to admit that it might very well be random afterall. \n"
   ]
  },
  {
   "cell_type": "code",
<<<<<<< HEAD
   "execution_count": 7,
=======
<<<<<<< HEAD
   "execution_count": 7,
=======
   "execution_count": 20,
>>>>>>> b9d0f51e7efef54cd152c0b761ba626f490b109d
>>>>>>> 304cc4e277ec8429929218ae4debda06191cc9a7
   "metadata": {},
   "outputs": [
    {
     "data": {
      "text/html": [
       "<div>\n",
       "<style scoped>\n",
       "    .dataframe tbody tr th:only-of-type {\n",
       "        vertical-align: middle;\n",
       "    }\n",
       "\n",
       "    .dataframe tbody tr th {\n",
       "        vertical-align: top;\n",
       "    }\n",
       "\n",
       "    .dataframe thead th {\n",
       "        text-align: right;\n",
       "    }\n",
       "</style>\n",
       "<table border=\"1\" class=\"dataframe\">\n",
       "  <thead>\n",
       "    <tr style=\"text-align: right;\">\n",
       "      <th></th>\n",
       "      <th>metric</th>\n",
       "      <th>omxs30</th>\n",
       "      <th>nifty50</th>\n",
       "    </tr>\n",
       "  </thead>\n",
       "  <tbody>\n",
       "    <tr>\n",
       "      <th>0</th>\n",
       "      <td>mean</td>\n",
       "      <td>0.000228</td>\n",
       "      <td>0.000459</td>\n",
       "    </tr>\n",
       "    <tr>\n",
       "      <th>1</th>\n",
       "      <td>mean_easter</td>\n",
       "      <td>-0.000319</td>\n",
       "      <td>0.002807</td>\n",
       "    </tr>\n",
       "    <tr>\n",
       "      <th>2</th>\n",
       "      <td>difference</td>\n",
       "      <td>-0.000547</td>\n",
       "      <td>0.002348</td>\n",
       "    </tr>\n",
       "  </tbody>\n",
       "</table>\n",
       "</div>"
      ],
      "text/plain": [
       "        metric    omxs30   nifty50\n",
       "0         mean  0.000228  0.000459\n",
       "1  mean_easter -0.000319  0.002807\n",
       "2   difference -0.000547  0.002348"
      ]
     },
<<<<<<< HEAD
     "execution_count": 7,
=======
<<<<<<< HEAD
     "execution_count": 7,
=======
     "execution_count": 20,
>>>>>>> b9d0f51e7efef54cd152c0b761ba626f490b109d
>>>>>>> 304cc4e277ec8429929218ae4debda06191cc9a7
     "metadata": {},
     "output_type": "execute_result"
    }
   ],
   "source": [
    "#Calculations based on data in above talbe \n",
    "I = merge_final['easter_week'] == 1\n",
    "mean_omxs = merge_final['daily_return_omxs'].mean()\n",
    "mean_omxs_easter = merge_final.loc[I,'daily_return_omxs'].mean()\n",
    "mean_nifty = merge_final['daily_return_nifty'].mean()\n",
    "mean_nifty_easter = merge_final.loc[I,'daily_return_nifty'].mean()\n",
    "dif_omxs = mean_omxs_easter - mean_omxs\n",
    "dif_nifty = mean_nifty_easter - mean_nifty\n",
    "\n",
    "#Create dictionary of data, a DataFrame and write as .csv\n",
    "return_calcs = {'metric' : ['mean', 'mean_easter', 'difference'], \n",
    "                'omxs30' : [mean_omxs, mean_omxs_easter, dif_omxs],\n",
    "                'nifty50' : [mean_nifty, mean_nifty_easter, dif_nifty]\n",
    "}\n",
    "return_table = pd.DataFrame(return_calcs)\n",
    "return_table.to_csv('return_calcs')\n",
    "\n",
    "# Read .csv and Illustrate\n",
    "return_table2 = pd.read_csv('return_calcs')\n",
    "return_table2 = return_table2.drop('Unnamed: 0', axis=1)\n",
    "return_table2\n",
    "\n"
   ]
  },
  {
   "attachments": {},
   "cell_type": "markdown",
   "metadata": {},
   "source": [
    "If we take the difference of the last row we have an estimate $\\hat\\beta_3=\t-0.000547-(-0.002348)=0.001801$, which is a very small number."
   ]
  },
  {
   "attachments": {},
   "cell_type": "markdown",
   "metadata": {},
   "source": [
    "### Illustration: Boxplot\n",
    "\n",
    "The boxplot shows (if you look closely enough) what the table above shows. Mean is higher (lower) during Easter in India (Sweden). More importantly, it shows that dispersion in significantly lowern during easter, which perhaps simply is explained by lower number of observations. Nonetheless there is a clear difference. \n",
    "\n",
    "Note: We include many 'outliers' (observations outside 3rd quartile) to increase the readability of the figure, by setting *whis = 5*.\n",
    "\n"
   ]
  },
  {
   "cell_type": "code",
<<<<<<< HEAD
   "execution_count": 8,
=======
<<<<<<< HEAD
   "execution_count": 8,
=======
   "execution_count": 21,
>>>>>>> b9d0f51e7efef54cd152c0b761ba626f490b109d
>>>>>>> 304cc4e277ec8429929218ae4debda06191cc9a7
   "metadata": {},
   "outputs": [
    {
     "data": {
      "image/png": "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",
      "text/plain": [
       "<Figure size 640x480 with 2 Axes>"
      ]
     },
     "metadata": {},
     "output_type": "display_data"
    }
   ],
   "source": [
    "boxplot1 = merge_final.boxplot(column=['demeaned_return_omxs', 'demeaned_return_nifty'],by = 'easter_week', whis=5)\n",
    "\n"
   ]
  },
  {
   "attachments": {},
   "cell_type": "markdown",
   "metadata": {},
   "source": [
    "### Illustration: Interactive plot\n",
    "\n",
    "The interactive plot shows daily returns for a chosen interval of days. Days during easter week as per www.ugenr.dk are marked green."
   ]
  },
  {
   "cell_type": "code",
<<<<<<< HEAD
   "execution_count": 9,
=======
<<<<<<< HEAD
   "execution_count": 9,
=======
   "execution_count": 23,
>>>>>>> b9d0f51e7efef54cd152c0b761ba626f490b109d
>>>>>>> 304cc4e277ec8429929218ae4debda06191cc9a7
   "metadata": {},
   "outputs": [
    {
     "data": {
      "application/vnd.jupyter.widget-view+json": {
<<<<<<< HEAD
       "model_id": "1b0441d3b04d4487947254815e8f6f49",
=======
<<<<<<< HEAD
       "model_id": "37de4809523c483598e15634ced08bfb",
=======
       "model_id": "6bc9f21937a44ffeb89f9e476b6c3510",
>>>>>>> b9d0f51e7efef54cd152c0b761ba626f490b109d
>>>>>>> 304cc4e277ec8429929218ae4debda06191cc9a7
       "version_major": 2,
       "version_minor": 0
      },
      "text/plain": [
       "interactive(children=(Dropdown(description='stock_index', options=('both', 'omxs', 'nifty'), value='both'), Se…"
      ]
     },
     "metadata": {},
     "output_type": "display_data"
    },
    {
     "data": {
      "text/plain": [
       "<function dataproject.plot_stock_interactive.<locals>.plot_stock_index(stock_index, start_date=Timestamp('2010-01-05 00:00:00'), end_date=Timestamp('2022-12-30 00:00:00'))>"
      ]
     },
     "metadata": {},
     "output_type": "display_data"
    }
   ],
   "source": [
    "import dataproject\n",
    "dataproject.plot_stock_interactive(merge_final)"
   ]
  },
  {
   "attachments": {},
   "cell_type": "markdown",
   "metadata": {},
   "source": [
    "# Conclusion"
   ]
  },
  {
   "attachments": {},
   "cell_type": "markdown",
   "metadata": {},
   "source": [
    "We compare returns of the Swedish index OMXS30 and Indian index NIFTY50 in general to returns during easter and find\n",
    "* Mean returns during easter vary very little from general mean returns, \n",
    "* Mean returns during easter are slightly lower for OMXS30 and slightly higher for NIFTY50, however do not calculate any standard errors and test the statistical significance of estimates.\n",
    "* There is less dispersion during easter, with outliers being more pronounced outside easter (we do realize that this is largely random as - for example - the collapse of the stock market during the Financial crisis or Covid-19 could've happnened during Easter)\n",
    "\n"
   ]
  }
 ],
 "metadata": {
  "kernelspec": {
   "display_name": "base",
   "language": "python",
   "name": "python3"
  },
  "language_info": {
   "codemirror_mode": {
    "name": "ipython",
    "version": 3
   },
   "file_extension": ".py",
   "mimetype": "text/x-python",
   "name": "python",
   "nbconvert_exporter": "python",
   "pygments_lexer": "ipython3",
<<<<<<< HEAD
   "version": "3.9.13"
=======
   "version": "3.9.16"
>>>>>>> b9d0f51e7efef54cd152c0b761ba626f490b109d
  },
  "toc-autonumbering": true,
  "vscode": {
   "interpreter": {
    "hash": "47ef90cdf3004d3f859f1fb202523c65c07ba7c22eefd261b181f4744e2d0403"
   }
  }
 },
 "nbformat": 4,
 "nbformat_minor": 4
}
