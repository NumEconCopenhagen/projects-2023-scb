{
 "cells": [
  {
   "attachments": {},
   "cell_type": "markdown",
   "metadata": {},
   "source": [
    "# Stock returns during easter"
   ]
  },
  {
   "attachments": {},
   "cell_type": "markdown",
   "metadata": {},
   "source": [
    "## Introduction\n",
    "### Emperical strategy\n",
    "We attempt to estimate the causal effects of easter on stockmarket returns using af Difference in Difference (DiD) identification strategy. We estimate the equation:\n",
    "\n",
    "$$\n",
    "\\text{Daily\\_return}_{it}=\\beta_{0}+\\beta_{1}\\times\\text{Chrisitan}_{it}+\\beta_{2}\\text{Easter}_{it}+\\beta_{3}\\text{Easter}_{it}\\times\\text{Christian}_{it}\n",
    "$$\n",
    "\n",
    "Under some assumptions we can we can derive $\\beta_{3}$ to have a causal interpretation, where $\\beta_{3}$ is given by: \n",
    "$$\n",
    "\\beta_{3}=E[\\text{Daily\\_return}_{it}\\vert\\text{Easter=1},\\text{Christ}=1]-E[\\text{Daily\\_return}_{it}\\vert\\text{Easter=0},\\text{Christ}=1]\n",
    "$$\n",
    "\n",
    "The equation can be derived using the observed differences from period $t-1$ to period $t$ in a Christian and non Christian country. \n",
    "The oberved changes in the daily returns of a christian country in the given by $\\Delta\\text{Daily\\_return}_{christ}=E[\\text{Daily\\_return}\\vert\\text{Easter=1},\\text{Christ}=1]-E[\\text{Daily\\_return}_{it-1}\\vert\\text{Easter=0},\\text{Christ}=1]$\n",
    "\n",
    "We can add and subtract the counterfactual scenario of $E[\\text{Daily\\_return}_{it}\\vert\\text{Easter=0},\\text{Christ}=1]$\n",
    "\n",
    "$$\\Delta\\text{Daily\\_return}_{Christ}=E[\\text{Daily\\_return}_{it}\\vert\\text{Easter=1},\\text{Christ}=1]-E[\\text{Daily\\_return}_{it}\\vert\\text{Easter=0},\\text{Christ}=1]$$\n",
    " \n",
    "$$+E[\\text{Daily\\_return}_{it}\\vert\\text{Easter=0},\\text{Christ}=1]-E[\\text{Daily\\_return}_{it-1}\\vert\\text{Easter=0},\\text{Christ}=1]$$\n",
    " \n",
    "If we subtract the observed changes from period t-1 to t for a predominantly non Christian country \n",
    "\n",
    "$$ \\Delta\\text{Daily\\_return}_{Christ}-\\Delta\\text{Daily\\_return}_{nonChrist}=E[\\text{Daily\\_return}_{it}\\vert\\text{Easter=1},\\text{Christ}=1]-E[\\text{Daily\\_return}_{it}\\vert\\text{Easter=0},\\text{Christ}=1] $$\n",
    "$$ +E[\\text{Daily\\_return}_{it}\\vert\\text{Easter=0},\\text{Christ}=1]-E[\\text{Daily\\_return}_{it-1}\\vert\\text{Easter=1},\\text{Christ}=1] $$\n",
    "\n",
    "$$ -E[\\text{Daily\\_return}_{it}\\vert\\text{Easter=0},\\text{Christ}=0]-E[\\text{Daily\\_return}_{it-1}\\vert\\text{Easter=0},\\text{Christ}=0] $$\n",
    "\n",
    "Under the assumption that \n",
    "$$\n",
    "E[\\text{Daily\\_return}_{it}\\vert\\text{Easter=0},\\text{Christ}=1]-E[\\text{Daily\\_return}_{it-1}\\vert\\text{Easter=1},\\text{Christ}=1]=$$\n",
    "$$E[\\text{Daily\\_return}_{it}\\vert\\text{Easter=0},\\text{Christ}=0]-E[\\text{Daily\\_return}_{it-1}\\vert\\text{Easter=0},\\text{Christ}=0]\n",
    "$$\n",
    "\n",
    "which is commonly known as the parralel trend assumption, we have identfied $\\beta_{3}$ and can interpret the results from the regression as the causal effect of Easter on stock returns."
   ]
  },
  {
   "attachments": {},
   "cell_type": "markdown",
   "metadata": {},
   "source": [
    "## Data\n",
    "We use data on the placement of easter from the famous website ugenr.dk. We obtain the data for easter dates by \"scraping\" ugenr.dk for the easter dates. "
   ]
  },
  {
   "cell_type": "markdown",
   "metadata": {},
   "source": [
    "Imports and set magics:"
   ]
  },
  {
   "cell_type": "code",
   "execution_count": 1,
   "metadata": {},
   "outputs": [],
   "source": [
    "import pandas as pd\n",
    "import numpy as np\n",
    "import matplotlib.pyplot as plt\n",
    "import ipywidgets as widgets\n",
    "# from matplotlib_venn import venn2\n",
    "import os\n",
    "import datetime\n",
    "\n",
    "# autoreload modules when code is run\n",
    "%load_ext autoreload\n",
    "%autoreload 2\n",
    "\n",
    "# user written modules\n",
    "import dataproject\n",
    "\n",
    "# customized directory\n",
    "input_dir = os.path.join(os.getcwd(),'data')\n"
   ]
  },
  {
   "cell_type": "markdown",
   "metadata": {},
   "source": [
    "# Read and clean data"
   ]
  },
  {
   "cell_type": "markdown",
   "metadata": {},
   "source": [
    "Import your data, either through an API or manually, and load it. "
   ]
  },
  {
   "attachments": {},
   "cell_type": "markdown",
   "metadata": {},
   "source": [
    "### Easter dates"
   ]
  },
  {
   "attachments": {},
   "cell_type": "markdown",
   "metadata": {},
   "source": [
    "The purpose is to generate a dataset with all the easter week dates from 2000 to 2023 <br>\n",
    "To do so, we scrape data from ugenr.dk <br>\n",
    "[This](https://ugenr.dk/2023/påske) is an example of how the webpage would look for 2023."
   ]
  },
  {
   "cell_type": "code",
   "execution_count": 2,
   "metadata": {},
   "outputs": [
    {
     "data": {
      "text/html": [
       "<div>\n",
       "<style scoped>\n",
       "    .dataframe tbody tr th:only-of-type {\n",
       "        vertical-align: middle;\n",
       "    }\n",
       "\n",
       "    .dataframe tbody tr th {\n",
       "        vertical-align: top;\n",
       "    }\n",
       "\n",
       "    .dataframe thead th {\n",
       "        text-align: right;\n",
       "    }\n",
       "</style>\n",
       "<table border=\"1\" class=\"dataframe\">\n",
       "  <thead>\n",
       "    <tr style=\"text-align: right;\">\n",
       "      <th></th>\n",
       "      <th>year</th>\n",
       "      <th>month</th>\n",
       "      <th>start_date</th>\n",
       "      <th>end_date</th>\n",
       "      <th>uge</th>\n",
       "      <th>dato</th>\n",
       "    </tr>\n",
       "  </thead>\n",
       "  <tbody>\n",
       "    <tr>\n",
       "      <th>0</th>\n",
       "      <td>2000</td>\n",
       "      <td>april</td>\n",
       "      <td>17</td>\n",
       "      <td>23</td>\n",
       "      <td>uge 16</td>\n",
       "      <td>mandag 17. – søndag 23. april 2000</td>\n",
       "    </tr>\n",
       "    <tr>\n",
       "      <th>1</th>\n",
       "      <td>2001</td>\n",
       "      <td>april</td>\n",
       "      <td>9</td>\n",
       "      <td>15</td>\n",
       "      <td>uge 15</td>\n",
       "      <td>mandag 9. – søndag 15. april 2001</td>\n",
       "    </tr>\n",
       "    <tr>\n",
       "      <th>2</th>\n",
       "      <td>2002</td>\n",
       "      <td>marts</td>\n",
       "      <td>25</td>\n",
       "      <td>31</td>\n",
       "      <td>uge 13</td>\n",
       "      <td>mandag 25. – søndag 31. marts 2002</td>\n",
       "    </tr>\n",
       "    <tr>\n",
       "      <th>3</th>\n",
       "      <td>2003</td>\n",
       "      <td>april</td>\n",
       "      <td>14</td>\n",
       "      <td>20</td>\n",
       "      <td>uge 16</td>\n",
       "      <td>mandag 14. – søndag 20. april 2003</td>\n",
       "    </tr>\n",
       "    <tr>\n",
       "      <th>4</th>\n",
       "      <td>2004</td>\n",
       "      <td>april</td>\n",
       "      <td>5</td>\n",
       "      <td>11</td>\n",
       "      <td>uge 15</td>\n",
       "      <td>mandag 5. – søndag 11. april 2004</td>\n",
       "    </tr>\n",
       "    <tr>\n",
       "      <th>5</th>\n",
       "      <td>2005</td>\n",
       "      <td>marts</td>\n",
       "      <td>21</td>\n",
       "      <td>27</td>\n",
       "      <td>uge 12</td>\n",
       "      <td>mandag 21. – søndag 27. marts 2005</td>\n",
       "    </tr>\n",
       "    <tr>\n",
       "      <th>6</th>\n",
       "      <td>2006</td>\n",
       "      <td>april</td>\n",
       "      <td>10</td>\n",
       "      <td>16</td>\n",
       "      <td>uge 15</td>\n",
       "      <td>mandag 10. – søndag 16. april 2006</td>\n",
       "    </tr>\n",
       "    <tr>\n",
       "      <th>7</th>\n",
       "      <td>2007</td>\n",
       "      <td>april</td>\n",
       "      <td>2</td>\n",
       "      <td>8</td>\n",
       "      <td>uge 14</td>\n",
       "      <td>mandag 2. – søndag 8. april 2007</td>\n",
       "    </tr>\n",
       "    <tr>\n",
       "      <th>8</th>\n",
       "      <td>2008</td>\n",
       "      <td>marts</td>\n",
       "      <td>17</td>\n",
       "      <td>23</td>\n",
       "      <td>uge 12</td>\n",
       "      <td>mandag 17. – søndag 23. marts 2008</td>\n",
       "    </tr>\n",
       "    <tr>\n",
       "      <th>9</th>\n",
       "      <td>2009</td>\n",
       "      <td>april</td>\n",
       "      <td>6</td>\n",
       "      <td>12</td>\n",
       "      <td>uge 15</td>\n",
       "      <td>mandag 6. – søndag 12. april 2009</td>\n",
       "    </tr>\n",
       "    <tr>\n",
       "      <th>10</th>\n",
       "      <td>2010</td>\n",
       "      <td>april</td>\n",
       "      <td>29</td>\n",
       "      <td>4</td>\n",
       "      <td>uge 13</td>\n",
       "      <td>mandag 29. marts – søndag 4. april 2010</td>\n",
       "    </tr>\n",
       "    <tr>\n",
       "      <th>11</th>\n",
       "      <td>2011</td>\n",
       "      <td>april</td>\n",
       "      <td>18</td>\n",
       "      <td>24</td>\n",
       "      <td>uge 16</td>\n",
       "      <td>mandag 18. – søndag 24. april 2011</td>\n",
       "    </tr>\n",
       "    <tr>\n",
       "      <th>12</th>\n",
       "      <td>2012</td>\n",
       "      <td>april</td>\n",
       "      <td>2</td>\n",
       "      <td>8</td>\n",
       "      <td>uge 14</td>\n",
       "      <td>mandag 2. – søndag 8. april 2012</td>\n",
       "    </tr>\n",
       "    <tr>\n",
       "      <th>13</th>\n",
       "      <td>2013</td>\n",
       "      <td>marts</td>\n",
       "      <td>25</td>\n",
       "      <td>31</td>\n",
       "      <td>uge 13</td>\n",
       "      <td>mandag 25. – søndag 31. marts 2013</td>\n",
       "    </tr>\n",
       "    <tr>\n",
       "      <th>14</th>\n",
       "      <td>2014</td>\n",
       "      <td>april</td>\n",
       "      <td>14</td>\n",
       "      <td>20</td>\n",
       "      <td>uge 16</td>\n",
       "      <td>mandag 14. – søndag 20. april 2014</td>\n",
       "    </tr>\n",
       "    <tr>\n",
       "      <th>15</th>\n",
       "      <td>2015</td>\n",
       "      <td>april</td>\n",
       "      <td>30</td>\n",
       "      <td>5</td>\n",
       "      <td>uge 14</td>\n",
       "      <td>mandag 30. marts – søndag 5. april 2015</td>\n",
       "    </tr>\n",
       "    <tr>\n",
       "      <th>16</th>\n",
       "      <td>2016</td>\n",
       "      <td>marts</td>\n",
       "      <td>21</td>\n",
       "      <td>27</td>\n",
       "      <td>uge 12</td>\n",
       "      <td>mandag 21. – søndag 27. marts 2016</td>\n",
       "    </tr>\n",
       "    <tr>\n",
       "      <th>17</th>\n",
       "      <td>2017</td>\n",
       "      <td>april</td>\n",
       "      <td>10</td>\n",
       "      <td>16</td>\n",
       "      <td>uge 15</td>\n",
       "      <td>mandag 10. – søndag 16. april 2017</td>\n",
       "    </tr>\n",
       "    <tr>\n",
       "      <th>18</th>\n",
       "      <td>2018</td>\n",
       "      <td>april</td>\n",
       "      <td>26</td>\n",
       "      <td>1</td>\n",
       "      <td>uge 13</td>\n",
       "      <td>mandag 26. marts – søndag 1. april 2018</td>\n",
       "    </tr>\n",
       "    <tr>\n",
       "      <th>19</th>\n",
       "      <td>2019</td>\n",
       "      <td>april</td>\n",
       "      <td>15</td>\n",
       "      <td>21</td>\n",
       "      <td>uge 16</td>\n",
       "      <td>mandag 15. – søndag 21. april 2019</td>\n",
       "    </tr>\n",
       "    <tr>\n",
       "      <th>20</th>\n",
       "      <td>2020</td>\n",
       "      <td>april</td>\n",
       "      <td>6</td>\n",
       "      <td>12</td>\n",
       "      <td>uge 15</td>\n",
       "      <td>mandag 6. – søndag 12. april 2020</td>\n",
       "    </tr>\n",
       "    <tr>\n",
       "      <th>21</th>\n",
       "      <td>2021</td>\n",
       "      <td>april</td>\n",
       "      <td>29</td>\n",
       "      <td>4</td>\n",
       "      <td>uge 13</td>\n",
       "      <td>mandag 29. marts – søndag 4. april 2021</td>\n",
       "    </tr>\n",
       "    <tr>\n",
       "      <th>22</th>\n",
       "      <td>2022</td>\n",
       "      <td>april</td>\n",
       "      <td>11</td>\n",
       "      <td>17</td>\n",
       "      <td>uge 15</td>\n",
       "      <td>mandag 11. – søndag 17. april 2022</td>\n",
       "    </tr>\n",
       "  </tbody>\n",
       "</table>\n",
       "</div>"
      ],
      "text/plain": [
       "    year  month start_date end_date     uge  \\\n",
       "0   2000  april         17       23  uge 16   \n",
       "1   2001  april          9       15  uge 15   \n",
       "2   2002  marts         25       31  uge 13   \n",
       "3   2003  april         14       20  uge 16   \n",
       "4   2004  april          5       11  uge 15   \n",
       "5   2005  marts         21       27  uge 12   \n",
       "6   2006  april         10       16  uge 15   \n",
       "7   2007  april          2        8  uge 14   \n",
       "8   2008  marts         17       23  uge 12   \n",
       "9   2009  april          6       12  uge 15   \n",
       "10  2010  april         29        4  uge 13   \n",
       "11  2011  april         18       24  uge 16   \n",
       "12  2012  april          2        8  uge 14   \n",
       "13  2013  marts         25       31  uge 13   \n",
       "14  2014  april         14       20  uge 16   \n",
       "15  2015  april         30        5  uge 14   \n",
       "16  2016  marts         21       27  uge 12   \n",
       "17  2017  april         10       16  uge 15   \n",
       "18  2018  april         26        1  uge 13   \n",
       "19  2019  april         15       21  uge 16   \n",
       "20  2020  april          6       12  uge 15   \n",
       "21  2021  april         29        4  uge 13   \n",
       "22  2022  april         11       17  uge 15   \n",
       "\n",
       "                                       dato  \n",
       "0        mandag 17. – søndag 23. april 2000  \n",
       "1         mandag 9. – søndag 15. april 2001  \n",
       "2        mandag 25. – søndag 31. marts 2002  \n",
       "3        mandag 14. – søndag 20. april 2003  \n",
       "4         mandag 5. – søndag 11. april 2004  \n",
       "5        mandag 21. – søndag 27. marts 2005  \n",
       "6        mandag 10. – søndag 16. april 2006  \n",
       "7          mandag 2. – søndag 8. april 2007  \n",
       "8        mandag 17. – søndag 23. marts 2008  \n",
       "9         mandag 6. – søndag 12. april 2009  \n",
       "10  mandag 29. marts – søndag 4. april 2010  \n",
       "11       mandag 18. – søndag 24. april 2011  \n",
       "12         mandag 2. – søndag 8. april 2012  \n",
       "13       mandag 25. – søndag 31. marts 2013  \n",
       "14       mandag 14. – søndag 20. april 2014  \n",
       "15  mandag 30. marts – søndag 5. april 2015  \n",
       "16       mandag 21. – søndag 27. marts 2016  \n",
       "17       mandag 10. – søndag 16. april 2017  \n",
       "18  mandag 26. marts – søndag 1. april 2018  \n",
       "19       mandag 15. – søndag 21. april 2019  \n",
       "20        mandag 6. – søndag 12. april 2020  \n",
       "21  mandag 29. marts – søndag 4. april 2021  \n",
       "22       mandag 11. – søndag 17. april 2022  "
      ]
     },
     "execution_count": 2,
     "metadata": {},
     "output_type": "execute_result"
    }
   ],
   "source": [
    "# a. import raw data from scrape.\n",
    "ugenr_scrape = pd.read_pickle(os.path.join(input_dir,'paaskedage.pkl')) \n",
    "\n",
    "# b. sort after year\n",
    "ugenr_scrape.sort_values(by='year',inplace=True, ignore_index=True)\n",
    "\n",
    "ugenr_scrape"
   ]
  },
  {
   "attachments": {},
   "cell_type": "markdown",
   "metadata": {},
   "source": [
    "From the **dato**-variable, we can extract the month and when easter started and ended for each year. <br>\n",
    "We want to convert this information to (daily) dates, i.e. 2022-04-11, 2022-04-12, ... <br>\n",
    "\n",
    "We would expect the number of observations to be the number of years times number of days in easter week: <br>\n",
    "$ 23 \\cdot 7 = 161 $"
   ]
  },
  {
   "cell_type": "code",
   "execution_count": 4,
   "metadata": {},
   "outputs": [
    {
     "data": {
      "text/html": [
       "<div>\n",
       "<style scoped>\n",
       "    .dataframe tbody tr th:only-of-type {\n",
       "        vertical-align: middle;\n",
       "    }\n",
       "\n",
       "    .dataframe tbody tr th {\n",
       "        vertical-align: top;\n",
       "    }\n",
       "\n",
       "    .dataframe thead th {\n",
       "        text-align: right;\n",
       "    }\n",
       "</style>\n",
       "<table border=\"1\" class=\"dataframe\">\n",
       "  <thead>\n",
       "    <tr style=\"text-align: right;\">\n",
       "      <th></th>\n",
       "      <th>date</th>\n",
       "      <th>easter_week</th>\n",
       "    </tr>\n",
       "  </thead>\n",
       "  <tbody>\n",
       "    <tr>\n",
       "      <th>0</th>\n",
       "      <td>2000-04-17</td>\n",
       "      <td>1</td>\n",
       "    </tr>\n",
       "    <tr>\n",
       "      <th>1</th>\n",
       "      <td>2000-04-18</td>\n",
       "      <td>1</td>\n",
       "    </tr>\n",
       "    <tr>\n",
       "      <th>2</th>\n",
       "      <td>2000-04-19</td>\n",
       "      <td>1</td>\n",
       "    </tr>\n",
       "    <tr>\n",
       "      <th>3</th>\n",
       "      <td>2000-04-20</td>\n",
       "      <td>1</td>\n",
       "    </tr>\n",
       "    <tr>\n",
       "      <th>4</th>\n",
       "      <td>2000-04-21</td>\n",
       "      <td>1</td>\n",
       "    </tr>\n",
       "    <tr>\n",
       "      <th>...</th>\n",
       "      <td>...</td>\n",
       "      <td>...</td>\n",
       "    </tr>\n",
       "    <tr>\n",
       "      <th>156</th>\n",
       "      <td>2022-04-13</td>\n",
       "      <td>1</td>\n",
       "    </tr>\n",
       "    <tr>\n",
       "      <th>157</th>\n",
       "      <td>2022-04-14</td>\n",
       "      <td>1</td>\n",
       "    </tr>\n",
       "    <tr>\n",
       "      <th>158</th>\n",
       "      <td>2022-04-15</td>\n",
       "      <td>1</td>\n",
       "    </tr>\n",
       "    <tr>\n",
       "      <th>159</th>\n",
       "      <td>2022-04-16</td>\n",
       "      <td>1</td>\n",
       "    </tr>\n",
       "    <tr>\n",
       "      <th>160</th>\n",
       "      <td>2022-04-17</td>\n",
       "      <td>1</td>\n",
       "    </tr>\n",
       "  </tbody>\n",
       "</table>\n",
       "<p>161 rows × 2 columns</p>\n",
       "</div>"
      ],
      "text/plain": [
       "           date  easter_week\n",
       "0    2000-04-17            1\n",
       "1    2000-04-18            1\n",
       "2    2000-04-19            1\n",
       "3    2000-04-20            1\n",
       "4    2000-04-21            1\n",
       "..          ...          ...\n",
       "156  2022-04-13            1\n",
       "157  2022-04-14            1\n",
       "158  2022-04-15            1\n",
       "159  2022-04-16            1\n",
       "160  2022-04-17            1\n",
       "\n",
       "[161 rows x 2 columns]"
      ]
     },
     "execution_count": 4,
     "metadata": {},
     "output_type": "execute_result"
    }
   ],
   "source": [
    "# a. convert months to digits\n",
    "month_dict = {'april' : '4', 'marts' : '5'}\n",
    "ugenr_scrape.replace({\"month\": month_dict}, inplace = True)\n",
    "\n",
    "# b. generate (daily) dates by iterating over rows\n",
    "dates = []\n",
    "for year, month, start in ugenr_scrape[['year', 'month', 'start_date']].itertuples(index=False):\n",
    "    # 1. define first date of easter for given year\n",
    "    first_date = datetime.date(int(year), int(month), int(start))\n",
    "\n",
    "    # 2. generate list of all days in easter week\n",
    "    date_int = [first_date + datetime.timedelta(days=i) for i in range(7)] # eg. [2022-04-11, 2022-04-12, ... ]\n",
    "\n",
    "    # 3. append result to dates\n",
    "    for date in date_int:\n",
    "        dates.append(date)\n",
    "\n",
    "# c. create dataframe and store results\n",
    "df = pd.DataFrame(data = dates, columns = ['date'])\n",
    "df['easter_week'] = 1 # our dummy for merging later\n",
    "# df.to_pickle('./data/dates.pkl')\n",
    "\n",
    "df\n"
   ]
  },
  {
   "cell_type": "markdown",
   "metadata": {},
   "source": [
    "## Explore each data set"
   ]
  },
  {
   "cell_type": "markdown",
   "metadata": {},
   "source": [
    "In order to be able to **explore the raw data**, you may provide **static** and **interactive plots** to show important developments "
   ]
  },
  {
   "attachments": {},
   "cell_type": "markdown",
   "metadata": {},
   "source": [
    "how to plot a series of dates only looking at months [stackoverflow](https://stackoverflow.com/questions/43283586/how-do-i-plot-a-histogram-of-months-with-dates-in-matplotlib)"
   ]
  },
  {
   "cell_type": "code",
   "execution_count": 168,
   "metadata": {},
   "outputs": [
    {
     "data": {
      "text/plain": [
       "dates          object\n",
       "easter_week     int64\n",
       "dtype: object"
      ]
     },
     "execution_count": 168,
     "metadata": {},
     "output_type": "execute_result"
    }
   ],
   "source": [
    "import numpy as np\n",
    "import matplotlib.pyplot as plt\n",
    "import datetime\n",
    "\n",
    "df.dtypes\n",
    "\n",
    "# df['dates'] = df['dates'].mask(df['dates'].dt.year == 2000, \n",
    "#                                 df['dates'] + pd.offsets.DateOffset(year=2000))\n",
    "\n",
    "# dtm = lambda x: int(x[4:6])\n",
    "# months = list(map(dtm, dates))\n",
    "\n",
    "# fig, ax = plt.subplots()\n",
    "# bins = np.arange(1,14)\n",
    "# ax.hist(months, bins = bins, edgecolor=\"k\", align='left')\n",
    "# ax.set_xticks(bins[:-1])\n",
    "# ax.set_xticklabels([datetime.date(1900,i,1).strftime('%b') for i in bins[:-1]] )\n",
    "\n",
    "# plt.show()"
   ]
  },
  {
   "cell_type": "markdown",
   "metadata": {},
   "source": [
    "**Interactive plot** :"
   ]
  },
  {
   "cell_type": "code",
   "execution_count": null,
   "metadata": {},
   "outputs": [],
   "source": [
    "def plot_func():\n",
    "    # Function that operates on data set\n",
    "    pass\n",
    "\n",
    "widgets.interact(plot_func, \n",
    "    # Let the widget interact with data through plot_func()    \n",
    "); \n"
   ]
  },
  {
   "cell_type": "markdown",
   "metadata": {},
   "source": [
    "Explain what you see when moving elements of the interactive plot around. "
   ]
  },
  {
   "cell_type": "markdown",
   "metadata": {},
   "source": [
    "# Merge data sets"
   ]
  },
  {
   "cell_type": "markdown",
   "metadata": {},
   "source": [
    "Now you create combinations of your loaded data sets. Remember the illustration of a (inner) **merge**:"
   ]
  },
  {
   "cell_type": "code",
   "execution_count": null,
   "metadata": {},
   "outputs": [],
   "source": [
    "plt.figure(figsize=(15,7))\n",
    "v = venn2(subsets = (4, 4, 10), set_labels = ('Data X', 'Data Y'))\n",
    "v.get_label_by_id('100').set_text('dropped')\n",
    "v.get_label_by_id('010').set_text('dropped' )\n",
    "v.get_label_by_id('110').set_text('included')\n",
    "plt.show()"
   ]
  },
  {
   "cell_type": "markdown",
   "metadata": {},
   "source": [
    "Here we are dropping elements from both data set X and data set Y. A left join would keep all observations in data X intact and subset only from Y. \n",
    "\n",
    "Make sure that your resulting data sets have the correct number of rows and columns. That is, be clear about which observations are thrown away. \n",
    "\n",
    "**Note:** Don't make Venn diagrams in your own data project. It is just for exposition. "
   ]
  },
  {
   "cell_type": "markdown",
   "metadata": {},
   "source": [
    "# Analysis"
   ]
  },
  {
   "cell_type": "markdown",
   "metadata": {},
   "source": [
    "To get a quick overview of the data, we show some **summary statistics** on a meaningful aggregation. "
   ]
  },
  {
   "cell_type": "markdown",
   "metadata": {},
   "source": [
    "MAKE FURTHER ANALYSIS. EXPLAIN THE CODE BRIEFLY AND SUMMARIZE THE RESULTS."
   ]
  },
  {
   "cell_type": "markdown",
   "metadata": {},
   "source": [
    "# Conclusion"
   ]
  },
  {
   "cell_type": "markdown",
   "metadata": {},
   "source": [
    "ADD CONCISE CONLUSION."
   ]
  }
 ],
 "metadata": {
  "kernelspec": {
   "display_name": "base",
   "language": "python",
   "name": "python3"
  },
  "language_info": {
   "codemirror_mode": {
    "name": "ipython",
    "version": 3
   },
   "file_extension": ".py",
   "mimetype": "text/x-python",
   "name": "python",
   "nbconvert_exporter": "python",
   "pygments_lexer": "ipython3",
   "version": "3.9.13"
  },
  "toc-autonumbering": true,
  "vscode": {
   "interpreter": {
    "hash": "47ef90cdf3004d3f859f1fb202523c65c07ba7c22eefd261b181f4744e2d0403"
   }
  }
 },
 "nbformat": 4,
 "nbformat_minor": 4
}
