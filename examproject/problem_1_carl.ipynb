{
 "cells": [
  {
   "attachments": {},
   "cell_type": "markdown",
   "metadata": {},
   "source": [
    "**Table of contents**<a id='toc0_'></a>    \n",
    "- 1. [Problem 1: Optimal taxation with government consumption](#toc1_)    \n",
    "- 2. [Problem 2: Labor adjustment costs](#toc2_)    \n",
    "- 3. [Problem 3: Global optimizer with refined multi-start](#toc3_)    \n",
    "\n",
    "<!-- vscode-jupyter-toc-config\n",
    "\tnumbering=true\n",
    "\tanchor=true\n",
    "\tflat=false\n",
    "\tminLevel=2\n",
    "\tmaxLevel=6\n",
    "\t/vscode-jupyter-toc-config -->\n",
    "<!-- THIS CELL WILL BE REPLACED ON TOC UPDATE. DO NOT WRITE YOUR TEXT IN THIS CELL -->"
   ]
  },
  {
   "cell_type": "code",
   "execution_count": 12,
   "metadata": {},
   "outputs": [],
   "source": [
    "# write your code here\n",
    "import numpy as np\n",
    "import pandas as pd\n",
    "from copy import copy\n",
    "from types import SimpleNamespace\n",
    "import sympy as sm\n",
    "from scipy import optimize\n",
    "import matplotlib.pyplot as plt\n",
    "from scipy import interpolate\n"
   ]
  },
  {
   "attachments": {},
   "cell_type": "markdown",
   "metadata": {},
   "source": [
    "## 1. <a id='toc1_'></a>[Problem 1: Optimal taxation with government consumption](#toc0_)"
   ]
  },
  {
   "attachments": {},
   "cell_type": "markdown",
   "metadata": {},
   "source": [
    "\n",
    "Consider a worker choosing hours of labor, $L\\in[0,24]$, to maximize utility: \n",
    "\n",
    "$$\n",
    "\\begin{align*}\n",
    "V(w,\\tau,G)&=\\max_{L\\in[0,24]}\\ln\\left(C^{\\alpha}G^{1-\\alpha}\\right)-\\nu\\frac{L^{2}}{2}\\\\&\\text{s.t.}\\\\&C=\\kappa+(1-\\tau)wL\n",
    "\\end{align*}\n",
    "$$\n",
    "\n",
    "where \n",
    "\n",
    "* $C$ is *private* consumption with weight $\\alpha\\in(0,1)$.\n",
    "* $\\kappa > 0$ is the *free private* consumption component.\n",
    "* $C = (1-\\tau)wL$ is the *costly private* consumption component.\n",
    "* $w > 0 $ is the real wage.\n",
    "* $\\tau \\in (0,1)$ is the labor-income tax rate.\n",
    "* $G > 0 $ is *government* consumption with weight $1-\\alpha$.\n",
    "* $\\nu > 0$ is the disutility of labor scaling factor"
   ]
  },
  {
   "attachments": {},
   "cell_type": "markdown",
   "metadata": {},
   "source": [
    "\n",
    "\n",
    "The baseline parameters are:\n",
    "\n",
    "$$\n",
    "\\begin{align*}\n",
    "\\alpha &= 0.5\\\\\n",
    "\\kappa &= 1.0\\\\\n",
    "\\nu &= \\frac{1}{2\\cdot16^2} \\\\\n",
    "w &= 1.0 \\\\ \n",
    "\\tau &= 0.30 \\\\\n",
    "\\end{align*}\n",
    "$$"
   ]
  },
  {
   "attachments": {},
   "cell_type": "markdown",
   "metadata": {},
   "source": [
    "**Question 1:** Verify that the optimal labor supply choice is $L^{\\star}(\\tilde{w}) =\\frac{-\\kappa+\\sqrt{\\kappa^{2}+4\\frac{\\alpha}{\\nu}\\tilde{w}^2}}{2\\tilde{w}}$, where $\\tilde{w} = (1-\\tau)w$, for $G\\in\\left\\{1.0 , 2.0\\right\\}$."
   ]
  },
  {
   "cell_type": "code",
   "execution_count": 13,
   "metadata": {},
   "outputs": [],
   "source": [
    "bl = SimpleNamespace()\n",
    "\n",
    "bl.alpha = 0.5\n",
    "bl.kappa = 1.0\n",
    "bl.nu = 1/(2*16**2)\n",
    "bl.w = 1\n",
    "bl.tau = 0.3\n",
    "bl.w_tilde = (1-bl.tau)*bl.w"
   ]
  },
  {
   "cell_type": "code",
   "execution_count": 14,
   "metadata": {},
   "outputs": [
    {
     "name": "stdout",
     "output_type": "stream",
     "text": [
      "The estimated solutions for G=1 and G=2, respectively, are [15.301684570312506, 15.301684570312506]\n",
      "The analytical solutions for G=1 and G=2, respectively, are [15.30165022719559, 15.30165022719559]\n"
     ]
    }
   ],
   "source": [
    "import numpy as np\n",
    "import scipy.optimize as optimize\n",
    "\n",
    "# Given list of G values\n",
    "G_list = [1.0, 2.0]\n",
    "\n",
    "# Calculate bl.w_tilde\n",
    "bl.w_tilde = (1 - bl.tau) * bl.w\n",
    "\n",
    "# Define value function\n",
    "def V(L, G, bl):\n",
    "    \"\"\"\n",
    "    Calculates the value function.\n",
    "\n",
    "    Args:\n",
    "        L (float): Labor input.\n",
    "        G (float): G value.\n",
    "        bl: An object with parameters.\n",
    "\n",
    "    Returns:\n",
    "        float: Value function output.\n",
    "    \"\"\"\n",
    "    return np.log(((bl.kappa + (1 - bl.tau) * bl.w * L) ** bl.alpha)\n",
    "                   * G ** (1 - bl.alpha)) - bl.nu * ((L * L) / 2)\n",
    "\n",
    "def L_opt_analytical(bl, G):\n",
    "    \"\"\"\n",
    "    Calculates the analytical solution for optimal labor input.\n",
    "\n",
    "    Args:\n",
    "        bl: An object with parameters.\n",
    "        G (list): List of G values.\n",
    "\n",
    "    Returns:\n",
    "        list: List of optimal labor inputs.\n",
    "    \"\"\"\n",
    "    L_opt = []\n",
    "    for k in G:\n",
    "        L_opt.append((-bl.kappa + np.sqrt(bl.kappa * bl.kappa +\n",
    "                            4 * (bl.alpha / bl.nu)\n",
    "                             * bl.w_tilde * bl.w_tilde)) \n",
    "                     / (2 * bl.w_tilde))\n",
    "    return L_opt\n",
    "\n",
    "def L_opt(G, bl):\n",
    "    \"\"\"\n",
    "    Calculates the numerical solution for optimal labor input.\n",
    "\n",
    "    Args:\n",
    "        G (list): List of G values.\n",
    "        bl: An object with parameters.\n",
    "\n",
    "    Returns:\n",
    "        list: List of optimal labor inputs.\n",
    "    \"\"\"\n",
    "    sol = []\n",
    "    for k in G:\n",
    "        obj = lambda L: -V(L, k, bl)\n",
    "        x0 = 12\n",
    "        sol.append(optimize.minimize(obj, x0, method='Nelder-Mead', bounds=((0, 24),)).x[0])\n",
    "    return sol\n",
    "\n",
    "# Calculate numerical solutions for optimal labor input\n",
    "solutions = L_opt(G_list, bl)\n",
    "solution = list(solutions)\n",
    "\n",
    "# Calculate analytical solutions for optimal labor input\n",
    "solution_analytical = L_opt_analytical(bl, G_list)\n",
    "\n",
    "# Print the results\n",
    "print(f\"The estimated solutions for G=1 and G=2, respectively, are {solution}\")\n",
    "print(f\"The analytical solutions for G=1 and G=2, respectively, are {solution_analytical}\")\n"
   ]
  },
  {
   "attachments": {},
   "cell_type": "markdown",
   "metadata": {},
   "source": [
    "**Question 2:** Illustrate how $L^{\\star}(\\tilde{w})$ depends on $w$."
   ]
  },
  {
   "cell_type": "code",
   "execution_count": 15,
   "metadata": {},
   "outputs": [
    {
     "data": {
      "text/plain": [
       "<matplotlib.legend.Legend at 0x7fc7c32e0250>"
      ]
     },
     "execution_count": 15,
     "metadata": {},
     "output_type": "execute_result"
    },
    {
     "data": {
      "image/png": "[encoded data removed]",
      "text/plain": [
       "<Figure size 640x480 with 1 Axes>"
      ]
     },
     "metadata": {},
     "output_type": "display_data"
    }
   ],
   "source": [
    "# write your code here\n",
    "\n",
    "ws = np.linspace(0,5,200)\n",
    "sols = np.empty((2,200))\n",
    "sol_1 = np.empty(200)\n",
    "sol_2 = np.empty(200)\n",
    "\n",
    "for i,w in enumerate(ws):\n",
    "    bl.w = w\n",
    "    sols = L_opt(G_list, bl)\n",
    "    sols_list = list(sols)\n",
    "    sol_1[i] = sols_list[0]\n",
    "    sol_2[i] = sols_list[1]\n",
    "\n",
    "fig = plt.figure()\n",
    "ax = fig.add_subplot(1,1,1)\n",
    "ax.plot(ws,sol_1, label = '$G=1$')\n",
    "ax.plot(ws,sol_2,'--', label = '$G=2$')\n",
    "\n",
    "ax.set_title(\"Fig 1.\")\n",
    "ax.set_ylabel('L_star')\n",
    "ax.set_xlabel('w')\n",
    "ax.legend()"
   ]
  },
  {
   "attachments": {},
   "cell_type": "markdown",
   "metadata": {},
   "source": [
    "\n",
    "We now consider a government, who chooses $\\tau$ and spend all of the taxes on government consumption so:\n",
    "\n",
    "$$\n",
    "G = \\tau w L^{\\star}((1-\\tau)w)\n",
    "$$\n",
    "\n",
    "**Question 3:** Plot the implied $L$, $G$ and worker utility for a grid of $\\tau$-values.\n"
   ]
  },
  {
   "cell_type": "code",
   "execution_count": 16,
   "metadata": {},
   "outputs": [
    {
     "name": "stderr",
     "output_type": "stream",
     "text": [
      "/var/folders/vd/dwydg2bx2gz3j9x78jm_tx400000gn/T/ipykernel_6320/394242683.py:6: RuntimeWarning: invalid value encountered in scalar divide\n",
      "  return (-bl.kappa + np.sqrt(bl.kappa * bl.kappa +\n"
     ]
    },
    {
     "data": {
      "text/plain": [
       "(0.0, 4.0)"
      ]
     },
     "execution_count": 16,
     "metadata": {},
     "output_type": "execute_result"
    },
    {
     "data": {
      "image/png": "[encoded data removed]",
      "text/plain": [
       "<Figure size 1200x400 with 3 Axes>"
      ]
     },
     "metadata": {},
     "output_type": "display_data"
    }
   ],
   "source": [
    "# write your code here\n",
    "\n",
    "# Define G\n",
    "def G_func(L, bl): return bl.tau*bl.w*L\n",
    "def L_analytical_func(bl): \n",
    "    return (-bl.kappa + np.sqrt(bl.kappa * bl.kappa + \n",
    "                                4 * (bl.alpha / bl.nu) \n",
    "                                * bl.w_tilde * bl.w_tilde))/ (2 * bl.w_tilde)\n",
    "\n",
    "\n",
    "def V_new(L,bl):\n",
    "    return np.log(((bl.kappa \n",
    "                    + (1 - bl.tau) * bl.w * L) ** bl.alpha)\n",
    "                   * (bl.tau*bl.w*L) ** (1 - bl.alpha)) - bl.nu * ((L * L) / 2)\n",
    "\n",
    "\n",
    "def iterate_over_tau(bl, do_print = False):\n",
    "\n",
    "    tau_grid = np.linspace(1e-8,1,200)\n",
    "    L_vec = np.empty(200)\n",
    "    G_vec = np.empty(200)\n",
    "    V_vec = np.empty(200)\n",
    "\n",
    "    for i, tau in enumerate(tau_grid):\n",
    "        bl.tau = tau \n",
    "        bl.w_tilde = (1-bl.tau)*bl.w\n",
    "\n",
    "        L_vec[i] = L_analytical_func(bl)\n",
    "        G_vec[i] = G_func(L_vec[i], bl)\n",
    "        V_vec[i] = V(L_vec[i], G_vec[i], bl) \n",
    "\n",
    "        if do_print == True: \n",
    "            print(f'for tau = {tau}, L = {L_vec[i]}, G = {G_vec[i]} and V = {V_vec[i]}')\n",
    "\n",
    "    return tau_grid, L_vec, G_vec, V_vec \n",
    "\n",
    "tau_grid, L_vec, G_vec, V_vec = iterate_over_tau(bl)    \n",
    "\n",
    "fig = plt.figure(figsize=(12,4))\n",
    "ax = fig.add_subplot(1,3,1)\n",
    "ax.plot(tau_grid, L_vec)\n",
    "ax.set_title('Labour hours')\n",
    "ax.set_xlabel(r'$\\tau$')\n",
    "\n",
    "ax = fig.add_subplot(1,3,2)\n",
    "ax.plot(tau_grid, G_vec)\n",
    "ax.set_title('Government spending')\n",
    "ax.set_xlabel(r'$\\tau$')\n",
    "\n",
    "ax = fig.add_subplot(1,3,3)\n",
    "ax.plot(tau_grid, V_vec)\n",
    "ax.set_title('Worker utility')\n",
    "ax.set_xlabel(r'$\\tau$')\n",
    "ax.set_ylim(0,4)\n"
   ]
  },
  {
   "attachments": {},
   "cell_type": "markdown",
   "metadata": {},
   "source": [
    "**Question 6:** Find the socially optimal tax rate, $\\tau^{\\star}$, maximizing worker utility, while keeping $G = \\tau w L^{\\star}((1-\\tau)w,G)$."
   ]
  },
  {
   "cell_type": "code",
   "execution_count": 17,
   "metadata": {},
   "outputs": [
    {
     "name": "stderr",
     "output_type": "stream",
     "text": [
      "/var/folders/vd/dwydg2bx2gz3j9x78jm_tx400000gn/T/ipykernel_6320/394242683.py:6: RuntimeWarning: invalid value encountered in scalar divide\n",
      "  return (-bl.kappa + np.sqrt(bl.kappa * bl.kappa +\n"
     ]
    },
    {
     "data": {
      "text/plain": [
       "Text(0.5, 1.0, 'Fig 3. Socially optimal tax')"
      ]
     },
     "execution_count": 17,
     "metadata": {},
     "output_type": "execute_result"
    },
    {
     "data": {
      "image/png": "[encoded data removed]",
      "text/plain": [
       "<Figure size 640x480 with 1 Axes>"
      ]
     },
     "metadata": {},
     "output_type": "display_data"
    }
   ],
   "source": [
    "# Identify the maximum V and find the corresponding tau\n",
    "tau_grid, L_vec, G_vec, V_vec = iterate_over_tau(bl)   \n",
    "argmax_index = np.argmax((np.nan_to_num(V_vec)))\n",
    "tau_opt  = tau_grid[argmax_index]\n",
    "\n",
    "# Illustrate in figure\n",
    "fig = plt.figure()\n",
    "ax = fig.add_subplot(1,1,1)\n",
    "ax.plot(tau_grid, V_vec)\n",
    "ax.vlines(tau_opt,0,np.max(np.nan_to_num(V_vec)), linestyles='--', colors='black', label=f'socially optimal taxrate {tau_opt:.4f}')\n",
    "ax.legend()\n",
    "ax.set_ylim(2,4)\n",
    "ax.set_title('Fig 3. Socially optimal tax')"
   ]
  },
  {
   "attachments": {},
   "cell_type": "markdown",
   "metadata": {},
   "source": [
    "A more general preference formulation for the worker is:\n",
    "\n",
    "$$\n",
    "\\begin{align*}\n",
    "\\mathcal{V}(w,\\tau,G)&=\\max_{L\\in[0,24]}\\frac{\\left[ \\left( \\alpha C^{\\frac{\\sigma-1}{\\sigma}}+(1-\\alpha) G^{\\frac{\\sigma-1}{\\sigma}} \\right)^{\\frac{\\sigma}{1-\\sigma} }\\right]^{1-\\rho}-1}{1-\\rho}- \\nu\\frac{L^{1+\\varepsilon}}{1+\\varepsilon},\\,\\,\\,\\varepsilon,\\rho,\\sigma>0,\\,\\,\\,\\rho,\\sigma\\neq1\\\\&\\text{s.t.}\\\\&C=\\kappa+(1-\\tau)wL\n",
    "\\end{align*}    \n",
    "$$\n",
    "\n",
    "Optimal labor supply is now $L^{\\star}(\\tilde{w},G)$."
   ]
  },
  {
   "attachments": {},
   "cell_type": "markdown",
   "metadata": {},
   "source": [
    "Questions 5 and 6 must be answered with the general formulation, and for 2 different set of parameters:\n",
    "\n",
    "- Set 1:  $\\sigma = 1.001$, $\\rho = 1.001$ and $\\varepsilon = 1.0$.\n",
    "- Set 2:  $\\sigma = 1.5$, $\\rho = 1.5$ and $\\varepsilon = 1.0 $."
   ]
  },
  {
   "attachments": {},
   "cell_type": "markdown",
   "metadata": {},
   "source": [
    "**Question 5:** Find the $G$ that solves $G = \\tau w L^{\\star}((1-\\tau)w,G)$ using the $\\tau$ found in question 4.\n",
    "\n",
    "*Hint: First write code that solves the worker problem for given values of $G$ and $\\tau$. Then find the correct G based on this.*"
   ]
  },
  {
   "cell_type": "code",
   "execution_count": 437,
   "metadata": {},
   "outputs": [],
   "source": [
    "bl = SimpleNamespace()\n",
    "bl.alpha = 0.5\n",
    "bl.kappa = 1\n",
    "bl.nu = 1/(2*16**2)\n",
    "bl.w = 1\n",
    "bl.sigma = 1.5\n",
    "bl.rho = 1.5\n",
    "bl.eps = 1\n",
    "bl.w =  1\n",
    "\n",
    "G_list = np.linspace(1e-8, 24, 200)\n",
    "\n",
    "def disutil(bl, L):\n",
    "    return bl.nu*((L**(1+bl.eps))/(1+bl.eps))\n",
    "def C(bl, L):\n",
    "    return bl.kappa + (1-bl.tau)*bl.w*L\n",
    "\n",
    "def util(bl, L, tau, G):\n",
    "    elast = ((bl.sigma-1)/bl.sigma)\n",
    "    elast2 = (bl.sigma/(bl.sigma-1))\n",
    "    return (((bl.alpha*C(bl,L)**elast \n",
    "              + ((1-bl.alpha)*G**elast))**(elast2))**(1-bl.rho)-1)/(1-bl.rho)\n",
    "def vfunc(bl, L, tau, G):\n",
    "    bl.tau = tau \n",
    "    return util(bl, L, tau, G) - disutil(bl, L)\n",
    "\n",
    "def sol_L_given_G(bl, tau_opt, G_list):\n",
    "    Ls = [None]*len(G_list)\n",
    "    Vs = [None]*len(G_list)\n",
    "\n",
    "    for i, G in enumerate(G_list):\n",
    "        obj = lambda L: -vfunc(bl, L, tau_opt, G)\n",
    "        bnds = ((1e-2, 24),)\n",
    "        if i > 0:\n",
    "            x0 = Ls[i-1]\n",
    "        else:\n",
    "            x0 = 0.1\n",
    "        \n",
    "        res = optimize.minimize(obj, x0=x0, method='L-BFGS-B', bounds=bnds)\n",
    "        Ls[i] = res.x\n",
    "        Vs[i] = -res.fun\n",
    "    return Ls, Vs\n",
    "\n",
    "# run solver\n",
    "Ls = sol_L_given_G(bl, tau_opt, G_list) "
   ]
  },
  {
   "cell_type": "code",
   "execution_count": 438,
   "metadata": {},
   "outputs": [],
   "source": [
    "# calculate dif\n",
    "Vslist = list()\n",
    "for tau_opt in np.linspace(0.1, 0.7, 50):\n",
    "    Ls, Vs = sol_L_given_G(bl, tau_opt, G_list) \n",
    "    dif = []\n",
    "    for i,x in zip(Ls, G_list):\n",
    "        dif.append(x-tau_opt*bl.w*i)\n",
    "    dif_grid = interpolate.RegularGridInterpolator([G_list],dif, bounds_error=False, fill_value=None)\n",
    "    Vs_grid = interpolate.RegularGridInterpolator([G_list],Vs, bounds_error=False, fill_value=None)\n",
    "    def root_grid(x):\n",
    "        return dif_grid([x])[0][0]\n",
    "    \n",
    "    initial_guess = 1\n",
    "    solution = optimize.root(root_grid, x0= initial_guess)\n",
    "    Vslist.append(Vs_grid([solution.x]))"
   ]
  },
  {
   "cell_type": "code",
   "execution_count": 441,
   "metadata": {},
   "outputs": [
    {
     "data": {
      "text/plain": [
       "<matplotlib.collections.LineCollection at 0x7fc7ac160be0>"
      ]
     },
     "execution_count": 441,
     "metadata": {},
     "output_type": "execute_result"
    },
    {
     "data": {
      "image/png": "[encoded data removed]",
      "text/plain": [
       "<Figure size 640x480 with 1 Axes>"
      ]
     },
     "metadata": {},
     "output_type": "display_data"
    }
   ],
   "source": [
    "fig, ax = plt.subplots(1,1)\n",
    "taus = np.linspace(0.3,0.7,50)\n",
    "ax.plot(taus, Vslist)\n",
    "ax.vlines(taus[np.argmax(Vslist)], ymin=0.75,ymax=1.08)\n"
   ]
  },
  {
   "cell_type": "code",
   "execution_count": 440,
   "metadata": {},
   "outputs": [
    {
     "name": "stdout",
     "output_type": "stream",
     "text": [
      "namespace(alpha=0.5, kappa=1, nu=0.001953125, w=1, sigma=1.5, rho=1.5, eps=1, tau=0.7)\n"
     ]
    }
   ],
   "source": [
    "print(bl)"
   ]
  },
  {
   "cell_type": "code",
   "execution_count": 401,
   "metadata": {},
   "outputs": [
    {
     "data": {
      "text/plain": [
       "<matplotlib.collections.LineCollection at 0x7fc7a8d7c460>"
      ]
     },
     "execution_count": 401,
     "metadata": {},
     "output_type": "execute_result"
    },
    {
     "data": {
      "image/png": "[encoded data removed]",
      "text/plain": [
       "<Figure size 640x480 with 1 Axes>"
      ]
     },
     "metadata": {},
     "output_type": "display_data"
    }
   ],
   "source": [
    "G_list[np.argmin(np.abs(dif))]\n",
    "fig, ax = plt.subplots(1,1)\n",
    "ax.plot(G_list, dif)\n",
    "ax.hlines(0, xmin=0, xmax=24)\n",
    "ax.vlines(G_list[np.argmin(np.abs(dif))], ymin=-8, ymax=16, linestyles=\"--\")"
   ]
  },
  {
   "cell_type": "code",
   "execution_count": 402,
   "metadata": {},
   "outputs": [
    {
     "name": "stdout",
     "output_type": "stream",
     "text": [
      "6.512562821356783\n"
     ]
    }
   ],
   "source": [
    "print(G_list[np.argmin(np.abs(dif))])"
   ]
  },
  {
   "attachments": {},
   "cell_type": "markdown",
   "metadata": {},
   "source": [
    "**Question 6:** Find the socially optimal tax rate, $\\tau^{\\star}$, maximizing worker utility, while keeping $G = \\tau w L^{\\star}((1-\\tau)w,G)$."
   ]
  },
  {
   "cell_type": "code",
   "execution_count": 403,
   "metadata": {},
   "outputs": [],
   "source": [
    "def Nu_given_tau(bl, L, tau_opt):\n",
    "    bl.tau = tau_opt\n",
    "    G = bl.tau*bl.w*L\n",
    "    C = bl.kappa + (1-bl.tau)*bl.w*L\n",
    "    elast1 = (bl.sigma-1)/bl.sigma\n",
    "    elast2 = bl.sigma/(1-bl.sigma)\n",
    "    disutility = -bl.nu*(L**(1+bl.eps)/(1+bl.eps))\n",
    "    return (((((bl.alpha*C**elast1+(1-bl.alpha)*G**elast1)**elast2)**(1-bl.rho))-1)/(1-bl.rho)) - disutility\n"
   ]
  },
  {
   "cell_type": "code",
   "execution_count": 404,
   "metadata": {},
   "outputs": [],
   "source": [
    "bl = SimpleNamespace()\n",
    "bl.alpha = 0.5\n",
    "bl.kappa = 1\n",
    "bl.nu = 1/(2*16**2)\n",
    "bl.w = 1\n",
    "bl.sigma = 1.5\n",
    "bl.rho = 1.5\n",
    "bl.eps = 1\n",
    "bl.w =  1\n",
    "\n",
    "def Nu_given_tau(bl, L, tau_opt):\n",
    "    bl.tau = tau_opt\n",
    "    G = bl.tau*bl.w*L\n",
    "    C = bl.kappa + (1-bl.tau)*bl.w*L\n",
    "    elast1 = (bl.sigma-1)/bl.sigma\n",
    "    elast2 = bl.sigma/(1-bl.sigma)\n",
    "    disutility = -bl.nu*(L**(1+bl.eps)/(1+bl.eps))\n",
    "    return (((((bl.alpha*C**elast1+(1-bl.alpha)*G**elast1)**elast2)**(1-bl.rho))-1)/(1-bl.rho)) - disutility"
   ]
  },
  {
   "cell_type": "code",
   "execution_count": 405,
   "metadata": {},
   "outputs": [],
   "source": [
    "def disutil(bl, L):\n",
    "    return bl.nu*((L**(1+bl.eps))/(1+bl.eps))\n",
    "def C(bl, L):\n",
    "    return bl.kappa + (1-bl.tau)*bl.w*L\n",
    "def G(bl, L):\n",
    "    return bl.tau*bl.w*L\n",
    "\n",
    "def util(bl, L, tau):\n",
    "    elast = ((bl.sigma-1)/bl.sigma)\n",
    "    elast2 = (bl.sigma/(bl.sigma-1))\n",
    "    return (((bl.alpha*C(bl,L)**elast \n",
    "              + ((1-bl.alpha)*G(bl, L)**elast))**(elast2))**(1-bl.rho)-1)/(1-bl.rho)\n",
    "            \n",
    "def vfunc(bl, L, tau):\n",
    "    bl.tau = tau \n",
    "    return util(bl, L, tau) - disutil(bl, L)"
   ]
  },
  {
   "cell_type": "code",
   "execution_count": 406,
   "metadata": {},
   "outputs": [
    {
     "data": {
      "text/plain": [
       "-3.6568542494923806"
      ]
     },
     "execution_count": 406,
     "metadata": {},
     "output_type": "execute_result"
    }
   ],
   "source": [
    "\n",
    "vfunc(bl, 0, 0)\n"
   ]
  },
  {
   "cell_type": "code",
   "execution_count": 407,
   "metadata": {},
   "outputs": [
    {
     "name": "stdout",
     "output_type": "stream",
     "text": [
      "1\n",
      "2\n"
     ]
    }
   ],
   "source": [
    "print(bl.kappa)\n",
    "print(C(bl, 1))"
   ]
  },
  {
   "cell_type": "code",
   "execution_count": 425,
   "metadata": {},
   "outputs": [],
   "source": [
    "\n",
    "def top_g(bl, x0):\n",
    "    def objective(x):\n",
    "        L, tau = x\n",
    "        return -vfunc(bl, L, tau)\n",
    "    \n",
    "    bnds = ((0, 24), (0, 1))\n",
    "    x0 = x0\n",
    "    res = optimize.minimize(objective, x0=x0, method='L-BFGS-B', bounds=bnds)\n",
    "    return res"
   ]
  },
  {
   "cell_type": "code",
   "execution_count": 426,
   "metadata": {},
   "outputs": [],
   "source": [
    "np.random.seed(1234)\n",
    "x01 = np.random.uniform(0, 24, 100)\n",
    "x02 = np.random.uniform(0,1, 100)"
   ]
  },
  {
   "cell_type": "code",
   "execution_count": 427,
   "metadata": {},
   "outputs": [
    {
     "name": "stderr",
     "output_type": "stream",
     "text": [
      "100%|██████████| 100/100 [00:50<00:00,  1.96it/s]\n"
     ]
    }
   ],
   "source": [
    "Utilities = list()\n",
    "from tqdm import tqdm\n",
    "for i in tqdm(x01):\n",
    "    for x in x02:\n",
    "        x0 = [i, x]\n",
    "        top_dawg = top_g(bl,x0)\n",
    "        Utilities.append([-top_dawg.fun, top_dawg.x[0], top_dawg.x[1]])\n",
    "        \n"
   ]
  },
  {
   "cell_type": "code",
   "execution_count": 428,
   "metadata": {},
   "outputs": [
    {
     "name": "stdout",
     "output_type": "stream",
     "text": [
      "[1.0793015619538975, 13.337569293427315, 0.5374874102664382]\n"
     ]
    }
   ],
   "source": [
    "print(Utilities[np.argmax(Utilities[0])])"
   ]
  },
  {
   "cell_type": "code",
   "execution_count": 421,
   "metadata": {},
   "outputs": [
    {
     "data": {
      "text/plain": [
       "[1.0793015619597557, 13.337544558961199, 0.5374872396986841]"
      ]
     },
     "execution_count": 421,
     "metadata": {},
     "output_type": "execute_result"
    }
   ],
   "source": [
    "Utilities[np.argmax(Utilities[0])]"
   ]
  },
  {
   "cell_type": "code",
   "execution_count": 422,
   "metadata": {},
   "outputs": [
    {
     "data": {
      "text/plain": [
       "0.9111873033053286"
      ]
     },
     "execution_count": 422,
     "metadata": {},
     "output_type": "execute_result"
    }
   ],
   "source": [
    "vfunc(bl, 12, )"
   ]
  },
  {
   "attachments": {},
   "cell_type": "markdown",
   "metadata": {},
   "source": []
  },
  {
   "cell_type": "code",
   "execution_count": null,
   "metadata": {},
   "outputs": [
    {
     "name": "stdout",
     "output_type": "stream",
     "text": [
      "0.5025125677889448\n"
     ]
    },
    {
     "name": "stderr",
     "output_type": "stream",
     "text": [
      "/var/folders/f8/rfv2dg5j1jl2h__f_28lykhm0000gn/T/ipykernel_94871/1329729795.py:6: RuntimeWarning: invalid value encountered in double_scalars\n",
      "  return (-bl.kappa + np.sqrt(bl.kappa * bl.kappa + 4 * (bl.alpha / bl.nu) * bl.w_tilde * bl.w_tilde)) / (2 * bl.w_tilde)\n"
     ]
    },
    {
     "ename": "TypeError",
     "evalue": "objective_function() missing 1 required positional argument: 'bl'",
     "output_type": "error",
     "traceback": [
      "\u001b[0;31m---------------------------------------------------------------------------\u001b[0m\n",
      "\u001b[0;31mTypeError\u001b[0m                                 Traceback (most recent call last)\n",
      "\u001b[0;32m/var/folders/f8/rfv2dg5j1jl2h__f_28lykhm0000gn/T/ipykernel_94871/489675030.py\u001b[0m in \u001b[0;36m<module>\u001b[0;34m\u001b[0m\n",
      "\u001b[1;32m     21\u001b[0m     \u001b[0;32mreturn\u001b[0m \u001b[0;34m-\u001b[0m\u001b[0;34m(\u001b[0m\u001b[0mterm1\u001b[0m \u001b[0;34m/\u001b[0m \u001b[0;34m(\u001b[0m\u001b[0;36m1\u001b[0m \u001b[0;34m-\u001b[0m \u001b[0mbl\u001b[0m\u001b[0;34m.\u001b[0m\u001b[0mrho\u001b[0m\u001b[0;34m)\u001b[0m \u001b[0;34m-\u001b[0m \u001b[0mterm2\u001b[0m\u001b[0;34m)\u001b[0m\u001b[0;34m\u001b[0m\u001b[0;34m\u001b[0m\u001b[0m\n",
      "\u001b[1;32m     22\u001b[0m \u001b[0;34m\u001b[0m\u001b[0m\n",
      "\u001b[0;32m---> 23\u001b[0;31m \u001b[0mobjective_function\u001b[0m\u001b[0;34m(\u001b[0m\u001b[0mbl\u001b[0m\u001b[0;34m)\u001b[0m\u001b[0;34m\u001b[0m\u001b[0;34m\u001b[0m\u001b[0m\n",
      "\u001b[0m\u001b[1;32m     24\u001b[0m \u001b[0;34m\u001b[0m\u001b[0m\n",
      "\u001b[1;32m     25\u001b[0m \u001b[0;32mdef\u001b[0m \u001b[0msolve_worker_problem\u001b[0m\u001b[0;34m(\u001b[0m\u001b[0mbl\u001b[0m\u001b[0;34m)\u001b[0m\u001b[0;34m:\u001b[0m\u001b[0;34m\u001b[0m\u001b[0;34m\u001b[0m\u001b[0m\n",
      "\n",
      "\u001b[0;31mTypeError\u001b[0m: objective_function() missing 1 required positional argument: 'bl'"
     ]
    }
   ],
   "source": [
    "bl.sigma = 1.001\n",
    "bl.rho = 1.001\n",
    "bl.eps = 1\n",
    "tau_grid, L_vec, G_vec, V_vec = iterate_over_tau(bl)   \n",
    "argmax_index = np.argmax((np.nan_to_num(V_vec)))\n",
    "tau_opt  = tau_grid[argmax_index]\n",
    "\n",
    "print(tau_opt)\n",
    "\n",
    "def calculate_C(bl, L):\n",
    "    return bl.kappa + (1 - bl.tau) * bl.w * L\n",
    "\n",
    "def calculate_G(bl, L):\n",
    "    return bl.tau*bl.w*L\n",
    "\n",
    "def objective_function(L, bl):\n",
    "    C = calculate_C(bl, L)\n",
    "    G = calculate_G(bl,L)\n",
    "    term1 = ((bl.alpha * C**((bl.sigma - 1) / bl.sigma) \n",
    "              + (1 - bl.alpha) * G**((bl.sigma -1) \n",
    "                                     / bl.sigma))**(bl.sigma / \n",
    "                                    (bl.sigma-1)))**(1 - bl.rho) - 1\n",
    "    term2 = bl.nu * L**(1 + bl.eps) / (1 + bl.eps)\n",
    "    return -(term1 / (1 - bl.rho) - term2)\n",
    "\n",
    "objective_function(bl)\n",
    "\n",
    "def solve_worker_problem(bl):\n",
    "    # Define the bounds for L\n",
    "    L_bounds = (1e-8, 24.0)\n",
    "\n",
    "    # Set the initial guess for L\n",
    "    x0 = 1.0\n",
    "    constraints = {fi}\n",
    "\n",
    "    # Define the optimization problem\n",
    "    result = optimize.minimize(objective_function, x0, method = 'Nelder-Mead', args=(bl), bounds=([L_bounds]))\n",
    "\n",
    "    # Return the optimal value of L\n",
    "    return result\n",
    "\n",
    "\n",
    "print(solve_worker_problem(bl))\n",
    "\n",
    "Gs = np.linspace(0e-16,100,2000)\n",
    "Ls = np.empty(2000)\n",
    "diffs = np.empty(2000)\n"
   ]
  },
  {
   "cell_type": "code",
   "execution_count": null,
   "metadata": {},
   "outputs": [],
   "source": [
    "# tau_grid, L_vec, G_vec, V_vec = iterate_over_tau(bl)   \n",
    "# argmax_index = np.argmax((np.nan_to_num(V_vec)))\n",
    "# tau_opt  = tau_grid[argmax_index]\n",
    "\n",
    "# def find_opt_G(bl, tau=tau_opt):\n",
    "#     tol = 0\n",
    "#     bl.tau = tau\n",
    "#     bl.w_tilde = (1 - bl.tau) * bl.w\n",
    "\n",
    "#     Gs = np.linspace(0e-16, 100, 2000)\n",
    "#     Ls = np.empty(2000)\n",
    "#     diffs = np.empty(2000)\n",
    "\n",
    "#     min_diff_index = 0  # Index of the minimum absolute difference\n",
    "#     min_diff = float('inf')  # Initialize the minimum difference with infinity\n",
    "\n",
    "#     for i, g in enumerate(Gs):\n",
    "#         L_res = solve_worker_problem(bl, G=g)\n",
    "#         Ls[i] = L_res\n",
    "#         diff = g - bl.tau * bl.w * L_res\n",
    "#         diffs[i] = diff\n",
    "\n",
    "#         # Check if the current difference is smaller than the minimum difference\n",
    "#         if abs(diff) < abs(min_diff):\n",
    "#             min_diff = diff\n",
    "#             min_diff_index = i\n",
    "\n",
    "#     opt_G = Gs[min_diff_index]\n",
    "#     opt_L = Ls[min_diff_index]\n",
    "\n",
    "#     return opt_G, opt_L, min_diff\n",
    "\n",
    "# def find_opt_G(bl, tau=tau_opt):\n",
    "#     tol = 1e-8\n",
    "#     bl.tau = tau\n",
    "#     bl.w_tilde = (1-bl.tau)*bl.w\n",
    "\n",
    "#     Gs = np.linspace(0e-16,100,2000)\n",
    "#     Ls = np.empty(2000)\n",
    "#     diffs = np.empty(2000)\n",
    "\n",
    "#     min_diff_index = 0  # Index of the minimum absolute difference\n",
    "#     min_diff = float('inf')  # Initialize the minimum difference with infinity\n",
    "        \n",
    "#     for i,g in enumerate(Gs):\n",
    "#             L_res = solve_worker_problem(bl, G=g)\n",
    "#             Ls[i] = L_res\n",
    "#             diff = g - bl.tau * bl.w * L_res\n",
    "#             print(diff)\n",
    "#             diffs[i] = diff\n",
    "\n",
    "#         # Check if the current difference is smaller than the minimum difference\n",
    "#             if abs(diff) < abs(min_diff):\n",
    "#                 min_diff = diff\n",
    "#                 min_diff_index = i\n",
    "\n",
    "#     opt_G = Gs[min_diff_index]\n",
    "#     opt_L = Ls[min_diff_index]\n",
    "\n",
    "#     return opt_G, opt_L, min_diff"
   ]
  },
  {
   "attachments": {},
   "cell_type": "markdown",
   "metadata": {},
   "source": [
    "**Question 6:** Find the socially optimal tax rate, $\\tau^{\\star}$, maximizing worker utility, while keeping $G = \\tau w L^{\\star}((1-\\tau)w,G)$."
   ]
  },
  {
   "cell_type": "code",
   "execution_count": null,
   "metadata": {},
   "outputs": [],
   "source": [
    "# write your code here  "
   ]
  }
 ],
 "metadata": {
  "kernelspec": {
   "display_name": "numecon",
   "language": "python",
   "name": "python3"
  },
  "language_info": {
   "codemirror_mode": {
    "name": "ipython",
    "version": 3
   },
   "file_extension": ".py",
   "mimetype": "text/x-python",
   "name": "python",
   "nbconvert_exporter": "python",
   "pygments_lexer": "ipython3",
   "version": "3.9.16"
  },
  "orig_nbformat": 4
 },
 "nbformat": 4,
 "nbformat_minor": 2
}
