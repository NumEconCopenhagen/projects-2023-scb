{
 "cells": [
  {
   "attachments": {},
   "cell_type": "markdown",
   "metadata": {},
   "source": [
    "# Question 1\n",
    "\n",
    "##### Illustrate how the ratio HF/HM changes when varying alpha and sigma\n",
    "\n"
   ]
  },
  {
   "cell_type": "code",
   "execution_count": 177,
   "metadata": {},
   "outputs": [
    {
     "name": "stdout",
     "output_type": "stream",
     "text": [
      "The autoreload extension is already loaded. To reload it, use:\n",
      "  %reload_ext autoreload\n"
     ]
    },
    {
     "name": "stderr",
     "output_type": "stream",
     "text": [
      "/Users/felixjohannespettersson/Documents/projects-2023-scb/inauguralproject/HouseholdSpecializationModel.py:77: RuntimeWarning: divide by zero encountered in reciprocal\n",
      "  return H\n",
      "/Users/felixjohannespettersson/Documents/projects-2023-scb/inauguralproject/HouseholdSpecializationModel.py:77: RuntimeWarning: invalid value encountered in reciprocal\n",
      "  return H\n",
      "/Users/felixjohannespettersson/Documents/projects-2023-scb/inauguralproject/HouseholdSpecializationModel.py:96: RuntimeWarning: invalid value encountered in reciprocal\n",
      "  \n"
     ]
    },
    {
     "name": "stdout",
     "output_type": "stream",
     "text": [
      "for alpha = 0.25 and sigma = 0.5, HF/HM = 0.5454545454545454\n",
      "for alpha = 0.25 and sigma = 1.0, HF/HM = 0.3076923076923077\n",
      "for alpha = 0.25 and sigma = 1.5, HF/HM = 0.21428571428571427\n",
      "for alpha = 0.5 and sigma = 0.5, HF/HM = 1.0\n",
      "for alpha = 0.5 and sigma = 1.0, HF/HM = 1.0\n",
      "for alpha = 0.5 and sigma = 1.5, HF/HM = 1.0\n",
      "for alpha = 0.75 and sigma = 0.5, HF/HM = 1.8333333333333333\n",
      "for alpha = 0.75 and sigma = 1.0, HF/HM = 3.25\n",
      "for alpha = 0.75 and sigma = 1.5, HF/HM = 4.666666666666667\n"
     ]
    }
   ],
   "source": [
    "%load_ext autoreload\n",
    "%autoreload 2\n",
    "\n",
    "import HouseholdSpecializationModel as HSM\n",
    "import numpy as np  \n",
    "import matplotlib.pyplot as plt\n",
    "\n",
    "#Call Class from code as HSMC\n",
    "HSMC = HSM.HouseholdSpecializationModelClass()\n",
    "\n",
    "# List of parameters\n",
    "alpha_list = [0.25,0.5,0.75]\n",
    "sigma_list = [0.5,1.0,1.5]\n",
    "\n",
    "#Create empty list for solutions\n",
    "solution_list = []\n",
    "\n",
    "#For loop to solve problem for list of parameters\n",
    "for alpha in alpha_list:\n",
    "    \n",
    "    HSMC.par.alpha = alpha \n",
    "\n",
    "    for sigma in sigma_list:\n",
    "\n",
    "        # Set sigma\n",
    "        HSMC.par.sigma = sigma\n",
    "    \n",
    "        # Solve for given alpha and sigma\n",
    "        solution = HSMC.solve_discrete()\n",
    "\n",
    "        # Unpack solution\n",
    "        HF = solution.HF\n",
    "        HM = solution.HM\n",
    "\n",
    "        # Append list\n",
    "        solution_list.append(HF/HM)\n",
    "\n",
    "        # Print results\n",
    "        print(f'for alpha = {alpha} and sigma = {sigma}, HF/HM = {HF/HM}')\n",
    "\n",
    "\n",
    "\n",
    "       \n",
    "    \n",
    "    \n",
    "\n",
    "\n",
    "        \n",
    "\n",
    "\n",
    "\n",
    "\n",
    "    \n"
   ]
  },
  {
   "attachments": {},
   "cell_type": "markdown",
   "metadata": {},
   "source": [
    "##### Plot of the results\n"
   ]
  },
  {
   "cell_type": "code",
   "execution_count": 176,
   "metadata": {},
   "outputs": [
    {
     "data": {
      "text/plain": [
       "<matplotlib.legend.Legend at 0x7f9f71c40d60>"
      ]
     },
     "execution_count": 176,
     "metadata": {},
     "output_type": "execute_result"
    },
    {
     "data": {
      "image/png": "[encoded data removed]",
      "text/plain": [
       "<Figure size 640x480 with 1 Axes>"
      ]
     },
     "metadata": {},
     "output_type": "display_data"
    }
   ],
   "source": [
    "# Split solutions by value of alpha\n",
    "alpha_025 = solution_list[0:3]\n",
    "alpha_05 = solution_list[3:6]\n",
    "alpha_075 = solution_list[6:9]\n",
    "\n",
    "# Plot figure\n",
    "fig = plt.figure()\n",
    "ax = fig.add_subplot(1,1,1)\n",
    "ax.scatter(sigma_list,alpha_025, label = '$α = 0.25$')\n",
    "ax.scatter(sigma_list, alpha_05, label = '$ α= 0.5$')\n",
    "ax.scatter(sigma_list, alpha_075, label = '$α = 0.75$') \n",
    "ax.set_xlabel('Value of $\\sigma$')\n",
    "ax.set_ylabel('$H_F/H_M$')\n",
    "ax.legend(loc='upper left')"
   ]
  },
  {
   "cell_type": "code",
   "execution_count": null,
   "metadata": {},
   "outputs": [],
   "source": []
  }
 ],
 "metadata": {
  "language_info": {
   "name": "python"
  },
  "orig_nbformat": 4
 },
 "nbformat": 4,
 "nbformat_minor": 2
}
