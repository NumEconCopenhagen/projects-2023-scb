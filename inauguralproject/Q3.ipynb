{
 "cells": [
  {
   "cell_type": "code",
   "execution_count": 52,
   "metadata": {},
   "outputs": [
    {
     "name": "stdout",
     "output_type": "stream",
     "text": [
      "The autoreload extension is already loaded. To reload it, use:\n",
      "  %reload_ext autoreload\n"
     ]
    }
   ],
   "source": [
    "%load_ext autoreload\n",
    "%autoreload 2\n",
    "\n",
    "from HSM_model_copy import HouseholdSpecializationModelClass\n",
    "import numpy as np\n",
    "import pandas as pd\n",
    "from tqdm import tqdm\n",
    "from matplotlib import pyplot as plt\n",
    "from scipy import optimize\n"
   ]
  },
  {
   "attachments": {},
   "cell_type": "markdown",
   "metadata": {},
   "source": [
    "**Question 1**"
   ]
  },
  {
   "cell_type": "code",
   "execution_count": 53,
   "metadata": {},
   "outputs": [
    {
     "name": "stdout",
     "output_type": "stream",
     "text": [
      "namespace(rho=2.0, nu=0.001, epsilon=1.0, omega=0.5, alpha=0.5, sigma=1.0, wM=1.0, wF=1.0, wF_vec=array([0.8, 0.9, 1. , 1.1, 1.2]), beta0_target=0.4, beta1_target=-0.1)\n"
     ]
    }
   ],
   "source": [
    "model = HouseholdSpecializationModelClass()\n",
    "\n",
    "print(model.par)"
   ]
  },
  {
   "cell_type": "code",
   "execution_count": null,
   "metadata": {},
   "outputs": [],
   "source": [
    "q1_sol = {}\n",
    "for i in ['HF', 'HM', 'alpha', 'sigma']:\n",
    "    q1_sol[i] = []\n",
    "\n",
    "for model.par.alpha in [0.25, 0.50, 0.75]:\n",
    "    for model.par.sigma in [0.5, 1.0, 1.5]:\n",
    "        opt = model.solve_discrete()\n",
    "        q1_sol['HF'].append(opt.HF)\n",
    "        q1_sol['HM'].append(opt.HM)\n",
    "        q1_sol['alpha'].append(model.par.alpha)\n",
    "        q1_sol['sigma'].append(model.par.sigma)\n"
   ]
  },
  {
   "cell_type": "code",
   "execution_count": null,
   "metadata": {},
   "outputs": [],
   "source": [
    "q1_sol = pd.DataFrame(q1_sol)\n",
    "q1_sol['HF/HM'] = q1_sol['HF']/q1_sol['HM']\n",
    "q1_sol"
   ]
  },
  {
   "attachments": {},
   "cell_type": "markdown",
   "metadata": {},
   "source": [
    "**Plot Q1 solutions**"
   ]
  },
  {
   "cell_type": "code",
   "execution_count": null,
   "metadata": {},
   "outputs": [],
   "source": [
    "%matplotlib inline\n",
    "fig = plt.figure(constrained_layout=True)\n",
    "ax = fig.add_subplot(1,1,1,projection='3d') # create a 3d type axis \n",
    "x = q1_sol['alpha']\n",
    "y = q1_sol['sigma']\n",
    "hf_hm = q1_sol['HF/HM']\n",
    "ax.set_xlabel('alpha')\n",
    "ax.set_ylabel('sigma')\n",
    "ax.set_zlabel('HF/HM')\n",
    "ax.invert_xaxis()\n",
    "ax.plot_trisurf(x,y, hf_hm, cmap='PiYG'); # create surface plot in the axis\n",
    "# note: fig.add_subplot(a,b,c) creates the c'th subplot in a grid of a times b plots"
   ]
  },
  {
   "attachments": {},
   "cell_type": "markdown",
   "metadata": {},
   "source": [
    "**Question 2**\n"
   ]
  },
  {
   "cell_type": "code",
   "execution_count": null,
   "metadata": {},
   "outputs": [],
   "source": [
    "discrete_solution = model.solve_wF_vec(discrete=True)\n",
    "df_discrete = {}\n",
    "df_discrete['HF'] = discrete_solution.HF_vec\n",
    "df_discrete['HM'] = discrete_solution.HM_vec\n",
    "df_discrete['LF'] = discrete_solution.LF_vec\n",
    "df_discrete['LM'] = discrete_solution.LM_vec\n",
    "\n",
    "\n",
    "df_discrete = pd.DataFrame(df_discrete)\n",
    "df_discrete['utility'] = model.calc_utility(df_discrete.LM, df_discrete.HM, df_discrete.LF, df_discrete.HF)\n",
    "df_discrete['logHF/logHM'] = np.log(df_discrete['HF']) - np.log(df_discrete['HM'])\n",
    "df_discrete['WF'] =  model.par.wF_vec.tolist()\n",
    "df_discrete['WM'] = model.par.wM\n",
    "df_discrete['logWF/logWM'] = np.log(df_discrete['WF']) - np.log(df_discrete['WM'])\n",
    "\n",
    "df_discrete\n"
   ]
  },
  {
   "cell_type": "code",
   "execution_count": null,
   "metadata": {},
   "outputs": [],
   "source": [
    "x = df_discrete['logWF/logWM']\n",
    "y = df_discrete['logHF/logHM']\n",
    "\n",
    "fig = plt.figure(constrained_layout=True)\n",
    "\n",
    "ax = fig.add_subplot(1,1,1)\n",
    "ax.grid()\n",
    "ax.set_ylabel('$\\log (HF)/\\log (HM)$')\n",
    "ax.set_xlabel('$\\log (WF)/\\log (WM)$')\n",
    "ax.scatter(x, y)"
   ]
  },
  {
   "attachments": {},
   "cell_type": "markdown",
   "metadata": {},
   "source": [
    "**Question 3**"
   ]
  },
  {
   "cell_type": "code",
   "execution_count": null,
   "metadata": {},
   "outputs": [],
   "source": [
    "solutions = {}\n",
    "for i in ['HF', 'HM', 'LF', 'LM', 'WF', 'WM', 'Utility']:\n",
    "    solutions[i] = []\n",
    "\n",
    "\n",
    "for i in [0.8, 0.9, 1.0, 1.1, 1.2]:\n",
    "    model.par.wF = i\n",
    "    solution = model.solve()\n",
    "    solutions['HF'].append(solution.HF)\n",
    "    solutions['LF'].append(solution.LF)\n",
    "    solutions['HM'].append(solution.HM)\n",
    "    solutions['LM'].append(solution.LM)\n",
    "    solutions['WF'].append(model.par.wF)\n",
    "    solutions['WM'].append(model.par.wM)\n",
    "    solutions['Utility'].append(solution.U)\n",
    "    \n",
    "#\n",
    "df = pd.DataFrame(solutions)\n"
   ]
  },
  {
   "cell_type": "markdown",
   "metadata": {},
   "source": [
    "***Solving the problem using the function with the defined wf_VEC***"
   ]
  },
  {
   "cell_type": "code",
   "execution_count": null,
   "metadata": {},
   "outputs": [],
   "source": [
    "### solve model using WF_vec gives us the same result as running the loop above \n",
    "contionoussolution = model.solve_wF_vec(discrete=False)\n",
    "df1 = {}\n",
    "df1['HF'] = contionoussolution.HF_vec\n",
    "df1['HM'] = contionoussolution.HM_vec\n",
    "df1['LF'] = contionoussolution.LF_vec\n",
    "df1['LM'] = contionoussolution.LM_vec\n",
    "\n",
    "df1 = pd.DataFrame(df1)\n",
    "df1['utility'] = model.calc_utility(df1.LM, df1.HM, df1.LF, df1.HF)\n",
    "\n",
    "df1\n"
   ]
  },
  {
   "cell_type": "code",
   "execution_count": null,
   "metadata": {},
   "outputs": [],
   "source": [
    "df['logHF/logHM'] = np.log(df['HF']) - np.log(df['HM'])\n",
    "\n",
    "df['logWF/logWM'] = np.log(df['WF']) - np.log(df['WM'])\n",
    "\n",
    "df['alternative_utility'] = model.calc_utility(df.LM, df.HM, df.LF, df.HF)\n",
    "\n",
    "df"
   ]
  },
  {
   "attachments": {},
   "cell_type": "markdown",
   "metadata": {},
   "source": [
    "**Den her graf bliver flot hvis man laver den med nelder-mead i stedet for slsqp**"
   ]
  },
  {
   "cell_type": "code",
   "execution_count": null,
   "metadata": {},
   "outputs": [],
   "source": [
    "from matplotlib import pyplot as plt\n",
    "fig = plt.figure()\n",
    "ax = fig.add_subplot(1,1,1)\n",
    "ax.scatter(df['logWF/logWM'], df['logHF/logHM'])\n",
    "ax.grid()\n",
    "ax.set_ylabel('$\\log (HF)/\\log (HM)$')\n",
    "ax.set_xlabel('$\\log (WF)/\\log (WM)$')\n",
    "ax.plot()"
   ]
  },
  {
   "cell_type": "code",
   "execution_count": null,
   "metadata": {},
   "outputs": [],
   "source": [
    "print(model.solve())"
   ]
  },
  {
   "attachments": {},
   "cell_type": "markdown",
   "metadata": {},
   "source": [
    "**Run regression**\n",
    "\n",
    "$\\log \\frac{H_F}{H_M} = \\beta_0 + \\beta_1 \\log \\frac{w_F}{w_M} $"
   ]
  },
  {
   "cell_type": "code",
   "execution_count": null,
   "metadata": {},
   "outputs": [],
   "source": [
    "model.run_regression()\n",
    "print(f'beta0 = {model.sol.beta0:.3} and beta_1 = {model.sol.beta1:.3}')"
   ]
  },
  {
   "attachments": {},
   "cell_type": "markdown",
   "metadata": {},
   "source": [
    "**Estimate $\\sigma$ and $\\alpha$ such that $(\\beta_{0}-\\hat \\beta_0)^2+(\\beta_1-\\hat \\beta_1)^2$ is minimized, where we assume that $\\beta_0=0.4$ and $\\beta_1 \\approx -0.1$**\n",
    "\n"
   ]
  },
  {
   "cell_type": "code",
   "execution_count": null,
   "metadata": {},
   "outputs": [],
   "source": [
    "\n",
    "beta0 = 0.4\n",
    "beta1 = -0.1\n",
    "def lossfunction(beta0hat, beta1hat, beta0=0.4, beta1=-0.1):\n",
    "    return (beta0-beta0hat)**2 + (beta1-beta1hat)**2 \n",
    "\n",
    "winners = {}\n",
    "winners['alpha'] = []\n",
    "winners['sigma'] = []\n",
    "winners['loss'] = []\n",
    "\n",
    "for model.par.alpha in tqdm(np.linspace(0,1, 50)):\n",
    "    for model.par.sigma in np.linspace(0, 3, 50):\n",
    "            sol = model.solve_wF_vec()\n",
    "            model.run_regression()\n",
    "            beta0hat = model.sol.beta0\n",
    "            beta1hat = model.sol.beta1\n",
    "            #print(f'beta0 = {model.sol.beta0:.3} and beta_1 = {model.sol.beta1:.3}')\n",
    "            loss = lossfunction(beta0hat, beta1hat)\n",
    "            if -0.4 <= loss <= 0.4:\n",
    "                 winners['alpha'].append(model.par.alpha)\n",
    "                 winners['sigma'].append(model.par.sigma)\n",
    "                 winners['loss'].append(loss)\n",
    "\n"
   ]
  },
  {
   "cell_type": "code",
   "execution_count": null,
   "metadata": {},
   "outputs": [],
   "source": [
    "winner_df = pd.DataFrame(winners)\n",
    "winner_df.sort_values(by='loss')"
   ]
  },
  {
   "attachments": {},
   "cell_type": "markdown",
   "metadata": {},
   "source": [
    "**Estimate like Jeppe Did in the ASAD lecture**"
   ]
  },
  {
   "cell_type": "code",
   "execution_count": 67,
   "metadata": {},
   "outputs": [],
   "source": [
    "def obj(x, parnames, do_print=False):\n",
    "      # a. update parameters\n",
    "    for xval,parname in zip(x,parnames):\n",
    "        par.__dict__[parname] = xval\n",
    "        if do_print: print(f'{parname:10s} = {xval:.4f}')\n",
    "\n",
    "    if do_print: print('')\n",
    "\n",
    "    # b. simulate and calculate moments\n",
    "    model.solve_wF_vec()\n",
    "    model.run_regression()\n",
    "\n",
    "    # c. compare with data\n",
    "    error = model.loss_function()\n",
    "\n",
    "    return error\n",
    "\n"
   ]
  },
  {
   "attachments": {},
   "cell_type": "markdown",
   "metadata": {},
   "source": [
    "**Calculate objective at initial values:**"
   ]
  },
  {
   "cell_type": "code",
   "execution_count": 82,
   "metadata": {},
   "outputs": [
    {
     "name": "stdout",
     "output_type": "stream",
     "text": [
      "alpha      = 0.5000\n",
      "sigma      = 0.8000\n",
      "\n",
      "0.4574755414276454\n"
     ]
    }
   ],
   "source": [
    "par = model.par\n",
    "model.par.alpha = 0.5\n",
    "model.par.sigma = 0.8\n",
    "parnames = ['alpha','sigma']\n",
    "x0 = [par.__dict__[parname] for parname in parnames]\n",
    "\n",
    "error_ = obj(x0,parnames,do_print=True)\n",
    "print(error_)"
   ]
  },
  {
   "cell_type": "code",
   "execution_count": 85,
   "metadata": {},
   "outputs": [],
   "source": [
    "bounds = ((0,1),(0,None))\n",
    "res = optimize.minimize(obj,x0,bounds=bounds,method='nelder-mead',args=(parnames))"
   ]
  },
  {
   "cell_type": "code",
   "execution_count": 86,
   "metadata": {},
   "outputs": [],
   "source": [
    "assert res.success"
   ]
  },
  {
   "cell_type": "code",
   "execution_count": 87,
   "metadata": {},
   "outputs": [
    {
     "name": "stdout",
     "output_type": "stream",
     "text": [
      "alpha      = 0.9996\n",
      "sigma      = 0.0527\n",
      "\n",
      "0.0018473935346442572\n"
     ]
    }
   ],
   "source": [
    "error_ = obj(res.x, parnames, do_print=True)\n",
    "print(error_)"
   ]
  },
  {
   "attachments": {},
   "cell_type": "markdown",
   "metadata": {},
   "source": [
    "**Estimate with module in \"HSM_model_copy.py\"**"
   ]
  },
  {
   "cell_type": "code",
   "execution_count": 88,
   "metadata": {},
   "outputs": [
    {
     "name": "stdout",
     "output_type": "stream",
     "text": [
      "0.9995533971148152 0.05266963043670445\n"
     ]
    }
   ],
   "source": [
    "print(model.par.alpha, model.par.sigma)\n"
   ]
  },
  {
   "cell_type": "code",
   "execution_count": 89,
   "metadata": {},
   "outputs": [
    {
     "name": "stdout",
     "output_type": "stream",
     "text": [
      "alpha      = 0.9882\n",
      "sigma      = 0.0910\n",
      "\n"
     ]
    }
   ],
   "source": [
    "error = model.estimate()"
   ]
  },
  {
   "cell_type": "code",
   "execution_count": 90,
   "metadata": {},
   "outputs": [
    {
     "name": "stdout",
     "output_type": "stream",
     "text": [
      "6.2382201302892e-08\n"
     ]
    }
   ],
   "source": [
    "print(error)"
   ]
  },
  {
   "cell_type": "code",
   "execution_count": null,
   "metadata": {},
   "outputs": [],
   "source": []
  }
 ],
 "metadata": {
  "kernelspec": {
   "display_name": "numecon",
   "language": "python",
   "name": "python3"
  },
  "language_info": {
   "codemirror_mode": {
    "name": "ipython",
    "version": 3
   },
   "file_extension": ".py",
   "mimetype": "text/x-python",
   "name": "python",
   "nbconvert_exporter": "python",
   "pygments_lexer": "ipython3",
   "version": "3.9.16"
  },
  "orig_nbformat": 4
 },
 "nbformat": 4,
 "nbformat_minor": 2
}
