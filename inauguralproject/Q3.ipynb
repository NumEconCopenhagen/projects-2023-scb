{
 "cells": [
  {
   "cell_type": "code",
   "execution_count": 2,
   "metadata": {},
   "outputs": [],
   "source": [
    "%load_ext autoreload\n",
    "%autoreload 2\n",
    "\n",
    "from HSM_model_copy import HouseholdSpecializationModelClass\n",
    "import numpy as np\n",
    "import pandas as pd\n",
    "from tqdm import tqdm\n",
    "%matplotlib inline\n",
    "%matplotlib qt\n",
    "from matplotlib import pyplot as plt\n",
    "from scipy import optimize\n",
    "\n"
   ]
  },
  {
   "attachments": {},
   "cell_type": "markdown",
   "metadata": {},
   "source": [
    "**Question 1**"
   ]
  },
  {
   "cell_type": "code",
   "execution_count": 3,
   "metadata": {},
   "outputs": [
    {
     "name": "stdout",
     "output_type": "stream",
     "text": [
      "namespace(rho=2.0, nu=0.001, epsilon=1.0, omega=0.5, alpha=0.5, sigma=1.0, wM=1.0, wF=1.0, wF_vec=array([0.8, 0.9, 1. , 1.1, 1.2]), beta0_target=0.4, beta1_target=-0.1)\n"
     ]
    }
   ],
   "source": [
    "model = HouseholdSpecializationModelClass()\n",
    "\n",
    "print(model.par)"
   ]
  },
  {
   "cell_type": "code",
   "execution_count": 4,
   "metadata": {},
   "outputs": [
    {
     "name": "stderr",
     "output_type": "stream",
     "text": [
      "/Users/carlsimpson/Documents/6. semester polit/Intro Prog/projects-2023-scb/inauguralproject/HSM_model_copy.py:76: RuntimeWarning: divide by zero encountered in reciprocal\n",
      "  H = ((1-par.alpha)*HM**potens + par.alpha * HF**potens)**potens**-1\n"
     ]
    }
   ],
   "source": [
    "q1_sol = {}\n",
    "for i in ['HF', 'HM', 'alpha', 'sigma']:\n",
    "    q1_sol[i] = []\n",
    "\n",
    "for model.par.alpha in [0.25, 0.50, 0.75]:\n",
    "    for model.par.sigma in [0.5, 1.0, 1.5]:\n",
    "        opt = model.solve_discrete()\n",
    "        q1_sol['HF'].append(opt.HF)\n",
    "        q1_sol['HM'].append(opt.HM)\n",
    "        q1_sol['alpha'].append(model.par.alpha)\n",
    "        q1_sol['sigma'].append(model.par.sigma)\n",
    "\n",
    "model.par.alpha = 0.5\n",
    "model.par.sigma =1\n"
   ]
  },
  {
   "cell_type": "code",
   "execution_count": 5,
   "metadata": {},
   "outputs": [
    {
     "data": {
      "text/html": [
       "<div>\n",
       "<style scoped>\n",
       "    .dataframe tbody tr th:only-of-type {\n",
       "        vertical-align: middle;\n",
       "    }\n",
       "\n",
       "    .dataframe tbody tr th {\n",
       "        vertical-align: top;\n",
       "    }\n",
       "\n",
       "    .dataframe thead th {\n",
       "        text-align: right;\n",
       "    }\n",
       "</style>\n",
       "<table border=\"1\" class=\"dataframe\">\n",
       "  <thead>\n",
       "    <tr style=\"text-align: right;\">\n",
       "      <th></th>\n",
       "      <th>HF</th>\n",
       "      <th>HM</th>\n",
       "      <th>alpha</th>\n",
       "      <th>sigma</th>\n",
       "      <th>HF/HM</th>\n",
       "    </tr>\n",
       "  </thead>\n",
       "  <tbody>\n",
       "    <tr>\n",
       "      <th>0</th>\n",
       "      <td>3.0</td>\n",
       "      <td>5.5</td>\n",
       "      <td>0.25</td>\n",
       "      <td>0.5</td>\n",
       "      <td>0.545455</td>\n",
       "    </tr>\n",
       "    <tr>\n",
       "      <th>1</th>\n",
       "      <td>2.0</td>\n",
       "      <td>6.5</td>\n",
       "      <td>0.25</td>\n",
       "      <td>1.0</td>\n",
       "      <td>0.307692</td>\n",
       "    </tr>\n",
       "    <tr>\n",
       "      <th>2</th>\n",
       "      <td>1.5</td>\n",
       "      <td>7.0</td>\n",
       "      <td>0.25</td>\n",
       "      <td>1.5</td>\n",
       "      <td>0.214286</td>\n",
       "    </tr>\n",
       "    <tr>\n",
       "      <th>3</th>\n",
       "      <td>4.5</td>\n",
       "      <td>4.5</td>\n",
       "      <td>0.50</td>\n",
       "      <td>0.5</td>\n",
       "      <td>1.000000</td>\n",
       "    </tr>\n",
       "    <tr>\n",
       "      <th>4</th>\n",
       "      <td>4.5</td>\n",
       "      <td>4.5</td>\n",
       "      <td>0.50</td>\n",
       "      <td>1.0</td>\n",
       "      <td>1.000000</td>\n",
       "    </tr>\n",
       "    <tr>\n",
       "      <th>5</th>\n",
       "      <td>4.5</td>\n",
       "      <td>4.5</td>\n",
       "      <td>0.50</td>\n",
       "      <td>1.5</td>\n",
       "      <td>1.000000</td>\n",
       "    </tr>\n",
       "    <tr>\n",
       "      <th>6</th>\n",
       "      <td>5.5</td>\n",
       "      <td>3.0</td>\n",
       "      <td>0.75</td>\n",
       "      <td>0.5</td>\n",
       "      <td>1.833333</td>\n",
       "    </tr>\n",
       "    <tr>\n",
       "      <th>7</th>\n",
       "      <td>6.5</td>\n",
       "      <td>2.0</td>\n",
       "      <td>0.75</td>\n",
       "      <td>1.0</td>\n",
       "      <td>3.250000</td>\n",
       "    </tr>\n",
       "    <tr>\n",
       "      <th>8</th>\n",
       "      <td>7.0</td>\n",
       "      <td>1.5</td>\n",
       "      <td>0.75</td>\n",
       "      <td>1.5</td>\n",
       "      <td>4.666667</td>\n",
       "    </tr>\n",
       "  </tbody>\n",
       "</table>\n",
       "</div>"
      ],
      "text/plain": [
       "    HF   HM  alpha  sigma     HF/HM\n",
       "0  3.0  5.5   0.25    0.5  0.545455\n",
       "1  2.0  6.5   0.25    1.0  0.307692\n",
       "2  1.5  7.0   0.25    1.5  0.214286\n",
       "3  4.5  4.5   0.50    0.5  1.000000\n",
       "4  4.5  4.5   0.50    1.0  1.000000\n",
       "5  4.5  4.5   0.50    1.5  1.000000\n",
       "6  5.5  3.0   0.75    0.5  1.833333\n",
       "7  6.5  2.0   0.75    1.0  3.250000\n",
       "8  7.0  1.5   0.75    1.5  4.666667"
      ]
     },
     "execution_count": 5,
     "metadata": {},
     "output_type": "execute_result"
    }
   ],
   "source": [
    "q1_sol = pd.DataFrame(q1_sol)\n",
    "q1_sol['HF/HM'] = q1_sol['HF']/q1_sol['HM']\n",
    "q1_sol"
   ]
  },
  {
   "attachments": {},
   "cell_type": "markdown",
   "metadata": {},
   "source": [
    "**Plot Q1 solutions**"
   ]
  },
  {
   "cell_type": "code",
   "execution_count": 7,
   "metadata": {},
   "outputs": [
    {
     "data": {
      "image/png": "[encoded data removed]",
      "text/plain": [
       "<Figure size 640x480 with 1 Axes>"
      ]
     },
     "metadata": {},
     "output_type": "display_data"
    }
   ],
   "source": [
    "%matplotlib inline\n",
    "fig = plt.figure(constrained_layout=True)\n",
    "ax = fig.add_subplot(1,1,1,projection='3d') # create a 3d type axis \n",
    "x = q1_sol['alpha']\n",
    "y = q1_sol['sigma']\n",
    "hf_hm = q1_sol['HF/HM']\n",
    "ax.set_xlabel('alpha')\n",
    "ax.set_ylabel('sigma')\n",
    "ax.set_zlabel('HF/HM')\n",
    "ax.invert_xaxis()\n",
    "ax.plot_trisurf(x,y, hf_hm, cmap='PiYG'); # create surface plot in the axis\n",
    "# note: fig.add_subplot(a,b,c) creates the c'th subplot in a grid of a times b plots"
   ]
  },
  {
   "attachments": {},
   "cell_type": "markdown",
   "metadata": {},
   "source": [
    "**Question 2**\n"
   ]
  },
  {
   "cell_type": "code",
   "execution_count": 9,
   "metadata": {},
   "outputs": [
    {
     "data": {
      "text/html": [
       "<div>\n",
       "<style scoped>\n",
       "    .dataframe tbody tr th:only-of-type {\n",
       "        vertical-align: middle;\n",
       "    }\n",
       "\n",
       "    .dataframe tbody tr th {\n",
       "        vertical-align: top;\n",
       "    }\n",
       "\n",
       "    .dataframe thead th {\n",
       "        text-align: right;\n",
       "    }\n",
       "</style>\n",
       "<table border=\"1\" class=\"dataframe\">\n",
       "  <thead>\n",
       "    <tr style=\"text-align: right;\">\n",
       "      <th></th>\n",
       "      <th>HF</th>\n",
       "      <th>HM</th>\n",
       "      <th>LF</th>\n",
       "      <th>LM</th>\n",
       "      <th>utility</th>\n",
       "      <th>logHF/logHM</th>\n",
       "      <th>WF</th>\n",
       "      <th>WM</th>\n",
       "      <th>logWF/logWM</th>\n",
       "    </tr>\n",
       "  </thead>\n",
       "  <tbody>\n",
       "    <tr>\n",
       "      <th>0</th>\n",
       "      <td>5.0</td>\n",
       "      <td>4.0</td>\n",
       "      <td>3.0</td>\n",
       "      <td>6.0</td>\n",
       "      <td>-0.234618</td>\n",
       "      <td>0.223144</td>\n",
       "      <td>0.8</td>\n",
       "      <td>1.0</td>\n",
       "      <td>-0.223144</td>\n",
       "    </tr>\n",
       "    <tr>\n",
       "      <th>1</th>\n",
       "      <td>4.5</td>\n",
       "      <td>4.5</td>\n",
       "      <td>4.0</td>\n",
       "      <td>5.0</td>\n",
       "      <td>-0.231835</td>\n",
       "      <td>0.000000</td>\n",
       "      <td>0.9</td>\n",
       "      <td>1.0</td>\n",
       "      <td>-0.105361</td>\n",
       "    </tr>\n",
       "    <tr>\n",
       "      <th>2</th>\n",
       "      <td>4.5</td>\n",
       "      <td>4.5</td>\n",
       "      <td>4.5</td>\n",
       "      <td>4.5</td>\n",
       "      <td>-0.230822</td>\n",
       "      <td>0.000000</td>\n",
       "      <td>1.0</td>\n",
       "      <td>1.0</td>\n",
       "      <td>0.000000</td>\n",
       "    </tr>\n",
       "    <tr>\n",
       "      <th>3</th>\n",
       "      <td>4.0</td>\n",
       "      <td>4.5</td>\n",
       "      <td>5.0</td>\n",
       "      <td>4.0</td>\n",
       "      <td>-0.230151</td>\n",
       "      <td>-0.117783</td>\n",
       "      <td>1.1</td>\n",
       "      <td>1.0</td>\n",
       "      <td>0.095310</td>\n",
       "    </tr>\n",
       "    <tr>\n",
       "      <th>4</th>\n",
       "      <td>4.0</td>\n",
       "      <td>5.0</td>\n",
       "      <td>5.5</td>\n",
       "      <td>3.0</td>\n",
       "      <td>-0.229743</td>\n",
       "      <td>-0.223144</td>\n",
       "      <td>1.2</td>\n",
       "      <td>1.0</td>\n",
       "      <td>0.182322</td>\n",
       "    </tr>\n",
       "  </tbody>\n",
       "</table>\n",
       "</div>"
      ],
      "text/plain": [
       "    HF   HM   LF   LM   utility  logHF/logHM   WF   WM  logWF/logWM\n",
       "0  5.0  4.0  3.0  6.0 -0.234618     0.223144  0.8  1.0    -0.223144\n",
       "1  4.5  4.5  4.0  5.0 -0.231835     0.000000  0.9  1.0    -0.105361\n",
       "2  4.5  4.5  4.5  4.5 -0.230822     0.000000  1.0  1.0     0.000000\n",
       "3  4.0  4.5  5.0  4.0 -0.230151    -0.117783  1.1  1.0     0.095310\n",
       "4  4.0  5.0  5.5  3.0 -0.229743    -0.223144  1.2  1.0     0.182322"
      ]
     },
     "execution_count": 9,
     "metadata": {},
     "output_type": "execute_result"
    }
   ],
   "source": [
    "\n",
    "model = HouseholdSpecializationModelClass()\n",
    "\n",
    "discrete_solution = model.solve_wF_vec(discrete=True)\n",
    "df_discrete = {}\n",
    "df_discrete['HF'] = discrete_solution.HF_vec\n",
    "df_discrete['HM'] = discrete_solution.HM_vec\n",
    "df_discrete['LF'] = discrete_solution.LF_vec\n",
    "df_discrete['LM'] = discrete_solution.LM_vec\n",
    "\n",
    "\n",
    "df_discrete = pd.DataFrame(df_discrete)\n",
    "df_discrete['utility'] = model.calc_utility(df_discrete.LM, df_discrete.HM, df_discrete.LF, df_discrete.HF)\n",
    "df_discrete['logHF/logHM'] = np.log(df_discrete['HF']) - np.log(df_discrete['HM'])\n",
    "df_discrete['WF'] =  model.par.wF_vec.tolist()\n",
    "df_discrete['WM'] = model.par.wM\n",
    "df_discrete['logWF/logWM'] = np.log(df_discrete['WF']) - np.log(df_discrete['WM'])\n",
    "\n",
    "df_discrete\n"
   ]
  },
  {
   "cell_type": "code",
   "execution_count": 10,
   "metadata": {},
   "outputs": [
    {
     "data": {
      "text/plain": [
       "<matplotlib.collections.PathCollection at 0x7f7a64f4f910>"
      ]
     },
     "execution_count": 10,
     "metadata": {},
     "output_type": "execute_result"
    },
    {
     "data": {
      "image/png": "[encoded data removed]",
      "text/plain": [
       "<Figure size 640x480 with 1 Axes>"
      ]
     },
     "metadata": {},
     "output_type": "display_data"
    }
   ],
   "source": [
    "x = df_discrete['logWF/logWM']\n",
    "y = df_discrete['logHF/logHM']\n",
    "\n",
    "fig = plt.figure(constrained_layout=True)\n",
    "\n",
    "ax = fig.add_subplot(1,1,1)\n",
    "ax.grid()\n",
    "ax.set_ylabel('$\\log (HF)/\\log (HM)$')\n",
    "ax.set_xlabel('$\\log (WF)/\\log (WM)$')\n",
    "ax.scatter(x, y)"
   ]
  },
  {
   "cell_type": "code",
   "execution_count": 276,
   "metadata": {},
   "outputs": [
    {
     "name": "stdout",
     "output_type": "stream",
     "text": [
      "0.5 1\n"
     ]
    }
   ],
   "source": [
    "print(model.par.alpha, model.par.sigma)"
   ]
  },
  {
   "attachments": {},
   "cell_type": "markdown",
   "metadata": {},
   "source": [
    "**Question 3**"
   ]
  },
  {
   "attachments": {},
   "cell_type": "markdown",
   "metadata": {},
   "source": [
    "**3.1 solving the consumer problem using a loop**"
   ]
  },
  {
   "cell_type": "code",
   "execution_count": 11,
   "metadata": {},
   "outputs": [],
   "source": [
    "model = HouseholdSpecializationModelClass()\n",
    "\n",
    "solutions = {}\n",
    "for i in ['HF', 'HM', 'LF', 'LM', 'WF', 'WM', 'Utility']:\n",
    "    solutions[i] = []\n",
    "\n",
    "model.par.alpha = 0.5\n",
    "model.par.sigma = 1\n",
    "\n",
    "for i in [0.8, 0.9, 1.0, 1.1, 1.2]:\n",
    "    model.par.wF = i\n",
    "    solution = model.solve()\n",
    "    solutions['HF'].append(solution.HF)\n",
    "    solutions['LF'].append(solution.LF)\n",
    "    solutions['HM'].append(solution.HM)\n",
    "    solutions['LM'].append(solution.LM)\n",
    "    solutions['WF'].append(model.par.wF)\n",
    "    solutions['WM'].append(model.par.wM)\n",
    "    solutions['Utility'].append(solution.U)\n",
    "    \n",
    "#\n",
    "df = pd.DataFrame(solutions)\n"
   ]
  },
  {
   "cell_type": "code",
   "execution_count": 13,
   "metadata": {},
   "outputs": [
    {
     "data": {
      "text/html": [
       "<div>\n",
       "<style scoped>\n",
       "    .dataframe tbody tr th:only-of-type {\n",
       "        vertical-align: middle;\n",
       "    }\n",
       "\n",
       "    .dataframe tbody tr th {\n",
       "        vertical-align: top;\n",
       "    }\n",
       "\n",
       "    .dataframe thead th {\n",
       "        text-align: right;\n",
       "    }\n",
       "</style>\n",
       "<table border=\"1\" class=\"dataframe\">\n",
       "  <thead>\n",
       "    <tr style=\"text-align: right;\">\n",
       "      <th></th>\n",
       "      <th>HF</th>\n",
       "      <th>HM</th>\n",
       "      <th>LF</th>\n",
       "      <th>LM</th>\n",
       "      <th>WF</th>\n",
       "      <th>WM</th>\n",
       "      <th>Utility</th>\n",
       "      <th>logHF/logHM</th>\n",
       "      <th>logWF/logWM</th>\n",
       "      <th>alternative_utility</th>\n",
       "    </tr>\n",
       "  </thead>\n",
       "  <tbody>\n",
       "    <tr>\n",
       "      <th>0</th>\n",
       "      <td>5.048236</td>\n",
       "      <td>4.044081</td>\n",
       "      <td>2.935603</td>\n",
       "      <td>5.916363</td>\n",
       "      <td>0.8</td>\n",
       "      <td>1.0</td>\n",
       "      <td>-0.245117</td>\n",
       "      <td>2.217846e-01</td>\n",
       "      <td>-0.223144</td>\n",
       "      <td>-0.234601</td>\n",
       "    </tr>\n",
       "    <tr>\n",
       "      <th>1</th>\n",
       "      <td>4.495728</td>\n",
       "      <td>4.495283</td>\n",
       "      <td>4.464100</td>\n",
       "      <td>4.526876</td>\n",
       "      <td>0.9</td>\n",
       "      <td>1.0</td>\n",
       "      <td>-0.242188</td>\n",
       "      <td>9.913449e-05</td>\n",
       "      <td>-0.105361</td>\n",
       "      <td>-0.230859</td>\n",
       "    </tr>\n",
       "    <tr>\n",
       "      <th>2</th>\n",
       "      <td>4.458666</td>\n",
       "      <td>4.458666</td>\n",
       "      <td>4.458666</td>\n",
       "      <td>4.458666</td>\n",
       "      <td>1.0</td>\n",
       "      <td>1.0</td>\n",
       "      <td>-0.238110</td>\n",
       "      <td>2.220446e-16</td>\n",
       "      <td>0.000000</td>\n",
       "      <td>-0.230730</td>\n",
       "    </tr>\n",
       "    <tr>\n",
       "      <th>3</th>\n",
       "      <td>4.422401</td>\n",
       "      <td>4.422790</td>\n",
       "      <td>4.449878</td>\n",
       "      <td>4.395285</td>\n",
       "      <td>1.1</td>\n",
       "      <td>1.0</td>\n",
       "      <td>-0.234247</td>\n",
       "      <td>-8.790622e-05</td>\n",
       "      <td>0.095310</td>\n",
       "      <td>-0.230640</td>\n",
       "    </tr>\n",
       "    <tr>\n",
       "      <th>4</th>\n",
       "      <td>3.993176</td>\n",
       "      <td>4.803493</td>\n",
       "      <td>5.508059</td>\n",
       "      <td>3.128289</td>\n",
       "      <td>1.2</td>\n",
       "      <td>1.0</td>\n",
       "      <td>-0.229719</td>\n",
       "      <td>-1.847565e-01</td>\n",
       "      <td>0.182322</td>\n",
       "      <td>-0.229719</td>\n",
       "    </tr>\n",
       "  </tbody>\n",
       "</table>\n",
       "</div>"
      ],
      "text/plain": [
       "         HF        HM        LF        LM   WF   WM   Utility   logHF/logHM  \\\n",
       "0  5.048236  4.044081  2.935603  5.916363  0.8  1.0 -0.245117  2.217846e-01   \n",
       "1  4.495728  4.495283  4.464100  4.526876  0.9  1.0 -0.242188  9.913449e-05   \n",
       "2  4.458666  4.458666  4.458666  4.458666  1.0  1.0 -0.238110  2.220446e-16   \n",
       "3  4.422401  4.422790  4.449878  4.395285  1.1  1.0 -0.234247 -8.790622e-05   \n",
       "4  3.993176  4.803493  5.508059  3.128289  1.2  1.0 -0.229719 -1.847565e-01   \n",
       "\n",
       "   logWF/logWM  alternative_utility  \n",
       "0    -0.223144            -0.234601  \n",
       "1    -0.105361            -0.230859  \n",
       "2     0.000000            -0.230730  \n",
       "3     0.095310            -0.230640  \n",
       "4     0.182322            -0.229719  "
      ]
     },
     "execution_count": 13,
     "metadata": {},
     "output_type": "execute_result"
    }
   ],
   "source": [
    "df['logHF/logHM'] = np.log(df['HF']) - np.log(df['HM'])\n",
    "\n",
    "df['logWF/logWM'] = np.log(df['WF']) - np.log(df['WM'])\n",
    "\n",
    "df['alternative_utility'] = model.calc_utility(df.LM, df.HM, df.LF, df.HF)\n",
    "\n",
    "df"
   ]
  },
  {
   "cell_type": "markdown",
   "metadata": {},
   "source": [
    "***Solving the problem using the function with the defined wf_VEC***"
   ]
  },
  {
   "cell_type": "code",
   "execution_count": 12,
   "metadata": {},
   "outputs": [
    {
     "data": {
      "text/html": [
       "<div>\n",
       "<style scoped>\n",
       "    .dataframe tbody tr th:only-of-type {\n",
       "        vertical-align: middle;\n",
       "    }\n",
       "\n",
       "    .dataframe tbody tr th {\n",
       "        vertical-align: top;\n",
       "    }\n",
       "\n",
       "    .dataframe thead th {\n",
       "        text-align: right;\n",
       "    }\n",
       "</style>\n",
       "<table border=\"1\" class=\"dataframe\">\n",
       "  <thead>\n",
       "    <tr style=\"text-align: right;\">\n",
       "      <th></th>\n",
       "      <th>HF</th>\n",
       "      <th>HM</th>\n",
       "      <th>LF</th>\n",
       "      <th>LM</th>\n",
       "      <th>utility</th>\n",
       "    </tr>\n",
       "  </thead>\n",
       "  <tbody>\n",
       "    <tr>\n",
       "      <th>0</th>\n",
       "      <td>5.048236</td>\n",
       "      <td>4.044081</td>\n",
       "      <td>2.935603</td>\n",
       "      <td>5.916363</td>\n",
       "      <td>-0.234601</td>\n",
       "    </tr>\n",
       "    <tr>\n",
       "      <th>1</th>\n",
       "      <td>4.495728</td>\n",
       "      <td>4.495283</td>\n",
       "      <td>4.464100</td>\n",
       "      <td>4.526876</td>\n",
       "      <td>-0.230859</td>\n",
       "    </tr>\n",
       "    <tr>\n",
       "      <th>2</th>\n",
       "      <td>4.458666</td>\n",
       "      <td>4.458666</td>\n",
       "      <td>4.458666</td>\n",
       "      <td>4.458666</td>\n",
       "      <td>-0.230730</td>\n",
       "    </tr>\n",
       "    <tr>\n",
       "      <th>3</th>\n",
       "      <td>4.422401</td>\n",
       "      <td>4.422790</td>\n",
       "      <td>4.449878</td>\n",
       "      <td>4.395285</td>\n",
       "      <td>-0.230640</td>\n",
       "    </tr>\n",
       "    <tr>\n",
       "      <th>4</th>\n",
       "      <td>3.993176</td>\n",
       "      <td>4.803493</td>\n",
       "      <td>5.508059</td>\n",
       "      <td>3.128289</td>\n",
       "      <td>-0.229719</td>\n",
       "    </tr>\n",
       "  </tbody>\n",
       "</table>\n",
       "</div>"
      ],
      "text/plain": [
       "         HF        HM        LF        LM   utility\n",
       "0  5.048236  4.044081  2.935603  5.916363 -0.234601\n",
       "1  4.495728  4.495283  4.464100  4.526876 -0.230859\n",
       "2  4.458666  4.458666  4.458666  4.458666 -0.230730\n",
       "3  4.422401  4.422790  4.449878  4.395285 -0.230640\n",
       "4  3.993176  4.803493  5.508059  3.128289 -0.229719"
      ]
     },
     "execution_count": 12,
     "metadata": {},
     "output_type": "execute_result"
    }
   ],
   "source": [
    "### solve model using WF_vec gives us the same result as running the loop above \n",
    "contionoussolution = model.solve_wF_vec(discrete=False)\n",
    "df1 = {}\n",
    "df1['HF'] = contionoussolution.HF_vec\n",
    "df1['HM'] = contionoussolution.HM_vec\n",
    "df1['LF'] = contionoussolution.LF_vec\n",
    "df1['LM'] = contionoussolution.LM_vec\n",
    "\n",
    "df1 = pd.DataFrame(df1)\n",
    "df1['utility'] = model.calc_utility(df1.LM, df1.HM, df1.LF, df1.HF)\n",
    "\n",
    "df1"
   ]
  },
  {
   "cell_type": "code",
   "execution_count": 280,
   "metadata": {},
   "outputs": [
    {
     "data": {
      "text/plain": [
       "[]"
      ]
     },
     "execution_count": 280,
     "metadata": {},
     "output_type": "execute_result"
    },
    {
     "data": {
      "image/png": "[encoded data removed]",
      "text/plain": [
       "<Figure size 640x480 with 1 Axes>"
      ]
     },
     "metadata": {},
     "output_type": "display_data"
    }
   ],
   "source": [
    "from matplotlib import pyplot as plt\n",
    "fig = plt.figure()\n",
    "ax = fig.add_subplot(1,1,1)\n",
    "ax.scatter(df['logWF/logWM'], df['logHF/logHM'])\n",
    "ax.grid()\n",
    "ax.set_ylabel('$\\log (HF)/\\log (HM)$')\n",
    "ax.set_xlabel('$\\log (WF)/\\log (WM)$')\n",
    "ax.plot()"
   ]
  },
  {
   "cell_type": "code",
   "execution_count": 281,
   "metadata": {},
   "outputs": [
    {
     "name": "stdout",
     "output_type": "stream",
     "text": [
      "\n",
      " The baseline parameters in the model is: \n",
      "1. Preferences           = (rho, epsilon, omega, nu) = (2.00, 1.00, 0.50, 0.001) \n",
      "2. Household production  = (alpha, sigma )           = (0.50, 1.00) \n",
      "3. Wages                 = (wM,wF)                   = (1.00, 1.20) \n",
      "\n"
     ]
    }
   ],
   "source": [
    "print(model)"
   ]
  },
  {
   "cell_type": "code",
   "execution_count": 282,
   "metadata": {},
   "outputs": [
    {
     "name": "stdout",
     "output_type": "stream",
     "text": [
      "namespace(LM=3.128289376256408, HM=4.803493234536152, LF=5.508058895603844, HF=3.9931761993762485, U=-0.2297186708068249)\n"
     ]
    }
   ],
   "source": [
    "print(model.solve())"
   ]
  },
  {
   "attachments": {},
   "cell_type": "markdown",
   "metadata": {},
   "source": [
    "**Run regression**\n",
    "\n",
    "$\\log \\frac{H_F}{H_M} = \\beta_0 + \\beta_1 \\log \\frac{w_F}{w_M} $"
   ]
  },
  {
   "cell_type": "code",
   "execution_count": 283,
   "metadata": {},
   "outputs": [
    {
     "name": "stdout",
     "output_type": "stream",
     "text": [
      "\n",
      " The baseline parameters in the model is: \n",
      "1. Preferences           = (rho, epsilon, omega, nu) = (2.00, 1.00, 0.50, 0.001) \n",
      "2. Household production  = (alpha, sigma )           = (0.50, 1.00) \n",
      "3. Wages                 = (wM,wF)                   = (1.00, 1.20) \n",
      "\n",
      "beta0 = -0.000797 and beta_1 = -0.806\n"
     ]
    }
   ],
   "source": [
    "model = HouseholdSpecializationModelClass()\n",
    "model.solve_wF_vec()\n",
    "\n",
    "print(model)\n",
    "model.run_regression()\n",
    "\n",
    "print(f'beta0 = {model.sol.beta0:.3} and beta_1 = {model.sol.beta1:.3}')"
   ]
  },
  {
   "attachments": {},
   "cell_type": "markdown",
   "metadata": {},
   "source": [
    "**Estimate $\\sigma$ and $\\alpha$ such that $(\\beta_{0}-\\hat \\beta_0)^2+(\\beta_1-\\hat \\beta_1)^2$ is minimized, where we assume that $\\beta_0=0.4$ and $\\beta_1 \\approx -0.1$**\n",
    "\n"
   ]
  },
  {
   "cell_type": "code",
   "execution_count": 284,
   "metadata": {},
   "outputs": [
    {
     "name": "stderr",
     "output_type": "stream",
     "text": [
      "  0%|          | 0/50 [00:00<?, ?it/s]/Users/carlsimpson/Documents/6. semester polit/Intro Prog/projects-2023-scb/inauguralproject/HSM_model_copy.py:76: RuntimeWarning: divide by zero encountered in double_scalars\n",
      "  H = ((1-par.alpha)*HM**potens + par.alpha * HF**potens)**potens**-1\n",
      "/Users/carlsimpson/Documents/6. semester polit/Intro Prog/projects-2023-scb/inauguralproject/HSM_model_copy.py:76: RuntimeWarning: invalid value encountered in double_scalars\n",
      "  H = ((1-par.alpha)*HM**potens + par.alpha * HF**potens)**potens**-1\n",
      "/Users/carlsimpson/Documents/6. semester polit/Intro Prog/projects-2023-scb/inauguralproject/HSM_model_copy.py:231: RuntimeWarning: divide by zero encountered in log\n",
      "  y = np.log(sol.HF_vec/sol.HM_vec)\n",
      "  2%|▏         | 1/50 [00:26<21:16, 26.05s/it]\n"
     ]
    },
    {
     "ename": "KeyboardInterrupt",
     "evalue": "",
     "output_type": "error",
     "traceback": [
      "\u001b[0;31m---------------------------------------------------------------------------\u001b[0m",
      "\u001b[0;31mKeyboardInterrupt\u001b[0m                         Traceback (most recent call last)",
      "Cell \u001b[0;32mIn[284], line 18\u001b[0m\n\u001b[1;32m     16\u001b[0m \u001b[39mfor\u001b[39;00m model\u001b[39m.\u001b[39mpar\u001b[39m.\u001b[39malpha \u001b[39min\u001b[39;00m tqdm(np\u001b[39m.\u001b[39mlinspace(\u001b[39m0\u001b[39m,\u001b[39m1\u001b[39m, \u001b[39m50\u001b[39m)):\n\u001b[1;32m     17\u001b[0m     \u001b[39mfor\u001b[39;00m model\u001b[39m.\u001b[39mpar\u001b[39m.\u001b[39msigma \u001b[39min\u001b[39;00m np\u001b[39m.\u001b[39mlinspace(\u001b[39m0\u001b[39m, \u001b[39m3\u001b[39m, \u001b[39m50\u001b[39m):\n\u001b[0;32m---> 18\u001b[0m             sol \u001b[39m=\u001b[39m model\u001b[39m.\u001b[39;49msolve_wF_vec()\n\u001b[1;32m     19\u001b[0m             model\u001b[39m.\u001b[39mrun_regression()\n\u001b[1;32m     20\u001b[0m             beta0hat \u001b[39m=\u001b[39m model\u001b[39m.\u001b[39msol\u001b[39m.\u001b[39mbeta0\n",
      "File \u001b[0;32m~/Documents/6. semester polit/Intro Prog/projects-2023-scb/inauguralproject/HSM_model_copy.py:202\u001b[0m, in \u001b[0;36mHouseholdSpecializationModelClass.solve_wF_vec\u001b[0;34m(self, discrete, do_print)\u001b[0m\n\u001b[1;32m    200\u001b[0m     solution \u001b[39m=\u001b[39m \u001b[39mself\u001b[39m\u001b[39m.\u001b[39msolve_discrete(do_print\u001b[39m=\u001b[39m\u001b[39mFalse\u001b[39;00m)\n\u001b[1;32m    201\u001b[0m \u001b[39melse\u001b[39;00m:\n\u001b[0;32m--> 202\u001b[0m     solution \u001b[39m=\u001b[39m \u001b[39mself\u001b[39;49m\u001b[39m.\u001b[39;49msolve(do_print\u001b[39m=\u001b[39;49m\u001b[39mFalse\u001b[39;49;00m)\n\u001b[1;32m    204\u001b[0m sol\u001b[39m.\u001b[39mLM_vec[i] \u001b[39m=\u001b[39m solution\u001b[39m.\u001b[39mLM\n\u001b[1;32m    205\u001b[0m sol\u001b[39m.\u001b[39mHM_vec[i] \u001b[39m=\u001b[39m solution\u001b[39m.\u001b[39mHM\n",
      "File \u001b[0;32m~/Documents/6. semester polit/Intro Prog/projects-2023-scb/inauguralproject/HSM_model_copy.py:167\u001b[0m, in \u001b[0;36mHouseholdSpecializationModelClass.solve\u001b[0;34m(self, do_print)\u001b[0m\n\u001b[1;32m    164\u001b[0m initial_guess \u001b[39m=\u001b[39m [\u001b[39m10\u001b[39m,\u001b[39m10\u001b[39m,\u001b[39m10\u001b[39m,\u001b[39m10\u001b[39m]\n\u001b[1;32m    166\u001b[0m \u001b[39m# c. call solver, use SLSQP\u001b[39;00m\n\u001b[0;32m--> 167\u001b[0m sol_case2 \u001b[39m=\u001b[39m optimize\u001b[39m.\u001b[39;49mminimize(\n\u001b[1;32m    168\u001b[0m     value_of_choice, initial_guess,\n\u001b[1;32m    169\u001b[0m     method\u001b[39m=\u001b[39;49m\u001b[39m'\u001b[39;49m\u001b[39mSLSQP\u001b[39;49m\u001b[39m'\u001b[39;49m, bounds\u001b[39m=\u001b[39;49mbounds, constraints\u001b[39m=\u001b[39;49mconstraints)\n\u001b[1;32m    171\u001b[0m \u001b[39m# d. unpack solution\u001b[39;00m\n\u001b[1;32m    172\u001b[0m opt_con\u001b[39m.\u001b[39mLM \u001b[39m=\u001b[39m sol_case2\u001b[39m.\u001b[39mx[\u001b[39m0\u001b[39m]\n",
      "File \u001b[0;32m~/miniconda3/envs/numecon/lib/python3.9/site-packages/scipy/optimize/_minimize.py:705\u001b[0m, in \u001b[0;36mminimize\u001b[0;34m(fun, x0, args, method, jac, hess, hessp, bounds, constraints, tol, callback, options)\u001b[0m\n\u001b[1;32m    702\u001b[0m     res \u001b[39m=\u001b[39m _minimize_cobyla(fun, x0, args, constraints, callback\u001b[39m=\u001b[39mcallback,\n\u001b[1;32m    703\u001b[0m                             \u001b[39m*\u001b[39m\u001b[39m*\u001b[39moptions)\n\u001b[1;32m    704\u001b[0m \u001b[39melif\u001b[39;00m meth \u001b[39m==\u001b[39m \u001b[39m'\u001b[39m\u001b[39mslsqp\u001b[39m\u001b[39m'\u001b[39m:\n\u001b[0;32m--> 705\u001b[0m     res \u001b[39m=\u001b[39m _minimize_slsqp(fun, x0, args, jac, bounds,\n\u001b[1;32m    706\u001b[0m                           constraints, callback\u001b[39m=\u001b[39;49mcallback, \u001b[39m*\u001b[39;49m\u001b[39m*\u001b[39;49moptions)\n\u001b[1;32m    707\u001b[0m \u001b[39melif\u001b[39;00m meth \u001b[39m==\u001b[39m \u001b[39m'\u001b[39m\u001b[39mtrust-constr\u001b[39m\u001b[39m'\u001b[39m:\n\u001b[1;32m    708\u001b[0m     res \u001b[39m=\u001b[39m _minimize_trustregion_constr(fun, x0, args, jac, hess, hessp,\n\u001b[1;32m    709\u001b[0m                                        bounds, constraints,\n\u001b[1;32m    710\u001b[0m                                        callback\u001b[39m=\u001b[39mcallback, \u001b[39m*\u001b[39m\u001b[39m*\u001b[39moptions)\n",
      "File \u001b[0;32m~/miniconda3/envs/numecon/lib/python3.9/site-packages/scipy/optimize/_slsqp_py.py:432\u001b[0m, in \u001b[0;36m_minimize_slsqp\u001b[0;34m(func, x0, args, jac, bounds, constraints, maxiter, ftol, iprint, disp, eps, callback, finite_diff_rel_step, **unknown_options)\u001b[0m\n\u001b[1;32m    429\u001b[0m     c \u001b[39m=\u001b[39m _eval_constraint(x, cons)\n\u001b[1;32m    431\u001b[0m \u001b[39mif\u001b[39;00m mode \u001b[39m==\u001b[39m \u001b[39m-\u001b[39m\u001b[39m1\u001b[39m:  \u001b[39m# gradient evaluation required\u001b[39;00m\n\u001b[0;32m--> 432\u001b[0m     g \u001b[39m=\u001b[39m append(wrapped_grad(x), \u001b[39m0.0\u001b[39m)\n\u001b[1;32m    433\u001b[0m     a \u001b[39m=\u001b[39m _eval_con_normals(x, cons, la, n, m, meq, mieq)\n\u001b[1;32m    435\u001b[0m \u001b[39mif\u001b[39;00m majiter \u001b[39m>\u001b[39m majiter_prev:\n\u001b[1;32m    436\u001b[0m     \u001b[39m# call callback if major iteration has incremented\u001b[39;00m\n",
      "File \u001b[0;32m~/miniconda3/envs/numecon/lib/python3.9/site-packages/scipy/optimize/_optimize.py:346\u001b[0m, in \u001b[0;36m_clip_x_for_func.<locals>.eval\u001b[0;34m(x)\u001b[0m\n\u001b[1;32m    344\u001b[0m \u001b[39mdef\u001b[39;00m \u001b[39meval\u001b[39m(x):\n\u001b[1;32m    345\u001b[0m     x \u001b[39m=\u001b[39m _check_clip_x(x, bounds)\n\u001b[0;32m--> 346\u001b[0m     \u001b[39mreturn\u001b[39;00m func(x)\n",
      "File \u001b[0;32m~/miniconda3/envs/numecon/lib/python3.9/site-packages/scipy/optimize/_differentiable_functions.py:273\u001b[0m, in \u001b[0;36mScalarFunction.grad\u001b[0;34m(self, x)\u001b[0m\n\u001b[1;32m    271\u001b[0m \u001b[39mif\u001b[39;00m \u001b[39mnot\u001b[39;00m np\u001b[39m.\u001b[39marray_equal(x, \u001b[39mself\u001b[39m\u001b[39m.\u001b[39mx):\n\u001b[1;32m    272\u001b[0m     \u001b[39mself\u001b[39m\u001b[39m.\u001b[39m_update_x_impl(x)\n\u001b[0;32m--> 273\u001b[0m \u001b[39mself\u001b[39;49m\u001b[39m.\u001b[39;49m_update_grad()\n\u001b[1;32m    274\u001b[0m \u001b[39mreturn\u001b[39;00m \u001b[39mself\u001b[39m\u001b[39m.\u001b[39mg\n",
      "File \u001b[0;32m~/miniconda3/envs/numecon/lib/python3.9/site-packages/scipy/optimize/_differentiable_functions.py:256\u001b[0m, in \u001b[0;36mScalarFunction._update_grad\u001b[0;34m(self)\u001b[0m\n\u001b[1;32m    254\u001b[0m \u001b[39mdef\u001b[39;00m \u001b[39m_update_grad\u001b[39m(\u001b[39mself\u001b[39m):\n\u001b[1;32m    255\u001b[0m     \u001b[39mif\u001b[39;00m \u001b[39mnot\u001b[39;00m \u001b[39mself\u001b[39m\u001b[39m.\u001b[39mg_updated:\n\u001b[0;32m--> 256\u001b[0m         \u001b[39mself\u001b[39;49m\u001b[39m.\u001b[39;49m_update_grad_impl()\n\u001b[1;32m    257\u001b[0m         \u001b[39mself\u001b[39m\u001b[39m.\u001b[39mg_updated \u001b[39m=\u001b[39m \u001b[39mTrue\u001b[39;00m\n",
      "File \u001b[0;32m~/miniconda3/envs/numecon/lib/python3.9/site-packages/scipy/optimize/_differentiable_functions.py:173\u001b[0m, in \u001b[0;36mScalarFunction.__init__.<locals>.update_grad\u001b[0;34m()\u001b[0m\n\u001b[1;32m    171\u001b[0m \u001b[39mself\u001b[39m\u001b[39m.\u001b[39m_update_fun()\n\u001b[1;32m    172\u001b[0m \u001b[39mself\u001b[39m\u001b[39m.\u001b[39mngev \u001b[39m+\u001b[39m\u001b[39m=\u001b[39m \u001b[39m1\u001b[39m\n\u001b[0;32m--> 173\u001b[0m \u001b[39mself\u001b[39m\u001b[39m.\u001b[39mg \u001b[39m=\u001b[39m approx_derivative(fun_wrapped, \u001b[39mself\u001b[39;49m\u001b[39m.\u001b[39;49mx, f0\u001b[39m=\u001b[39;49m\u001b[39mself\u001b[39;49m\u001b[39m.\u001b[39;49mf,\n\u001b[1;32m    174\u001b[0m                            \u001b[39m*\u001b[39;49m\u001b[39m*\u001b[39;49mfinite_diff_options)\n",
      "File \u001b[0;32m~/miniconda3/envs/numecon/lib/python3.9/site-packages/scipy/optimize/_numdiff.py:496\u001b[0m, in \u001b[0;36mapprox_derivative\u001b[0;34m(fun, x0, method, rel_step, abs_step, f0, bounds, sparsity, as_linear_operator, args, kwargs)\u001b[0m\n\u001b[1;32m    490\u001b[0m     h \u001b[39m=\u001b[39m np\u001b[39m.\u001b[39mwhere(dx \u001b[39m==\u001b[39m \u001b[39m0\u001b[39m,\n\u001b[1;32m    491\u001b[0m                  _eps_for_method(x0\u001b[39m.\u001b[39mdtype, f0\u001b[39m.\u001b[39mdtype, method) \u001b[39m*\u001b[39m\n\u001b[1;32m    492\u001b[0m                  sign_x0 \u001b[39m*\u001b[39m np\u001b[39m.\u001b[39mmaximum(\u001b[39m1.0\u001b[39m, np\u001b[39m.\u001b[39mabs(x0)),\n\u001b[1;32m    493\u001b[0m                  h)\n\u001b[1;32m    495\u001b[0m \u001b[39mif\u001b[39;00m method \u001b[39m==\u001b[39m \u001b[39m'\u001b[39m\u001b[39m2-point\u001b[39m\u001b[39m'\u001b[39m:\n\u001b[0;32m--> 496\u001b[0m     h, use_one_sided \u001b[39m=\u001b[39m _adjust_scheme_to_bounds(\n\u001b[1;32m    497\u001b[0m         x0, h, \u001b[39m1\u001b[39;49m, \u001b[39m'\u001b[39;49m\u001b[39m1-sided\u001b[39;49m\u001b[39m'\u001b[39;49m, lb, ub)\n\u001b[1;32m    498\u001b[0m \u001b[39melif\u001b[39;00m method \u001b[39m==\u001b[39m \u001b[39m'\u001b[39m\u001b[39m3-point\u001b[39m\u001b[39m'\u001b[39m:\n\u001b[1;32m    499\u001b[0m     h, use_one_sided \u001b[39m=\u001b[39m _adjust_scheme_to_bounds(\n\u001b[1;32m    500\u001b[0m         x0, h, \u001b[39m1\u001b[39m, \u001b[39m'\u001b[39m\u001b[39m2-sided\u001b[39m\u001b[39m'\u001b[39m, lb, ub)\n",
      "File \u001b[0;32m~/miniconda3/envs/numecon/lib/python3.9/site-packages/scipy/optimize/_numdiff.py:66\u001b[0m, in \u001b[0;36m_adjust_scheme_to_bounds\u001b[0;34m(x0, h, num_steps, scheme, lb, ub)\u001b[0m\n\u001b[1;32m     63\u001b[0m h_adjusted[violated \u001b[39m&\u001b[39m fitting] \u001b[39m*\u001b[39m\u001b[39m=\u001b[39m \u001b[39m-\u001b[39m\u001b[39m1\u001b[39m\n\u001b[1;32m     65\u001b[0m forward \u001b[39m=\u001b[39m (upper_dist \u001b[39m>\u001b[39m\u001b[39m=\u001b[39m lower_dist) \u001b[39m&\u001b[39m \u001b[39m~\u001b[39mfitting\n\u001b[0;32m---> 66\u001b[0m h_adjusted[forward] \u001b[39m=\u001b[39m upper_dist[forward] \u001b[39m/\u001b[39;49m num_steps\n\u001b[1;32m     67\u001b[0m backward \u001b[39m=\u001b[39m (upper_dist \u001b[39m<\u001b[39m lower_dist) \u001b[39m&\u001b[39m \u001b[39m~\u001b[39mfitting\n\u001b[1;32m     68\u001b[0m h_adjusted[backward] \u001b[39m=\u001b[39m \u001b[39m-\u001b[39mlower_dist[backward] \u001b[39m/\u001b[39m num_steps\n",
      "\u001b[0;31mKeyboardInterrupt\u001b[0m: "
     ]
    }
   ],
   "source": [
    "\n",
    "beta0 = 0.4\n",
    "beta1 = -0.1\n",
    "def lossfunction(beta0hat, beta1hat, beta0=0.4, beta1=-0.1):\n",
    "    return (beta0-beta0hat)**2 + (beta1-beta1hat)**2 \n",
    "\n",
    "winners = {}\n",
    "winners['alpha'] = []\n",
    "winners['sigma'] = []\n",
    "winners['loss'] = []\n",
    "\n",
    "all = {}\n",
    "all['alpha'] = []\n",
    "all['sigma'] = []\n",
    "all['loss'] = []\n",
    "\n",
    "for model.par.alpha in tqdm(np.linspace(0,1, 50)):\n",
    "    for model.par.sigma in np.linspace(0, 3, 50):\n",
    "            sol = model.solve_wF_vec()\n",
    "            model.run_regression()\n",
    "            beta0hat = model.sol.beta0\n",
    "            beta1hat = model.sol.beta1\n",
    "            #print(f'beta0 = {model.sol.beta0:.3} and beta_1 = {model.sol.beta1:.3}')\n",
    "            loss = lossfunction(beta0hat, beta1hat)\n",
    "            all['alpha'].append(model.par.alpha)\n",
    "            all['sigma'].append(model.par.sigma)\n",
    "            all['loss'].append(loss) \n",
    "            if -0.4 <= loss <= 0.4:\n",
    "                 winners['alpha'].append(model.par.alpha)\n",
    "                 winners['sigma'].append(model.par.sigma)\n",
    "                 winners['loss'].append(loss)\n",
    "\n",
    "model.par.alpha = 0.5\n",
    "model.par.sigma = 1\n",
    "\n"
   ]
  },
  {
   "cell_type": "code",
   "execution_count": 156,
   "metadata": {},
   "outputs": [
    {
     "data": {
      "text/html": [
       "<div>\n",
       "<style scoped>\n",
       "    .dataframe tbody tr th:only-of-type {\n",
       "        vertical-align: middle;\n",
       "    }\n",
       "\n",
       "    .dataframe tbody tr th {\n",
       "        vertical-align: top;\n",
       "    }\n",
       "\n",
       "    .dataframe thead th {\n",
       "        text-align: right;\n",
       "    }\n",
       "</style>\n",
       "<table border=\"1\" class=\"dataframe\">\n",
       "  <thead>\n",
       "    <tr style=\"text-align: right;\">\n",
       "      <th></th>\n",
       "      <th>alpha</th>\n",
       "      <th>sigma</th>\n",
       "      <th>loss</th>\n",
       "    </tr>\n",
       "  </thead>\n",
       "  <tbody>\n",
       "    <tr>\n",
       "      <th>11</th>\n",
       "      <td>0.666667</td>\n",
       "      <td>0.333333</td>\n",
       "      <td>0.065146</td>\n",
       "    </tr>\n",
       "    <tr>\n",
       "      <th>13</th>\n",
       "      <td>0.777778</td>\n",
       "      <td>0.333333</td>\n",
       "      <td>0.073081</td>\n",
       "    </tr>\n",
       "    <tr>\n",
       "      <th>8</th>\n",
       "      <td>0.555556</td>\n",
       "      <td>0.333333</td>\n",
       "      <td>0.154398</td>\n",
       "    </tr>\n",
       "    <tr>\n",
       "      <th>14</th>\n",
       "      <td>0.888889</td>\n",
       "      <td>0.000000</td>\n",
       "      <td>0.170005</td>\n",
       "    </tr>\n",
       "    <tr>\n",
       "      <th>12</th>\n",
       "      <td>0.777778</td>\n",
       "      <td>0.000000</td>\n",
       "      <td>0.170005</td>\n",
       "    </tr>\n",
       "    <tr>\n",
       "      <th>10</th>\n",
       "      <td>0.666667</td>\n",
       "      <td>0.000000</td>\n",
       "      <td>0.170005</td>\n",
       "    </tr>\n",
       "    <tr>\n",
       "      <th>7</th>\n",
       "      <td>0.555556</td>\n",
       "      <td>0.000000</td>\n",
       "      <td>0.170005</td>\n",
       "    </tr>\n",
       "    <tr>\n",
       "      <th>0</th>\n",
       "      <td>0.000000</td>\n",
       "      <td>0.000000</td>\n",
       "      <td>0.170005</td>\n",
       "    </tr>\n",
       "    <tr>\n",
       "      <th>4</th>\n",
       "      <td>0.444444</td>\n",
       "      <td>0.000000</td>\n",
       "      <td>0.170005</td>\n",
       "    </tr>\n",
       "    <tr>\n",
       "      <th>3</th>\n",
       "      <td>0.333333</td>\n",
       "      <td>0.000000</td>\n",
       "      <td>0.170005</td>\n",
       "    </tr>\n",
       "    <tr>\n",
       "      <th>2</th>\n",
       "      <td>0.222222</td>\n",
       "      <td>0.000000</td>\n",
       "      <td>0.170005</td>\n",
       "    </tr>\n",
       "    <tr>\n",
       "      <th>1</th>\n",
       "      <td>0.111111</td>\n",
       "      <td>0.000000</td>\n",
       "      <td>0.170005</td>\n",
       "    </tr>\n",
       "    <tr>\n",
       "      <th>16</th>\n",
       "      <td>1.000000</td>\n",
       "      <td>0.000000</td>\n",
       "      <td>0.170005</td>\n",
       "    </tr>\n",
       "    <tr>\n",
       "      <th>15</th>\n",
       "      <td>0.888889</td>\n",
       "      <td>0.333333</td>\n",
       "      <td>0.179011</td>\n",
       "    </tr>\n",
       "    <tr>\n",
       "      <th>9</th>\n",
       "      <td>0.555556</td>\n",
       "      <td>0.666667</td>\n",
       "      <td>0.192395</td>\n",
       "    </tr>\n",
       "    <tr>\n",
       "      <th>5</th>\n",
       "      <td>0.444444</td>\n",
       "      <td>0.333333</td>\n",
       "      <td>0.268742</td>\n",
       "    </tr>\n",
       "    <tr>\n",
       "      <th>6</th>\n",
       "      <td>0.444444</td>\n",
       "      <td>0.666667</td>\n",
       "      <td>0.399368</td>\n",
       "    </tr>\n",
       "  </tbody>\n",
       "</table>\n",
       "</div>"
      ],
      "text/plain": [
       "       alpha     sigma      loss\n",
       "11  0.666667  0.333333  0.065146\n",
       "13  0.777778  0.333333  0.073081\n",
       "8   0.555556  0.333333  0.154398\n",
       "14  0.888889  0.000000  0.170005\n",
       "12  0.777778  0.000000  0.170005\n",
       "10  0.666667  0.000000  0.170005\n",
       "7   0.555556  0.000000  0.170005\n",
       "0   0.000000  0.000000  0.170005\n",
       "4   0.444444  0.000000  0.170005\n",
       "3   0.333333  0.000000  0.170005\n",
       "2   0.222222  0.000000  0.170005\n",
       "1   0.111111  0.000000  0.170005\n",
       "16  1.000000  0.000000  0.170005\n",
       "15  0.888889  0.333333  0.179011\n",
       "9   0.555556  0.666667  0.192395\n",
       "5   0.444444  0.333333  0.268742\n",
       "6   0.444444  0.666667  0.399368"
      ]
     },
     "execution_count": 156,
     "metadata": {},
     "output_type": "execute_result"
    }
   ],
   "source": [
    "winner_df = pd.DataFrame(winners)\n",
    "winner_df.sort_values(by='loss')\n"
   ]
  },
  {
   "cell_type": "code",
   "execution_count": 181,
   "metadata": {},
   "outputs": [],
   "source": [
    "all = pd.DataFrame(all)"
   ]
  },
  {
   "cell_type": "code",
   "execution_count": 182,
   "metadata": {},
   "outputs": [
    {
     "data": {
      "text/html": [
       "<div>\n",
       "<style scoped>\n",
       "    .dataframe tbody tr th:only-of-type {\n",
       "        vertical-align: middle;\n",
       "    }\n",
       "\n",
       "    .dataframe tbody tr th {\n",
       "        vertical-align: top;\n",
       "    }\n",
       "\n",
       "    .dataframe thead th {\n",
       "        text-align: right;\n",
       "    }\n",
       "</style>\n",
       "<table border=\"1\" class=\"dataframe\">\n",
       "  <thead>\n",
       "    <tr style=\"text-align: right;\">\n",
       "      <th></th>\n",
       "      <th>alpha</th>\n",
       "      <th>sigma</th>\n",
       "      <th>loss</th>\n",
       "    </tr>\n",
       "  </thead>\n",
       "  <tbody>\n",
       "    <tr>\n",
       "      <th>0</th>\n",
       "      <td>0.0</td>\n",
       "      <td>0.000000</td>\n",
       "      <td>0.170005</td>\n",
       "    </tr>\n",
       "    <tr>\n",
       "      <th>1</th>\n",
       "      <td>0.0</td>\n",
       "      <td>0.061224</td>\n",
       "      <td>1467.152848</td>\n",
       "    </tr>\n",
       "    <tr>\n",
       "      <th>2</th>\n",
       "      <td>0.0</td>\n",
       "      <td>0.122449</td>\n",
       "      <td>1407.827167</td>\n",
       "    </tr>\n",
       "    <tr>\n",
       "      <th>3</th>\n",
       "      <td>0.0</td>\n",
       "      <td>0.183673</td>\n",
       "      <td>1423.526260</td>\n",
       "    </tr>\n",
       "    <tr>\n",
       "      <th>4</th>\n",
       "      <td>0.0</td>\n",
       "      <td>0.244898</td>\n",
       "      <td>1374.884773</td>\n",
       "    </tr>\n",
       "    <tr>\n",
       "      <th>...</th>\n",
       "      <td>...</td>\n",
       "      <td>...</td>\n",
       "      <td>...</td>\n",
       "    </tr>\n",
       "    <tr>\n",
       "      <th>2495</th>\n",
       "      <td>1.0</td>\n",
       "      <td>2.755102</td>\n",
       "      <td>NaN</td>\n",
       "    </tr>\n",
       "    <tr>\n",
       "      <th>2496</th>\n",
       "      <td>1.0</td>\n",
       "      <td>2.816327</td>\n",
       "      <td>NaN</td>\n",
       "    </tr>\n",
       "    <tr>\n",
       "      <th>2497</th>\n",
       "      <td>1.0</td>\n",
       "      <td>2.877551</td>\n",
       "      <td>NaN</td>\n",
       "    </tr>\n",
       "    <tr>\n",
       "      <th>2498</th>\n",
       "      <td>1.0</td>\n",
       "      <td>2.938776</td>\n",
       "      <td>NaN</td>\n",
       "    </tr>\n",
       "    <tr>\n",
       "      <th>2499</th>\n",
       "      <td>1.0</td>\n",
       "      <td>3.000000</td>\n",
       "      <td>NaN</td>\n",
       "    </tr>\n",
       "  </tbody>\n",
       "</table>\n",
       "<p>2500 rows × 3 columns</p>\n",
       "</div>"
      ],
      "text/plain": [
       "      alpha     sigma         loss\n",
       "0       0.0  0.000000     0.170005\n",
       "1       0.0  0.061224  1467.152848\n",
       "2       0.0  0.122449  1407.827167\n",
       "3       0.0  0.183673  1423.526260\n",
       "4       0.0  0.244898  1374.884773\n",
       "...     ...       ...          ...\n",
       "2495    1.0  2.755102          NaN\n",
       "2496    1.0  2.816327          NaN\n",
       "2497    1.0  2.877551          NaN\n",
       "2498    1.0  2.938776          NaN\n",
       "2499    1.0  3.000000          NaN\n",
       "\n",
       "[2500 rows x 3 columns]"
      ]
     },
     "execution_count": 182,
     "metadata": {},
     "output_type": "execute_result"
    }
   ],
   "source": [
    "all"
   ]
  },
  {
   "cell_type": "code",
   "execution_count": 183,
   "metadata": {},
   "outputs": [],
   "source": [
    "#all_no_nan = all.loc[(all['loss'].isnull()==False)&(all['sigma']<1)&(all['alpha']<1)&(all['loss']<100), :]\n",
    "all_no_nan = all.loc[all['loss']<100, :]"
   ]
  },
  {
   "cell_type": "code",
   "execution_count": 214,
   "metadata": {},
   "outputs": [],
   "source": [
    "fig = plt.figure(constrained_layout=True)\n",
    "ax = fig.add_subplot(1,1,1,projection='3d') # create a 3d type axis \n",
    "x = all['alpha']\n",
    "y = all['sigma']\n",
    "z = all['loss']\n",
    "ax.set_xlabel('alpha')\n",
    "ax.set_ylabel('sigma')\n",
    "ax.set_zlabel('loss')\n",
    "ax.invert_xaxis()\n",
    "ax.plot_trisurf(x,y, z, cmap='PiYG'); # create surface plot in the axis\n",
    "# note: fig.add_subplot(a,b,c) creates the c'th subplot in a grid of a times b pl"
   ]
  },
  {
   "cell_type": "code",
   "execution_count": 215,
   "metadata": {},
   "outputs": [],
   "source": [
    "fig = plt.figure(constrained_layout=True)\n",
    "ax = fig.add_subplot(1,1,1,projection='3d') # create a 3d type axis \n",
    "x = all_no_nan['alpha']\n",
    "y = all_no_nan['sigma']\n",
    "z = all_no_nan['loss']\n",
    "ax.set_xlabel('alpha')\n",
    "ax.set_ylabel('sigma')\n",
    "ax.set_zlabel('loss')\n",
    "ax.invert_xaxis()\n",
    "ax.plot_trisurf(x,y, z, cmap='Blues'); # create surface plot in the axis\n",
    "# note: fig.add_subplot(a,b,c) creates the c'th subplot in a grid of a times b pl"
   ]
  },
  {
   "cell_type": "code",
   "execution_count": 217,
   "metadata": {},
   "outputs": [],
   "source": [
    "df = all.loc[all['loss']<0.3]\n",
    "fig = plt.figure(constrained_layout=True)\n",
    "ax = fig.add_subplot(1,1,1,projection='3d') # create a 3d type axis \n",
    "x = df['alpha']\n",
    "y = df['sigma']\n",
    "z = df['loss']\n",
    "ax.set_xlabel('alpha')\n",
    "ax.set_ylabel('sigma')\n",
    "ax.set_zlabel('loss')\n",
    "ax.invert_xaxis()\n",
    "ax.plot_trisurf(x,y, z, cmap='PiYG'); # create surface plot in the axis\n",
    "# note: fig.add_subplot(a,b,c) creates the c'th subplot in a grid of a times b pl"
   ]
  },
  {
   "attachments": {},
   "cell_type": "markdown",
   "metadata": {},
   "source": [
    "**Estimate like Jeppe Did in the ASAD lecture**"
   ]
  },
  {
   "cell_type": "code",
   "execution_count": 189,
   "metadata": {},
   "outputs": [],
   "source": [
    "\n",
    "\n",
    "def obj(x, parnames, do_print=False):\n",
    "      # a. update parameters\n",
    "    for xval,parname in zip(x,parnames):\n",
    "        par.__dict__[parname] = xval\n",
    "        if do_print: print(f'{parname:10s} = {xval:.4f}')\n",
    "\n",
    "    if do_print: print('')\n",
    "\n",
    "    # b. simulate and calculate moments\n",
    "    model.solve_wF_vec()\n",
    "    model.run_regression()\n",
    "\n",
    "    # c. compare with data\n",
    "    error = model.loss_function()\n",
    "\n",
    "    return error\n",
    "\n"
   ]
  },
  {
   "attachments": {},
   "cell_type": "markdown",
   "metadata": {},
   "source": [
    "**Calculate objective at initial values:**"
   ]
  },
  {
   "cell_type": "code",
   "execution_count": 198,
   "metadata": {},
   "outputs": [
    {
     "name": "stdout",
     "output_type": "stream",
     "text": [
      "alpha      = 0.5000\n",
      "sigma      = 0.7000\n",
      "\n",
      "0.3814121057393089\n"
     ]
    }
   ],
   "source": [
    "par = model.par\n",
    "model.par.alpha = 0.5\n",
    "model.par.sigma = 0.8\n",
    "parnames = ['alpha','sigma']\n",
    "\n",
    "#x0 = [par.__dict__[parname] for parname in parnames]\n",
    "x0 = [0.5, 0.7]\n",
    "error_ = obj(x0,parnames,do_print=True)\n",
    "print(error_)"
   ]
  },
  {
   "cell_type": "code",
   "execution_count": 199,
   "metadata": {},
   "outputs": [],
   "source": [
    "bounds = ((0,1),(0,100))\n",
    "res = optimize.minimize(obj,x0,bounds=bounds,method='nelder-mead',args=(parnames))"
   ]
  },
  {
   "cell_type": "code",
   "execution_count": 196,
   "metadata": {},
   "outputs": [],
   "source": [
    "assert res.success"
   ]
  },
  {
   "cell_type": "code",
   "execution_count": 200,
   "metadata": {},
   "outputs": [
    {
     "name": "stdout",
     "output_type": "stream",
     "text": [
      "alpha      = 0.9881\n",
      "sigma      = 0.0911\n",
      "\n",
      "5.998033018136862e-08\n"
     ]
    }
   ],
   "source": [
    "error_ = obj(res.x, parnames, do_print=True)\n",
    "print(error_)"
   ]
  },
  {
   "attachments": {},
   "cell_type": "markdown",
   "metadata": {},
   "source": [
    "**Estimate with module in \"HSM_model_copy.py\"**"
   ]
  },
  {
   "cell_type": "code",
   "execution_count": 268,
   "metadata": {},
   "outputs": [
    {
     "name": "stdout",
     "output_type": "stream",
     "text": [
      "0.007031250000000003 0.0\n"
     ]
    }
   ],
   "source": [
    "print(model.par.alpha, model.par.sigma)\n"
   ]
  },
  {
   "cell_type": "code",
   "execution_count": 292,
   "metadata": {},
   "outputs": [
    {
     "name": "stdout",
     "output_type": "stream",
     "text": [
      "alpha      = 0.9882\n",
      "sigma      = 0.0910\n",
      "\n"
     ]
    }
   ],
   "source": [
    "model.par.alpha = 0.99\n",
    "model.par.sigma = 0.1\n",
    "error = model.estimate()"
   ]
  },
  {
   "cell_type": "code",
   "execution_count": 293,
   "metadata": {},
   "outputs": [
    {
     "name": "stdout",
     "output_type": "stream",
     "text": [
      "8.825950489998941e-09\n"
     ]
    }
   ],
   "source": [
    "print(error)"
   ]
  }
 ],
 "metadata": {
  "kernelspec": {
   "display_name": "numecon",
   "language": "python",
   "name": "python3"
  },
  "language_info": {
   "codemirror_mode": {
    "name": "ipython",
    "version": 3
   },
   "file_extension": ".py",
   "mimetype": "text/x-python",
   "name": "python",
   "nbconvert_exporter": "python",
   "pygments_lexer": "ipython3",
   "version": "3.9.16"
  },
  "orig_nbformat": 4
 },
 "nbformat": 4,
 "nbformat_minor": 2
}
