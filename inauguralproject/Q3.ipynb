{
 "cells": [
  {
   "cell_type": "code",
   "execution_count": 47,
   "metadata": {},
   "outputs": [
    {
     "name": "stdout",
     "output_type": "stream",
     "text": [
      "The autoreload extension is already loaded. To reload it, use:\n",
      "  %reload_ext autoreload\n"
     ]
    }
   ],
   "source": [
    "%load_ext autoreload\n",
    "%autoreload 2\n",
    "\n",
    "from HouseholdSpecializationModel import HouseholdSpecializationModelClass\n",
    "import numpy as np\n",
    "import pandas as pd"
   ]
  },
  {
   "cell_type": "code",
   "execution_count": 101,
   "metadata": {},
   "outputs": [
    {
     "name": "stdout",
     "output_type": "stream",
     "text": [
      "namespace(rho=2.0, nu=0.001, epsilon=1.0, omega=0.5, alpha=0.5, sigma=1.0, wM=1.0, wF=1.0, wF_vec=array([0.8, 0.9, 1. , 1.1, 1.2]), beta0_target=0.4, beta1_target=-0.1)\n"
     ]
    }
   ],
   "source": [
    "model = HouseholdSpecializationModelClass()\n",
    "\n",
    "print(model.par)"
   ]
  },
  {
   "cell_type": "code",
   "execution_count": 102,
   "metadata": {},
   "outputs": [],
   "source": [
    "solutions = {}\n",
    "solutions['HF'] = []\n",
    "solutions['HM'] = []\n",
    "solutions['WF'] = []\n",
    "solutions['WM'] = []\n",
    "\n",
    "for i in [0.8, 0.9, 1.0, 1.1, 1.2]:\n",
    "    model.par.wF = i\n",
    "    solution = model.solve()\n",
    "    solutions['HF'].append(solution.HF)\n",
    "    solutions['HM'].append(solution.HM)\n",
    "    solutions['WF'].append(model.par.wF)\n",
    "    solutions['WM'].append(model.par.wM)\n",
    "\n",
    "#\n",
    "df = pd.DataFrame(solutions)\n"
   ]
  },
  {
   "cell_type": "code",
   "execution_count": 112,
   "metadata": {},
   "outputs": [
    {
     "data": {
      "text/html": [
       "<div>\n",
       "<style scoped>\n",
       "    .dataframe tbody tr th:only-of-type {\n",
       "        vertical-align: middle;\n",
       "    }\n",
       "\n",
       "    .dataframe tbody tr th {\n",
       "        vertical-align: top;\n",
       "    }\n",
       "\n",
       "    .dataframe thead th {\n",
       "        text-align: right;\n",
       "    }\n",
       "</style>\n",
       "<table border=\"1\" class=\"dataframe\">\n",
       "  <thead>\n",
       "    <tr style=\"text-align: right;\">\n",
       "      <th></th>\n",
       "      <th>HF</th>\n",
       "      <th>HM</th>\n",
       "    </tr>\n",
       "  </thead>\n",
       "  <tbody>\n",
       "    <tr>\n",
       "      <th>0</th>\n",
       "      <td>5.095738</td>\n",
       "      <td>4.087068</td>\n",
       "    </tr>\n",
       "    <tr>\n",
       "      <th>1</th>\n",
       "      <td>4.493532</td>\n",
       "      <td>4.489155</td>\n",
       "    </tr>\n",
       "    <tr>\n",
       "      <th>2</th>\n",
       "      <td>4.454001</td>\n",
       "      <td>4.454001</td>\n",
       "    </tr>\n",
       "    <tr>\n",
       "      <th>3</th>\n",
       "      <td>4.415348</td>\n",
       "      <td>4.419206</td>\n",
       "    </tr>\n",
       "    <tr>\n",
       "      <th>4</th>\n",
       "      <td>4.377734</td>\n",
       "      <td>4.385003</td>\n",
       "    </tr>\n",
       "  </tbody>\n",
       "</table>\n",
       "</div>"
      ],
      "text/plain": [
       "         HF        HM\n",
       "0  5.095738  4.087068\n",
       "1  4.493532  4.489155\n",
       "2  4.454001  4.454001\n",
       "3  4.415348  4.419206\n",
       "4  4.377734  4.385003"
      ]
     },
     "execution_count": 112,
     "metadata": {},
     "output_type": "execute_result"
    }
   ],
   "source": [
    "contionoussolution = model.solve_wF_vec(discrete=False)\n",
    "\n",
    "df1 = {}\n",
    "df1['HF'] = contionoussolution.HF_vec\n",
    "df1['HM'] = contionoussolution.HM_vec\n",
    "\n",
    "df1 = pd.DataFrame(df1)\n",
    "df1\n",
    "\n"
   ]
  },
  {
   "cell_type": "code",
   "execution_count": 114,
   "metadata": {},
   "outputs": [
    {
     "data": {
      "text/html": [
       "<div>\n",
       "<style scoped>\n",
       "    .dataframe tbody tr th:only-of-type {\n",
       "        vertical-align: middle;\n",
       "    }\n",
       "\n",
       "    .dataframe tbody tr th {\n",
       "        vertical-align: top;\n",
       "    }\n",
       "\n",
       "    .dataframe thead th {\n",
       "        text-align: right;\n",
       "    }\n",
       "</style>\n",
       "<table border=\"1\" class=\"dataframe\">\n",
       "  <thead>\n",
       "    <tr style=\"text-align: right;\">\n",
       "      <th></th>\n",
       "      <th>HF</th>\n",
       "      <th>HM</th>\n",
       "      <th>WF</th>\n",
       "      <th>WM</th>\n",
       "      <th>logHF/logHM</th>\n",
       "      <th>logWF/logWM</th>\n",
       "    </tr>\n",
       "  </thead>\n",
       "  <tbody>\n",
       "    <tr>\n",
       "      <th>0</th>\n",
       "      <td>5.095738</td>\n",
       "      <td>4.087068</td>\n",
       "      <td>0.8</td>\n",
       "      <td>1.0</td>\n",
       "      <td>2.205766e-01</td>\n",
       "      <td>-0.223144</td>\n",
       "    </tr>\n",
       "    <tr>\n",
       "      <th>1</th>\n",
       "      <td>4.493532</td>\n",
       "      <td>4.489155</td>\n",
       "      <td>0.9</td>\n",
       "      <td>1.0</td>\n",
       "      <td>9.744259e-04</td>\n",
       "      <td>-0.105361</td>\n",
       "    </tr>\n",
       "    <tr>\n",
       "      <th>2</th>\n",
       "      <td>4.454001</td>\n",
       "      <td>4.454001</td>\n",
       "      <td>1.0</td>\n",
       "      <td>1.0</td>\n",
       "      <td>6.119879e-09</td>\n",
       "      <td>0.000000</td>\n",
       "    </tr>\n",
       "    <tr>\n",
       "      <th>3</th>\n",
       "      <td>4.415348</td>\n",
       "      <td>4.419206</td>\n",
       "      <td>1.1</td>\n",
       "      <td>1.0</td>\n",
       "      <td>-8.732651e-04</td>\n",
       "      <td>0.095310</td>\n",
       "    </tr>\n",
       "    <tr>\n",
       "      <th>4</th>\n",
       "      <td>4.377734</td>\n",
       "      <td>4.385003</td>\n",
       "      <td>1.2</td>\n",
       "      <td>1.0</td>\n",
       "      <td>-1.659164e-03</td>\n",
       "      <td>0.182322</td>\n",
       "    </tr>\n",
       "  </tbody>\n",
       "</table>\n",
       "</div>"
      ],
      "text/plain": [
       "         HF        HM   WF   WM   logHF/logHM  logWF/logWM\n",
       "0  5.095738  4.087068  0.8  1.0  2.205766e-01    -0.223144\n",
       "1  4.493532  4.489155  0.9  1.0  9.744259e-04    -0.105361\n",
       "2  4.454001  4.454001  1.0  1.0  6.119879e-09     0.000000\n",
       "3  4.415348  4.419206  1.1  1.0 -8.732651e-04     0.095310\n",
       "4  4.377734  4.385003  1.2  1.0 -1.659164e-03     0.182322"
      ]
     },
     "execution_count": 114,
     "metadata": {},
     "output_type": "execute_result"
    }
   ],
   "source": [
    "df['logHF/logHM'] = np.log(df['HF']) - np.log(df['HM'])\n",
    "\n",
    "df['logWF/logWM'] = np.log(df['WF']) - np.log(df['WM'])\n",
    "\n",
    "\n",
    "df"
   ]
  },
  {
   "cell_type": "code",
   "execution_count": null,
   "metadata": {},
   "outputs": [],
   "source": [
    "a = model.solve()"
   ]
  },
  {
   "cell_type": "code",
   "execution_count": 104,
   "metadata": {},
   "outputs": [
    {
     "data": {
      "text/plain": [
       "<matplotlib.collections.PathCollection at 0x7f93da93bee0>"
      ]
     },
     "execution_count": 104,
     "metadata": {},
     "output_type": "execute_result"
    },
    {
     "data": {
      "image/png": "[encoded data removed]",
      "text/plain": [
       "<Figure size 640x480 with 1 Axes>"
      ]
     },
     "metadata": {},
     "output_type": "display_data"
    }
   ],
   "source": [
    "from matplotlib import pyplot as plt\n",
    "fig = plt.figure()\n",
    "ax = fig.add_subplot(1,1,1)\n",
    "ax.scatter(df['logWF/logWM'], df['logHF/logHM'])\n"
   ]
  },
  {
   "cell_type": "code",
   "execution_count": 84,
   "metadata": {},
   "outputs": [
    {
     "ename": "NameError",
     "evalue": "name 'df' is not defined",
     "output_type": "error",
     "traceback": [
      "\u001b[0;31m---------------------------------------------------------------------------\u001b[0m",
      "\u001b[0;31mNameError\u001b[0m                                 Traceback (most recent call last)",
      "Cell \u001b[0;32mIn[84], line 1\u001b[0m\n\u001b[0;32m----> 1\u001b[0m df\n",
      "\u001b[0;31mNameError\u001b[0m: name 'df' is not defined"
     ]
    }
   ],
   "source": []
  },
  {
   "cell_type": "markdown",
   "metadata": {},
   "source": []
  },
  {
   "cell_type": "markdown",
   "metadata": {},
   "source": []
  },
  {
   "cell_type": "code",
   "execution_count": 21,
   "metadata": {},
   "outputs": [
    {
     "name": "stdout",
     "output_type": "stream",
     "text": [
      "namespace(LM=5.902199116694388, HM=4.0870678794830235, LF=2.8794249702098367, HF=5.095737687417739)\n"
     ]
    }
   ],
   "source": [
    "print(model.solve())"
   ]
  },
  {
   "cell_type": "code",
   "execution_count": 10,
   "metadata": {},
   "outputs": [
    {
     "name": "stdout",
     "output_type": "stream",
     "text": [
      "start solve_discrete()\n",
      "LM = 4.5000\n",
      "HM = 4.5000\n",
      "LF = 4.5000\n",
      "HF = 4.5000\n",
      "end solve_discrete()\n",
      "4.5 4.5 4.5 4.5\n",
      "\n",
      " The baseline parameters in the model is: \n",
      "1. Preferences           = (rho, epsilon, omega, nu) = (69.00, 1.00, 0.50, 0.001) \n",
      "2. Household production  = (alpha, sigma )           = (0.50, 1.00) \n",
      "3. Wages                 = (wM,wF)                   = (1.00, 1.00) \n",
      "\n",
      "\n",
      " The baseline parameters in the model is: \n",
      "1. Preferences           = (rho, epsilon, omega, nu) = (2.00, 1.00, 0.50, 0.001) \n",
      "2. Household production  = (alpha, sigma )           = (0.50, 1.00) \n",
      "3. Wages                 = (wM,wF)                   = (1.00, 1.00) \n",
      "\n"
     ]
    }
   ],
   "source": [
    "# Assignment 1\n",
    "\n",
    "# assign class from module\n",
    "model = HouseholdSpecializationModelClass()\n",
    "\n",
    "# this is how we change the par(ameter) values in HSMC:\n",
    "HSMC.par.alpha = 0.5\n",
    "HSMC.par.sigma = 1\n",
    "\n",
    "# our discrete solution is an SimpleNamespace\n",
    "solution = HSMC.solve_discrete()\n",
    "\n",
    "# which we can print as defined in class\n",
    "HSMC.solve_discrete(do_print=True)\n",
    "\n",
    "# we can unpack our solution as a dictionary \n",
    "dict_sol = vars(solution)\n",
    "\n",
    "\n",
    "# ... and store as variables\n",
    "LM, HM, LF, HF = dict_sol.values()\n",
    "print(LM, HM, LF, HF)\n",
    "\n",
    "\n",
    "# KJT: missing plotting\n",
    "\n",
    "\n",
    "# note: i have added a __str__ to the class, so we always can see the baseline parameters\n",
    "HSMC.par.rho=69\n",
    "print(HSMC)\n",
    "\n",
    "HSMC.par.rho=2\n",
    "print(HSMC)  \n",
    "\n"
   ]
  },
  {
   "cell_type": "code",
   "execution_count": null,
   "metadata": {},
   "outputs": [
    {
     "name": "stdout",
     "output_type": "stream",
     "text": [
      "\n",
      " The baseline parameters in the model is: \n",
      "1. Preferences           = (rho, epsilon, omega, nu) = (2.00, 1.00, 0.50, 0.001) \n",
      "2. Household production  = (alpha, sigma )           = (0.50, 1.00) \n",
      "3. Wages                 = (wM,wF)                   = (1.00, 1.00) \n",
      "\n",
      "start solve()\n",
      "LM = 4.4540\n",
      "HM = 4.4540\n",
      "LF = 4.4540\n",
      "HF = 4.4540\n",
      "end solve()\n",
      "start solve_discrete()\n",
      "LM = 4.5000\n",
      "HM = 4.5000\n",
      "LF = 4.5000\n",
      "HF = 4.5000\n",
      "end solve_discrete()\n",
      "start solve_wF_vec()\n",
      "wf_vec = [0.8 0.9 1.  1.1 1.2]\n",
      "LM_vec = [5.90219912 4.67971036 4.45400058 4.24673723 4.05670539]\n",
      "HM_vec = [4.08706788 4.48915532 4.45400056 4.41920581 4.385003  ]\n",
      "LF_vec = [2.87942497 4.298631   4.45400058 4.5844395  4.69404487]\n",
      "HF_vec = [5.09573769 4.4935318  4.45400058 4.41534835 4.3777336 ]\n",
      "end solve_wF_vec()\n",
      "\n",
      " The baseline parameters in the model is: \n",
      "1. Preferences           = (rho, epsilon, omega, nu) = (2.00, 1.00, 0.50, 0.001) \n",
      "2. Household production  = (alpha, sigma )           = (0.50, 1.00) \n",
      "3. Wages                 = (wM,wF)                   = (1.00, 1.00) \n",
      "\n"
     ]
    }
   ],
   "source": [
    "# assignment 3\n",
    "\n",
    "print(HSMC)\n",
    "\n",
    "# solve continously\n",
    "HSMC.solve(do_print=True)\n",
    "\n",
    "# results seems to be aligned with the discrete solution, check for base values\n",
    "HSMC.solve_discrete(do_print=True)\n",
    "\n",
    "# for different values for wF, see function .solve_wF_vec, not sure if right way.\n",
    "wF_vec_SOL = HSMC.solve_wF_vec(do_print=True)\n",
    "\n",
    "print(HSMC)\n",
    "\n",
    "# KJT: need to plot.\n"
   ]
  },
  {
   "cell_type": "markdown",
   "metadata": {},
   "source": [
    "## UNDERSTAND MODULE"
   ]
  },
  {
   "cell_type": "code",
   "execution_count": null,
   "metadata": {},
   "outputs": [
    {
     "name": "stdout",
     "output_type": "stream",
     "text": [
      "[ 0.  0.  0. ... 24. 24. 24.] 5764801\n",
      "5764801\n"
     ]
    }
   ],
   "source": [
    "# for solve_discrete\n",
    "\n",
    "x = np.linspace(0,24,49)\n",
    "LM,HM,LF,HF = np.meshgrid(x,x,x,x) \n",
    "\n",
    "LM = LM.ravel()\n",
    "\n",
    "print(LM, len(LM))\n",
    "print(49**4)"
   ]
  },
  {
   "cell_type": "code",
   "execution_count": null,
   "metadata": {},
   "outputs": [],
   "source": [
    "model = "
   ]
  }
 ],
 "metadata": {
  "kernelspec": {
   "display_name": "numecon",
   "language": "python",
   "name": "python3"
  },
  "language_info": {
   "codemirror_mode": {
    "name": "ipython",
    "version": 3
   },
   "file_extension": ".py",
   "mimetype": "text/x-python",
   "name": "python",
   "nbconvert_exporter": "python",
   "pygments_lexer": "ipython3",
   "version": "3.9.16"
  },
  "orig_nbformat": 4
 },
 "nbformat": 4,
 "nbformat_minor": 2
}
