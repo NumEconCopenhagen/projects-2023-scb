{
 "cells": [
  {
   "cell_type": "code",
   "execution_count": 66,
   "metadata": {},
   "outputs": [
    {
     "name": "stdout",
     "output_type": "stream",
     "text": [
      "The autoreload extension is already loaded. To reload it, use:\n",
      "  %reload_ext autoreload\n"
     ]
    },
    {
     "name": "stderr",
     "output_type": "stream",
     "text": [
      "[autoreload of HSM_felix failed: Traceback (most recent call last):\n",
      "  File \"/Users/felixjohannespettersson/opt/anaconda3/lib/python3.9/site-packages/IPython/extensions/autoreload.py\", line 245, in check\n",
      "    superreload(m, reload, self.old_objects)\n",
      "  File \"/Users/felixjohannespettersson/opt/anaconda3/lib/python3.9/site-packages/IPython/extensions/autoreload.py\", line 394, in superreload\n",
      "    module = reload(module)\n",
      "  File \"/Users/felixjohannespettersson/opt/anaconda3/lib/python3.9/imp.py\", line 314, in reload\n",
      "    return importlib.reload(module)\n",
      "  File \"/Users/felixjohannespettersson/opt/anaconda3/lib/python3.9/importlib/__init__.py\", line 169, in reload\n",
      "    _bootstrap._exec(spec, module)\n",
      "  File \"<frozen importlib._bootstrap>\", line 613, in _exec\n",
      "  File \"<frozen importlib._bootstrap_external>\", line 846, in exec_module\n",
      "  File \"<frozen importlib._bootstrap_external>\", line 983, in get_code\n",
      "  File \"<frozen importlib._bootstrap_external>\", line 913, in source_to_code\n",
      "  File \"<frozen importlib._bootstrap>\", line 228, in _call_with_frames_removed\n",
      "  File \"/Users/felixjohannespettersson/Documents/projects-2023-scb/inauguralproject/HSM_felix.py\", line 232\n",
      "    def objective_function(self, x)\n",
      "                                   ^\n",
      "SyntaxError: invalid syntax\n",
      "]\n"
     ]
    },
    {
     "ename": "AttributeError",
     "evalue": "'HouseholdSpecializationModelClass' object has no attribute 'objective_function'",
     "output_type": "error",
     "traceback": [
      "\u001b[0;31m---------------------------------------------------------------------------\u001b[0m",
      "\u001b[0;31mAttributeError\u001b[0m                            Traceback (most recent call last)",
      "\u001b[0;32m/var/folders/f8/rfv2dg5j1jl2h__f_28lykhm0000gn/T/ipykernel_71633/3756235516.py\u001b[0m in \u001b[0;36m<module>\u001b[0;34m\u001b[0m\n\u001b[1;32m      8\u001b[0m \u001b[0;34m\u001b[0m\u001b[0m\n\u001b[1;32m      9\u001b[0m \u001b[0;34m\u001b[0m\u001b[0m\n\u001b[0;32m---> 10\u001b[0;31m \u001b[0mHSMC\u001b[0m\u001b[0;34m.\u001b[0m\u001b[0mobjective_function\u001b[0m\u001b[0;34m(\u001b[0m\u001b[0;34m)\u001b[0m\u001b[0;34m\u001b[0m\u001b[0;34m\u001b[0m\u001b[0m\n\u001b[0m\u001b[1;32m     11\u001b[0m \u001b[0;34m\u001b[0m\u001b[0m\n\u001b[1;32m     12\u001b[0m \u001b[0msolution\u001b[0m \u001b[0;34m=\u001b[0m \u001b[0mHSMC\u001b[0m\u001b[0;34m.\u001b[0m\u001b[0mestimate\u001b[0m\u001b[0;34m(\u001b[0m\u001b[0;34m)\u001b[0m\u001b[0;34m\u001b[0m\u001b[0;34m\u001b[0m\u001b[0m\n",
      "\u001b[0;31mAttributeError\u001b[0m: 'HouseholdSpecializationModelClass' object has no attribute 'objective_function'"
     ]
    }
   ],
   "source": [
    "%load_ext autoreload\n",
    "%autoreload 2\n",
    "\n",
    "import numpy as np\n",
    "import HSM_felix as HSM\n",
    "HSMC = HSM.HouseholdSpecializationModelClass()\n",
    "from scipy import optimize\n",
    "\n",
    "\n",
    "solution = optimize.minimize(objec)\n",
    "\n",
    "\n",
    "# def objective_func(par):\n",
    "\n",
    "#     alpha, sigma = par\n",
    "\n",
    "#     HSMC.par.alpha = alpha\n",
    "#     HSMC.par.sigma = sigma\n",
    "\n",
    "\n",
    "#     HSMC.solve_wF_vec()\n",
    "#     HSMC.run_regression()\n",
    "\n",
    "#     beta0 = HSMC.sol.beta0\n",
    "#     beta1 = HSMC.sol.beta1\n",
    "\n",
    "#     print(f'beta0 = {beta0}, beta1 = {beta1}')\n",
    "\n",
    "#     return (0.4-beta0)**2+(-0.1-beta1)**2\n",
    "\n",
    "# bounds = [(1e-8,0.999),(1e-8,2)]\n",
    "# par_init = [0.5,1]\n",
    "# solution = optimize.minimize(objective_func, par_init,bounds=bounds, method = 'Nelder-Mead')\n",
    "\n",
    "# print(f'Optimal value: alpha = {solution.x[0]:.3f}, sigma = {solution.x[1]:.3f}')\n",
    "\n",
    "\n"
   ]
  },
  {
   "cell_type": "code",
   "execution_count": null,
   "metadata": {},
   "outputs": [],
   "source": []
  }
 ],
 "metadata": {
  "kernelspec": {
   "display_name": "base",
   "language": "python",
   "name": "python3"
  },
  "language_info": {
   "codemirror_mode": {
    "name": "ipython",
    "version": 3
   },
   "file_extension": ".py",
   "mimetype": "text/x-python",
   "name": "python",
   "nbconvert_exporter": "python",
   "pygments_lexer": "ipython3",
   "version": "3.9.13"
  },
  "orig_nbformat": 4,
  "vscode": {
   "interpreter": {
    "hash": "49ad86e4173e808dde3ece77db1dfbcd474d878a6d41c4232c4fcffd8704151c"
   }
  }
 },
 "nbformat": 4,
 "nbformat_minor": 2
}
