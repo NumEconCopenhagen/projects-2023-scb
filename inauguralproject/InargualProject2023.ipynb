{
 "cells": [
  {
   "attachments": {},
   "cell_type": "markdown",
   "metadata": {},
   "source": [
    "# Inargural Project 2023"
   ]
  },
  {
   "attachments": {},
   "cell_type": "markdown",
   "metadata": {},
   "source": [
    "Indholdsfortegnelse\n"
   ]
  },
  {
   "cell_type": "code",
   "execution_count": 2,
   "metadata": {},
   "outputs": [],
   "source": [
    "%load_ext autoreload\n",
    "%autoreload 2\n",
    "\n",
    "import HouseholdSpecializationModel as HSM\n",
    "import numpy as np"
   ]
  },
  {
   "cell_type": "code",
   "execution_count": 3,
   "metadata": {},
   "outputs": [
    {
     "name": "stderr",
     "output_type": "stream",
     "text": [
      "/Users/konradthide/Desktop/01.06_IntroProg/assignments/projects-2023-scb/inauguralproject/HouseholdSpecializationModel.py:94: RuntimeWarning: invalid value encountered in reciprocal\n",
      "  utility = np.fmax(Q,1e-8)**(1-par.rho)*(1-par.rho)**-1\n"
     ]
    },
    {
     "name": "stdout",
     "output_type": "stream",
     "text": [
      "start solve_discrete()\n",
      "LM = 4.5000\n",
      "HM = 4.5000\n",
      "LF = 4.5000\n",
      "HF = 4.5000\n",
      "end solve_discrete()\n",
      "4.5 4.5 4.5 4.5\n",
      "\n",
      " The baseline parameters in the model is: \n",
      "1. Preferences           = (rho, epsilon, omega, nu) = (69.00, 1.00, 0.50, 0.001) \n",
      "2. Household production  = (alpha, sigma )           = (0.50, 1.00) \n",
      "3. Wages                 = (wM,wF)                   = (1.00, 1.00) \n",
      "\n",
      "\n",
      " The baseline parameters in the model is: \n",
      "1. Preferences           = (rho, epsilon, omega, nu) = (2.00, 1.00, 0.50, 0.001) \n",
      "2. Household production  = (alpha, sigma )           = (0.50, 1.00) \n",
      "3. Wages                 = (wM,wF)                   = (1.00, 1.00) \n",
      "\n"
     ]
    }
   ],
   "source": [
    "# Assignment 1\n",
    "\n",
    "# assign class from module\n",
    "HSMC = HSM.HouseholdSpecializationModelClass()\n",
    "\n",
    "# this is how we change the par(ameter) values in HSMC:\n",
    "HSMC.par.alpha = 0.5\n",
    "HSMC.par.sigma = 1\n",
    "\n",
    "# our discrete solution is an SimpleNamespace\n",
    "solution = HSMC.solve_discrete()\n",
    "\n",
    "# which we can print as defined in class\n",
    "HSMC.solve_discrete(do_print=True)\n",
    "\n",
    "# we can unpack our solution as a dictionary \n",
    "dict_sol = vars(solution)\n",
    "\n",
    "\n",
    "# ... and store as variables\n",
    "LM, HM, LF, HF = dict_sol.values()\n",
    "print(LM, HM, LF, HF)\n",
    "\n",
    "\n",
    "# KJT: missing plotting\n",
    "\n",
    "\n",
    "# note: i have added a __str__ to the class, so we always can see the baseline parameters\n",
    "HSMC.par.rho=69\n",
    "print(HSMC)\n",
    "\n",
    "HSMC.par.rho=2\n",
    "print(HSMC)  \n",
    "\n"
   ]
  },
  {
   "cell_type": "code",
   "execution_count": 4,
   "metadata": {},
   "outputs": [
    {
     "name": "stdout",
     "output_type": "stream",
     "text": [
      "\n",
      " The baseline parameters in the model is: \n",
      "1. Preferences           = (rho, epsilon, omega, nu) = (2.00, 1.00, 0.50, 0.001) \n",
      "2. Household production  = (alpha, sigma )           = (0.50, 1.00) \n",
      "3. Wages                 = (wM,wF)                   = (1.00, 1.00) \n",
      "\n",
      "start solve()\n",
      "LM = 4.4540\n",
      "HM = 4.4540\n",
      "LF = 4.4540\n",
      "HF = 4.4540\n",
      "end solve()\n",
      "start solve_discrete()\n",
      "LM = 4.5000\n",
      "HM = 4.5000\n",
      "LF = 4.5000\n",
      "HF = 4.5000\n",
      "end solve_discrete()\n",
      "start solve_wF_vec()\n",
      "wf_vec = [0.8 0.9 1.  1.1 1.2]\n",
      "LM_vec = [5.90219912 4.67971036 4.45400058 4.24673723 4.05670539]\n",
      "HM_vec = [4.08706788 4.48915532 4.45400056 4.41920581 4.385003  ]\n",
      "LF_vec = [2.87942497 4.298631   4.45400058 4.5844395  4.69404487]\n",
      "HF_vec = [5.09573769 4.4935318  4.45400058 4.41534835 4.3777336 ]\n",
      "end solve_wF_vec()\n",
      "\n",
      " The baseline parameters in the model is: \n",
      "1. Preferences           = (rho, epsilon, omega, nu) = (2.00, 1.00, 0.50, 0.001) \n",
      "2. Household production  = (alpha, sigma )           = (0.50, 1.00) \n",
      "3. Wages                 = (wM,wF)                   = (1.00, 1.00) \n",
      "\n"
     ]
    }
   ],
   "source": [
    "# assignment 3\n",
    "\n",
    "print(HSMC)\n",
    "\n",
    "# solve continously\n",
    "HSMC.solve(do_print=True)\n",
    "\n",
    "# results seems to be aligned with the discrete solution, check for base values\n",
    "HSMC.solve_discrete(do_print=True)\n",
    "\n",
    "# for different values for wF, see function .solve_wF_vec, not sure if right way.\n",
    "wF_vec_SOL = HSMC.solve_wF_vec(do_print=True)\n",
    "\n",
    "print(HSMC)\n",
    "\n",
    "# KJT: need to plot.\n"
   ]
  },
  {
   "attachments": {},
   "cell_type": "markdown",
   "metadata": {},
   "source": [
    "## UNDERSTAND MODULE"
   ]
  },
  {
   "cell_type": "code",
   "execution_count": 19,
   "metadata": {},
   "outputs": [
    {
     "name": "stdout",
     "output_type": "stream",
     "text": [
      "[ 0.  0.  0. ... 24. 24. 24.] 5764801\n",
      "5764801\n"
     ]
    }
   ],
   "source": [
    "# for solve_discrete\n",
    "\n",
    "x = np.linspace(0,24,49)\n",
    "LM,HM,LF,HF = np.meshgrid(x,x,x,x) \n",
    "\n",
    "LM = LM.ravel()\n",
    "\n",
    "print(LM, len(LM))\n",
    "print(49**4)"
   ]
  },
  {
   "cell_type": "code",
   "execution_count": null,
   "metadata": {},
   "outputs": [],
   "source": []
  }
 ],
 "metadata": {
  "kernelspec": {
   "display_name": "base",
   "language": "python",
   "name": "python3"
  },
  "language_info": {
   "codemirror_mode": {
    "name": "ipython",
    "version": 3
   },
   "file_extension": ".py",
   "mimetype": "text/x-python",
   "name": "python",
   "nbconvert_exporter": "python",
   "pygments_lexer": "ipython3",
   "version": "3.9.13"
  },
  "orig_nbformat": 4
 },
 "nbformat": 4,
 "nbformat_minor": 2
}
