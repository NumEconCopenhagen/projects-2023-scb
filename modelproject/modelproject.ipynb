{
 "cells": [
  {
   "attachments": {},
   "cell_type": "markdown",
   "metadata": {},
   "source": [
    "## Reformkommissionen Nye Reformveje 1's effects in the solow model with human capital\n",
    "On april 6th 2022 Reformkommissionen recommended shortening the length of roughly half of the mastser's degrees in Denmark in the report [Nye Reformveje 1](reformkommissionen) . The suggestions from Reformkommisionen's suggestion has sparked a severe debate e.g in [Jyllandsposten](https://reformkommissionen.dk/media/25523/nye-reformveje-1_web.pdfhttps://reformkommissionen.dk/media/25523/nye-reformveje-1_web.pdf) or [Politiken](https://politiken.dk/debat/debatindlaeg/art9148200/Er-kortere-uddannelse-virkelig-en-katastrofe). \n",
    "\n",
    "\n",
    "One way of interpreting Reformkommisionen's suggestion, is as that the shortened degrees are a reduction in the savings rate of human capital. Thus we believe that the Solow model with human capital is a highly relevant framework to aanlyze the predictions of Reformkomissionen's suggestion."
   ]
  },
  {
   "attachments": {},
   "cell_type": "markdown",
   "metadata": {},
   "source": [
    "> **Note the following:** \n",
    "> 1. The `modelproject.py` file includes a model classe which will be used multiple times in this notebook."
   ]
  },
  {
   "attachments": {},
   "cell_type": "markdown",
   "metadata": {},
   "source": [
    "Imports and set magics:"
   ]
  },
  {
   "cell_type": "code",
   "execution_count": 3,
   "metadata": {},
   "outputs": [
    {
     "name": "stdout",
     "output_type": "stream",
     "text": [
      "The autoreload extension is already loaded. To reload it, use:\n",
      "  %reload_ext autoreload\n"
     ]
    }
   ],
   "source": [
    "import numpy as np\n",
    "from scipy import optimize\n",
    "import sympy as sm\n",
    "from matplotlib import pyplot as plt\n",
    "\n",
    "# autoreload modules when code is run\n",
    "%load_ext autoreload\n",
    "%autoreload 2\n",
    "\n",
    "# local modules\n",
    "from modelproject import Solow # import the Solow model class"
   ]
  },
  {
   "attachments": {},
   "cell_type": "markdown",
   "metadata": {},
   "source": [
    "## Analytical derivation and description of the Solow model"
   ]
  },
  {
   "attachments": {},
   "cell_type": "markdown",
   "metadata": {},
   "source": [
    "### Description"
   ]
  },
  {
   "attachments": {},
   "cell_type": "markdown",
   "metadata": {},
   "source": [
    "### Derivation"
   ]
  },
  {
   "attachments": {},
   "cell_type": "markdown",
   "metadata": {},
   "source": [
    "## Simulation and numerical solution\n",
    "- We solve the model numerically by simulating the model for a given set of parameters until we find the steady state\n",
    "- We check the robustness of the results using many different initial values\n",
    "- Based on the simulation we attempt to determine the optimal savingsrate and find that the optimal savings rates align with theoretical predictions\n",
    "\n",
    "For the baseline simulation results we use the plausable parameters $\\phi=\\alpha=1/3$, $s_k=0.2$, $s_h=0.15$, $\\delta=0.06$. "
   ]
  },
  {
   "attachments": {},
   "cell_type": "markdown",
   "metadata": {},
   "source": [
    "### Simulation"
   ]
  },
  {
   "attachments": {},
   "cell_type": "markdown",
   "metadata": {},
   "source": [
    "### Optimal savings rates"
   ]
  },
  {
   "attachments": {},
   "cell_type": "markdown",
   "metadata": {},
   "source": [
    "Optimal savings rate using a grid search and the scipy module\n",
    "- Using both a grid search and the scipy.optimize.minimize module we find that the optimal savingsrates in te simulated model adhere to the theoretical results\n",
    "$$\\phi=\\alpha=s_k^{opt}=s_h^{opt}=1/3$$"
   ]
  },
  {
   "attachments": {},
   "cell_type": "markdown",
   "metadata": {},
   "source": [
    "### Simulation of a decrease $s_h$ in steady state"
   ]
  },
  {
   "attachments": {},
   "cell_type": "markdown",
   "metadata": {},
   "source": [
    "# Conclusion"
   ]
  },
  {
   "attachments": {},
   "cell_type": "markdown",
   "metadata": {},
   "source": []
  },
  {
   "attachments": {},
   "cell_type": "markdown",
   "metadata": {},
   "source": [
    "Add concise conclusion. "
   ]
  }
 ],
 "metadata": {
  "kernelspec": {
   "display_name": "base",
   "language": "python",
   "name": "python3"
  },
  "language_info": {
   "codemirror_mode": {
    "name": "ipython",
    "version": 3
   },
   "file_extension": ".py",
   "mimetype": "text/x-python",
   "name": "python",
   "nbconvert_exporter": "python",
   "pygments_lexer": "ipython3",
   "version": "3.9.16"
  },
  "toc-autonumbering": true,
  "vscode": {
   "interpreter": {
    "hash": "47ef90cdf3004d3f859f1fb202523c65c07ba7c22eefd261b181f4744e2d0403"
   }
  }
 },
 "nbformat": 4,
 "nbformat_minor": 4
}
