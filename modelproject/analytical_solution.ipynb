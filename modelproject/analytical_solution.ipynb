{
 "cells": [
  {
   "cell_type": "code",
   "execution_count": 2,
   "metadata": {},
   "outputs": [],
   "source": [
    "import sympy as sm"
   ]
  },
  {
   "attachments": {},
   "cell_type": "markdown",
   "metadata": {},
   "source": [
    "We define the solow model with human capital from the listed equations, following standard notation.\n",
    "\n",
    "$$\n",
    "\\begin{align}\n",
    "    Y_t & = K_t^{\\alpha} H_t^{\\phi} (A_tL_t)^{1-\\alpha-\\phi}, &0<α,φ<1\\\\\n",
    "    S_t & = (s_k + s_H) Y_t, &s_k + s_H < 1 \\\\\n",
    "    C_t &= Y_t-S_t = (1-s_K-s_H)Y_t \\\\\n",
    "    K_{t+1} &= s_K Y_t + (1-\\delta)K_t \\\\\n",
    "    H_{t+1} &= s_H Y_T + (1-\\delta)H_t \\\\\n",
    "    L_{t+1} &= (1+n) L_t \\\\\n",
    "    A_{t+1} &= (1+g) L_t \\\\\n",
    "\\end{align}\n",
    "$$\n",
    "\n",
    "We define the tilde transformation of X as\n",
    "$$\n",
    "\\begin{aligned}\n",
    "    \\tilde{X}_t & \\equiv X_t/(A_tL_t) \\\\\n",
    "\\end{aligned}\n",
    "$$\n",
    "\n",
    "Using this transformation, we can rewrite the transitions equation for fysical capital (4) and human capital (5):\n",
    "\n",
    "$$\n",
    "\\begin{aligned}\n",
    "\n",
    "    \\tilde{k}_{t+1} &= \\frac{1}{(1+n)(1+g)}(s_K \\tilde{k}_t^{\\alpha} \\tilde{h}_t^{\\phi} + (1-\\delta) \\tilde{k}_t)\\\\\n",
    "    \n",
    "    \\tilde{h}_{t+1} &= \\frac{1}{(1+n)(1+g)}(s_H \\tilde{h}_t^{\\alpha} \\tilde{h}_t^{\\phi} + (1-\\delta) \\tilde{h}_t)\\\\\n",
    "\n",
    "\\end{aligned}\n",
    "$$\n",
    "\n",
    "We derive "
   ]
  },
  {
   "attachments": {},
   "cell_type": "markdown",
   "metadata": {},
   "source": [
    "Let our steady states values be defined as when $\\tilde{k}_{t+1} = \\tilde{k}_{t} =\\tilde{k}^* $ and  $\\tilde{h}_{t+1} = \\tilde{h}_{t} =\\tilde{h}^* $, respectively. We sole using sympy"
   ]
  },
  {
   "cell_type": "code",
   "execution_count": 85,
   "metadata": {},
   "outputs": [
    {
     "data": {
      "text/latex": [
       "$\\displaystyle \\tilde{k}_{t} = \\frac{\\tilde{h}_{t}^{\\phi} \\tilde{k}_{t}^{\\alpha} s_{K} + \\tilde{k}_{t} \\left(1 - \\delta\\right)}{\\left(g + 1\\right) \\left(n + 1\\right)}$"
      ],
      "text/plain": [
       "Eq(ktilde_t, (htilde_t**phi*ktilde_t**alpha*s_K + ktilde_t*(1 - delta))/((g + 1)*(n + 1)))"
      ]
     },
     "metadata": {},
     "output_type": "display_data"
    },
    {
     "data": {
      "text/latex": [
       "$\\displaystyle \\tilde{h}_{t} = \\frac{\\tilde{h}_{t} \\left(1 - \\delta\\right) + \\tilde{h}_{t}^{\\phi} \\tilde{k}_{t}^{\\alpha} s_{H}}{\\left(g + 1\\right) \\left(n + 1\\right)}$"
      ],
      "text/plain": [
       "Eq(htilde_t, (htilde_t*(1 - delta) + htilde_t**phi*ktilde_t**alpha*s_H)/((g + 1)*(n + 1)))"
      ]
     },
     "metadata": {},
     "output_type": "display_data"
    },
    {
     "name": "stdout",
     "output_type": "stream",
     "text": [
      "nullclines\n",
      "for no change in k tilde:\n"
     ]
    },
    {
     "data": {
      "text/latex": [
       "$\\displaystyle \\tilde{h}_{t} = \\left(\\frac{\\tilde{k}_{t}^{1 - \\alpha} \\left(\\delta + g n + g + n\\right)}{s_{K}}\\right)^{\\frac{1}{\\phi}}$"
      ],
      "text/plain": [
       "Eq(htilde_t, (ktilde_t**(1 - alpha)*(delta + g*n + g + n)/s_K)**(1/phi))"
      ]
     },
     "metadata": {},
     "output_type": "display_data"
    },
    {
     "name": "stdout",
     "output_type": "stream",
     "text": [
      "for no change in h tilde:\n"
     ]
    },
    {
     "data": {
      "text/latex": [
       "$\\displaystyle \\tilde{h}_{t} = \\left(\\frac{\\tilde{k}_{t}^{- \\alpha} \\left(\\delta + g n + g + n\\right)}{s_{H}}\\right)^{\\frac{1}{\\phi - 1}}$"
      ],
      "text/plain": [
       "Eq(htilde_t, ((delta + g*n + g + n)/(ktilde_t**alpha*s_H))**(1/(phi - 1)))"
      ]
     },
     "metadata": {},
     "output_type": "display_data"
    }
   ],
   "source": [
    "x, y, z = sm.symbols('x y z')\n",
    "k_tilde = sm.symbols('ktilde_t')\n",
    "h_tilde = sm.symbols('htilde_t')\n",
    "\n",
    "sK = sm.symbols('s_K')\n",
    "sH = sm.symbols('s_H')\n",
    "g = sm.symbols('g')\n",
    "n = sm.symbols('n')\n",
    "\n",
    "delta = sm.symbols('delta')\n",
    "alpha = sm.symbols('alpha')\n",
    "phi = sm.symbols('phi')\n",
    "\n",
    "# define transistion equations\n",
    "trans_k = sm.Eq(k_tilde, \n",
    "                1/((1+n)*(1+g))*(sK*k_tilde**alpha*h_tilde**phi+(1-delta)*k_tilde))\n",
    "trans_h = sm.Eq(h_tilde, \n",
    "                1/((1+n)*(1+g))*(sH*k_tilde**alpha*h_tilde**phi+(1-delta)*h_tilde))\n",
    "\n",
    "display(trans_k)\n",
    "display(trans_h)\n",
    "\n",
    "# nullclines, isolate for h tilde \n",
    "# i. for no change in k tilde\n",
    "no_change_k = sm.solve(trans_k,h_tilde)[0] \n",
    "null_k = sm.Eq(h_tilde, no_change_k)\n",
    "\n",
    "# ii. for no change in h tilde\n",
    "no_change_h = sm.solve(trans_h,h_tilde)[0]\n",
    "null_h = sm.Eq(h_tilde, no_change_h)\n",
    "\n",
    "print('nullclines')\n",
    "print('for no change in k tilde:')\n",
    "display(null_k)\n",
    "print('for no change in h tilde:')\n",
    "display(null_h)\n"
   ]
  },
  {
   "attachments": {},
   "cell_type": "markdown",
   "metadata": {},
   "source": [
    "As we can see, the nullcline for $\\Delta \\tilde{k}_t = 0$ and $\\Delta \\tilde{h}_t = 0$ is respectively convex and concave in the $\\tilde{k}_t$-dimension"
   ]
  },
  {
   "cell_type": "code",
   "execution_count": 40,
   "metadata": {},
   "outputs": [
    {
     "data": {
      "text/plain": [
       "[]"
      ]
     },
     "execution_count": 40,
     "metadata": {},
     "output_type": "execute_result"
    }
   ],
   "source": [
    "from sympy import solve\n",
    "# from sympy.abc import x, y, z\n",
    "x = sm.symbols('x')\n",
    "y = sm.symbols('y')\n",
    "z = sm.symbols('z')\n",
    "q = sm.symbols('q')\n",
    "sx = sm.symbols('s_X')\n",
    "sy = sm.symbols('s_Y')\n",
    "\n",
    "sm.solve([1/2*(sx*x**y*z**q-2*x),1/2*(sy*x**y*z**q-2*y)],[x,y])"
   ]
  },
  {
   "cell_type": "code",
   "execution_count": null,
   "metadata": {},
   "outputs": [],
   "source": [
    "# nsolve()"
   ]
  }
 ],
 "metadata": {
  "kernelspec": {
   "display_name": "base",
   "language": "python",
   "name": "python3"
  },
  "language_info": {
   "codemirror_mode": {
    "name": "ipython",
    "version": 3
   },
   "file_extension": ".py",
   "mimetype": "text/x-python",
   "name": "python",
   "nbconvert_exporter": "python",
   "pygments_lexer": "ipython3",
   "version": "3.9.13"
  },
  "orig_nbformat": 4
 },
 "nbformat": 4,
 "nbformat_minor": 2
}
