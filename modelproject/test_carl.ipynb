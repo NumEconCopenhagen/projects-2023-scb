{
 "cells": [
  {
   "cell_type": "code",
   "execution_count": 3,
   "metadata": {},
   "outputs": [],
   "source": [
    "%load_ext autoreload\n",
    "%autoreload 2\n",
    "from numericalsavings import Solow"
   ]
  },
  {
   "cell_type": "code",
   "execution_count": 4,
   "metadata": {},
   "outputs": [
    {
     "name": "stdout",
     "output_type": "stream",
     "text": [
      "initialising the model\n",
      "calling .setup()\n"
     ]
    }
   ],
   "source": [
    "model = Solow()"
   ]
  },
  {
   "cell_type": "code",
   "execution_count": 5,
   "metadata": {},
   "outputs": [
    {
     "ename": "IndexError",
     "evalue": "index 200 is out of bounds for axis 0 with size 200",
     "output_type": "error",
     "traceback": [
      "\u001b[0;31m---------------------------------------------------------------------------\u001b[0m",
      "\u001b[0;31mIndexError\u001b[0m                                Traceback (most recent call last)",
      "\u001b[1;32m/Users/carlsimpson/Documents/6. semester polit/Intro Prog/projects-2023-scb/modelproject/test_carl.ipynb Cell 3\u001b[0m in \u001b[0;36m<cell line: 1>\u001b[0;34m()\u001b[0m\n\u001b[0;32m----> <a href='vscode-notebook-cell:/Users/carlsimpson/Documents/6.%20semester%20polit/Intro%20Prog/projects-2023-scb/modelproject/test_carl.ipynb#W2sZmlsZQ%3D%3D?line=0'>1</a>\u001b[0m model\u001b[39m.\u001b[39;49mfind_steady_state()\n",
      "File \u001b[0;32m~/Documents/6. semester polit/Intro Prog/projects-2023-scb/modelproject/numericalsavings.py:66\u001b[0m, in \u001b[0;36mSolow.find_steady_state\u001b[0;34m(self, sK, sH, tol)\u001b[0m\n\u001b[1;32m     63\u001b[0m \u001b[39melse\u001b[39;00m:\n\u001b[1;32m     64\u001b[0m     Y[t] \u001b[39m=\u001b[39m np\u001b[39m.\u001b[39mnan\n\u001b[0;32m---> 66\u001b[0m A[t\u001b[39m+\u001b[39m\u001b[39m1\u001b[39m] \u001b[39m=\u001b[39m A[t]\u001b[39m*\u001b[39m(\u001b[39m1\u001b[39m\u001b[39m+\u001b[39mpar\u001b[39m.\u001b[39mg)     \n\u001b[1;32m     67\u001b[0m L[t\u001b[39m+\u001b[39m\u001b[39m1\u001b[39m] \u001b[39m=\u001b[39m L[t]\u001b[39m*\u001b[39m(\u001b[39m1\u001b[39m\u001b[39m+\u001b[39mpar\u001b[39m.\u001b[39mn) \n\u001b[1;32m     69\u001b[0m H[t\u001b[39m+\u001b[39m\u001b[39m1\u001b[39m] \u001b[39m=\u001b[39m Y[t]\u001b[39m*\u001b[39msH \u001b[39m+\u001b[39m (\u001b[39m1\u001b[39m\u001b[39m-\u001b[39mpar\u001b[39m.\u001b[39mdelta)\u001b[39m*\u001b[39mH[t]\n",
      "\u001b[0;31mIndexError\u001b[0m: index 200 is out of bounds for axis 0 with size 200"
     ]
    }
   ],
   "source": [
    "model.find_steady_state()"
   ]
  },
  {
   "cell_type": "code",
   "execution_count": null,
   "metadata": {},
   "outputs": [],
   "source": []
  }
 ],
 "metadata": {
  "kernelspec": {
   "display_name": "numecon",
   "language": "python",
   "name": "python3"
  },
  "language_info": {
   "codemirror_mode": {
    "name": "ipython",
    "version": 3
   },
   "file_extension": ".py",
   "mimetype": "text/x-python",
   "name": "python",
   "nbconvert_exporter": "python",
   "pygments_lexer": "ipython3",
   "version": "3.9.16"
  },
  "orig_nbformat": 4
 },
 "nbformat": 4,
 "nbformat_minor": 2
}
