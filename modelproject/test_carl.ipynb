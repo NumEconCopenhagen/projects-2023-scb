{
 "cells": [
  {
   "cell_type": "code",
   "execution_count": 31,
   "metadata": {},
   "outputs": [
    {
     "name": "stdout",
     "output_type": "stream",
     "text": [
      "The autoreload extension is already loaded. To reload it, use:\n",
      "  %reload_ext autoreload\n"
     ]
    }
   ],
   "source": [
    "%load_ext autoreload\n",
    "%autoreload 2\n",
    "from modelproject import Solow\n",
    "import matplotlib as plt"
   ]
  },
  {
   "cell_type": "code",
   "execution_count": 32,
   "metadata": {},
   "outputs": [
    {
     "name": "stdout",
     "output_type": "stream",
     "text": [
      "initialising the model\n",
      "calling .setup()\n"
     ]
    }
   ],
   "source": [
    "model = Solow()"
   ]
  },
  {
   "cell_type": "code",
   "execution_count": 33,
   "metadata": {},
   "outputs": [
    {
     "name": "stdout",
     "output_type": "stream",
     "text": [
      "Optimal savings rates are sK = 0.3265306189795918 and sH = 0.3265306189795918\n"
     ]
    }
   ],
   "source": [
    "model.par.simT = 1000\n",
    "discrete_optimum = model.find_opt_s(discrete=True)\n"
   ]
  },
  {
   "cell_type": "code",
   "execution_count": 39,
   "metadata": {},
   "outputs": [
    {
     "name": "stdout",
     "output_type": "stream",
     "text": [
      "Optimal savings rate continoues solution\n"
     ]
    },
    {
     "name": "stderr",
     "output_type": "stream",
     "text": [
      "/Users/carlsimpson/miniconda3/envs/numecon/lib/python3.9/site-packages/scipy/optimize/_minimize.py:565: RuntimeWarning: Method Nelder-Mead cannot handle constraints.\n",
      "  warn('Method %s cannot handle constraints.' % method,\n"
     ]
    },
    {
     "name": "stdout",
     "output_type": "stream",
     "text": [
      "0.3333333558138229 0.3333332845296211\n"
     ]
    }
   ],
   "source": [
    "continueous_solution = model.find_opt_s(discrete=False)\n",
    "print(continueous_solution.sK, continueous_solution.sH)"
   ]
  },
  {
   "attachments": {},
   "cell_type": "markdown",
   "metadata": {},
   "source": [
    "# a shock to sh i steady state"
   ]
  },
  {
   "attachments": {},
   "cell_type": "markdown",
   "metadata": {},
   "source": []
  },
  {
   "attachments": {},
   "cell_type": "markdown",
   "metadata": {},
   "source": [
    "### Reformkommissionen Nye Reformveje 1's effects in the solow model with human capital\n",
    "On april 6th 2022 Reformkommissionen recommended shortening the length of roughly half of the mastser's degrees in Denmark in the report [Nye Reformveje 1](reformkommissionen) . The suggestions from Reformkommisionen's suggestion has sparked a severe debate e.g in [Jyllandsposten](https://reformkommissionen.dk/media/25523/nye-reformveje-1_web.pdfhttps://reformkommissionen.dk/media/25523/nye-reformveje-1_web.pdf) or [Politiken](https://politiken.dk/debat/debatindlaeg/art9148200/Er-kortere-uddannelse-virkelig-en-katastrofe). \n",
    "\n",
    "\n",
    "One way of interpreting Reformkommisionen's suggestion, is as a reduction in the savings rate of human capital. Thus we believe that the Solow model with human capital is a highly relevant framework to aanlyze the predictions of Reformkomissionen's suggestion."
   ]
  },
  {
   "attachments": {},
   "cell_type": "markdown",
   "metadata": {},
   "source": [
    "### Analytical derivation and description of the Solow model"
   ]
  },
  {
   "attachments": {},
   "cell_type": "markdown",
   "metadata": {},
   "source": []
  },
  {
   "attachments": {},
   "cell_type": "markdown",
   "metadata": {},
   "source": [
    "### Simulation of the solow model and numerical solution for the optimal savings rate"
   ]
  },
  {
   "attachments": {},
   "cell_type": "markdown",
   "metadata": {},
   "source": []
  },
  {
   "attachments": {},
   "cell_type": "markdown",
   "metadata": {},
   "source": []
  },
  {
   "attachments": {},
   "cell_type": "markdown",
   "metadata": {},
   "source": [
    "### A shock to the savings rate of human capital"
   ]
  },
  {
   "attachments": {},
   "cell_type": "markdown",
   "metadata": {},
   "source": []
  }
 ],
 "metadata": {
  "kernelspec": {
   "display_name": "numecon",
   "language": "python",
   "name": "python3"
  },
  "language_info": {
   "codemirror_mode": {
    "name": "ipython",
    "version": 3
   },
   "file_extension": ".py",
   "mimetype": "text/x-python",
   "name": "python",
   "nbconvert_exporter": "python",
   "pygments_lexer": "ipython3",
   "version": "3.9.16"
  },
  "orig_nbformat": 4
 },
 "nbformat": 4,
 "nbformat_minor": 2
}
