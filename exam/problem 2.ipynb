{
 "cells": [
  {
   "cell_type": "code",
   "execution_count": 289,
   "metadata": {},
   "outputs": [],
   "source": [
    "import numpy as np\n",
    "from types import SimpleNamespace\n",
    "from scipy import optimize\n",
    "from matplotlib import pyplot as plt\n"
   ]
  },
  {
   "attachments": {},
   "cell_type": "markdown",
   "metadata": {},
   "source": [
    "## 2. <a id='toc2_'></a>[Problem 2: Labor adjustment costs](#toc0_)"
   ]
  },
  {
   "attachments": {},
   "cell_type": "markdown",
   "metadata": {},
   "source": [
    "You own a hair salon. You employ hairdressers, $\\ell_t$, to produce haircuts, $y_t = \\ell_t$.\n",
    "\n",
    "The wage for each haridresser is $w$.\n",
    "\n",
    "The demand for haircuts implies that the price of haircuts you can charge is $p_t = \\kappa_t y_t^{-\\eta}$, where $\\kappa_t$ is a demand-shock and $\\eta \\in (0,1)$ measures the elasticity of demand.\n",
    "\n",
    "Profits are:\n",
    "\n",
    "$$\n",
    "\\Pi_t = p_t y_t - w \\ell_t = \\kappa_t \\ell_t^{1-\\eta} - w \\ell_t\n",
    "$$"
   ]
  },
  {
   "attachments": {},
   "cell_type": "markdown",
   "metadata": {},
   "source": [
    "Baseline parameters are:\n",
    "- $\\eta = 0.5$\n",
    "- $w = 1.0$"
   ]
  },
  {
   "attachments": {},
   "cell_type": "markdown",
   "metadata": {},
   "source": [
    "**Question 1:** Verify numerically that $\\ell_{t}=\\left(\\frac{(1-\\eta)\\kappa_{t}}{w}\\right)^{\\frac{1}{\\eta}}$ maximises profits, for $\\kappa\\in\\left\\{1.0 , 2.0\\right\\}$."
   ]
  },
  {
   "cell_type": "code",
   "execution_count": 290,
   "metadata": {},
   "outputs": [],
   "source": [
    "# define parameter namespace\n",
    "par = SimpleNamespace()\n",
    "par.eta = 0.5\n",
    "par.w = 1.0\n",
    "\n",
    "kappa = [1.0, 2.0]\n",
    "\n",
    "# profit function as defined in assignment text\n",
    "def profits(par, ell, kappa):\n",
    "    return kappa*ell**(1-par.eta)-par.w*ell\n",
    "\n",
    "# optimal ell based on analytical solution\n",
    "def ell_opt_anal(par, kappa):\n",
    "    \"\"\"\n",
    "    Calculates the optimal value of ell based on the analytical solution.\n",
    "\n",
    "    Parameters:\n",
    "    - par: Parameter namspace containing model parameters.\n",
    "    - kappa: Array of kappa values.\n",
    "\n",
    "    Returns:\n",
    "    - ell_opt: Array of optimal ell values corresponding to each kappa value.\n",
    "    \"\"\"\n",
    "    ell_opt = [None]*len(kappa)\n",
    "    for i, k in enumerate(kappa):\n",
    "        ell_opt[i] = ((1-par.eta)*k/par.w)**(1/par.eta)\n",
    "    return ell_opt\n",
    "\n",
    "# rule els based on rule for question 2.2 sames as analytical, but non list based inputs\n",
    "def ell_opt_rulebased(par, kappa):\n",
    "    \"\"\"\n",
    "    Calculates the optimal value of ell based on a rule-based formula.\n",
    "    Parameters:\n",
    "    - par: Parameter namespace containing model parameters.\n",
    "    - kappa: kappa value.\n",
    "\n",
    "    Returns:\n",
    "    - ell_opt: optimal ell value corresponding to kappa value.\n",
    "    \"\"\"\n",
    "    return ((1-par.eta)*kappa/par.w)**(1/par.eta)\n",
    "\n",
    "# optimal ell \n",
    "def sol_ell(par, kappa):\n",
    "    \"\"\" \n",
    "    Calculates optimal ell numerically for a list of given kappas\n",
    "    Parameters:\n",
    "    - par: simple namesspacem with model parameters \n",
    "    - kappa: array of kappas\n",
    "\n",
    "    Returns\n",
    "    - res: Array of results from optimization\n",
    "    \"\"\"\n",
    "    res = [None] * len(kappa)\n",
    "    #loop through kappas\n",
    "    for i, k in enumerate(kappa):\n",
    "        #define objective function \n",
    "        obj = lambda ell: -profits(par, ell, k)\n",
    "        # call optimizer from scipy\n",
    "        x0 = [0.1]\n",
    "        res[i] = optimize.minimize(obj, x0, method='nelder-mead', bounds=((0, np.inf), ))\n",
    "    return res\n",
    "\n",
    "res = sol_ell(par, kappa)\n",
    "opt_anal = ell_opt_anal(par, kappa)\n"
   ]
  },
  {
   "cell_type": "code",
   "execution_count": 291,
   "metadata": {},
   "outputs": [
    {
     "name": "stdout",
     "output_type": "stream",
     "text": [
      "[0.25] [1.] [0.25, 1.0]\n"
     ]
    }
   ],
   "source": [
    "print(res[0].x, res[1].x,opt_anal)"
   ]
  },
  {
   "attachments": {},
   "cell_type": "markdown",
   "metadata": {},
   "source": [
    "Optimizing numerically we find the same solution as the analytical solution. We can check this further by using the numpy \"isclose\" function, using this we again find that the numerical and analytical solution is the same:"
   ]
  },
  {
   "cell_type": "code",
   "execution_count": 292,
   "metadata": {},
   "outputs": [
    {
     "name": "stdout",
     "output_type": "stream",
     "text": [
      "[ True] [ True]\n"
     ]
    }
   ],
   "source": [
    "print(np.isclose(res[0].x,opt_anal[0]),\n",
    "np.isclose(res[1].x, opt_anal[1]))"
   ]
  },
  {
   "attachments": {},
   "cell_type": "markdown",
   "metadata": {},
   "source": [
    "We now consider a *dynamic* version of the model.\n",
    "\n",
    "* The demand-shock is a so-called AR(1) in logs, \n",
    "\n",
    "$$\n",
    "\\log \\kappa_{t} = \\rho \\log \\kappa_{t-1} + \\epsilon_{t},\\,\\,\\, \\epsilon_{t+1} \\sim \\mathcal{N}(-0.5\\sigma_{\\epsilon}^2,\\sigma_{\\epsilon})\n",
    "$$\n",
    "\n",
    "* Any hiring or firing implies a fixed adjustment cost, $\\iota > 0 $.\n",
    "* Future profits are discounted with a monthly factor of $R \\in (0,1)$.\n",
    "\n",
    "The initial demand shock is $\\kappa_{-1} = 1$ and the planning horizon is 10 years, i.e. 120 months so $t \\in \\{0,1,2,\\dots,119\\}$. Initially you don't have any employees, $\\ell_{-1}=0$"
   ]
  },
  {
   "attachments": {},
   "cell_type": "markdown",
   "metadata": {},
   "source": [
    "\n",
    "The *ex post* value of the salon is *conditional* on the shock series is:\n",
    "\n",
    "$$\n",
    "h(\\epsilon_0,\\epsilon_1,\\dots,\\epsilon_{119}) = \\left[\\sum_{t=0}^{119}R^{-t}\\left[\\kappa_{t}\\ell_{t}^{1-\\eta}-w\\ell_{t}-\\boldsymbol{1}_{\\ell_{t}\\neq\\ell_{t-1}}\\iota\\right]\\right]\n",
    "$$\n",
    "\n",
    "The *ex ante* expected value of the salon can be approximated by\n",
    "\n",
    "$$\n",
    "H = \\mathbb{E}[h(\\epsilon_0,\\epsilon_1,\\dots,\\epsilon_{119})] \\approx \\frac{1}{K}\\sum_{k=0}^{K} h(\\epsilon_0^k,\\epsilon_1^k,\\dots,\\epsilon_{119}^k)\n",
    "$$\n",
    "\n",
    "where each $k\\in\\{0,1,\\dots,K-1\\}$ is a random shock series. Maximizing profitability means maximizing $H$.\n"
   ]
  },
  {
   "attachments": {},
   "cell_type": "markdown",
   "metadata": {},
   "source": [
    "Baseline parameters are: \n",
    "\n",
    "- $\\rho = 0.90$\n",
    "- $\\iota = 0.01$\n",
    "- $\\sigma_{\\epsilon} = 0.10$\n",
    "- $R = \\left(1+0.01\\right)^{1/12}$"
   ]
  },
  {
   "attachments": {},
   "cell_type": "markdown",
   "metadata": {},
   "source": [
    "**Question 2:** Calculate $H$ if the policy  $\\ell_{t}=\\left(\\frac{(1-\\eta)\\kappa_{t}}{w}\\right)^{\\frac{1}{\\eta}}$ from question 1 is followed. Choose $K$ so the approximation is good enough to not affect your results substantially."
   ]
  },
  {
   "cell_type": "code",
   "execution_count": 293,
   "metadata": {},
   "outputs": [],
   "source": [
    "# deffine new parameters\n",
    "par.rho = 0.90\n",
    "par.iota = 0.01\n",
    "par.sigma = 0.1\n",
    "par.R = (1+0.01)**(1/12)\n",
    "par.K = 500\n",
    "par.kappa_init = 1\n",
    "par.T = 120\n",
    "par.Delta = 0\n",
    "\n",
    "\n",
    "def kappa_series(par):\n",
    "    \"\"\"\n",
    "    Calculates AR(1) series for given parameters\n",
    "    Parameters:\n",
    "    - par: simple namespace with model paramets\n",
    "    Returns: \n",
    "    - kappa_ar1: AR(1) timeseries of kappa\n",
    "    \"\"\"\n",
    "\n",
    "    eps = np.random.normal(loc=-0.5*par.sigma**2,scale=par.sigma, size=par.T) #create T shocks\n",
    "    log_kappa_ar1 = np.zeros(par.T) #intitiate list for log kappas\n",
    "    kappa_ar1 = np.zeros(par.T) # initiate list kappas \n",
    "    log_kappa_ar1[0] = par.rho*np.log(par.kappa_init)+eps[0] #log kappa0\n",
    "    kappa_ar1[0] = np.exp(log_kappa_ar1[0]) #kappa 0\n",
    "    for i in range(par.T):\n",
    "        if i > 0: #calculate log kappa and kappa for period t\n",
    "            log_kappa_ar1[i] = par.rho*np.log(kappa_ar1[i-1]) + eps[i]\n",
    "            kappa_ar1[i] = np.exp(log_kappa_ar1[i])\n",
    "        else: #let kappa0 be kappa0 \n",
    "            kappa_ar1[i] = kappa_ar1[i]\n",
    "            log_kappa_ar1[i] = log_kappa_ar1[i]\n",
    "    return kappa_ar1"
   ]
  },
  {
   "cell_type": "code",
   "execution_count": 294,
   "metadata": {},
   "outputs": [],
   "source": [
    "def h_func(par, shocks):\n",
    "    \"\"\"\n",
    "    Calculates discounted profits for par.T periods, for given shocks\n",
    "    Args:\n",
    "    - par: SimpleNamespace with model parameters\n",
    "    - shocks: AR(1) process of shocks\n",
    "\n",
    "    Returns:\n",
    "    - np.sum(profit_series): sum of discounted shocks.\n",
    "    \"\"\"\n",
    "\n",
    "    profit_series = np.zeros(par.T)    \n",
    "    ell_series = ell_opt_rulebased(par, shocks)\n",
    "\n",
    "    for i in range(par.T):\n",
    "        if i > 0 and np.abs(ell_series[i]-ell_series[i-1]) > par.Delta:\n",
    "            profit_series[i] = (par.R**-i)*(profits(par, ell_series[i], shocks[i]) -par.iota)\n",
    "        elif i > 0 and np.abs(ell_series[i]-ell_series[i-1]) <= par.Delta:\n",
    "            ell_series[i] = ell_series[i-1] # in this case set ell_t to ell_t-1\n",
    "            profit_series[i] = (par.R**-i)*profits(par, ell_series[i], shocks[i])\n",
    "    return np.sum(profit_series)\n",
    "\n",
    "\n",
    "def big_H(par):\n",
    "    \"\"\"\n",
    "    Simulates profits par.K times\n",
    "    Args:\n",
    "    - par: SimpleNamespace with model parameters\n",
    "\n",
    "    Returns:\n",
    "    - np.mean(h_list): mean of simulated profits\n",
    "    \"\"\"\n",
    "    h_list = np.zeros(par.K)\n",
    "    for i in range(par.K):\n",
    "        shocks = kappa_series(par)\n",
    "        h_list[i] = h_func(par, shocks)\n",
    "    return np.mean(h_list)"
   ]
  },
  {
   "attachments": {},
   "cell_type": "markdown",
   "metadata": {},
   "source": [
    "With above functions we can calculate the expected value of future profits. we plot the results for different Ks to check if K affects the result much. We choose to go with k=1000 for the rest of the assignment."
   ]
  },
  {
   "cell_type": "code",
   "execution_count": 313,
   "metadata": {},
   "outputs": [
    {
     "data": {
      "text/plain": [
       "Text(0, 0.5, 'Expected profits')"
      ]
     },
     "execution_count": 313,
     "metadata": {},
     "output_type": "execute_result"
    },
    {
     "data": {
      "image/png": "[encoded data removed]",
      "text/plain": [
       "<Figure size 640x480 with 1 Axes>"
      ]
     },
     "metadata": {},
     "output_type": "display_data"
    }
   ],
   "source": [
    "par.Delta = 0\n",
    "Ks = np.arange(1, 2000, step=100)\n",
    "\n",
    "prof_Delta_0 = np.zeros(len(Ks))\n",
    "\n",
    "for i,K in enumerate(Ks):\n",
    "    par.K = K\n",
    "    np.random.seed(1234)\n",
    "    prof_Delta_0[i] = big_H(par)]\n",
    "\n",
    "fig, ax = plt.subplots(1,1)\n",
    "ax.plot(Ks, prof_Delta_0, marker='o')\n",
    "ax.set_xlabel('K')\n",
    "ax.set_ylabel('Expected profits')"
   ]
  },
  {
   "attachments": {},
   "cell_type": "markdown",
   "metadata": {},
   "source": [
    "Next, we consider policies on the form:\n",
    "\n",
    "$$\n",
    "\n",
    "\\ell_{t}=\\begin{cases}\n",
    "\\ell_t^{\\ast}  & \\text{if }\\left|\\ell_{t-1}-\\ell_t^{\\ast} \\right|>\\Delta\\\\\n",
    "\\ell_{t-1} & \\text{else }\n",
    "\\end{cases}\n",
    "\\\\\n",
    "\\text{where}\\,\\,\\ell_t^{\\ast} = \\left(\\frac{(1-\\eta)\\kappa_{t}}{w}\\right)^{\\frac{1}{\\eta}} \\\\\n",
    "\n",
    "$$\n",
    "With $\\Delta \\geq 0$ and $\\Delta = 0$ being the previous policy.\n"
   ]
  },
  {
   "attachments": {},
   "cell_type": "markdown",
   "metadata": {},
   "source": [
    "\n",
    "**Question 3:** Calculate $H$ if the policy above was followed with $\\Delta = 0.05$. Does it improve profitability?"
   ]
  },
  {
   "cell_type": "code",
   "execution_count": 315,
   "metadata": {},
   "outputs": [
    {
     "name": "stdout",
     "output_type": "stream",
     "text": [
      "Profits for high delta 28.004,\n",
      " Profits delta =0 27.330\n"
     ]
    }
   ],
   "source": [
    "# write your code here\n",
    "par.Delta= 0.05\n",
    "par.K = 1000\n",
    "np.random.seed(1234)\n",
    "profits_high_Delta = big_H(par)\n",
    "print(f\"Profits for high delta {profits_high_Delta:.3f},\\n Profits delta =0 {prof_Delta_0[10]:.3f}\")"
   ]
  },
  {
   "attachments": {},
   "cell_type": "markdown",
   "metadata": {},
   "source": [
    "We see that profitability is improved for a higher $\\Delta$"
   ]
  },
  {
   "attachments": {},
   "cell_type": "markdown",
   "metadata": {},
   "source": [
    "**Question 4:** Find the optimal $\\Delta$ maximizing $H$. Illustrate your result."
   ]
  },
  {
   "cell_type": "code",
   "execution_count": 317,
   "metadata": {},
   "outputs": [],
   "source": [
    "# write your code here\n",
    "par.K = 1000\n",
    "def obj(Delta, par):\n",
    "    \"\"\"\n",
    "    Objective function used for optimizing choice Delta\n",
    "    Returns:\n",
    "    - negative of expected profits function\n",
    "    \"\"\"\n",
    "    np.random.seed(1234)\n",
    "    par.Delta = Delta\n",
    "    return -1*big_H(par)\n",
    "def sol_Delta(par):\n",
    "    \"\"\"\n",
    "    Calculates optimal Delta\n",
    "    Parameters:\n",
    "    - par: SimpleNamespace with model parameters \n",
    "    \"\"\"\n",
    "    x0 = [0.01]\n",
    "    res = optimize.minimize(obj, args=(par), x0=x0, method='nelder-mead')\n",
    "    return res"
   ]
  },
  {
   "cell_type": "code",
   "execution_count": 318,
   "metadata": {},
   "outputs": [],
   "source": [
    "optimalDelta = sol_Delta(par)"
   ]
  },
  {
   "cell_type": "code",
   "execution_count": 323,
   "metadata": {},
   "outputs": [
    {
     "name": "stdout",
     "output_type": "stream",
     "text": [
      "The optimal solution is 0.075\n"
     ]
    }
   ],
   "source": [
    "print(f\"The optimal solution is {optimalDelta.x[0]:.3f}\")"
   ]
  },
  {
   "attachments": {},
   "cell_type": "markdown",
   "metadata": {},
   "source": [
    "We can illustrate this in a plot with delta on the x axis an profits on the y-axis. The code takes a little long to run."
   ]
  },
  {
   "cell_type": "code",
   "execution_count": 324,
   "metadata": {},
   "outputs": [
    {
     "name": "stderr",
     "output_type": "stream",
     "text": [
      "100it [02:25,  1.45s/it]\n"
     ]
    }
   ],
   "source": [
    "from tqdm import tqdm \n",
    "par.K = 1000\n",
    "H = np.empty(100)\n",
    "Delta = np.linspace(0,0.5,100)\n",
    "for i, d in tqdm(enumerate(Delta)):\n",
    "    par.Delta = d\n",
    "    np.random.seed(1234)\n",
    "    H[i] = big_H(par)"
   ]
  },
  {
   "cell_type": "code",
   "execution_count": 333,
   "metadata": {},
   "outputs": [
    {
     "data": {
      "text/plain": [
       "Text(0, 0.5, 'Expected profits')"
      ]
     },
     "execution_count": 333,
     "metadata": {},
     "output_type": "execute_result"
    },
    {
     "data": {
      "image/png": "[encoded data removed]",
      "text/plain": [
       "<Figure size 640x480 with 1 Axes>"
      ]
     },
     "metadata": {},
     "output_type": "display_data"
    }
   ],
   "source": [
    "fig, ax = plt.subplots(1,1)\n",
    "ax.plot(Delta, H)\n",
    "ymin = ax.get_ylim()[0]\n",
    "ymax = ax.get_ylim()[1]\n",
    "# Add a vertical line at x=3 aligned with the top and bottom of the figure\n",
    "ax.vlines(x=0.05, ymin=ymin, ymax=ymax, color='r', label=\"$\\Delta = 0.05$\")\n",
    "ax.vlines(x=0.07, ymin=ymin, ymax=ymax, color='g', label=\"$\\Delta = 0.07$\")\n",
    "ax.legend()\n",
    "ax.set_xlabel('Delta')\n",
    "ax.set_ylabel('Expected profits')\n"
   ]
  },
  {
   "attachments": {},
   "cell_type": "markdown",
   "metadata": {},
   "source": [
    "Here it we can see that there is an obvious peak around $\\Delta=0.07$"
   ]
  },
  {
   "attachments": {},
   "cell_type": "markdown",
   "metadata": {},
   "source": [
    "\n",
    "**Question 5:** Suggest an alternative policy you believe might improve profitability. Implement and test your policy.\n",
    "\n"
   ]
  },
  {
   "attachments": {},
   "cell_type": "markdown",
   "metadata": {},
   "source": [
    "**Question 5 Answer:**\n",
    "We consider making a good guess of kappa and using this kappa in each period and setting a fixed $\\ell$. Under the assumption that we as hair salon owners have access the mean of the shocks $-0.5\\sigma**2$ and $\\rho$."
   ]
  },
  {
   "cell_type": "code",
   "execution_count": 231,
   "metadata": {},
   "outputs": [],
   "source": [
    "def sim_ell_guess(par):\n",
    "    kappa_guess = np.exp(-5*par.sigma**2/(1-par.rho))\n",
    "    ell = np.full(120, ell_opt_rulebased(par, kappa_guess))\n",
    "    shocks = kappa_series(par)\n",
    "    profit_list = profits(par, ell, shocks)\n",
    "    discounted_profits = np.zeros(120)\n",
    "    for i, p in enumerate(profit_list):\n",
    "        discounted_profits[i] = par.R**-i*p\n",
    "    return np.sum(discounted_profits)"
   ]
  },
  {
   "cell_type": "code",
   "execution_count": 262,
   "metadata": {},
   "outputs": [],
   "source": [
    "def sim_ell_guess_k_times(par):\n",
    "    prof = np.zeros(par.K)\n",
    "    np.random.seed(1)\n",
    "    for i in range(par.K):\n",
    "        prof[i] = sim_ell_guess(par)\n",
    "    return np.mean(prof)"
   ]
  },
  {
   "cell_type": "code",
   "execution_count": 263,
   "metadata": {},
   "outputs": [],
   "source": [
    "guess_profits = sim_ell_guess_k_times(par)"
   ]
  },
  {
   "cell_type": "code",
   "execution_count": 264,
   "metadata": {},
   "outputs": [
    {
     "data": {
      "text/plain": [
       "23.688251408616097"
      ]
     },
     "execution_count": 264,
     "metadata": {},
     "output_type": "execute_result"
    }
   ],
   "source": [
    "guess_profits"
   ]
  },
  {
   "cell_type": "code",
   "execution_count": null,
   "metadata": {},
   "outputs": [],
   "source": []
  }
 ],
 "metadata": {
  "kernelspec": {
   "display_name": "numecon",
   "language": "python",
   "name": "python3"
  },
  "language_info": {
   "codemirror_mode": {
    "name": "ipython",
    "version": 3
   },
   "file_extension": ".py",
   "mimetype": "text/x-python",
   "name": "python",
   "nbconvert_exporter": "python",
   "pygments_lexer": "ipython3",
   "version": "3.9.16"
  },
  "orig_nbformat": 4
 },
 "nbformat": 4,
 "nbformat_minor": 2
}
