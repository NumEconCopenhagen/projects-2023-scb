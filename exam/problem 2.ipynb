{
 "cells": [
  {
   "cell_type": "code",
   "execution_count": 287,
   "metadata": {},
   "outputs": [],
   "source": [
    "import numpy as np\n",
    "from types import SimpleNamespace\n",
    "from scipy import optimize\n",
    "from matplotlib import pyplot as plt"
   ]
  },
  {
   "attachments": {},
   "cell_type": "markdown",
   "metadata": {},
   "source": [
    "## 2. <a id='toc2_'></a>[Problem 2: Labor adjustment costs](#toc0_)"
   ]
  },
  {
   "attachments": {},
   "cell_type": "markdown",
   "metadata": {},
   "source": [
    "You own a hair salon. You employ hairdressers, $\\ell_t$, to produce haircuts, $y_t = \\ell_t$.\n",
    "\n",
    "The wage for each haridresser is $w$.\n",
    "\n",
    "The demand for haircuts implies that the price of haircuts you can charge is $p_t = \\kappa_t y_t^{-\\eta}$, where $\\kappa_t$ is a demand-shock and $\\eta \\in (0,1)$ measures the elasticity of demand.\n",
    "\n",
    "Profits are:\n",
    "\n",
    "$$\n",
    "\\Pi_t = p_t y_t - w \\ell_t = \\kappa_t \\ell_t^{1-\\eta} - w \\ell_t\n",
    "$$"
   ]
  },
  {
   "attachments": {},
   "cell_type": "markdown",
   "metadata": {},
   "source": [
    "Baseline parameters are:\n",
    "- $\\eta = 0.5$\n",
    "- $w = 1.0$"
   ]
  },
  {
   "attachments": {},
   "cell_type": "markdown",
   "metadata": {},
   "source": [
    "**Question 1:** Verify numerically that $\\ell_{t}=\\left(\\frac{(1-\\eta)\\kappa_{t}}{w}\\right)^{\\frac{1}{\\eta}}$ maximises profits, for $\\kappa\\in\\left\\{1.0 , 2.0\\right\\}$."
   ]
  },
  {
   "cell_type": "code",
   "execution_count": 288,
   "metadata": {},
   "outputs": [
    {
     "name": "stdout",
     "output_type": "stream",
     "text": [
      "1.0\n",
      "2.0\n"
     ]
    },
    {
     "name": "stderr",
     "output_type": "stream",
     "text": [
      "/var/folders/vd/dwydg2bx2gz3j9x78jm_tx400000gn/T/ipykernel_3314/295815056.py:31: DeprecationWarning: Use of `minimize` with `x0.ndim != 1` is deprecated. Currently, singleton dimensions will be removed from `x0`, but an error will be raised in SciPy 1.11.0.\n",
      "  res[i] = optimize.minimize(obj, [x0], method='nelder-mead', bounds=((0, np.inf), ))\n"
     ]
    }
   ],
   "source": [
    "# define parameter namespace\n",
    "par = SimpleNamespace()\n",
    "par.eta = 0.5\n",
    "par.w = 1.0\n",
    "\n",
    "kappa = [1.0, 2.0]\n",
    "\n",
    "def profits(par, ell, kappa):\n",
    "    # returns profit function\n",
    "    return kappa*ell**(1-par.eta)-par.w*ell\n",
    "\n",
    "def ell_opt_anal(par, kappa):\n",
    "    ell_opt = [None]*len(kappa)\n",
    "    for i, k in enumerate(kappa):\n",
    "        ell_opt[i] = ((1-par.eta)*k/par.w)**(1/par.eta)\n",
    "    return ell_opt\n",
    "\n",
    "def ell_opt_rulebased(par, kappa): #rule ell fors question 2.3 \n",
    "    return ((1-par.eta)*kappa/par.w)**(1/par.eta)\n",
    "\n",
    "def sol_ell(par, kappa):\n",
    "\n",
    "    res = [None] * len(kappa)\n",
    "    #loop through kappas\n",
    "    for i, k in enumerate(kappa):\n",
    "        print(k)\n",
    "        #define objective function \n",
    "        obj = lambda ell: -profits(par, ell, k)\n",
    "        # call optimizer from scipy\n",
    "        x0 = [0.1]\n",
    "        res[i] = optimize.minimize(obj, [x0], method='nelder-mead', bounds=((0, np.inf), ))\n",
    "    return res\n",
    "res = sol_ell(par, kappa)\n",
    "opt_anal = ell_opt_anal(par, kappa)"
   ]
  },
  {
   "cell_type": "code",
   "execution_count": 289,
   "metadata": {},
   "outputs": [
    {
     "name": "stdout",
     "output_type": "stream",
     "text": [
      "[0.25] [1.] [0.25, 1.0]\n"
     ]
    }
   ],
   "source": [
    "print(res[0].x, res[1].x,opt_anal)"
   ]
  },
  {
   "attachments": {},
   "cell_type": "markdown",
   "metadata": {},
   "source": [
    "Optimizing numerically we find the same solution as the analytical solution. We can check this further by using the numpy \"isclose\" function, using this we again find that the numerical and analytical solution is the same:"
   ]
  },
  {
   "cell_type": "code",
   "execution_count": 290,
   "metadata": {},
   "outputs": [
    {
     "name": "stdout",
     "output_type": "stream",
     "text": [
      "[ True] [ True]\n"
     ]
    }
   ],
   "source": [
    "print(np.isclose(res[0].x,opt_anal[0]),\n",
    "np.isclose(res[1].x, opt_anal[1]))"
   ]
  },
  {
   "attachments": {},
   "cell_type": "markdown",
   "metadata": {},
   "source": [
    "We now consider a *dynamic* version of the model.\n",
    "\n",
    "* The demand-shock is a so-called AR(1) in logs, \n",
    "\n",
    "$$\n",
    "\\log \\kappa_{t} = \\rho \\log \\kappa_{t-1} + \\epsilon_{t},\\,\\,\\, \\epsilon_{t+1} \\sim \\mathcal{N}(-0.5\\sigma_{\\epsilon}^2,\\sigma_{\\epsilon})\n",
    "$$\n",
    "\n",
    "* Any hiring or firing implies a fixed adjustment cost, $\\iota > 0 $.\n",
    "* Future profits are discounted with a monthly factor of $R \\in (0,1)$.\n",
    "\n",
    "The initial demand shock is $\\kappa_{-1} = 1$ and the planning horizon is 10 years, i.e. 120 months so $t \\in \\{0,1,2,\\dots,119\\}$. Initially you don't have any employees, $\\ell_{-1}=0$"
   ]
  },
  {
   "attachments": {},
   "cell_type": "markdown",
   "metadata": {},
   "source": [
    "\n",
    "The *ex post* value of the salon is *conditional* on the shock series is:\n",
    "\n",
    "$$\n",
    "h(\\epsilon_0,\\epsilon_1,\\dots,\\epsilon_{119}) = \\left[\\sum_{t=0}^{119}R^{-t}\\left[\\kappa_{t}\\ell_{t}^{1-\\eta}-w\\ell_{t}-\\boldsymbol{1}_{\\ell_{t}\\neq\\ell_{t-1}}\\iota\\right]\\right]\n",
    "$$\n",
    "\n",
    "The *ex ante* expected value of the salon can be approximated by\n",
    "\n",
    "$$\n",
    "H = \\mathbb{E}[h(\\epsilon_0,\\epsilon_1,\\dots,\\epsilon_{119})] \\approx \\frac{1}{K}\\sum_{k=0}^{K} h(\\epsilon_0^k,\\epsilon_1^k,\\dots,\\epsilon_{119}^k)\n",
    "$$\n",
    "\n",
    "where each $k\\in\\{0,1,\\dots,K-1\\}$ is a random shock series. Maximizing profitability means maximizing $H$.\n"
   ]
  },
  {
   "attachments": {},
   "cell_type": "markdown",
   "metadata": {},
   "source": [
    "Baseline parameters are: \n",
    "\n",
    "- $\\rho = 0.90$\n",
    "- $\\iota = 0.01$\n",
    "- $\\sigma_{\\epsilon} = 0.10$\n",
    "- $R = \\left(1+0.01\\right)^{1/12}$"
   ]
  },
  {
   "attachments": {},
   "cell_type": "markdown",
   "metadata": {},
   "source": [
    "**Question 2:** Calculate $H$ if the policy  $\\ell_{t}=\\left(\\frac{(1-\\eta)\\kappa_{t}}{w}\\right)^{\\frac{1}{\\eta}}$ from question 1 is followed. Choose $K$ so the approximation is good enough to not affect your results substantially."
   ]
  },
  {
   "cell_type": "code",
   "execution_count": 291,
   "metadata": {},
   "outputs": [],
   "source": [
    "# deffine new parameters\n",
    "par.rho = 0.90\n",
    "par.iota = 0.01\n",
    "par.sigma = 0.1\n",
    "par.R = (1+0.01)**(1/12)\n",
    "par.K = 2000\n",
    "par.kappa_init = 1\n",
    "par.T = 120\n",
    "par.Delta = 0\n",
    "np.random.seed(1479)\n",
    "\n",
    "def kappa_series(par):\n",
    "    eps = np.random.normal(-0.5*par.sigma**2, par.sigma, par.T) #create T shosk\n",
    "    kappa_ar1 = np.zeros(par.T)\n",
    "    kappa_ar1[0] = par.rho*np.log(par.kappa_init)+eps[0]\n",
    "    for i in range(par.T):\n",
    "        if i > 0:\n",
    "            kappa_ar1[i] = par.rho*np.log(kappa_ar1[-1]) + eps[i]\n",
    "    return np.exp(kappa_ar1)\n",
    "#define h function\n",
    "#def h(par, eps, K): "
   ]
  },
  {
   "cell_type": "code",
   "execution_count": 292,
   "metadata": {},
   "outputs": [],
   "source": [
    "def h_func(par, shocks):\n",
    "    profit_series = np.empty(par.T)\n",
    "    ell_series = np.empty(par.T)\n",
    "\n",
    "    for i,s  in enumerate(shocks):\n",
    "        ell_series[i] = ell_opt_rulebased(par, s)\n",
    "\n",
    "    for i in range(par.T):\n",
    "        if i > 0 and np.abs(ell_series[i]-ell_series[i-1]) > par.Delta:\n",
    "            profit_series[i] = (par.R**-i)*(profits(par, ell_series[i], shocks[i]) -par.iota)\n",
    "        elif i > 0 and np.abs(ell_series[i]-ell_series[i-1]) <= par.Delta:\n",
    "            ell_series[i] = ell_series[i-1] # in this case set ell_t to ell_t-1\n",
    "            profit_series[i] = (par.R**-i)*profits(par, ell_series[i], shocks[i])\n",
    "    return np.sum(profit_series)\n",
    "\n",
    "def big_H(par):\n",
    "    h_list = np.empty(par.K)\n",
    "    for i in range(par.K):\n",
    "        shocks = kappa_series(par)\n",
    "        h_list[i] = h_func(par, shocks)\n",
    "    return np.mean(h_list)"
   ]
  },
  {
   "cell_type": "code",
   "execution_count": 293,
   "metadata": {},
   "outputs": [
    {
     "name": "stderr",
     "output_type": "stream",
     "text": [
      "/var/folders/vd/dwydg2bx2gz3j9x78jm_tx400000gn/T/ipykernel_3314/1414605160.py:18: RuntimeWarning: divide by zero encountered in log\n",
      "  kappa_ar1[i] = par.rho*np.log(kappa_ar1[-1]) + eps[i]\n"
     ]
    }
   ],
   "source": [
    "shocks = kappa_series(par)\n",
    "par.Delta=0\n",
    "a = h_func(par, shocks)"
   ]
  },
  {
   "cell_type": "code",
   "execution_count": 294,
   "metadata": {},
   "outputs": [
    {
     "name": "stderr",
     "output_type": "stream",
     "text": [
      "/var/folders/vd/dwydg2bx2gz3j9x78jm_tx400000gn/T/ipykernel_3314/1414605160.py:18: RuntimeWarning: divide by zero encountered in log\n",
      "  kappa_ar1[i] = par.rho*np.log(kappa_ar1[-1]) + eps[i]\n"
     ]
    },
    {
     "name": "stdout",
     "output_type": "stream",
     "text": [
      "0.9913306621296026\n"
     ]
    }
   ],
   "source": [
    "a = big_H(par)\n",
    "print(a)"
   ]
  },
  {
   "attachments": {},
   "cell_type": "markdown",
   "metadata": {},
   "source": [
    "Next, we consider policies on the form:\n",
    "\n",
    "$$\n",
    "\n",
    "\\ell_{t}=\\begin{cases}\n",
    "\\ell_t^{\\ast}  & \\text{if }\\left|\\ell_{t-1}-\\ell_t^{\\ast} \\right|>\\Delta\\\\\n",
    "\\ell_{t-1} & \\text{else }\n",
    "\\end{cases}\n",
    "\\\\\n",
    "\\text{where}\\,\\,\\ell_t^{\\ast} = \\left(\\frac{(1-\\eta)\\kappa_{t}}{w}\\right)^{\\frac{1}{\\eta}} \\\\\n",
    "\n",
    "$$\n",
    "With $\\Delta \\geq 0$ and $\\Delta = 0$ being the previous policy.\n"
   ]
  },
  {
   "attachments": {},
   "cell_type": "markdown",
   "metadata": {},
   "source": [
    "\n",
    "**Question 3:** Calculate $H$ if the policy above was followed with $\\Delta = 0.05$. Does it improve profitability?"
   ]
  },
  {
   "cell_type": "code",
   "execution_count": 295,
   "metadata": {},
   "outputs": [
    {
     "name": "stderr",
     "output_type": "stream",
     "text": [
      "/var/folders/vd/dwydg2bx2gz3j9x78jm_tx400000gn/T/ipykernel_3314/1414605160.py:18: RuntimeWarning: divide by zero encountered in log\n",
      "  kappa_ar1[i] = par.rho*np.log(kappa_ar1[-1]) + eps[i]\n"
     ]
    },
    {
     "name": "stdout",
     "output_type": "stream",
     "text": [
      "0.9880043928532549\n"
     ]
    }
   ],
   "source": [
    "# write your code here\n",
    "par.Delta= 0.05\n",
    "profits_high_Delta = big_H(par)\n",
    "print(profits_high_Delta)"
   ]
  },
  {
   "attachments": {},
   "cell_type": "markdown",
   "metadata": {},
   "source": [
    "We see that profitability is not improved for the higher $\\Delta$"
   ]
  },
  {
   "attachments": {},
   "cell_type": "markdown",
   "metadata": {},
   "source": [
    "**Question 4:** Find the optimal $\\Delta$ maximizing $H$. Illustrate your result."
   ]
  },
  {
   "cell_type": "code",
   "execution_count": 296,
   "metadata": {},
   "outputs": [],
   "source": [
    "# write your code here\n",
    "par.K = 100\n",
    "def sol_Delta(par):\n",
    "    def obj(Delta):\n",
    "        par.Delta = Delta\n",
    "        return -1* big_H(par)\n",
    "    bnds = ((1,10),)\n",
    "    x0 = [1]\n",
    "    res = optimize.minimize(obj, x0=x0, method='nelder-mead', bounds = bnds, tol=1e-8)\n",
    "    return res"
   ]
  },
  {
   "cell_type": "code",
   "execution_count": 297,
   "metadata": {},
   "outputs": [
    {
     "name": "stderr",
     "output_type": "stream",
     "text": [
      "/var/folders/vd/dwydg2bx2gz3j9x78jm_tx400000gn/T/ipykernel_3314/1414605160.py:18: RuntimeWarning: divide by zero encountered in log\n",
      "  kappa_ar1[i] = par.rho*np.log(kappa_ar1[-1]) + eps[i]\n"
     ]
    }
   ],
   "source": [
    "optimalDelta = sol_Delta(par)"
   ]
  },
  {
   "cell_type": "code",
   "execution_count": 298,
   "metadata": {},
   "outputs": [
    {
     "data": {
      "text/plain": [
       "       message: Maximum number of function evaluations has been exceeded.\n",
       "       success: False\n",
       "        status: 1\n",
       "           fun: 26.245107174312356\n",
       "             x: [ 1.204e+00]\n",
       "           nit: 74\n",
       "          nfev: 200\n",
       " final_simplex: (array([[ 1.204e+00],\n",
       "                       [ 1.204e+00]]), array([ 2.625e+01,  2.732e+01]))"
      ]
     },
     "execution_count": 298,
     "metadata": {},
     "output_type": "execute_result"
    }
   ],
   "source": [
    "optimalDelta"
   ]
  },
  {
   "cell_type": "code",
   "execution_count": 299,
   "metadata": {},
   "outputs": [
    {
     "name": "stderr",
     "output_type": "stream",
     "text": [
      "0it [00:00, ?it/s]/var/folders/vd/dwydg2bx2gz3j9x78jm_tx400000gn/T/ipykernel_3314/1414605160.py:18: RuntimeWarning: divide by zero encountered in log\n",
      "  kappa_ar1[i] = par.rho*np.log(kappa_ar1[-1]) + eps[i]\n",
      "100it [01:59,  1.19s/it]\n"
     ]
    }
   ],
   "source": [
    "from tqdm import tqdm \n",
    "par.K = 1000\n",
    "H = np.empty(100)\n",
    "Delta = np.linspace(0,10,100)\n",
    "for i, d in tqdm(enumerate(Delta)):\n",
    "    par.Delta = d\n",
    "    H[i] = big_H(par)"
   ]
  },
  {
   "cell_type": "code",
   "execution_count": 300,
   "metadata": {},
   "outputs": [
    {
     "data": {
      "text/plain": [
       "<matplotlib.collections.LineCollection at 0x7fd8bda29160>"
      ]
     },
     "execution_count": 300,
     "metadata": {},
     "output_type": "execute_result"
    },
    {
     "data": {
      "image/png": "[encoded data removed]",
      "text/plain": [
       "<Figure size 640x480 with 1 Axes>"
      ]
     },
     "metadata": {},
     "output_type": "display_data"
    }
   ],
   "source": [
    "fig, ax = plt.subplots(1,1)\n",
    "ax.plot(Delta, H)\n",
    "ax.vlines(0.08, ymin=0.6, ymax=1, color='r')"
   ]
  },
  {
   "attachments": {},
   "cell_type": "markdown",
   "metadata": {},
   "source": [
    "\n",
    "**Question 5:** Suggest an alternative policy you believe might improve profitability. Implement and test your policy.\n",
    "\n"
   ]
  },
  {
   "attachments": {},
   "cell_type": "markdown",
   "metadata": {},
   "source": [
    "**Question 5 Answer:**\n",
    "We consider making a good guess of kappa and using this kappa in each period and setting a fixed $\\ell$. Under the assumption that we as hair salon owners have access the mean of the shocks $-0.5\\sigma**2$ and $\\rho$."
   ]
  },
  {
   "cell_type": "code",
   "execution_count": null,
   "metadata": {},
   "outputs": [],
   "source": [
    "# write your code here \n",
    "def kappa_guees()"
   ]
  }
 ],
 "metadata": {
  "kernelspec": {
   "display_name": "numecon",
   "language": "python",
   "name": "python3"
  },
  "language_info": {
   "codemirror_mode": {
    "name": "ipython",
    "version": 3
   },
   "file_extension": ".py",
   "mimetype": "text/x-python",
   "name": "python",
   "nbconvert_exporter": "python",
   "pygments_lexer": "ipython3",
   "version": "3.9.16"
  },
  "orig_nbformat": 4
 },
 "nbformat": 4,
 "nbformat_minor": 2
}
