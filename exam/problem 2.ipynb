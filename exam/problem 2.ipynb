{
 "cells": [
  {
   "cell_type": "code",
   "execution_count": 67,
   "metadata": {},
   "outputs": [],
   "source": [
    "import numpy as np\n",
    "from types import SimpleNamespace\n",
    "from scipy import optimize\n",
    "from matplotlib import pyplot as plt"
   ]
  },
  {
   "attachments": {},
   "cell_type": "markdown",
   "metadata": {},
   "source": [
    "## 2. <a id='toc2_'></a>[Problem 2: Labor adjustment costs](#toc0_)"
   ]
  },
  {
   "attachments": {},
   "cell_type": "markdown",
   "metadata": {},
   "source": [
    "You own a hair salon. You employ hairdressers, $\\ell_t$, to produce haircuts, $y_t = \\ell_t$.\n",
    "\n",
    "The wage for each haridresser is $w$.\n",
    "\n",
    "The demand for haircuts implies that the price of haircuts you can charge is $p_t = \\kappa_t y_t^{-\\eta}$, where $\\kappa_t$ is a demand-shock and $\\eta \\in (0,1)$ measures the elasticity of demand.\n",
    "\n",
    "Profits are:\n",
    "\n",
    "$$\n",
    "\\Pi_t = p_t y_t - w \\ell_t = \\kappa_t \\ell_t^{1-\\eta} - w \\ell_t\n",
    "$$"
   ]
  },
  {
   "attachments": {},
   "cell_type": "markdown",
   "metadata": {},
   "source": [
    "Baseline parameters are:\n",
    "- $\\eta = 0.5$\n",
    "- $w = 1.0$"
   ]
  },
  {
   "attachments": {},
   "cell_type": "markdown",
   "metadata": {},
   "source": [
    "**Question 1:** Verify numerically that $\\ell_{t}=\\left(\\frac{(1-\\eta)\\kappa_{t}}{w}\\right)^{\\frac{1}{\\eta}}$ maximises profits, for $\\kappa\\in\\left\\{1.0 , 2.0\\right\\}$."
   ]
  },
  {
   "cell_type": "code",
   "execution_count": 68,
   "metadata": {},
   "outputs": [
    {
     "name": "stdout",
     "output_type": "stream",
     "text": [
      "1.0\n",
      "2.0\n"
     ]
    },
    {
     "name": "stderr",
     "output_type": "stream",
     "text": [
      "/var/folders/vd/dwydg2bx2gz3j9x78jm_tx400000gn/T/ipykernel_4083/295815056.py:31: DeprecationWarning: Use of `minimize` with `x0.ndim != 1` is deprecated. Currently, singleton dimensions will be removed from `x0`, but an error will be raised in SciPy 1.11.0.\n",
      "  res[i] = optimize.minimize(obj, [x0], method='nelder-mead', bounds=((0, np.inf), ))\n"
     ]
    }
   ],
   "source": [
    "# define parameter namespace\n",
    "par = SimpleNamespace()\n",
    "par.eta = 0.5\n",
    "par.w = 1.0\n",
    "\n",
    "kappa = [1.0, 2.0]\n",
    "\n",
    "def profits(par, ell, kappa):\n",
    "    # returns profit function\n",
    "    return kappa*ell**(1-par.eta)-par.w*ell\n",
    "\n",
    "def ell_opt_anal(par, kappa):\n",
    "    ell_opt = [None]*len(kappa)\n",
    "    for i, k in enumerate(kappa):\n",
    "        ell_opt[i] = ((1-par.eta)*k/par.w)**(1/par.eta)\n",
    "    return ell_opt\n",
    "\n",
    "def ell_opt_rulebased(par, kappa): #rule ell fors question 2.3 \n",
    "    return ((1-par.eta)*kappa/par.w)**(1/par.eta)\n",
    "\n",
    "def sol_ell(par, kappa):\n",
    "\n",
    "    res = [None] * len(kappa)\n",
    "    #loop through kappas\n",
    "    for i, k in enumerate(kappa):\n",
    "        print(k)\n",
    "        #define objective function \n",
    "        obj = lambda ell: -profits(par, ell, k)\n",
    "        # call optimizer from scipy\n",
    "        x0 = [0.1]\n",
    "        res[i] = optimize.minimize(obj, [x0], method='nelder-mead', bounds=((0, np.inf), ))\n",
    "    return res\n",
    "res = sol_ell(par, kappa)\n",
    "opt_anal = ell_opt_anal(par, kappa)"
   ]
  },
  {
   "cell_type": "code",
   "execution_count": 69,
   "metadata": {},
   "outputs": [
    {
     "name": "stdout",
     "output_type": "stream",
     "text": [
      "[0.25] [1.] [0.25, 1.0]\n"
     ]
    }
   ],
   "source": [
    "print(res[0].x, res[1].x,opt_anal)"
   ]
  },
  {
   "attachments": {},
   "cell_type": "markdown",
   "metadata": {},
   "source": [
    "Optimizing numerically we find the same solution as the analytical solution. We can check this further by using the numpy \"isclose\" function, using this we again find that the numerical and analytical solution is the same:"
   ]
  },
  {
   "cell_type": "code",
   "execution_count": 70,
   "metadata": {},
   "outputs": [
    {
     "name": "stdout",
     "output_type": "stream",
     "text": [
      "[ True] [ True]\n"
     ]
    }
   ],
   "source": [
    "print(np.isclose(res[0].x,opt_anal[0]),\n",
    "np.isclose(res[1].x, opt_anal[1]))"
   ]
  },
  {
   "attachments": {},
   "cell_type": "markdown",
   "metadata": {},
   "source": [
    "We now consider a *dynamic* version of the model.\n",
    "\n",
    "* The demand-shock is a so-called AR(1) in logs, \n",
    "\n",
    "$$\n",
    "\\log \\kappa_{t} = \\rho \\log \\kappa_{t-1} + \\epsilon_{t},\\,\\,\\, \\epsilon_{t+1} \\sim \\mathcal{N}(-0.5\\sigma_{\\epsilon}^2,\\sigma_{\\epsilon})\n",
    "$$\n",
    "\n",
    "* Any hiring or firing implies a fixed adjustment cost, $\\iota > 0 $.\n",
    "* Future profits are discounted with a monthly factor of $R \\in (0,1)$.\n",
    "\n",
    "The initial demand shock is $\\kappa_{-1} = 1$ and the planning horizon is 10 years, i.e. 120 months so $t \\in \\{0,1,2,\\dots,119\\}$. Initially you don't have any employees, $\\ell_{-1}=0$"
   ]
  },
  {
   "attachments": {},
   "cell_type": "markdown",
   "metadata": {},
   "source": [
    "\n",
    "The *ex post* value of the salon is *conditional* on the shock series is:\n",
    "\n",
    "$$\n",
    "h(\\epsilon_0,\\epsilon_1,\\dots,\\epsilon_{119}) = \\left[\\sum_{t=0}^{119}R^{-t}\\left[\\kappa_{t}\\ell_{t}^{1-\\eta}-w\\ell_{t}-\\boldsymbol{1}_{\\ell_{t}\\neq\\ell_{t-1}}\\iota\\right]\\right]\n",
    "$$\n",
    "\n",
    "The *ex ante* expected value of the salon can be approximated by\n",
    "\n",
    "$$\n",
    "H = \\mathbb{E}[h(\\epsilon_0,\\epsilon_1,\\dots,\\epsilon_{119})] \\approx \\frac{1}{K}\\sum_{k=0}^{K} h(\\epsilon_0^k,\\epsilon_1^k,\\dots,\\epsilon_{119}^k)\n",
    "$$\n",
    "\n",
    "where each $k\\in\\{0,1,\\dots,K-1\\}$ is a random shock series. Maximizing profitability means maximizing $H$.\n"
   ]
  },
  {
   "attachments": {},
   "cell_type": "markdown",
   "metadata": {},
   "source": [
    "Baseline parameters are: \n",
    "\n",
    "- $\\rho = 0.90$\n",
    "- $\\iota = 0.01$\n",
    "- $\\sigma_{\\epsilon} = 0.10$\n",
    "- $R = \\left(1+0.01\\right)^{1/12}$"
   ]
  },
  {
   "attachments": {},
   "cell_type": "markdown",
   "metadata": {},
   "source": [
    "**Question 2:** Calculate $H$ if the policy  $\\ell_{t}=\\left(\\frac{(1-\\eta)\\kappa_{t}}{w}\\right)^{\\frac{1}{\\eta}}$ from question 1 is followed. Choose $K$ so the approximation is good enough to not affect your results substantially."
   ]
  },
  {
   "cell_type": "code",
   "execution_count": 126,
   "metadata": {},
   "outputs": [],
   "source": [
    "# deffine new parameters\n",
    "par.rho = 0.90\n",
    "par.iota = 0.01\n",
    "par.sigma = 0.1\n",
    "par.R = (1+0.01)**(1/12)\n",
    "par.K = 500\n",
    "par.kappa_init = 1\n",
    "par.T = 120\n",
    "par.Delta = 0\n",
    "def kappa_series(par):\n",
    "    eps = np.random.normal(loc=-0.5*par.sigma**2,scale=par.sigma, size=par.T) #create T shocks\n",
    "    log_kappa_ar1 = np.zeros(par.T)\n",
    "    kappa_ar1 = np.zeros(par.T)\n",
    "    log_kappa_ar1[0] = par.rho*np.log(par.kappa_init)+eps[0]\n",
    "    kappa_ar1[0] = np.exp(log_kappa_ar1[0])\n",
    "    for i in range(par.T):\n",
    "        if i > 0:\n",
    "            log_kappa_ar1[i] = par.rho*np.log(kappa_ar1[i-1]) + eps[i]\n",
    "            kappa_ar1[i] = np.exp(log_kappa_ar1[i])\n",
    "        else:\n",
    "            kappa_ar1[i] = kappa_ar1[i]\n",
    "            log_kappa_ar1[i] = log_kappa_ar1[i]\n",
    "    return kappa_ar1\n",
    "#define h function\n",
    "#def h(par, eps, K): "
   ]
  },
  {
   "cell_type": "code",
   "execution_count": 127,
   "metadata": {},
   "outputs": [],
   "source": [
    "def h_func(par, shocks):\n",
    "    profit_series = np.zeros(par.T)    \n",
    "    ell_series = ell_opt_rulebased(par, shocks)\n",
    "\n",
    "    for i in range(par.T):\n",
    "        if i > 0 and np.abs(ell_series[i]-ell_series[i-1]) > par.Delta:\n",
    "            profit_series[i] = (par.R**-i)*(profits(par, ell_series[i], shocks[i]) -par.iota)\n",
    "        elif i > 0 and np.abs(ell_series[i]-ell_series[i-1]) <= par.Delta:\n",
    "            ell_series[i] = ell_series[i-1] # in this case set ell_t to ell_t-1\n",
    "            profit_series[i] = (par.R**-i)*profits(par, ell_series[i], shocks[i])\n",
    "    return np.sum(profit_series)\n",
    "\n",
    "def big_H(par):\n",
    "    h_list = np.zeros(par.K)\n",
    "    for i in range(par.K):\n",
    "        shocks = kappa_series(par)\n",
    "        h_list[i] = h_func(par, shocks)\n",
    "    return np.mean(h_list)"
   ]
  },
  {
   "cell_type": "code",
   "execution_count": 128,
   "metadata": {},
   "outputs": [
    {
     "name": "stdout",
     "output_type": "stream",
     "text": [
      "27.50616707008329\n"
     ]
    }
   ],
   "source": [
    "par.Delt = 0\n",
    "np.random.seed(1234)\n",
    "a = big_H(par)\n",
    "print(a)"
   ]
  },
  {
   "attachments": {},
   "cell_type": "markdown",
   "metadata": {},
   "source": [
    "Next, we consider policies on the form:\n",
    "\n",
    "$$\n",
    "\n",
    "\\ell_{t}=\\begin{cases}\n",
    "\\ell_t^{\\ast}  & \\text{if }\\left|\\ell_{t-1}-\\ell_t^{\\ast} \\right|>\\Delta\\\\\n",
    "\\ell_{t-1} & \\text{else }\n",
    "\\end{cases}\n",
    "\\\\\n",
    "\\text{where}\\,\\,\\ell_t^{\\ast} = \\left(\\frac{(1-\\eta)\\kappa_{t}}{w}\\right)^{\\frac{1}{\\eta}} \\\\\n",
    "\n",
    "$$\n",
    "With $\\Delta \\geq 0$ and $\\Delta = 0$ being the previous policy.\n"
   ]
  },
  {
   "attachments": {},
   "cell_type": "markdown",
   "metadata": {},
   "source": [
    "\n",
    "**Question 3:** Calculate $H$ if the policy above was followed with $\\Delta = 0.05$. Does it improve profitability?"
   ]
  },
  {
   "cell_type": "code",
   "execution_count": 129,
   "metadata": {},
   "outputs": [
    {
     "name": "stdout",
     "output_type": "stream",
     "text": [
      "27.823719651925064\n"
     ]
    }
   ],
   "source": [
    "# write your code here\n",
    "par.Delta= 0.05\n",
    "profits_high_Delta = big_H(par)\n",
    "print(profits_high_Delta)"
   ]
  },
  {
   "attachments": {},
   "cell_type": "markdown",
   "metadata": {},
   "source": [
    "We see that profitability is not improved for the higher $\\Delta$"
   ]
  },
  {
   "attachments": {},
   "cell_type": "markdown",
   "metadata": {},
   "source": [
    "**Question 4:** Find the optimal $\\Delta$ maximizing $H$. Illustrate your result."
   ]
  },
  {
   "cell_type": "code",
   "execution_count": 144,
   "metadata": {},
   "outputs": [],
   "source": [
    "# write your code here\n",
    "par.K = 500\n",
    "def obj(Delta, par):\n",
    "    par.Delta = Delta\n",
    "    return -1* big_H(par)\n",
    "def sol_Delta(par):\n",
    "    bnds = ((0,1),)\n",
    "    x0 = [0.05]\n",
    "    res = optimize.minimize(obj, args=(par), x0=x0, method='L-BFGS-B', bounds = bnds, tol=1e-4)\n",
    "    return res"
   ]
  },
  {
   "cell_type": "code",
   "execution_count": 145,
   "metadata": {},
   "outputs": [],
   "source": [
    "optimalDelta = sol_Delta(par)"
   ]
  },
  {
   "cell_type": "code",
   "execution_count": 146,
   "metadata": {},
   "outputs": [
    {
     "data": {
      "text/plain": [
       "  message: CONVERGENCE: REL_REDUCTION_OF_F_<=_FACTR*EPSMCH\n",
       "  success: True\n",
       "   status: 0\n",
       "      fun: -28.16676265273531\n",
       "        x: [ 5.000e-02]\n",
       "      nit: 1\n",
       "      jac: [ 1.868e+07]\n",
       "     nfev: 24\n",
       "     njev: 12\n",
       " hess_inv: <1x1 LbfgsInvHessProduct with dtype=float64>"
      ]
     },
     "execution_count": 146,
     "metadata": {},
     "output_type": "execute_result"
    }
   ],
   "source": [
    "optimalDelta"
   ]
  },
  {
   "cell_type": "code",
   "execution_count": null,
   "metadata": {},
   "outputs": [],
   "source": []
  },
  {
   "cell_type": "code",
   "execution_count": 108,
   "metadata": {},
   "outputs": [
    {
     "name": "stderr",
     "output_type": "stream",
     "text": [
      "20it [01:01,  3.06s/it]\n"
     ]
    }
   ],
   "source": [
    "from tqdm import tqdm \n",
    "par.K = 3000\n",
    "H = np.empty(20)\n",
    "Delta = np.linspace(0,1,20)\n",
    "for i, d in tqdm(enumerate(Delta)):\n",
    "    par.Delta = d\n",
    "    H[i] = big_H(par)"
   ]
  },
  {
   "cell_type": "code",
   "execution_count": 111,
   "metadata": {},
   "outputs": [
    {
     "data": {
      "text/plain": [
       "<matplotlib.collections.LineCollection at 0x7fce867f0790>"
      ]
     },
     "execution_count": 111,
     "metadata": {},
     "output_type": "execute_result"
    },
    {
     "data": {
      "image/png": "[encoded data removed]",
      "text/plain": [
       "<Figure size 640x480 with 1 Axes>"
      ]
     },
     "metadata": {},
     "output_type": "display_data"
    }
   ],
   "source": [
    "fig, ax = plt.subplots(1,1)\n",
    "ax.plot(Delta, H)\n",
    "ax.vlines(0.05, ymin=26.8, ymax=28.2, color='red')"
   ]
  },
  {
   "attachments": {},
   "cell_type": "markdown",
   "metadata": {},
   "source": [
    "\n",
    "**Question 5:** Suggest an alternative policy you believe might improve profitability. Implement and test your policy.\n",
    "\n"
   ]
  },
  {
   "attachments": {},
   "cell_type": "markdown",
   "metadata": {},
   "source": [
    "**Question 5 Answer:**\n",
    "We consider making a good guess of kappa and using this kappa in each period and setting a fixed $\\ell$. Under the assumption that we as hair salon owners have access the mean of the shocks $-0.5\\sigma**2$ and $\\rho$."
   ]
  },
  {
   "cell_type": "code",
   "execution_count": null,
   "metadata": {},
   "outputs": [],
   "source": [
    "# write your code here \n",
    "def kappa_guees()"
   ]
  }
 ],
 "metadata": {
  "kernelspec": {
   "display_name": "numecon",
   "language": "python",
   "name": "python3"
  },
  "language_info": {
   "codemirror_mode": {
    "name": "ipython",
    "version": 3
   },
   "file_extension": ".py",
   "mimetype": "text/x-python",
   "name": "python",
   "nbconvert_exporter": "python",
   "pygments_lexer": "ipython3",
   "version": "3.9.16"
  },
  "orig_nbformat": 4
 },
 "nbformat": 4,
 "nbformat_minor": 2
}
