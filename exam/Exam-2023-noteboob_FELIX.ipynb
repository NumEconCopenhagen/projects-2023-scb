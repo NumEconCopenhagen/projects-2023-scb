{
 "cells": [
  {
   "attachments": {},
   "cell_type": "markdown",
   "metadata": {},
   "source": [
    "**Table of contents**<a id='toc0_'></a>    \n",
    "- 1. [Problem 1: Optimal taxation with government consumption](#toc1_)    \n",
    "- 2. [Problem 2: Labor adjustment costs](#toc2_)    \n",
    "- 3. [Problem 3: Global optimizer with refined multi-start](#toc3_)    \n",
    "\n",
    "<!-- vscode-jupyter-toc-config\n",
    "\tnumbering=true\n",
    "\tanchor=true\n",
    "\tflat=false\n",
    "\tminLevel=2\n",
    "\tmaxLevel=6\n",
    "\t/vscode-jupyter-toc-config -->\n",
    "<!-- THIS CELL WILL BE REPLACED ON TOC UPDATE. DO NOT WRITE YOUR TEXT IN THIS CELL -->"
   ]
  },
  {
   "cell_type": "code",
   "execution_count": 297,
   "metadata": {},
   "outputs": [],
   "source": [
    "# write your code here\n",
    "import numpy as np\n",
    "import pandas as pd\n",
    "from copy import copy\n",
    "from types import SimpleNamespace\n",
    "import sympy as sm\n",
    "from scipy import optimize\n",
    "import matplotlib.pyplot as plt\n"
   ]
  },
  {
   "attachments": {},
   "cell_type": "markdown",
   "metadata": {},
   "source": [
    "## 1. <a id='toc1_'></a>[Problem 1: Optimal taxation with government consumption](#toc0_)"
   ]
  },
  {
   "attachments": {},
   "cell_type": "markdown",
   "metadata": {},
   "source": [
    "\n",
    "Consider a worker choosing hours of labor, $L\\in[0,24]$, to maximize utility: \n",
    "\n",
    "$$\n",
    "\\begin{align*}\n",
    "V(w,\\tau,G)&=\\max_{L\\in[0,24]}\\ln\\left(C^{\\alpha}G^{1-\\alpha}\\right)-\\nu\\frac{L^{2}}{2}\\\\&\\text{s.t.}\\\\&C=\\kappa+(1-\\tau)wL\n",
    "\\end{align*}\n",
    "$$\n",
    "\n",
    "where \n",
    "\n",
    "* $C$ is *private* consumption with weight $\\alpha\\in(0,1)$.\n",
    "* $\\kappa > 0$ is the *free private* consumption component.\n",
    "* $C = (1-\\tau)wL$ is the *costly private* consumption component.\n",
    "* $w > 0 $ is the real wage.\n",
    "* $\\tau \\in (0,1)$ is the labor-income tax rate.\n",
    "* $G > 0 $ is *government* consumption with weight $1-\\alpha$.\n",
    "* $\\nu > 0$ is the disutility of labor scaling factor"
   ]
  },
  {
   "attachments": {},
   "cell_type": "markdown",
   "metadata": {},
   "source": [
    "\n",
    "\n",
    "The baseline parameters are:\n",
    "\n",
    "$$\n",
    "\\begin{align*}\n",
    "\\alpha &= 0.5\\\\\n",
    "\\kappa &= 1.0\\\\\n",
    "\\nu &= \\frac{1}{2\\cdot16^2} \\\\\n",
    "w &= 1.0 \\\\ \n",
    "\\tau &= 0.30 \\\\\n",
    "\\end{align*}\n",
    "$$"
   ]
  },
  {
   "attachments": {},
   "cell_type": "markdown",
   "metadata": {},
   "source": [
    "**Question 1:** Verify that the optimal labor supply choice is $L^{\\star}(\\tilde{w}) =\\frac{-\\kappa+\\sqrt{\\kappa^{2}+4\\frac{\\alpha}{\\nu}\\tilde{w}^2}}{2\\tilde{w}}$, where $\\tilde{w} = (1-\\tau)w$, for $G\\in\\left\\{1.0 , 2.0\\right\\}$."
   ]
  },
  {
   "cell_type": "code",
   "execution_count": 298,
   "metadata": {},
   "outputs": [],
   "source": [
    "bl = SimpleNamespace()\n",
    "\n",
    "bl.alpha = 0.5\n",
    "bl.kappa = 1.0\n",
    "bl.nu = 1/(2*16**2)\n",
    "bl.w = 1\n",
    "bl.tau = 0.3\n",
    "bl.w_tilde = (1-bl.tau)*bl.w"
   ]
  },
  {
   "cell_type": "code",
   "execution_count": 299,
   "metadata": {},
   "outputs": [
    {
     "name": "stdout",
     "output_type": "stream",
     "text": [
      "The estimated solutions for G=1 and G=2, respectively, are [15.301684570312506, 15.301684570312506]\n",
      "The analytical solutions for G=1 and G=2, respectively, are [15.30165022719559, 15.30165022719559]\n"
     ]
    }
   ],
   "source": [
    "import numpy as np\n",
    "import scipy.optimize as optimize\n",
    "\n",
    "# Given list of G values\n",
    "G_list = [1.0, 2.0]\n",
    "\n",
    "# Calculate bl.w_tilde\n",
    "bl.w_tilde = (1 - bl.tau) * bl.w\n",
    "\n",
    "# Define value function\n",
    "def V(L, G, bl):\n",
    "    \"\"\"\n",
    "    Calculates the value function.\n",
    "\n",
    "    Args:\n",
    "        L (float): Labor input.\n",
    "        G (float): G value.\n",
    "        bl: An object with parameters.\n",
    "\n",
    "    Returns:\n",
    "        float: Value function output.\n",
    "    \"\"\"\n",
    "    return np.log(((bl.kappa + (1 - bl.tau) * bl.w * L) ** bl.alpha) * G ** (1 - bl.alpha)) - bl.nu * ((L * L) / 2)\n",
    "\n",
    "def L_opt_analytical(bl, G):\n",
    "    \"\"\"\n",
    "    Calculates the analytical solution for optimal labor input.\n",
    "\n",
    "    Args:\n",
    "        bl: An object with parameters.\n",
    "        G (list): List of G values.\n",
    "\n",
    "    Returns:\n",
    "        list: List of optimal labor inputs.\n",
    "    \"\"\"\n",
    "    L_opt = []\n",
    "    for k in G:\n",
    "        L_opt.append((-bl.kappa + np.sqrt(bl.kappa * bl.kappa + 4 * (bl.alpha / bl.nu) * bl.w_tilde * bl.w_tilde)) / (2 * bl.w_tilde))\n",
    "    return L_opt\n",
    "\n",
    "def L_opt(G, bl):\n",
    "    \"\"\"\n",
    "    Calculates the numerical solution for optimal labor input.\n",
    "\n",
    "    Args:\n",
    "        G (list): List of G values.\n",
    "        bl: An object with parameters.\n",
    "\n",
    "    Returns:\n",
    "        list: List of optimal labor inputs.\n",
    "    \"\"\"\n",
    "    sol = []\n",
    "    for k in G:\n",
    "        obj = lambda L: -V(L, k, bl)\n",
    "        x0 = 12\n",
    "        sol.append(optimize.minimize(obj, x0, method='Nelder-Mead', bounds=((0, 24),)).x[0])\n",
    "    return sol\n",
    "\n",
    "# Calculate numerical solutions for optimal labor input\n",
    "solutions = L_opt(G_list, bl)\n",
    "solution = list(solutions)\n",
    "\n",
    "# Calculate analytical solutions for optimal labor input\n",
    "solution_analytical = L_opt_analytical(bl, G_list)\n",
    "\n",
    "# Print the results\n",
    "print(f\"The estimated solutions for G=1 and G=2, respectively, are {solution}\")\n",
    "print(f\"The analytical solutions for G=1 and G=2, respectively, are {solution_analytical}\")\n"
   ]
  },
  {
   "attachments": {},
   "cell_type": "markdown",
   "metadata": {},
   "source": [
    "**Question 2:** Illustrate how $L^{\\star}(\\tilde{w})$ depends on $w$."
   ]
  },
  {
   "cell_type": "code",
   "execution_count": 300,
   "metadata": {},
   "outputs": [
    {
     "data": {
      "text/plain": [
       "<matplotlib.legend.Legend at 0x7fd9c96c2160>"
      ]
     },
     "execution_count": 300,
     "metadata": {},
     "output_type": "execute_result"
    },
    {
     "data": {
      "image/png": "[encoded data removed]",
      "text/plain": [
       "<Figure size 640x480 with 1 Axes>"
      ]
     },
     "metadata": {},
     "output_type": "display_data"
    }
   ],
   "source": [
    "\n",
    "\n",
    "# Create grids\n",
    "ws = np.linspace(0,5,200)\n",
    "sols = np.empty((2,200))\n",
    "sol_1 = np.empty(200)\n",
    "sol_2 = np.empty(200)\n",
    "\n",
    "#Unpack solution for each G\n",
    "for i,w in enumerate(ws):\n",
    "    bl.w = w\n",
    "    sols = L_opt(G_list, bl)\n",
    "    sols_list = list(sols)\n",
    "    sol_1[i] = sols_list[0]\n",
    "    sol_2[i] = sols_list[1]\n",
    "\n",
    "# Plot figure\n",
    "fig = plt.figure()\n",
    "ax = fig.add_subplot(1,1,1)\n",
    "ax.plot(ws,sol_1, label = '$G=1$')\n",
    "ax.plot(ws,sol_2,'--', label = '$G=2$')\n",
    "\n",
    "ax.set_title(\"Fig 1.\")\n",
    "ax.set_ylabel('L_star')\n",
    "ax.set_xlabel('w')\n",
    "ax.legend()\n",
    "\n",
    "\n",
    "\n"
   ]
  },
  {
   "attachments": {},
   "cell_type": "markdown",
   "metadata": {},
   "source": [
    "\n",
    "We now consider a government, who chooses $\\tau$ and spend all of the taxes on government consumption so:\n",
    "\n",
    "$$\n",
    "G = \\tau w L^{\\star}((1-\\tau)w)\n",
    "$$\n",
    "\n",
    "**Question 3:** Plot the implied $L$, $G$ and worker utility for a grid of $\\tau$-values.\n"
   ]
  },
  {
   "cell_type": "code",
   "execution_count": 301,
   "metadata": {},
   "outputs": [
    {
     "name": "stderr",
     "output_type": "stream",
     "text": [
      "/var/folders/f8/rfv2dg5j1jl2h__f_28lykhm0000gn/T/ipykernel_94871/1329729795.py:6: RuntimeWarning: invalid value encountered in double_scalars\n",
      "  return (-bl.kappa + np.sqrt(bl.kappa * bl.kappa + 4 * (bl.alpha / bl.nu) * bl.w_tilde * bl.w_tilde)) / (2 * bl.w_tilde)\n"
     ]
    },
    {
     "data": {
      "text/plain": [
       "(0.0, 4.0)"
      ]
     },
     "execution_count": 301,
     "metadata": {},
     "output_type": "execute_result"
    },
    {
     "data": {
      "image/png": "[encoded data removed]",
      "text/plain": [
       "<Figure size 1200x400 with 3 Axes>"
      ]
     },
     "metadata": {},
     "output_type": "display_data"
    }
   ],
   "source": [
    "# Define G\n",
    "def G_func(L, bl): return bl.tau*bl.w*L\n",
    "\n",
    "# Define analytical solution with definition for G substituted\n",
    "def L_analytical_func(bl): \n",
    "    return (-bl.kappa + np.sqrt(bl.kappa * bl.kappa + 4 * (bl.alpha / bl.nu) * bl.w_tilde * bl.w_tilde)) / (2 * bl.w_tilde)\n",
    "\n",
    "# Define Value function with definition for G substituted\n",
    "def V_new(L,bl):\n",
    "    return np.log(((bl.kappa + (1 - bl.tau) * bl.w * L) ** bl.alpha) * (bl.tau*bl.w*L) ** (1 - bl.alpha)) - bl.nu * ((L * L) / 2)\n",
    "\n",
    "\n",
    "def iterate_over_tau(bl, do_print = False):\n",
    "\n",
    "    # Create grid of taus and empty arrays\n",
    "    tau_grid = np.linspace(1e-8,1,200)\n",
    "    L_vec = np.empty(200)\n",
    "    G_vec = np.empty(200)\n",
    "    V_vec = np.empty(200)\n",
    "\n",
    "    # Iterate L, G and V over tau\n",
    "    for i, tau in enumerate(tau_grid):\n",
    "        bl.tau = tau \n",
    "        bl.w_tilde = (1-bl.tau)*bl.w\n",
    "\n",
    "        L_vec[i] = L_analytical_func(bl)\n",
    "        G_vec[i] = G_func(L_vec[i], bl)\n",
    "        V_vec[i] = V(L_vec[i], G_vec[i], bl) \n",
    "\n",
    "        if do_print == True: \n",
    "            print(f'for tau = {tau}, L = {L_vec[i]}, G = {G_vec[i]} and V = {V_vec[i]}')\n",
    "\n",
    "    return tau_grid, L_vec, G_vec, V_vec \n",
    "\n",
    "tau_grid, L_vec, G_vec, V_vec = iterate_over_tau(bl)    \n",
    "\n",
    "\n",
    "# Plot figures\n",
    "fig = plt.figure(figsize=(12,4))\n",
    "ax = fig.add_subplot(1,3,1)\n",
    "ax.plot(tau_grid, L_vec)\n",
    "ax.set_title('Labour hours')\n",
    "ax.set_xlabel(r'$\\tau$')\n",
    "\n",
    "ax = fig.add_subplot(1,3,2)\n",
    "ax.plot(tau_grid, G_vec)\n",
    "ax.set_title('Government spending')\n",
    "ax.set_xlabel(r'$\\tau$')\n",
    "\n",
    "ax = fig.add_subplot(1,3,3)\n",
    "ax.plot(tau_grid, V_vec)\n",
    "ax.set_title('Worker utility')\n",
    "ax.set_xlabel(r'$\\tau$')\n",
    "ax.set_ylim(0,4)\n",
    "\n",
    "    \n",
    "\n",
    " \n"
   ]
  },
  {
   "attachments": {},
   "cell_type": "markdown",
   "metadata": {},
   "source": [
    "**Question 4:** Find the socially optimal tax rate $\\tau^{\\star}\\in(0,1)$ maximizing worker utility. Illustrate your result."
   ]
  },
  {
   "cell_type": "code",
   "execution_count": 303,
   "metadata": {},
   "outputs": [
    {
     "name": "stderr",
     "output_type": "stream",
     "text": [
      "/var/folders/f8/rfv2dg5j1jl2h__f_28lykhm0000gn/T/ipykernel_94871/1329729795.py:6: RuntimeWarning: invalid value encountered in double_scalars\n",
      "  return (-bl.kappa + np.sqrt(bl.kappa * bl.kappa + 4 * (bl.alpha / bl.nu) * bl.w_tilde * bl.w_tilde)) / (2 * bl.w_tilde)\n"
     ]
    },
    {
     "data": {
      "text/plain": [
       "Text(0.5, 1.0, 'Fig 3. Socially optimal tax')"
      ]
     },
     "execution_count": 303,
     "metadata": {},
     "output_type": "execute_result"
    },
    {
     "data": {
      "image/png": "[encoded data removed]",
      "text/plain": [
       "<Figure size 640x480 with 1 Axes>"
      ]
     },
     "metadata": {},
     "output_type": "display_data"
    }
   ],
   "source": [
    "# Identify the maximum V and find the corresponding tau\n",
    "tau_grid, L_vec, G_vec, V_vec = iterate_over_tau(bl)   \n",
    "argmax_index = np.argmax((np.nan_to_num(V_vec)))\n",
    "tau_opt  = tau_grid[argmax_index]\n",
    "\n",
    "# Illustrate in figure\n",
    "fig = plt.figure()\n",
    "ax = fig.add_subplot(1,1,1)\n",
    "ax.plot(tau_grid, V_vec)\n",
    "ax.vlines(tau_opt,0,np.max(np.nan_to_num(V_vec)), linestyles='--', colors='black')\n",
    "ax.set_ylim(2,4)\n",
    "ax.set_title('Fig 3. Socially optimal tax')\n",
    "\n"
   ]
  },
  {
   "attachments": {},
   "cell_type": "markdown",
   "metadata": {},
   "source": [
    "A more general preference formulation for the worker is:\n",
    "\n",
    "$$\n",
    "\\begin{align*}\n",
    "\\mathcal{V}(w,\\tau,G)&=\\max_{L\\in[0,24]}\\frac{\\left[ \\left( \\alpha C^{\\frac{\\sigma-1}{\\sigma}}+(1-\\alpha) G^{\\frac{\\sigma-1}{\\sigma}} \\right)^{\\frac{\\sigma}{1-\\sigma} }\\right]^{1-\\rho}-1}{1-\\rho}- \\nu\\frac{L^{1+\\varepsilon}}{1+\\varepsilon},\\,\\,\\,\\varepsilon,\\rho,\\sigma>0,\\,\\,\\,\\rho,\\sigma\\neq1\\\\&\\text{s.t.}\\\\&C=\\kappa+(1-\\tau)wL\n",
    "\\end{align*}    \n",
    "$$\n",
    "\n",
    "Optimal labor supply is now $L^{\\star}(\\tilde{w},G)$."
   ]
  },
  {
   "attachments": {},
   "cell_type": "markdown",
   "metadata": {},
   "source": [
    "Questions 5 and 6 must be answered with the general formulation, and for 2 different set of parameters:\n",
    "\n",
    "- Set 1:  $\\sigma = 1.001$, $\\rho = 1.001$ and $\\varepsilon = 1.0$.\n",
    "- Set 2:  $\\sigma = 1.5$, $\\rho = 1.5$ and $\\varepsilon = 1.0 $."
   ]
  },
  {
   "attachments": {},
   "cell_type": "markdown",
   "metadata": {},
   "source": [
    "**Question 5:** Find the $G$ that solves $G = \\tau w L^{\\star}((1-\\tau)w,G)$ using the $\\tau$ found in question 4.\n",
    "\n",
    "*Hint: First write code that solves the worker problem for given values of $G$ and $\\tau$. Then find the correct G based on this.*"
   ]
  },
  {
   "cell_type": "code",
   "execution_count": 433,
   "metadata": {},
   "outputs": [
    {
     "name": "stderr",
     "output_type": "stream",
     "text": [
      "/var/folders/f8/rfv2dg5j1jl2h__f_28lykhm0000gn/T/ipykernel_94871/1329729795.py:6: RuntimeWarning: invalid value encountered in double_scalars\n",
      "  return (-bl.kappa + np.sqrt(bl.kappa * bl.kappa + 4 * (bl.alpha / bl.nu) * bl.w_tilde * bl.w_tilde)) / (2 * bl.w_tilde)\n"
     ]
    },
    {
     "name": "stdout",
     "output_type": "stream",
     "text": [
      "0.5125628189447237\n",
      "for rho, sigma = 1.001\n",
      "G = 7.6838419209604805 corresponds to L = 14.99082031250003  and minimizes the difference G - tau_opt*w*L = 0.0001048032916415309\n",
      "for rho, sigma = 1.5\n",
      "G = 4.96248124062031 corresponds to L = 9.676757812500021  and minimizes the difference G - tau_opt*w*L = 0.002534977999920862\n"
     ]
    },
    {
     "data": {
      "image/png": "[encoded data removed]",
      "text/plain": [
       "<Figure size 640x480 with 1 Axes>"
      ]
     },
     "metadata": {},
     "output_type": "display_data"
    },
    {
     "data": {
      "image/png": "[encoded data removed]",
      "text/plain": [
       "<Figure size 640x480 with 1 Axes>"
      ]
     },
     "metadata": {},
     "output_type": "display_data"
    }
   ],
   "source": [
    "bl.sigma = 1.001\n",
    "bl.rho = 1.001\n",
    "bl.w = 1.0\n",
    "\n",
    "# bl.sigma = [1.001, 1.5]\n",
    "# bl.rho = [1.001, 1.5]\n",
    "\n",
    "bl.eps = 1\n",
    "tau_grid, L_vec, G_vec, V_vec = iterate_over_tau(bl)   \n",
    "argmax_index = np.argmax((np.nan_to_num(V_vec)))\n",
    "tau_opt  = tau_grid[argmax_index]\n",
    "\n",
    "print(tau_opt)\n",
    "\n",
    "def calculate_C(bl, L, tau=tau_opt):\n",
    "    return bl.kappa + (1 - tau) * bl.w * L\n",
    "\n",
    "def calculate_G(bl, L, tau=tau_opt):\n",
    "    # print(bl.tau,bl.w, L)\n",
    "    return tau*bl.w*L\n",
    "\n",
    "\n",
    "def objective_function(L, bl, G):\n",
    "    C = calculate_C(bl, L)\n",
    "    # G = calculate_G(bl,L)\n",
    "    term1 = ((bl.alpha * C**((bl.sigma - 1) / bl.sigma) + (1 - bl.alpha) * G**((bl.sigma -1) / bl.sigma))**(bl.sigma / (bl.sigma-1)))**(1 - bl.rho) - 1\n",
    "    term2 = bl.nu * L**(1 + bl.eps) / (1 + bl.eps)\n",
    "    return -(term1 / (1 - bl.rho) - term2)\n",
    "\n",
    "def solve_for_given_G(bl,G):\n",
    "\n",
    "    bl.tau = tau_opt\n",
    "    bl.w = 1.0\n",
    "    # Define the bounds for L\n",
    "    L_bounds = (1e-8, 24.0)\n",
    "\n",
    "    # Set the initial guess for L\n",
    "    x0 = 1.0\n",
    "\n",
    "    # Define the optimization problem\n",
    "    res = optimize.minimize(objective_function, x0, method = 'Nelder-Mead', args=(bl,G), bounds=([L_bounds]))    \n",
    "\n",
    "    G_res = calculate_G(bl, res.x[0])\n",
    "    \n",
    "    # Return the optimal value of L\n",
    "    return res\n",
    "\n",
    "\n",
    "\n",
    "def find_opt_G(bl,tau=tau_opt, do_print = False):\n",
    "    Gs = np.linspace(0e-16,20,2000)\n",
    "    Ls = np.empty(2000)\n",
    "    diffs = np.empty(2000)\n",
    "    \n",
    "\n",
    "    for i, g in enumerate(Gs):\n",
    "        res = solve_for_given_G(bl,g)\n",
    "        Ls[i] = res.x\n",
    "        diffs[i] = g - tau*bl.w*Ls[i]\n",
    "        \n",
    "        utility = res.fun\n",
    "\n",
    "        if do_print is True: print(f'for G = {g} --> L = {Ls[i]} and diff = {diffs[i]}')\n",
    "\n",
    "    return Gs, Ls, diffs, utility\n",
    "\n",
    "par_list =[1.001,1.5]\n",
    "\n",
    "for i in [0,1]:\n",
    "    bl.rho = par_list[i]\n",
    "    bl.sigma = par_list[i]\n",
    "    Gs, Ls, diffs, utility = find_opt_G(bl)\n",
    "    print(f'for rho, sigma = {bl.rho}')\n",
    "    print(f'G = {Gs[np.argmin(np.abs(diffs))]} corresponds to L = {Ls[np.argmin(np.abs(diffs))]}'\n",
    "      ,f' and minimizes the difference G - tau_opt*w*L = {np.min(np.abs(diffs))}')\n",
    "\n",
    "    fig, ax = plt.subplots(1,1)\n",
    "    ax.plot(Gs, diffs, label = 'Difference')\n",
    "    ax.hlines(0, xmin=0, xmax=20, colors='black')\n",
    "    ax.vlines(Gs[np.argmin(np.abs(diffs))], ymin=-5, ymax=16, linestyles=\"--\", colors='red', label='Argmin')\n",
    "    ax.set_ylim(-5,10)\n",
    "    ax.legend()\n",
    "\n"
   ]
  },
  {
   "attachments": {},
   "cell_type": "markdown",
   "metadata": {},
   "source": [
    "**Question 6:** Find the socially optimal tax rate, $\\tau^{\\star}$, maximizing worker utility, while keeping $G = \\tau w L^{\\star}((1-\\tau)w,G)$."
   ]
  },
  {
   "cell_type": "code",
   "execution_count": 306,
   "metadata": {},
   "outputs": [],
   "source": [
    "# write your code here  \n",
    "\n",
    "taus = np.linspace(1e-8, 1,100)\n",
    "\n",
    "def find_opt_tau(bl, do_print = False):\n",
    "    Gs = np.linspace(0e-16,20,2000)\n",
    "    Ls = np.empty(2000)\n",
    "    diffs = np.empty(2000)\n",
    "    uti_grid = np.empty(2000)\n",
    "    \n",
    "    for i, g in enumerate(Gs):\n",
    "        res = solve_for_given_G(bl,g)\n",
    "        Ls[i] = res.x\n",
    "        diffs[i] = g - tau*bl.w*Ls[i]\n",
    "        \n",
    "        uti_grid[i] = res.fun\n",
    "\n",
    "        if do_print is True: print(f'for G = {g} --> L = {Ls[i]} and diff = {diffs[i]}')\n",
    "\n",
    "    return Gs, Ls, diffs, utility\n",
    "\n"
   ]
  },
  {
   "attachments": {},
   "cell_type": "markdown",
   "metadata": {},
   "source": [
    "## 2. <a id='toc2_'></a>[Problem 2: Labor adjustment costs](#toc0_)"
   ]
  },
  {
   "attachments": {},
   "cell_type": "markdown",
   "metadata": {},
   "source": [
    "You own a hair salon. You employ hairdressers, $\\ell_t$, to produce haircuts, $y_t = \\ell_t$.\n",
    "\n",
    "The wage for each haridresser is $w$.\n",
    "\n",
    "The demand for haircuts implies that the price of haircuts you can charge is $p_t = \\kappa_t y_t^{-\\eta}$, where $\\kappa_t$ is a demand-shock and $\\eta \\in (0,1)$ measures the elasticity of demand.\n",
    "\n",
    "Profits are:\n",
    "\n",
    "$$\n",
    "\\Pi_t = p_t y_t - w \\ell_t = \\kappa_t \\ell_t^{1-\\eta} - w \\ell_t\n",
    "$$"
   ]
  },
  {
   "attachments": {},
   "cell_type": "markdown",
   "metadata": {},
   "source": [
    "Baseline parameters are:\n",
    "- $\\eta = 0.5$\n",
    "- $w = 1.0$"
   ]
  },
  {
   "attachments": {},
   "cell_type": "markdown",
   "metadata": {},
   "source": [
    "**Question 1:** Verify numerically that $\\ell_{t}=\\left(\\frac{(1-\\eta)\\kappa_{t}}{w}\\right)^{\\frac{1}{\\eta}}$ maximises profits, for $\\kappa\\in\\left\\{1.0 , 2.0\\right\\}$."
   ]
  },
  {
   "cell_type": "code",
   "execution_count": 307,
   "metadata": {},
   "outputs": [],
   "source": [
    "# write your code here"
   ]
  },
  {
   "attachments": {},
   "cell_type": "markdown",
   "metadata": {},
   "source": [
    "We now consider a *dynamic* version of the model.\n",
    "\n",
    "* The demand-shock is a so-called AR(1) in logs, \n",
    "\n",
    "$$\n",
    "\\log \\kappa_{t} = \\rho \\log \\kappa_{t-1} + \\epsilon_{t},\\,\\,\\, \\epsilon_{t+1} \\sim \\mathcal{N}(-0.5\\sigma_{\\epsilon}^2,\\sigma_{\\epsilon})\n",
    "$$\n",
    "\n",
    "* Any hiring or firing implies a fixed adjustment cost, $\\iota > 0 $.\n",
    "* Future profits are discounted with a monthly factor of $R \\in (0,1)$.\n",
    "\n",
    "The initial demand shock is $\\kappa_{-1} = 1$ and the planning horizon is 10 years, i.e. 120 months so $t \\in \\{0,1,2,\\dots,119\\}$. Initially you don't have any employees, $\\ell_{-1}=0$"
   ]
  },
  {
   "attachments": {},
   "cell_type": "markdown",
   "metadata": {},
   "source": [
    "\n",
    "The *ex post* value of the salon is *conditional* on the shock series is:\n",
    "\n",
    "$$\n",
    "h(\\epsilon_0,\\epsilon_1,\\dots,\\epsilon_{119}) = \\left[\\sum_{t=0}^{119}R^{-t}\\left[\\kappa_{t}\\ell_{t}^{1-\\eta}-w\\ell_{t}-\\boldsymbol{1}_{\\ell_{t}\\neq\\ell_{t-1}}\\iota\\right]\\right]\n",
    "$$\n",
    "\n",
    "The *ex ante* expected value of the salon can be approximated by\n",
    "\n",
    "$$\n",
    "H = \\mathbb{E}[h(\\epsilon_0,\\epsilon_1,\\dots,\\epsilon_{119})] \\approx \\frac{1}{K}\\sum_{k=0}^{K} h(\\epsilon_0^k,\\epsilon_1^k,\\dots,\\epsilon_{119}^k)\n",
    "$$\n",
    "\n",
    "where each $k\\in\\{0,1,\\dots,K-1\\}$ is a random shock series. Maximizing profitability means maximizing $H$.\n"
   ]
  },
  {
   "attachments": {},
   "cell_type": "markdown",
   "metadata": {},
   "source": [
    "Baseline parameters are: \n",
    "\n",
    "- $\\rho = 0.90$\n",
    "- $\\iota = 0.01$\n",
    "- $\\sigma_{\\epsilon} = 0.10$\n",
    "- $R = \\left(1+0.01\\right)^{1/12}$"
   ]
  },
  {
   "attachments": {},
   "cell_type": "markdown",
   "metadata": {},
   "source": [
    "**Question 2:** Calculate $H$ if the policy  $\\ell_{t}=\\left(\\frac{(1-\\eta)\\kappa_{t}}{w}\\right)^{\\frac{1}{\\eta}}$ from question 1 is followed. Choose $K$ so the approximation is good enough to not affect your results substantially."
   ]
  },
  {
   "cell_type": "code",
   "execution_count": 308,
   "metadata": {},
   "outputs": [],
   "source": [
    "# write your code here "
   ]
  },
  {
   "attachments": {},
   "cell_type": "markdown",
   "metadata": {},
   "source": [
    "Next, we consider policies on the form:\n",
    "\n",
    "$$\n",
    "\n",
    "\\ell_{t}=\\begin{cases}\n",
    "\\ell_t^{\\ast}  & \\text{if }\\left|\\ell_{t-1}-\\ell_t^{\\ast} \\right|>\\Delta\\\\\n",
    "\\ell_{t-1} & \\text{else }\n",
    "\\end{cases}\n",
    "\\\\\n",
    "\\text{where}\\,\\,\\ell_t^{\\ast} = \\left(\\frac{(1-\\eta)\\kappa_{t}}{w}\\right)^{\\frac{1}{\\eta}} \\\\\n",
    "\n",
    "$$\n",
    "With $\\Delta \\geq 0$ and $\\Delta = 0$ being the previous policy.\n"
   ]
  },
  {
   "attachments": {},
   "cell_type": "markdown",
   "metadata": {},
   "source": [
    "\n",
    "**Question 3:** Calculate $H$ if the policy above was followed with $\\Delta = 0.05$. Does it improve profitability?"
   ]
  },
  {
   "cell_type": "code",
   "execution_count": 309,
   "metadata": {},
   "outputs": [],
   "source": [
    "# write your code here"
   ]
  },
  {
   "attachments": {},
   "cell_type": "markdown",
   "metadata": {},
   "source": [
    "**Question 4:** Find the optimal $\\Delta$ maximizing $H$. Illustrate your result."
   ]
  },
  {
   "cell_type": "code",
   "execution_count": 310,
   "metadata": {},
   "outputs": [],
   "source": [
    "# write your code here"
   ]
  },
  {
   "attachments": {},
   "cell_type": "markdown",
   "metadata": {},
   "source": [
    "\n",
    "**Question 5:** Suggest an alternative policy you believe might improve profitability. Implement and test your policy.\n",
    "\n"
   ]
  },
  {
   "cell_type": "code",
   "execution_count": 311,
   "metadata": {},
   "outputs": [],
   "source": [
    "# write your code here"
   ]
  },
  {
   "attachments": {},
   "cell_type": "markdown",
   "metadata": {},
   "source": [
    "## 3. <a id='toc3_'></a>[Problem 3: Global optimizer with refined multi-start](#toc0_)"
   ]
  },
  {
   "attachments": {},
   "cell_type": "markdown",
   "metadata": {},
   "source": [
    "We consider the Griewank function:\n",
    "\n",
    "$$ f(\\boldsymbol{x}) = \\sum^n_{i=1} \\frac{x^2_i}{4000}-\\prod^n_{i=1}\\cos\\left(\\frac{x_i}{\\sqrt{i}}\\right)+1$$\n",
    "\n",
    "The **global minimum** of this function is $f(0,0) = 0$ (remember: $\\cos(0)=1$).<br>\n",
    "But the function also have a lot of **local minima**."
   ]
  },
  {
   "cell_type": "code",
   "execution_count": 312,
   "metadata": {},
   "outputs": [],
   "source": [
    "def griewank(x):\n",
    "    return griewank_(x[0],x[1])\n",
    "    \n",
    "def griewank_(x1,x2):\n",
    "    A = x1**2/4000 + x2**2/4000\n",
    "    B = np.cos(x1/np.sqrt(1))*np.cos(x2/np.sqrt(2))\n",
    "    return A-B+1"
   ]
  },
  {
   "attachments": {},
   "cell_type": "markdown",
   "metadata": {},
   "source": [
    "A **refined global optimizer with multi-start** is:\n",
    "\n",
    "1. Choose *bounds* for $\\mathbf{x}$ and *tolerance* $\\tau > 0$.\n",
    "2. Choose number of *warm-up iterations*, $\\underline{K} > 0$ and *maximum number of iterations*, $K > \\underline{K}$.\n",
    "3. In each iteration for $k \\in \\{0,1,\\dots,K-1\\}$:\n",
    "\n",
    "    A. Draw random $\\mathbf{x}^k$ uniformly within chosen bounds.\n",
    "\n",
    "    B. If $k < \\underline{K}$ go to step E.\n",
    "\n",
    "    C. Calculate $\\chi^k = 0.50\\cdot\\frac{2}{1+\\exp((k-\\underline{K})/100)}$  \n",
    "\n",
    "    D. Set $\\mathbf{x}^{k0} = \\chi^k \\mathbf{x}^k + (1-\\chi^k)\\mathbf{x}^{\\ast} $\n",
    "\n",
    "    E. Run optimizer with $\\mathbf{x}^{k0}$ as initial guess and $\\mathbf{x}^{k\\ast}$ as result.\n",
    "\n",
    "    F. Set $\\mathbf{x}^{\\ast} = \\mathbf{x}^{k\\ast}$ if $k = 0$ or $f(\\mathbf{x}^{k\\ast}) < f(\\mathbf{x}^{\\ast})$\n",
    "\n",
    "    G. If $f(\\mathbf{x}^{\\ast}) < \\tau$ go to step 4.\n",
    "\n",
    "4. Return the result $\\mathbf{x}^{\\ast}$."
   ]
  },
  {
   "attachments": {},
   "cell_type": "markdown",
   "metadata": {},
   "source": [
    "As settings we choose:\n",
    "\n",
    "* $x_1,x_2 \\in  [-600,600]$\n",
    "* $\\tau = 10^{-8}$\n",
    "* $\\underline{K}=10$\n",
    "* $K=1000$\n",
    "\n",
    "The optimizer in Step 3.E is `BFGS` with a tolerance of $\\tau$."
   ]
  },
  {
   "attachments": {},
   "cell_type": "markdown",
   "metadata": {},
   "source": [
    "**Question 1:** Implement the refined global optimizer with multi-start. Illustrate how the effective initial guesses $\\mathbf{x}^{k0}$ vary with the iteration counter $k$."
   ]
  },
  {
   "cell_type": "code",
   "execution_count": 313,
   "metadata": {},
   "outputs": [],
   "source": [
    "# write your code here"
   ]
  },
  {
   "attachments": {},
   "cell_type": "markdown",
   "metadata": {},
   "source": [
    "**Question 2:** Is it a better idea to set $\\underline{K} = 100$? Is the convergence faster?"
   ]
  },
  {
   "cell_type": "code",
   "execution_count": 314,
   "metadata": {},
   "outputs": [],
   "source": [
    "# write your code here"
   ]
  }
 ],
 "metadata": {
  "kernelspec": {
   "display_name": "base",
   "language": "python",
   "name": "python3"
  },
  "language_info": {
   "codemirror_mode": {
    "name": "ipython",
    "version": 3
   },
   "file_extension": ".py",
   "mimetype": "text/x-python",
   "name": "python",
   "nbconvert_exporter": "python",
   "pygments_lexer": "ipython3",
   "version": "3.9.15"
  },
  "orig_nbformat": 4
 },
 "nbformat": 4,
 "nbformat_minor": 2
}
