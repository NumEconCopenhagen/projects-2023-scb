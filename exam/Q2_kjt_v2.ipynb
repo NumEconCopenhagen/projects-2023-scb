{
 "cells": [
  {
   "cell_type": "code",
   "execution_count": 1,
   "metadata": {},
   "outputs": [],
   "source": [
    "import numpy as np\n",
    "from types import SimpleNamespace\n",
    "from scipy import optimize\n",
    "from matplotlib import pyplot as plt\n",
    "from numba import jit"
   ]
  },
  {
   "attachments": {},
   "cell_type": "markdown",
   "metadata": {},
   "source": [
    "## 2. <a id='toc2_'></a>[Problem 2: Labor adjustment costs](#toc0_)"
   ]
  },
  {
   "attachments": {},
   "cell_type": "markdown",
   "metadata": {},
   "source": [
    "You own a hair salon. You employ hairdressers, $\\ell_t$, to produce haircuts, $y_t = \\ell_t$.\n",
    "\n",
    "The wage for each haridresser is $w$.\n",
    "\n",
    "The demand for haircuts implies that the price of haircuts you can charge is $p_t = \\kappa_t y_t^{-\\eta}$, where $\\kappa_t$ is a demand-shock and $\\eta \\in (0,1)$ measures the elasticity of demand.\n",
    "\n",
    "Profits are:\n",
    "\n",
    "$$\n",
    "\\Pi_t = p_t y_t - w \\ell_t = \\kappa_t \\ell_t^{1-\\eta} - w \\ell_t\n",
    "$$"
   ]
  },
  {
   "attachments": {},
   "cell_type": "markdown",
   "metadata": {},
   "source": [
    "Baseline parameters are:\n",
    "- $\\eta = 0.5$\n",
    "- $w = 1.0$"
   ]
  },
  {
   "attachments": {},
   "cell_type": "markdown",
   "metadata": {},
   "source": [
    "**Question 1:** Verify numerically that $\\ell_{t}=\\left(\\frac{(1-\\eta)\\kappa_{t}}{w}\\right)^{\\frac{1}{\\eta}}$ maximises profits, for $\\kappa\\in\\left\\{1.0 , 2.0\\right\\}$."
   ]
  },
  {
   "cell_type": "code",
   "execution_count": 2,
   "metadata": {},
   "outputs": [
    {
     "name": "stdout",
     "output_type": "stream",
     "text": [
      "1.0\n",
      "2.0\n"
     ]
    },
    {
     "name": "stderr",
     "output_type": "stream",
     "text": [
      "/var/folders/w0/_4jn_wpx15zbcj847_kd1rhm0000gn/T/ipykernel_63771/2817087209.py:43: DeprecationWarning: Use of `minimize` with `x0.ndim != 1` is deprecated. Currently, singleton dimensions will be removed from `x0`, but an error will be raised in SciPy 1.11.0.\n",
      "  res[i] = optimize.minimize(obj, [x0], method='nelder-mead', bounds=((0, np.inf), ))\n"
     ]
    }
   ],
   "source": [
    "# define parameter namespace\n",
    "par = SimpleNamespace()\n",
    "par.eta = 0.5\n",
    "par.w = 1.0\n",
    "\n",
    "kappa = [1.0, 2.0]\n",
    "\n",
    "# profit function as defined in assignment text\n",
    "def profits(par, ell, kappa):\n",
    "    return kappa*ell**(1-par.eta)-par.w*ell\n",
    "\n",
    "# optimal ell based on analytical solution\n",
    "def ell_opt_anal(par, kappa):\n",
    "    \"\"\"\n",
    "    Calculates the optimal value of ell based on the analytical solution.\n",
    "\n",
    "    Parameters:\n",
    "    - par: Parameter object containing model parameters.\n",
    "    - kappa: Array of kappa values.\n",
    "\n",
    "    Returns:\n",
    "    - ell_opt: Array of optimal ell values corresponding to each kappa value.\n",
    "    \"\"\"\n",
    "    ell_opt = [None]*len(kappa)\n",
    "    for i, k in enumerate(kappa):\n",
    "        ell_opt[i] = ((1-par.eta)*k/par.w)**(1/par.eta)\n",
    "    return ell_opt\n",
    "\n",
    "# rule els based on rule for question 2.2 sames as analytical, but non list based inputs\n",
    "def ell_opt_rulebased(par, kappa): \n",
    "    return ((1-par.eta)*kappa/par.w)**(1/par.eta)\n",
    "\n",
    "# optimal ell \n",
    "def sol_ell(par, kappa):\n",
    "    res = [None] * len(kappa)\n",
    "    #loop through kappas\n",
    "    for i, k in enumerate(kappa):\n",
    "        print(k)\n",
    "        #define objective function \n",
    "        obj = lambda ell: -profits(par, ell, k)\n",
    "        # call optimizer from scipy\n",
    "        x0 = [0.1]\n",
    "        res[i] = optimize.minimize(obj, [x0], method='nelder-mead', bounds=((0, np.inf), ))\n",
    "    return res\n",
    "res = sol_ell(par, kappa)\n",
    "opt_anal = ell_opt_anal(par, kappa)"
   ]
  },
  {
   "cell_type": "code",
   "execution_count": 3,
   "metadata": {},
   "outputs": [
    {
     "name": "stdout",
     "output_type": "stream",
     "text": [
      "[0.25] [1.] [0.25, 1.0]\n"
     ]
    }
   ],
   "source": [
    "print(res[0].x, res[1].x,opt_anal)"
   ]
  },
  {
   "attachments": {},
   "cell_type": "markdown",
   "metadata": {},
   "source": [
    "Optimizing numerically we find the same solution as the analytical solution. We can check this further by using the numpy \"isclose\" function, using this we again find that the numerical and analytical solution is the same:"
   ]
  },
  {
   "cell_type": "code",
   "execution_count": 4,
   "metadata": {},
   "outputs": [
    {
     "name": "stdout",
     "output_type": "stream",
     "text": [
      "[ True] [ True]\n"
     ]
    }
   ],
   "source": [
    "print(np.isclose(res[0].x,opt_anal[0]),\n",
    "np.isclose(res[1].x, opt_anal[1]))"
   ]
  },
  {
   "attachments": {},
   "cell_type": "markdown",
   "metadata": {},
   "source": [
    "We now consider a *dynamic* version of the model.\n",
    "\n",
    "* The demand-shock is a so-called AR(1) in logs, \n",
    "\n",
    "$$\n",
    "\\log \\kappa_{t} = \\rho \\log \\kappa_{t-1} + \\epsilon_{t},\\,\\,\\, \\epsilon_{t+1} \\sim \\mathcal{N}(-0.5\\sigma_{\\epsilon}^2,\\sigma_{\\epsilon})\n",
    "$$\n",
    "\n",
    "* Any hiring or firing implies a fixed adjustment cost, $\\iota > 0 $.\n",
    "* Future profits are discounted with a monthly factor of $R \\in (0,1)$.\n",
    "\n",
    "The initial demand shock is $\\kappa_{-1} = 1$ and the planning horizon is 10 years, i.e. 120 months so $t \\in \\{0,1,2,\\dots,119\\}$. Initially you don't have any employees, $\\ell_{-1}=0$"
   ]
  },
  {
   "attachments": {},
   "cell_type": "markdown",
   "metadata": {},
   "source": [
    "\n",
    "The *ex post* value of the salon is *conditional* on the shock series is:\n",
    "\n",
    "$$\n",
    "h(\\epsilon_0,\\epsilon_1,\\dots,\\epsilon_{119}) = \\left[\\sum_{t=0}^{119}R^{-t}\\left[\\kappa_{t}\\ell_{t}^{1-\\eta}-w\\ell_{t}-\\boldsymbol{1}_{\\ell_{t}\\neq\\ell_{t-1}}\\iota\\right]\\right]\n",
    "$$\n",
    "\n",
    "The *ex ante* expected value of the salon can be approximated by\n",
    "\n",
    "$$\n",
    "H = \\mathbb{E}[h(\\epsilon_0,\\epsilon_1,\\dots,\\epsilon_{119})] \\approx \\frac{1}{K}\\sum_{k=0}^{K} h(\\epsilon_0^k,\\epsilon_1^k,\\dots,\\epsilon_{119}^k)\n",
    "$$\n",
    "\n",
    "where each $k\\in\\{0,1,\\dots,K-1\\}$ is a random shock series. Maximizing profitability means maximizing $H$.\n"
   ]
  },
  {
   "attachments": {},
   "cell_type": "markdown",
   "metadata": {},
   "source": [
    "Baseline parameters are: \n",
    "\n",
    "- $\\rho = 0.90$\n",
    "- $\\iota = 0.01$\n",
    "- $\\sigma_{\\epsilon} = 0.10$\n",
    "- $R = \\left(1+0.01\\right)^{1/12}$"
   ]
  },
  {
   "attachments": {},
   "cell_type": "markdown",
   "metadata": {},
   "source": [
    "**Question 2:** Calculate $H$ if the policy  $\\ell_{t}=\\left(\\frac{(1-\\eta)\\kappa_{t}}{w}\\right)^{\\frac{1}{\\eta}}$ from question 1 is followed. Choose $K$ so the approximation is good enough to not affect your results substantially."
   ]
  },
  {
   "cell_type": "code",
   "execution_count": 5,
   "metadata": {},
   "outputs": [],
   "source": [
    "# deffine new parameters\n",
    "par.rho = 0.90\n",
    "par.iota = 0.01\n",
    "par.sigma = 0.1\n",
    "par.R = (1+0.01)**(1/12)\n",
    "par.K = 500\n",
    "par.kappa_init = 1\n",
    "par.T = 120\n",
    "par.Delta = 0\n",
    "def kappa_series(par):\n",
    "    eps = np.random.normal(loc=-0.5*par.sigma**2,scale=par.sigma, size=par.T) #create T shocks\n",
    "    log_kappa_ar1 = np.zeros(par.T)\n",
    "    kappa_ar1 = np.zeros(par.T)\n",
    "    log_kappa_ar1[0] = par.rho*np.log(par.kappa_init)+eps[0]\n",
    "    kappa_ar1[0] = np.exp(log_kappa_ar1[0])\n",
    "    for i in range(par.T):\n",
    "        if i > 0:\n",
    "            log_kappa_ar1[i] = par.rho*np.log(kappa_ar1[i-1]) + eps[i]\n",
    "            kappa_ar1[i] = np.exp(log_kappa_ar1[i])\n",
    "        else:\n",
    "            kappa_ar1[i] = kappa_ar1[i]\n",
    "            log_kappa_ar1[i] = log_kappa_ar1[i]\n",
    "    return kappa_ar1\n",
    "#define h function\n",
    "#def h(par, eps, K): "
   ]
  },
  {
   "cell_type": "code",
   "execution_count": 39,
   "metadata": {},
   "outputs": [],
   "source": [
    "def h_func(par, shocks):\n",
    "    profit_series = np.zeros(par.T)    \n",
    "    ell_series = ell_opt_rulebased(par, shocks)\n",
    "\n",
    "    for i in range(par.T):\n",
    "        if i > 0 and np.abs(ell_series[i]-ell_series[i-1]) > par.Delta:\n",
    "            profit_series[i] = (par.R**-i)*(profits(par, ell_series[i], shocks[i]) -par.iota)\n",
    "        elif i > 0 and np.abs(ell_series[i]-ell_series[i-1]) <= par.Delta:\n",
    "            ell_series[i] = ell_series[i-1] # in this case set ell_t to ell_t-1\n",
    "            profit_series[i] = (par.R**-i)*profits(par, ell_series[i], shocks[i])\n",
    "\n",
    "    print('ell_series =', ell_series)\n",
    "    return np.sum(profit_series)\n",
    "\n",
    "# @jit\n",
    "def big_H(par):\n",
    "    h_list = np.zeros(par.K)\n",
    "    for i in range(par.K):\n",
    "        shocks = kappa_series(par)\n",
    "        print('shocks = ', shocks)\n",
    "        h_list[i] = h_func(par, shocks)\n",
    "    return np.mean(h_list)"
   ]
  },
  {
   "cell_type": "code",
   "execution_count": 40,
   "metadata": {},
   "outputs": [
    {
     "name": "stdout",
     "output_type": "stream",
     "text": [
      "shocks =  [1.14985476 0.9146901  0.81689979 0.79541253 0.60322666 0.62514512\n",
      " 0.63389463 0.71084547 0.86117974 0.87241191 0.86727049 0.89546613\n",
      " 1.00051598 1.18869746 1.29986577 1.40376798 1.57017269 1.42076814\n",
      " 1.24578067 1.1973271  1.17945336 1.27836317 1.14684131 1.00276942\n",
      " 0.96149923 1.08986736 1.16783931 1.08046647 1.20420711 1.40711011\n",
      " 1.55316797 1.81531452 1.87917716 1.59958964 1.48117105 1.28179349\n",
      " 0.96190805 0.95641744 1.09506473 1.08201956 1.04592224 1.21547529\n",
      " 1.30114    1.24391347 1.36104454 1.18744354 1.09192971 1.10080949\n",
      " 1.16558727 1.14366253 1.28481952 1.33212323 1.15955015 1.02505054\n",
      " 0.99296832 0.91696359 0.79576473 0.73132411 0.71583358 0.75128722\n",
      " 0.69178585 0.77503514 0.92377875 1.04730732 1.20786496 1.19568302\n",
      " 1.22225025 1.31106692 1.13570115 1.19084888 1.14223807 1.16003811\n",
      " 1.14266351 1.29976519 1.3213558  1.56332256 1.50789479 1.32555322\n",
      " 1.16312725 1.29171553 1.38144381 1.25889486 1.20379062 1.40915842\n",
      " 1.45982542 1.62133383 1.33143756 1.41640294 1.68201734 1.64848145\n",
      " 1.62911359 1.68614818 1.58816739 1.24251144 1.08300406 0.99998132\n",
      " 1.01618392 0.95736501 0.92892008 0.91518277 0.97929439 1.16991552\n",
      " 1.26760387 1.31744965 1.37739474 1.54724299 1.56120701 1.36880109\n",
      " 1.15874389 1.33315808 1.37917162 1.51700942 1.4935385  1.50152619\n",
      " 1.62721022 1.35979441 1.47654803 1.5984455  1.51654632 1.50160861]\n",
      "ell_series = [0.33054149 0.33054149 0.33054149 0.33054149 0.33054149 0.33054149\n",
      " 0.33054149 0.33054149 0.33054149 0.33054149 0.33054149 0.33054149\n",
      " 0.33054149 0.33054149 0.33054149 0.33054149 0.33054149 0.33054149\n",
      " 0.33054149 0.33054149 0.33054149 0.33054149 0.33054149 0.33054149\n",
      " 0.33054149 0.33054149 0.33054149 0.33054149 0.33054149 0.33054149\n",
      " 0.33054149 0.8238417  0.8238417  0.8238417  0.8238417  0.41074864\n",
      " 0.41074864 0.41074864 0.41074864 0.41074864 0.41074864 0.41074864\n",
      " 0.41074864 0.41074864 0.41074864 0.41074864 0.41074864 0.41074864\n",
      " 0.41074864 0.41074864 0.41074864 0.41074864 0.41074864 0.41074864\n",
      " 0.41074864 0.41074864 0.41074864 0.41074864 0.41074864 0.41074864\n",
      " 0.41074864 0.41074864 0.41074864 0.41074864 0.41074864 0.41074864\n",
      " 0.41074864 0.41074864 0.41074864 0.41074864 0.41074864 0.41074864\n",
      " 0.41074864 0.41074864 0.41074864 0.41074864 0.41074864 0.41074864\n",
      " 0.41074864 0.41074864 0.41074864 0.41074864 0.41074864 0.41074864\n",
      " 0.41074864 0.41074864 0.41074864 0.41074864 0.41074864 0.41074864\n",
      " 0.41074864 0.71077392 0.71077392 0.38595867 0.38595867 0.38595867\n",
      " 0.38595867 0.38595867 0.38595867 0.38595867 0.38595867 0.38595867\n",
      " 0.38595867 0.38595867 0.38595867 0.38595867 0.38595867 0.38595867\n",
      " 0.38595867 0.38595867 0.38595867 0.38595867 0.38595867 0.38595867\n",
      " 0.38595867 0.38595867 0.38595867 0.38595867 0.38595867 0.38595867]\n",
      "shocks =  [1.0620687  1.07670974 1.24091039 1.3798015  1.4132292  1.26870833\n",
      " 1.12429733 1.2145102  1.21902526 1.33570963 1.28660422 1.14940478\n",
      " 1.09352219 1.05153164 1.12559012 1.14554807 1.2773908  1.4129983\n",
      " 1.62879916 1.61707285 1.38948809 1.12644436 0.88616832 0.85412809\n",
      " 0.67934179 0.71140246 0.85038526 0.83982225 0.73321965 0.7856137\n",
      " 0.74053698 0.78948442 0.76661675 0.70512389 0.65821925 0.67058727\n",
      " 0.66858752 0.7117672  0.72262881 0.8112466  0.78289666 0.78894494\n",
      " 0.79513488 0.72210548 0.64860091 0.6956171  0.70854276 0.63740198\n",
      " 0.67423705 0.75137551 0.78213566 0.68683422 0.59782334 0.76877721\n",
      " 0.84836697 1.07694307 0.96495895 1.01036752 0.94315998 1.00045652\n",
      " 1.01980305 0.99855724 0.93088002 1.10973713 1.14801356 1.20828968\n",
      " 1.12329216 1.13799227 1.18390272 1.10122012 1.16419716 1.07936193\n",
      " 1.14633123 0.99354506 0.88549324 0.85460216 0.65575213 0.60676732\n",
      " 0.56095387 0.5575239  0.51574142 0.52183379 0.59252241 0.61272486\n",
      " 0.64401403 0.61935228 0.66870064 0.68122074 0.71183764 0.73604336\n",
      " 0.72781076 0.74205053 0.70224631 0.73296651 0.6612902  0.78038104\n",
      " 0.69949936 0.82333295 0.97963985 0.75330491 0.6207666  0.61240768\n",
      " 0.68458239 0.79958136 0.73230127 0.82952496 0.7671972  0.70811005\n",
      " 0.75550508 0.65821484 0.83507243 0.76829279 0.77133365 0.76444482\n",
      " 0.81723851 0.79832561 0.84198549 0.90592847 0.9886389  0.9948874 ]\n",
      "ell_series = [0.28199748 0.28199748 0.28199748 0.28199748 0.28199748 0.28199748\n",
      " 0.28199748 0.28199748 0.28199748 0.28199748 0.28199748 0.28199748\n",
      " 0.28199748 0.28199748 0.28199748 0.28199748 0.28199748 0.28199748\n",
      " 0.66324667 0.66324667 0.66324667 0.31721922 0.31721922 0.31721922\n",
      " 0.31721922 0.31721922 0.31721922 0.31721922 0.31721922 0.31721922\n",
      " 0.31721922 0.31721922 0.31721922 0.31721922 0.31721922 0.31721922\n",
      " 0.31721922 0.31721922 0.31721922 0.31721922 0.31721922 0.31721922\n",
      " 0.31721922 0.31721922 0.31721922 0.31721922 0.31721922 0.31721922\n",
      " 0.31721922 0.31721922 0.31721922 0.31721922 0.31721922 0.31721922\n",
      " 0.31721922 0.31721922 0.31721922 0.31721922 0.31721922 0.31721922\n",
      " 0.31721922 0.31721922 0.31721922 0.31721922 0.31721922 0.31721922\n",
      " 0.31721922 0.31721922 0.31721922 0.31721922 0.31721922 0.31721922\n",
      " 0.31721922 0.31721922 0.31721922 0.31721922 0.31721922 0.31721922\n",
      " 0.31721922 0.31721922 0.31721922 0.31721922 0.31721922 0.31721922\n",
      " 0.31721922 0.31721922 0.31721922 0.31721922 0.31721922 0.31721922\n",
      " 0.31721922 0.31721922 0.31721922 0.31721922 0.31721922 0.31721922\n",
      " 0.31721922 0.31721922 0.31721922 0.31721922 0.31721922 0.31721922\n",
      " 0.31721922 0.31721922 0.31721922 0.31721922 0.31721922 0.31721922\n",
      " 0.31721922 0.31721922 0.31721922 0.31721922 0.31721922 0.31721922\n",
      " 0.31721922 0.31721922 0.31721922 0.31721922 0.31721922 0.31721922]\n",
      "31.06775369598784\n"
     ]
    }
   ],
   "source": [
    "par.Delt = 0\n",
    "par.iota = 0\n",
    "par.K = 2\n",
    "a = big_H(par)\n",
    "print(a)"
   ]
  },
  {
   "attachments": {},
   "cell_type": "markdown",
   "metadata": {},
   "source": [
    "Next, we consider policies on the form:\n",
    "\n",
    "$$\n",
    "\n",
    "\\ell_{t}=\\begin{cases}\n",
    "\\ell_t^{\\ast}  & \\text{if }\\left|\\ell_{t-1}-\\ell_t^{\\ast} \\right|>\\Delta\\\\\n",
    "\\ell_{t-1} & \\text{else }\n",
    "\\end{cases}\n",
    "\\\\\n",
    "\\text{where}\\,\\,\\ell_t^{\\ast} = \\left(\\frac{(1-\\eta)\\kappa_{t}}{w}\\right)^{\\frac{1}{\\eta}} \\\\\n",
    "\n",
    "$$\n",
    "With $\\Delta \\geq 0$ and $\\Delta = 0$ being the previous policy.\n"
   ]
  },
  {
   "attachments": {},
   "cell_type": "markdown",
   "metadata": {},
   "source": [
    "\n",
    "**Question 3:** Calculate $H$ if the policy above was followed with $\\Delta = 0.05$. Does it improve profitability?"
   ]
  },
  {
   "cell_type": "code",
   "execution_count": 8,
   "metadata": {},
   "outputs": [
    {
     "name": "stdout",
     "output_type": "stream",
     "text": [
      "27.823719651925064\n"
     ]
    }
   ],
   "source": [
    "# write your code here\n",
    "par.Delta= 0.05\n",
    "profits_high_Delta = big_H(par)\n",
    "print(profits_high_Delta)"
   ]
  },
  {
   "attachments": {},
   "cell_type": "markdown",
   "metadata": {},
   "source": [
    "We see that profitability is not improved for the higher $\\Delta$"
   ]
  },
  {
   "attachments": {},
   "cell_type": "markdown",
   "metadata": {},
   "source": [
    "**Question 4:** Find the optimal $\\Delta$ maximizing $H$. Illustrate your result."
   ]
  },
  {
   "cell_type": "code",
   "execution_count": 9,
   "metadata": {},
   "outputs": [],
   "source": [
    "# write your code here\n",
    "par.K = 1000\n",
    "def obj(Delta, par):\n",
    "    np.random.seed(1234)\n",
    "    par.Delta = Delta\n",
    "    return -1* np.log(big_H(par))\n",
    "def sol_Delta(par):\n",
    "    bnds = ((0,1),)\n",
    "    x0 = [0.01]\n",
    "    res = optimize.minimize(obj, args=(par), x0=x0, method='nelder-mead')\n",
    "    return res"
   ]
  },
  {
   "cell_type": "code",
   "execution_count": 14,
   "metadata": {},
   "outputs": [
    {
     "name": "stderr",
     "output_type": "stream",
     "text": [
      "100it [00:20,  4.98it/s]\n"
     ]
    }
   ],
   "source": [
    "from tqdm import tqdm \n",
    "par.K = 200\n",
    "H = np.empty(100)\n",
    "Delta = np.linspace(0,0.3,100)\n",
    "for i, d in tqdm(enumerate(Delta)):\n",
    "    par.Delta = d\n",
    "    np.random.seed(1)\n",
    "    H[i] = big_H(par)"
   ]
  },
  {
   "cell_type": "code",
   "execution_count": 15,
   "metadata": {},
   "outputs": [
    {
     "data": {
      "text/plain": [
       "<matplotlib.collections.LineCollection at 0x7fc1f587a850>"
      ]
     },
     "execution_count": 15,
     "metadata": {},
     "output_type": "execute_result"
    },
    {
     "data": {
      "image/png": "[encoded data removed]",
      "text/plain": [
       "<Figure size 640x480 with 1 Axes>"
      ]
     },
     "metadata": {},
     "output_type": "display_data"
    }
   ],
   "source": [
    "fig, ax = plt.subplots(1,1)\n",
    "ax.plot(Delta, H)\n",
    "ax.vlines(0.05, ymin=26.8, ymax=30, color='red')\n",
    "ax.vlines(0.07, ymin=26.8, ymax=30, color='red')\n"
   ]
  },
  {
   "attachments": {},
   "cell_type": "markdown",
   "metadata": {},
   "source": [
    "\n",
    "**Question 5:** Suggest an alternative policy you believe might improve profitability. Implement and test your policy.\n",
    "\n"
   ]
  },
  {
   "attachments": {},
   "cell_type": "markdown",
   "metadata": {},
   "source": [
    "**Question 5 Answer:**\n",
    "The workers in the salon are risk averse, and do not want to lose their job. Therefore  so they suggest the salon that "
   ]
  },
  {
   "attachments": {},
   "cell_type": "markdown",
   "metadata": {},
   "source": [
    "**Question 5 Answer:**\n",
    "We consider making a good guess of kappa and using this kappa in each period and setting a fixed $\\ell$. Under the assumption that we as hair salon owners have access the mean of the shocks $-0.5\\sigma**2$ and $\\rho$."
   ]
  },
  {
   "cell_type": "code",
   "execution_count": 16,
   "metadata": {},
   "outputs": [],
   "source": [
    "def sim_ell_guess(par):\n",
    "    kappa_guess = np.exp(-5*par.sigma**2/(1-par.rho))\n",
    "    ell = np.full(120, ell_opt_rulebased(par, kappa_guess))\n",
    "    shocks = kappa_series(par)\n",
    "    profit_list = profits(par, ell, shocks)\n",
    "    discounted_profits = np.zeros(120)\n",
    "    for i, p in enumerate(profit_list):\n",
    "        discounted_profits[i] = par.R**-i*p\n",
    "    return np.sum(discounted_profits)"
   ]
  },
  {
   "cell_type": "code",
   "execution_count": 17,
   "metadata": {},
   "outputs": [
    {
     "name": "stdout",
     "output_type": "stream",
     "text": [
      "28.361429056504385\n"
     ]
    }
   ],
   "source": [
    "a = sim_ell_guess(par)\n",
    "print(a)"
   ]
  },
  {
   "cell_type": "code",
   "execution_count": 18,
   "metadata": {},
   "outputs": [
    {
     "data": {
      "text/plain": [
       "[<matplotlib.lines.Line2D at 0x7fc1f59e5190>]"
      ]
     },
     "execution_count": 18,
     "metadata": {},
     "output_type": "execute_result"
    },
    {
     "data": {
      "image/png": "[encoded data removed]",
      "text/plain": [
       "<Figure size 640x480 with 1 Axes>"
      ]
     },
     "metadata": {},
     "output_type": "display_data"
    }
   ],
   "source": [
    "par.rho = 0.9\n",
    "shocks = kappa_series(par)\n",
    "plt.plot(np.log(shocks))"
   ]
  },
  {
   "cell_type": "code",
   "execution_count": 19,
   "metadata": {},
   "outputs": [],
   "source": [
    "def sim_ell_guess_k_times(par):\n",
    "    prof = np.zeros(par.K)\n",
    "    np.random.seed(1)\n",
    "    for i in range(par.K):\n",
    "        prof[i] = sim_ell_guess(par)\n",
    "    return np.mean(prof)"
   ]
  },
  {
   "cell_type": "code",
   "execution_count": 20,
   "metadata": {},
   "outputs": [],
   "source": [
    "guess_profits = sim_ell_guess_k_times(par)"
   ]
  },
  {
   "cell_type": "code",
   "execution_count": 21,
   "metadata": {},
   "outputs": [
    {
     "data": {
      "text/plain": [
       "23.688251408616097"
      ]
     },
     "execution_count": 21,
     "metadata": {},
     "output_type": "execute_result"
    }
   ],
   "source": [
    "guess_profits"
   ]
  },
  {
   "cell_type": "code",
   "execution_count": null,
   "metadata": {},
   "outputs": [],
   "source": [
    "hello = sim_ell_guess(par)"
   ]
  },
  {
   "cell_type": "code",
   "execution_count": null,
   "metadata": {},
   "outputs": [],
   "source": []
  }
 ],
 "metadata": {
  "kernelspec": {
   "display_name": "base",
   "language": "python",
   "name": "python3"
  },
  "language_info": {
   "codemirror_mode": {
    "name": "ipython",
    "version": 3
   },
   "file_extension": ".py",
   "mimetype": "text/x-python",
   "name": "python",
   "nbconvert_exporter": "python",
   "pygments_lexer": "ipython3",
   "version": "3.9.13"
  },
  "orig_nbformat": 4
 },
 "nbformat": 4,
 "nbformat_minor": 2
}
